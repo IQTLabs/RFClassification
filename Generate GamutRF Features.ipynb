{
 "cells": [
  {
   "cell_type": "markdown",
   "id": "be86b694",
   "metadata": {},
   "source": [
    "## Notebook to generate features from gamutrf collections"
   ]
  },
  {
   "cell_type": "code",
   "execution_count": 27,
   "id": "a6aaf23a",
   "metadata": {},
   "outputs": [],
   "source": [
    "# from read_recording import *\n",
    "from gamutrf.sample_reader import read_recording\n",
    "from gamutrf.utils import parse_filename\n",
    "from gamutrf import specgram\n",
    "from gamutrf.utils import replace_ext\n",
    "from gamutrf.sample_reader import get_reader\n",
    "\n",
    "import os\n",
    "import matplotlib.image as mpimg\n",
    "import matplotlib.pyplot as plt\n",
    "import numpy as np\n",
    "from datetime import date\n",
    "\n",
    "from scipy import signal"
   ]
  },
  {
   "cell_type": "markdown",
   "id": "676a8e61",
   "metadata": {},
   "source": [
    "### Test a single file"
   ]
  },
  {
   "cell_type": "code",
   "execution_count": 8,
   "id": "82dd50b1",
   "metadata": {},
   "outputs": [],
   "source": [
    "folder_name = \"../../Data/S3/leesburg_worker1/\"\n",
    "file_name = \"gamutrf_recording_ettus_directional-split_gain70_1655313720_5735000000Hz_20971520sps.s16.zst\"\n",
    "# full_file = 'gamutrf_recording_ettus_directional-split_gain70_1655311919_5735000000Hz_20971520sps.s16.zst'\n",
    "full_file = folder_name + file_name\n",
    "freq_center, sample_rate, sample_dtype, sample_len, sample_type, sample_bits = parse_filename(full_file)\n",
    "samples = read_recording(full_file, sample_rate, sample_dtype, 4)"
   ]
  },
  {
   "cell_type": "code",
   "execution_count": 25,
   "id": "b0efd1f4",
   "metadata": {},
   "outputs": [
    {
     "data": {
      "text/plain": [
       "'../../Data/S3/leesburg_worker1/gamutrf_recording_ettus_directional-split_gain70_1655313720_5735000000Hz_20971520sps.s16.zst'"
      ]
     },
     "execution_count": 25,
     "metadata": {},
     "output_type": "execute_result"
    }
   ],
   "source": [
    "# for s in samples:\n",
    "#     print(len(s))\n",
    "#     print(s)\n",
    "\n",
    "# sample_rate\n",
    "full_file"
   ]
  },
  {
   "cell_type": "code",
   "execution_count": 37,
   "id": "af6179f4",
   "metadata": {},
   "outputs": [],
   "source": [
    "reader = get_reader(full_file)\n",
    "sample_len = 8\n",
    "with reader(full_file) as infile:\n",
    "    sample_buffer = infile.read(sample_rate * sample_len)\n",
    "    buffered_samples = int(len(sample_buffer) / sample_len)\n",
    "# if buffered_samples == 0:\n",
    "#     break\n",
    "# x1d = np.frombuffer(sample_buffer, dtype=sample_dtype,\n",
    "#                     count=buffered_samples)"
   ]
  },
  {
   "cell_type": "code",
   "execution_count": 39,
   "id": "f34ff534",
   "metadata": {},
   "outputs": [
    {
     "data": {
      "text/plain": [
       "41943040.0"
      ]
     },
     "execution_count": 39,
     "metadata": {},
     "output_type": "execute_result"
    }
   ],
   "source": [
    "len(sample_buffer)/4"
   ]
  },
  {
   "cell_type": "code",
   "execution_count": 33,
   "id": "3a0e94b3",
   "metadata": {},
   "outputs": [
    {
     "data": {
      "text/plain": [
       "20971520.0"
      ]
     },
     "execution_count": 33,
     "metadata": {},
     "output_type": "execute_result"
    }
   ],
   "source": [
    "len(sample_buffer)/4"
   ]
  },
  {
   "cell_type": "code",
   "execution_count": 42,
   "id": "bcee0268",
   "metadata": {},
   "outputs": [
    {
     "data": {
      "text/plain": [
       "176"
      ]
     },
     "execution_count": 42,
     "metadata": {},
     "output_type": "execute_result"
    }
   ],
   "source": [
    "sample_buffer[100]"
   ]
  },
  {
   "cell_type": "code",
   "execution_count": 47,
   "id": "1c8f034e",
   "metadata": {},
   "outputs": [
    {
     "data": {
      "text/plain": [
       "dtype([('i', '<i2'), ('q', '<i2')])"
      ]
     },
     "execution_count": 47,
     "metadata": {},
     "output_type": "execute_result"
    }
   ],
   "source": [
    "sample_dtype"
   ]
  },
  {
   "cell_type": "markdown",
   "id": "f21bc635",
   "metadata": {},
   "source": [
    "20971520 = 4 \\\\\n",
    "20971520 = 5 \n",
    "\n",
    "20971520 = 20\n",
    "20858788 = 40\n"
   ]
  },
  {
   "cell_type": "code",
   "execution_count": 6,
   "id": "1200ab1c",
   "metadata": {},
   "outputs": [],
   "source": [
    "# samples = read_recording(full_file, sample_rate, sample_dtype, sample_len)\n",
    "# spec_file_name = replace_ext(full_file, 'png', all_ext=True)\n",
    "# specgram.plot_spectrogram(\n",
    "#         samples,\n",
    "#         spec_file_name,\n",
    "#         2048,\n",
    "#         sample_rate,\n",
    "#         freq_center,\n",
    "#         cmap = 'Greys', \n",
    "#         ytics = 20, \n",
    "#         bare = True, \n",
    "#         noverlap = 0,\n",
    "#         skip_fft =0 )"
   ]
  },
  {
   "cell_type": "code",
   "execution_count": 7,
   "id": "66729af5",
   "metadata": {},
   "outputs": [],
   "source": [
    "# img = mpimg.imread(spec_file_name)\n",
    "\n",
    "# plt.figure(figsize=(15, 12))\n",
    "# imgplot = plt.imshow(img)\n",
    "# plt.show()"
   ]
  },
  {
   "cell_type": "markdown",
   "id": "dadcd01d",
   "metadata": {},
   "source": [
    "### Generate for all files in folder"
   ]
  },
  {
   "cell_type": "code",
   "execution_count": 44,
   "id": "f8a0ca57",
   "metadata": {},
   "outputs": [
    {
     "name": "stdout",
     "output_type": "stream",
     "text": [
      "Adding to Features Folder\n"
     ]
    }
   ],
   "source": [
    "folder_name = \"../../Data/S3/pdx_worker1/\"\n",
    "files = os.listdir(folder_name)\n",
    "try:\n",
    "    os.mkdir(folder_name+'Features/')\n",
    "except:\n",
    "    print('Adding to Features Folder')"
   ]
  },
  {
   "cell_type": "code",
   "execution_count": 45,
   "id": "de6ad4a8",
   "metadata": {},
   "outputs": [],
   "source": [
    "n_per_seg = 1024 # length of each segment (powers of 2)\n",
    "win_type = 'hamming' # make ends of each segment match\n",
    "# sample_len = 8 # int, length of one sample dependent on datatype\n",
    "# t_seg = 0.2 # sample length in seconds"
   ]
  },
  {
   "cell_type": "code",
   "execution_count": 8,
   "id": "e7810918",
   "metadata": {},
   "outputs": [],
   "source": [
    "def get_PSD_from_samples(samples, fs, win_type, n_per_seg):\n",
    "    psd_return = []\n",
    "    for i, s in enumerate(samples):\n",
    "        d_real = abs(s)\n",
    "        fpsd, Pxx_den = signal.welch(d_real, fs, window=win_type, nperseg=n_per_seg)\n",
    "        psd_return.append(Pxx_den)\n",
    "    return fpsd, np.array(psd_return) # frequency range should be the same for each sample\n",
    "        "
   ]
  },
  {
   "cell_type": "code",
   "execution_count": 9,
   "id": "fcca0c18",
   "metadata": {},
   "outputs": [],
   "source": [
    "def save_psd(freqs, psd_array, full_file):\n",
    "    data_save = {'feat': psd_array, 'freq': freqs}\n",
    "    \n",
    "    # construct file name\n",
    "    date_string = date.today()\n",
    "    ss = full_file.split('/')\n",
    "    folder_name = 'Features/PSD_'+str(date_string)\n",
    "    ss[-1] = folder_name+'/psd_'+ss[-1]\n",
    "    new_name = '/'.join(ss)\n",
    "    \n",
    "    folder_name_full = '/'.join(ss[:-1])\n",
    "    folder_name_full = folder_name_full+'/'+folder_name\n",
    "\n",
    "    #     #Save data\n",
    "    print(new_name)\n",
    "    try:\n",
    "        np.save(new_name, data_save)\n",
    "    except:\n",
    "        folder_name_full = '/'.join(ss[:-1])\n",
    "        folder_name_full = folder_name_full+'/'+folder_name\n",
    "        os.mkdir(folder_name_full)\n",
    "        np.save(new_name, data_save)"
   ]
  },
  {
   "cell_type": "code",
   "execution_count": 10,
   "id": "4ba988ee",
   "metadata": {},
   "outputs": [],
   "source": [
    "def save_spec_array(Z, extent, full_file):\n",
    "    data_save = {'feat': Z, 'freq': extent[2:], 'time': extent[:2]}\n",
    "    \n",
    "    # construct file name\n",
    "    date_string = date.today()\n",
    "    ss = full_file.split('/')\n",
    "    folder_name = 'Features/SPEC_'+str(date_string)\n",
    "    ss[-1] = folder_name+'/spec_'+ss[-1]\n",
    "    new_name = '/'.join(ss)\n",
    "    \n",
    "#     #Save data\n",
    "    print(new_name)\n",
    "    try:\n",
    "        np.save(new_name, data_save)\n",
    "    except:\n",
    "        folder_name_full = '/'.join(ss[:-1])\n",
    "        folder_name_full = folder_name_full+'/'+folder_name\n",
    "        os.mkdir(folder_name_full)\n",
    "        np.save(new_name, data_save)"
   ]
  },
  {
   "cell_type": "code",
   "execution_count": 46,
   "id": "396b50f2",
   "metadata": {
    "scrolled": false
   },
   "outputs": [
    {
     "name": "stdout",
     "output_type": "stream",
     "text": [
      "8\n",
      "8\n",
      "8\n",
      "8\n",
      "8\n",
      "8\n",
      "8\n",
      "8\n",
      "8\n",
      "8\n",
      "8\n",
      "8\n",
      "8\n",
      "8\n",
      "8\n",
      "8\n",
      "8\n",
      "8\n",
      "8\n",
      "8\n",
      "8\n",
      "8\n",
      "8\n",
      "8\n",
      "8\n",
      "8\n",
      "8\n",
      "8\n",
      "8\n",
      "8\n",
      "8\n",
      "8\n",
      "8\n",
      "8\n",
      "8\n",
      "8\n",
      "8\n",
      "8\n",
      "8\n",
      "8\n",
      "8\n",
      "8\n",
      "8\n",
      "8\n",
      "8\n",
      "8\n",
      "8\n",
      "8\n",
      "8\n",
      "8\n",
      "8\n",
      "8\n",
      "8\n",
      "8\n",
      "8\n",
      "8\n",
      "8\n",
      "8\n",
      "8\n",
      "8\n",
      "8\n",
      "8\n",
      "8\n",
      "8\n",
      "8\n",
      "8\n",
      "8\n",
      "8\n",
      "8\n",
      "8\n",
      "8\n",
      "8\n",
      "8\n",
      "8\n",
      "8\n"
     ]
    }
   ],
   "source": [
    "for fi in files:\n",
    "    # SPEC images\n",
    "    full_file = folder_name+fi\n",
    "    if os.path.splitext(full_file)[-1] == '.zst':\n",
    "        samples = read_recording(full_file, sample_rate, sample_dtype, sample_len)\n",
    "        print(sample_len)\n",
    "#         spec_file_name = replace_ext(full_file, 'png', all_ext=False)\n",
    "        \n",
    "#         Z, extent = specgram.specgram(samples, NFFT=n_per_seg, Fs=sample_rate, cmap='Greys', Fc=freq_center, \n",
    "#                              noverlap=0, skip_fft=0)\n",
    "#         save_spec_array(Z, extent, full_file)\n",
    "#     # IF Saving as an image\n",
    "#     #     specgram.plot_spectrogram(\n",
    "#     #             samples,\n",
    "#     #             spec_file_name,\n",
    "#     #             2048,\n",
    "#     #             sample_rate,\n",
    "#     #             freq_center,\n",
    "#     #             cmap = 'Greys', \n",
    "#     #             ytics = 20, \n",
    "#     #             bare = True, \n",
    "#     #             noverlap = 0,\n",
    "#     #             skip_fft =0 )\n",
    "    \n",
    "#         samples = read_recording(full_file, sample_rate, sample_dtype, sample_len)\n",
    "#         # PSD\n",
    "#         freqs, psds = get_PSD_from_samples(samples, sample_rate, win_type, n_per_seg)\n",
    "#         save_psd(freqs, psds, full_file)"
   ]
  },
  {
   "cell_type": "code",
   "execution_count": null,
   "id": "a032dd1c",
   "metadata": {},
   "outputs": [],
   "source": []
  }
 ],
 "metadata": {
  "kernelspec": {
   "display_name": "Python 3 (ipykernel)",
   "language": "python",
   "name": "python3"
  },
  "language_info": {
   "codemirror_mode": {
    "name": "ipython",
    "version": 3
   },
   "file_extension": ".py",
   "mimetype": "text/x-python",
   "name": "python",
   "nbconvert_exporter": "python",
   "pygments_lexer": "ipython3",
   "version": "3.8.2"
  }
 },
 "nbformat": 4,
 "nbformat_minor": 5
}
