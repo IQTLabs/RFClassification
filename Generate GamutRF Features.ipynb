{
 "cells": [
  {
   "cell_type": "markdown",
   "id": "be86b694",
   "metadata": {},
   "source": [
    "## Notebook to generate features from gamutrf collections"
   ]
  },
  {
   "cell_type": "code",
   "execution_count": 1,
   "id": "a6aaf23a",
   "metadata": {},
   "outputs": [],
   "source": [
    "# from read_recording import *\n",
    "from gamutrf.sample_reader import read_recording\n",
    "from gamutrf.utils import parse_filename\n",
    "from gamutrf import specgram\n",
    "from gamutrf.utils import replace_ext\n",
    "\n",
    "import os\n",
    "import matplotlib.image as mpimg\n",
    "import matplotlib.pyplot as plt\n",
    "import numpy as np\n",
    "from datetime import date\n",
    "\n",
    "from scipy import signal"
   ]
  },
  {
   "cell_type": "markdown",
   "id": "676a8e61",
   "metadata": {},
   "source": [
    "### Test a single file"
   ]
  },
  {
   "cell_type": "code",
   "execution_count": 2,
   "id": "82dd50b1",
   "metadata": {},
   "outputs": [],
   "source": [
    "folder_name = \"../../Data/S3/leesburg_worker1/\"\n",
    "file_name = \"gamutrf_recording_ettus_directional-split_gain70_1655313720_5735000000Hz_20971520sps.s16.zst\"\n",
    "# full_file = 'gamutrf_recording_ettus_directional-split_gain70_1655311919_5735000000Hz_20971520sps.s16.zst'\n",
    "full_file = folder_name + file_name\n",
    "freq_center, sample_rate, sample_dtype, sample_len, sample_type, sample_bits = parse_filename(full_file)\n"
   ]
  },
  {
   "cell_type": "code",
   "execution_count": null,
   "id": "1200ab1c",
   "metadata": {},
   "outputs": [],
   "source": [
    "samples = read_recording(full_file, sample_rate, sample_dtype, sample_len)\n",
    "spec_file_name = replace_ext(full_file, 'png', all_ext=True)\n",
    "specgram.plot_spectrogram(\n",
    "        samples,\n",
    "        spec_file_name,\n",
    "        2048,\n",
    "        sample_rate,\n",
    "        freq_center,\n",
    "        cmap = 'Greys', \n",
    "        ytics = 20, \n",
    "        bare = True, \n",
    "        noverlap = 0,\n",
    "        skip_fft =0 )"
   ]
  },
  {
   "cell_type": "code",
   "execution_count": null,
   "id": "66729af5",
   "metadata": {},
   "outputs": [],
   "source": [
    "img = mpimg.imread(spec_file_name)\n",
    "\n",
    "plt.figure(figsize=(15, 12))\n",
    "imgplot = plt.imshow(img)\n",
    "plt.show()"
   ]
  },
  {
   "cell_type": "markdown",
   "id": "dadcd01d",
   "metadata": {},
   "source": [
    "### Generate for all files in folder"
   ]
  },
  {
   "cell_type": "code",
   "execution_count": null,
   "id": "f8a0ca57",
   "metadata": {},
   "outputs": [],
   "source": [
    "folder_name = \"../../Data/S3/pdx_worker1/\"\n",
    "files = os.listdir(folder_name)\n",
    "try:\n",
    "    os.mkdir(folder_name+'Features/')\n",
    "except:\n",
    "    print('Adding to Features Folder')"
   ]
  },
  {
   "cell_type": "code",
   "execution_count": null,
   "id": "de6ad4a8",
   "metadata": {},
   "outputs": [],
   "source": [
    "n_per_seg = 1024 # length of each segment (powers of 2)\n",
    "win_type = 'hamming' # make ends of each segment match\n",
    "# t_seg = 0.2 # sample length in seconds"
   ]
  },
  {
   "cell_type": "code",
   "execution_count": null,
   "id": "e7810918",
   "metadata": {},
   "outputs": [],
   "source": [
    "def get_PSD_from_samples(samples, fs, win_type, n_per_seg):\n",
    "    psd_return = []\n",
    "    for i, s in enumerate(samples):\n",
    "        d_real = abs(s)\n",
    "        fpsd, Pxx_den = signal.welch(d_real, fs, window=win_type, nperseg=n_per_seg)\n",
    "        psd_return.append(Pxx_den)\n",
    "    return fpsd, np.array(psd_return) # frequency range should be the same for each sample\n",
    "        "
   ]
  },
  {
   "cell_type": "code",
   "execution_count": null,
   "id": "fcca0c18",
   "metadata": {},
   "outputs": [],
   "source": [
    "def save_psd(freqs, psd_array, full_file):\n",
    "    data_save = {'feat': psd_array, 'freq': freqs}\n",
    "    \n",
    "    # construct file name\n",
    "    date_string = date.today()\n",
    "    ss = full_file.split('/')\n",
    "    folder_name = 'Features/PSD_'+str(date_string)\n",
    "    ss[-1] = folder_name+'/psd_'+ss[-1]\n",
    "    new_name = '/'.join(ss)\n",
    "    \n",
    "    folder_name_full = '/'.join(ss[:-1])\n",
    "    folder_name_full = folder_name_full+'/'+folder_name\n",
    "\n",
    "    #     #Save data\n",
    "    print(new_name)\n",
    "    try:\n",
    "        np.save(new_name, data_save)\n",
    "    except:\n",
    "        folder_name_full = '/'.join(ss[:-1])\n",
    "        folder_name_full = folder_name_full+'/'+folder_name\n",
    "        os.mkdir(folder_name_full)\n",
    "        np.save(new_name, data_save)"
   ]
  },
  {
   "cell_type": "code",
   "execution_count": null,
   "id": "4ba988ee",
   "metadata": {},
   "outputs": [],
   "source": [
    "def save_spec_array(Z, extent, full_file):\n",
    "    data_save = {'feat': Z, 'freq': extent[2:], 'time': extent[:2]}\n",
    "    \n",
    "    # construct file name\n",
    "    date_string = date.today()\n",
    "    ss = full_file.split('/')\n",
    "    folder_name = 'Features/SPEC_'+str(date_string)\n",
    "    ss[-1] = folder_name+'/spec_'+ss[-1]\n",
    "    new_name = '/'.join(ss)\n",
    "    \n",
    "#     #Save data\n",
    "    print(new_name)\n",
    "    try:\n",
    "        np.save(new_name, data_save)\n",
    "    except:\n",
    "        folder_name_full = '/'.join(ss[:-1])\n",
    "        folder_name_full = folder_name_full+'/'+folder_name\n",
    "        os.mkdir(folder_name_full)\n",
    "        np.save(new_name, data_save)"
   ]
  },
  {
   "cell_type": "code",
   "execution_count": 29,
   "id": "396b50f2",
   "metadata": {
    "scrolled": false
   },
   "outputs": [
    {
     "ename": "KeyboardInterrupt",
     "evalue": "",
     "output_type": "error",
     "traceback": [
      "\u001b[0;31m---------------------------------------------------------------------------\u001b[0m",
      "\u001b[0;31mKeyboardInterrupt\u001b[0m                         Traceback (most recent call last)",
      "Input \u001b[0;32mIn [29]\u001b[0m, in \u001b[0;36m<cell line: 1>\u001b[0;34m()\u001b[0m\n\u001b[1;32m     24\u001b[0m samples \u001b[38;5;241m=\u001b[39m read_recording(full_file, sample_rate, sample_dtype, sample_len)\n\u001b[1;32m     25\u001b[0m \u001b[38;5;66;03m# PSD\u001b[39;00m\n\u001b[0;32m---> 26\u001b[0m freqs, psds \u001b[38;5;241m=\u001b[39m \u001b[43mget_PSD_from_samples\u001b[49m\u001b[43m(\u001b[49m\u001b[43msamples\u001b[49m\u001b[43m,\u001b[49m\u001b[43m \u001b[49m\u001b[43msample_rate\u001b[49m\u001b[43m,\u001b[49m\u001b[43m \u001b[49m\u001b[43mwin_type\u001b[49m\u001b[43m,\u001b[49m\u001b[43m \u001b[49m\u001b[43mn_per_seg\u001b[49m\u001b[43m)\u001b[49m\n\u001b[1;32m     27\u001b[0m save_psd(freqs, psds, full_file)\n",
      "Input \u001b[0;32mIn [7]\u001b[0m, in \u001b[0;36mget_PSD_from_samples\u001b[0;34m(samples, fs, win_type, n_per_seg)\u001b[0m\n\u001b[1;32m      3\u001b[0m \u001b[38;5;28;01mfor\u001b[39;00m i, s \u001b[38;5;129;01min\u001b[39;00m \u001b[38;5;28menumerate\u001b[39m(samples):\n\u001b[1;32m      4\u001b[0m     d_real \u001b[38;5;241m=\u001b[39m \u001b[38;5;28mabs\u001b[39m(s)\n\u001b[0;32m----> 5\u001b[0m     fpsd, Pxx_den \u001b[38;5;241m=\u001b[39m \u001b[43msignal\u001b[49m\u001b[38;5;241;43m.\u001b[39;49m\u001b[43mwelch\u001b[49m\u001b[43m(\u001b[49m\u001b[43md_real\u001b[49m\u001b[43m,\u001b[49m\u001b[43m \u001b[49m\u001b[43mfs\u001b[49m\u001b[43m,\u001b[49m\u001b[43m \u001b[49m\u001b[43mwindow\u001b[49m\u001b[38;5;241;43m=\u001b[39;49m\u001b[43mwin_type\u001b[49m\u001b[43m,\u001b[49m\u001b[43m \u001b[49m\u001b[43mnperseg\u001b[49m\u001b[38;5;241;43m=\u001b[39;49m\u001b[43mn_per_seg\u001b[49m\u001b[43m)\u001b[49m\n\u001b[1;32m      6\u001b[0m     psd_return\u001b[38;5;241m.\u001b[39mappend(Pxx_den)\n\u001b[1;32m      7\u001b[0m \u001b[38;5;28;01mreturn\u001b[39;00m fpsd, np\u001b[38;5;241m.\u001b[39marray(psd_return)\n",
      "File \u001b[0;32m~/.pyenv/versions/3.8.2/envs/main/lib/python3.8/site-packages/scipy/signal/_spectral_py.py:446\u001b[0m, in \u001b[0;36mwelch\u001b[0;34m(x, fs, window, nperseg, noverlap, nfft, detrend, return_onesided, scaling, axis, average)\u001b[0m\n\u001b[1;32m    289\u001b[0m \u001b[38;5;28;01mdef\u001b[39;00m \u001b[38;5;21mwelch\u001b[39m(x, fs\u001b[38;5;241m=\u001b[39m\u001b[38;5;241m1.0\u001b[39m, window\u001b[38;5;241m=\u001b[39m\u001b[38;5;124m'\u001b[39m\u001b[38;5;124mhann\u001b[39m\u001b[38;5;124m'\u001b[39m, nperseg\u001b[38;5;241m=\u001b[39m\u001b[38;5;28;01mNone\u001b[39;00m, noverlap\u001b[38;5;241m=\u001b[39m\u001b[38;5;28;01mNone\u001b[39;00m, nfft\u001b[38;5;241m=\u001b[39m\u001b[38;5;28;01mNone\u001b[39;00m,\n\u001b[1;32m    290\u001b[0m           detrend\u001b[38;5;241m=\u001b[39m\u001b[38;5;124m'\u001b[39m\u001b[38;5;124mconstant\u001b[39m\u001b[38;5;124m'\u001b[39m, return_onesided\u001b[38;5;241m=\u001b[39m\u001b[38;5;28;01mTrue\u001b[39;00m, scaling\u001b[38;5;241m=\u001b[39m\u001b[38;5;124m'\u001b[39m\u001b[38;5;124mdensity\u001b[39m\u001b[38;5;124m'\u001b[39m,\n\u001b[1;32m    291\u001b[0m           axis\u001b[38;5;241m=\u001b[39m\u001b[38;5;241m-\u001b[39m\u001b[38;5;241m1\u001b[39m, average\u001b[38;5;241m=\u001b[39m\u001b[38;5;124m'\u001b[39m\u001b[38;5;124mmean\u001b[39m\u001b[38;5;124m'\u001b[39m):\n\u001b[1;32m    292\u001b[0m     \u001b[38;5;124mr\u001b[39m\u001b[38;5;124;03m\"\"\"\u001b[39;00m\n\u001b[1;32m    293\u001b[0m \u001b[38;5;124;03m    Estimate power spectral density using Welch's method.\u001b[39;00m\n\u001b[1;32m    294\u001b[0m \n\u001b[0;32m   (...)\u001b[0m\n\u001b[1;32m    444\u001b[0m \n\u001b[1;32m    445\u001b[0m \u001b[38;5;124;03m    \"\"\"\u001b[39;00m\n\u001b[0;32m--> 446\u001b[0m     freqs, Pxx \u001b[38;5;241m=\u001b[39m \u001b[43mcsd\u001b[49m\u001b[43m(\u001b[49m\u001b[43mx\u001b[49m\u001b[43m,\u001b[49m\u001b[43m \u001b[49m\u001b[43mx\u001b[49m\u001b[43m,\u001b[49m\u001b[43m \u001b[49m\u001b[43mfs\u001b[49m\u001b[38;5;241;43m=\u001b[39;49m\u001b[43mfs\u001b[49m\u001b[43m,\u001b[49m\u001b[43m \u001b[49m\u001b[43mwindow\u001b[49m\u001b[38;5;241;43m=\u001b[39;49m\u001b[43mwindow\u001b[49m\u001b[43m,\u001b[49m\u001b[43m \u001b[49m\u001b[43mnperseg\u001b[49m\u001b[38;5;241;43m=\u001b[39;49m\u001b[43mnperseg\u001b[49m\u001b[43m,\u001b[49m\n\u001b[1;32m    447\u001b[0m \u001b[43m                     \u001b[49m\u001b[43mnoverlap\u001b[49m\u001b[38;5;241;43m=\u001b[39;49m\u001b[43mnoverlap\u001b[49m\u001b[43m,\u001b[49m\u001b[43m \u001b[49m\u001b[43mnfft\u001b[49m\u001b[38;5;241;43m=\u001b[39;49m\u001b[43mnfft\u001b[49m\u001b[43m,\u001b[49m\u001b[43m \u001b[49m\u001b[43mdetrend\u001b[49m\u001b[38;5;241;43m=\u001b[39;49m\u001b[43mdetrend\u001b[49m\u001b[43m,\u001b[49m\n\u001b[1;32m    448\u001b[0m \u001b[43m                     \u001b[49m\u001b[43mreturn_onesided\u001b[49m\u001b[38;5;241;43m=\u001b[39;49m\u001b[43mreturn_onesided\u001b[49m\u001b[43m,\u001b[49m\u001b[43m \u001b[49m\u001b[43mscaling\u001b[49m\u001b[38;5;241;43m=\u001b[39;49m\u001b[43mscaling\u001b[49m\u001b[43m,\u001b[49m\n\u001b[1;32m    449\u001b[0m \u001b[43m                     \u001b[49m\u001b[43maxis\u001b[49m\u001b[38;5;241;43m=\u001b[39;49m\u001b[43maxis\u001b[49m\u001b[43m,\u001b[49m\u001b[43m \u001b[49m\u001b[43maverage\u001b[49m\u001b[38;5;241;43m=\u001b[39;49m\u001b[43maverage\u001b[49m\u001b[43m)\u001b[49m\n\u001b[1;32m    451\u001b[0m     \u001b[38;5;28;01mreturn\u001b[39;00m freqs, Pxx\u001b[38;5;241m.\u001b[39mreal\n",
      "File \u001b[0;32m~/.pyenv/versions/3.8.2/envs/main/lib/python3.8/site-packages/scipy/signal/_spectral_py.py:580\u001b[0m, in \u001b[0;36mcsd\u001b[0;34m(x, y, fs, window, nperseg, noverlap, nfft, detrend, return_onesided, scaling, axis, average)\u001b[0m\n\u001b[1;32m    454\u001b[0m \u001b[38;5;28;01mdef\u001b[39;00m \u001b[38;5;21mcsd\u001b[39m(x, y, fs\u001b[38;5;241m=\u001b[39m\u001b[38;5;241m1.0\u001b[39m, window\u001b[38;5;241m=\u001b[39m\u001b[38;5;124m'\u001b[39m\u001b[38;5;124mhann\u001b[39m\u001b[38;5;124m'\u001b[39m, nperseg\u001b[38;5;241m=\u001b[39m\u001b[38;5;28;01mNone\u001b[39;00m, noverlap\u001b[38;5;241m=\u001b[39m\u001b[38;5;28;01mNone\u001b[39;00m, nfft\u001b[38;5;241m=\u001b[39m\u001b[38;5;28;01mNone\u001b[39;00m,\n\u001b[1;32m    455\u001b[0m         detrend\u001b[38;5;241m=\u001b[39m\u001b[38;5;124m'\u001b[39m\u001b[38;5;124mconstant\u001b[39m\u001b[38;5;124m'\u001b[39m, return_onesided\u001b[38;5;241m=\u001b[39m\u001b[38;5;28;01mTrue\u001b[39;00m, scaling\u001b[38;5;241m=\u001b[39m\u001b[38;5;124m'\u001b[39m\u001b[38;5;124mdensity\u001b[39m\u001b[38;5;124m'\u001b[39m,\n\u001b[1;32m    456\u001b[0m         axis\u001b[38;5;241m=\u001b[39m\u001b[38;5;241m-\u001b[39m\u001b[38;5;241m1\u001b[39m, average\u001b[38;5;241m=\u001b[39m\u001b[38;5;124m'\u001b[39m\u001b[38;5;124mmean\u001b[39m\u001b[38;5;124m'\u001b[39m):\n\u001b[1;32m    457\u001b[0m     \u001b[38;5;124mr\u001b[39m\u001b[38;5;124;03m\"\"\"\u001b[39;00m\n\u001b[1;32m    458\u001b[0m \u001b[38;5;124;03m    Estimate the cross power spectral density, Pxy, using Welch's method.\u001b[39;00m\n\u001b[1;32m    459\u001b[0m \n\u001b[0;32m   (...)\u001b[0m\n\u001b[1;32m    578\u001b[0m \n\u001b[1;32m    579\u001b[0m \u001b[38;5;124;03m    \"\"\"\u001b[39;00m\n\u001b[0;32m--> 580\u001b[0m     freqs, _, Pxy \u001b[38;5;241m=\u001b[39m \u001b[43m_spectral_helper\u001b[49m\u001b[43m(\u001b[49m\u001b[43mx\u001b[49m\u001b[43m,\u001b[49m\u001b[43m \u001b[49m\u001b[43my\u001b[49m\u001b[43m,\u001b[49m\u001b[43m \u001b[49m\u001b[43mfs\u001b[49m\u001b[43m,\u001b[49m\u001b[43m \u001b[49m\u001b[43mwindow\u001b[49m\u001b[43m,\u001b[49m\u001b[43m \u001b[49m\u001b[43mnperseg\u001b[49m\u001b[43m,\u001b[49m\u001b[43m \u001b[49m\u001b[43mnoverlap\u001b[49m\u001b[43m,\u001b[49m\u001b[43m \u001b[49m\u001b[43mnfft\u001b[49m\u001b[43m,\u001b[49m\n\u001b[1;32m    581\u001b[0m \u001b[43m                                     \u001b[49m\u001b[43mdetrend\u001b[49m\u001b[43m,\u001b[49m\u001b[43m \u001b[49m\u001b[43mreturn_onesided\u001b[49m\u001b[43m,\u001b[49m\u001b[43m \u001b[49m\u001b[43mscaling\u001b[49m\u001b[43m,\u001b[49m\u001b[43m \u001b[49m\u001b[43maxis\u001b[49m\u001b[43m,\u001b[49m\n\u001b[1;32m    582\u001b[0m \u001b[43m                                     \u001b[49m\u001b[43mmode\u001b[49m\u001b[38;5;241;43m=\u001b[39;49m\u001b[38;5;124;43m'\u001b[39;49m\u001b[38;5;124;43mpsd\u001b[39;49m\u001b[38;5;124;43m'\u001b[39;49m\u001b[43m)\u001b[49m\n\u001b[1;32m    584\u001b[0m     \u001b[38;5;66;03m# Average over windows.\u001b[39;00m\n\u001b[1;32m    585\u001b[0m     \u001b[38;5;28;01mif\u001b[39;00m \u001b[38;5;28mlen\u001b[39m(Pxy\u001b[38;5;241m.\u001b[39mshape) \u001b[38;5;241m>\u001b[39m\u001b[38;5;241m=\u001b[39m \u001b[38;5;241m2\u001b[39m \u001b[38;5;129;01mand\u001b[39;00m Pxy\u001b[38;5;241m.\u001b[39msize \u001b[38;5;241m>\u001b[39m \u001b[38;5;241m0\u001b[39m:\n",
      "File \u001b[0;32m~/.pyenv/versions/3.8.2/envs/main/lib/python3.8/site-packages/scipy/signal/_spectral_py.py:1832\u001b[0m, in \u001b[0;36m_spectral_helper\u001b[0;34m(x, y, fs, window, nperseg, noverlap, nfft, detrend, return_onesided, scaling, axis, mode, boundary, padded)\u001b[0m\n\u001b[1;32m   1829\u001b[0m     freqs \u001b[38;5;241m=\u001b[39m sp_fft\u001b[38;5;241m.\u001b[39mrfftfreq(nfft, \u001b[38;5;241m1\u001b[39m\u001b[38;5;241m/\u001b[39mfs)\n\u001b[1;32m   1831\u001b[0m \u001b[38;5;66;03m# Perform the windowed FFTs\u001b[39;00m\n\u001b[0;32m-> 1832\u001b[0m result \u001b[38;5;241m=\u001b[39m \u001b[43m_fft_helper\u001b[49m\u001b[43m(\u001b[49m\u001b[43mx\u001b[49m\u001b[43m,\u001b[49m\u001b[43m \u001b[49m\u001b[43mwin\u001b[49m\u001b[43m,\u001b[49m\u001b[43m \u001b[49m\u001b[43mdetrend_func\u001b[49m\u001b[43m,\u001b[49m\u001b[43m \u001b[49m\u001b[43mnperseg\u001b[49m\u001b[43m,\u001b[49m\u001b[43m \u001b[49m\u001b[43mnoverlap\u001b[49m\u001b[43m,\u001b[49m\u001b[43m \u001b[49m\u001b[43mnfft\u001b[49m\u001b[43m,\u001b[49m\u001b[43m \u001b[49m\u001b[43msides\u001b[49m\u001b[43m)\u001b[49m\n\u001b[1;32m   1834\u001b[0m \u001b[38;5;28;01mif\u001b[39;00m \u001b[38;5;129;01mnot\u001b[39;00m same_data:\n\u001b[1;32m   1835\u001b[0m     \u001b[38;5;66;03m# All the same operations on the y data\u001b[39;00m\n\u001b[1;32m   1836\u001b[0m     result_y \u001b[38;5;241m=\u001b[39m _fft_helper(y, win, detrend_func, nperseg, noverlap, nfft,\n\u001b[1;32m   1837\u001b[0m                            sides)\n",
      "File \u001b[0;32m~/.pyenv/versions/3.8.2/envs/main/lib/python3.8/site-packages/scipy/signal/_spectral_py.py:1909\u001b[0m, in \u001b[0;36m_fft_helper\u001b[0;34m(x, win, detrend_func, nperseg, noverlap, nfft, sides)\u001b[0m\n\u001b[1;32m   1906\u001b[0m result \u001b[38;5;241m=\u001b[39m detrend_func(result)\n\u001b[1;32m   1908\u001b[0m \u001b[38;5;66;03m# Apply window by multiplication\u001b[39;00m\n\u001b[0;32m-> 1909\u001b[0m result \u001b[38;5;241m=\u001b[39m \u001b[43mwin\u001b[49m\u001b[43m \u001b[49m\u001b[38;5;241;43m*\u001b[39;49m\u001b[43m \u001b[49m\u001b[43mresult\u001b[49m\n\u001b[1;32m   1911\u001b[0m \u001b[38;5;66;03m# Perform the fft. Acts on last axis by default. Zero-pads automatically\u001b[39;00m\n\u001b[1;32m   1912\u001b[0m \u001b[38;5;28;01mif\u001b[39;00m sides \u001b[38;5;241m==\u001b[39m \u001b[38;5;124m'\u001b[39m\u001b[38;5;124mtwosided\u001b[39m\u001b[38;5;124m'\u001b[39m:\n",
      "\u001b[0;31mKeyboardInterrupt\u001b[0m: "
     ]
    }
   ],
   "source": [
    "for fi in files:\n",
    "    # SPEC images\n",
    "    full_file = folder_name+fi\n",
    "    if os.path.splitext(full_file)[-1] == '.zst':\n",
    "        samples = read_recording(full_file, sample_rate, sample_dtype, sample_len)\n",
    "#         spec_file_name = replace_ext(full_file, 'png', all_ext=False)\n",
    "        \n",
    "#         Z, extent = specgram.specgram(samples, NFFT=n_per_seg, Fs=sample_rate, cmap='Greys', Fc=freq_center, \n",
    "#                              noverlap=0, skip_fft=0)\n",
    "#         save_spec_array(Z, extent, full_file)\n",
    "    # IF Saving as an image\n",
    "    #     specgram.plot_spectrogram(\n",
    "    #             samples,\n",
    "    #             spec_file_name,\n",
    "    #             2048,\n",
    "    #             sample_rate,\n",
    "    #             freq_center,\n",
    "    #             cmap = 'Greys', \n",
    "    #             ytics = 20, \n",
    "    #             bare = True, \n",
    "    #             noverlap = 0,\n",
    "    #             skip_fft =0 )\n",
    "    \n",
    "        samples = read_recording(full_file, sample_rate, sample_dtype, sample_len)\n",
    "        # PSD\n",
    "        freqs, psds = get_PSD_from_samples(samples, sample_rate, win_type, n_per_seg)\n",
    "        save_psd(freqs, psds, full_file)"
   ]
  },
  {
   "cell_type": "code",
   "execution_count": 27,
   "id": "27a9beea",
   "metadata": {},
   "outputs": [],
   "source": [
    "os.mkdir('../../Data/S3/pdx_worker1/Features/PSD_2022-06-30')"
   ]
  },
  {
   "cell_type": "code",
   "execution_count": null,
   "id": "8bc940bb",
   "metadata": {},
   "outputs": [],
   "source": []
  }
 ],
 "metadata": {
  "kernelspec": {
   "display_name": "Python 3 (ipykernel)",
   "language": "python",
   "name": "python3"
  },
  "language_info": {
   "codemirror_mode": {
    "name": "ipython",
    "version": 3
   },
   "file_extension": ".py",
   "mimetype": "text/x-python",
   "name": "python",
   "nbconvert_exporter": "python",
   "pygments_lexer": "ipython3",
   "version": "3.8.2"
  }
 },
 "nbformat": 4,
 "nbformat_minor": 5
}
