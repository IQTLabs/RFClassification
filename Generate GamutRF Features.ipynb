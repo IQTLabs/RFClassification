{
 "cells": [
  {
   "cell_type": "markdown",
   "id": "be86b694",
   "metadata": {},
   "source": [
    "## Notebook to generate features from gamutrf collections"
   ]
  },
  {
   "cell_type": "code",
   "execution_count": 1,
   "id": "a6aaf23a",
   "metadata": {},
   "outputs": [],
   "source": [
    "# from read_recording import *\n",
    "from gamutrf.sample_reader import read_recording\n",
    "from gamutrf.utils import parse_filename\n",
    "from gamutrf import specgram\n",
    "from gamutrf.utils import replace_ext\n",
    "from gamutrf.sample_reader import get_reader\n",
    "\n",
    "import os\n",
    "import matplotlib.image as mpimg\n",
    "import matplotlib.pyplot as plt\n",
    "import numpy as np\n",
    "from datetime import date\n",
    "\n",
    "from helper_functions import *\n",
    "from gamutrf_feature_functions import *\n",
    "\n",
    "import importlib"
   ]
  },
  {
   "cell_type": "code",
   "execution_count": 2,
   "id": "d4969e3c",
   "metadata": {},
   "outputs": [],
   "source": [
    "# RELOAD python package:\n",
    "import gamutrf_feature_functions\n",
    "importlib.reload(gamutrf_feature_functions)\n",
    "from gamutrf_feature_functions import *\n",
    "# reload_package('gamutrf_feature_functions')"
   ]
  },
  {
   "cell_type": "markdown",
   "id": "e4620521",
   "metadata": {},
   "source": [
    "## Generate & Save GamutRF Features"
   ]
  },
  {
   "cell_type": "code",
   "execution_count": 3,
   "id": "de6ad4a8",
   "metadata": {},
   "outputs": [],
   "source": [
    "# Data source folder:\n",
    "folder_name = \"../../Data/S3/pdx_worker1/\"\n",
    "\n",
    "# Specifications on what features to generate\n",
    "n_per_seg = 1024 # length of each segment (powers of 2)\n",
    "n_overlap_spec = 120\n",
    "win_type = 'hamming' # make ends of each segment match\n",
    "# spec_han_window = np.hanning(n_per_seg)\n",
    "t_seg = 20 # sample length in s\n",
    "feature_to_save = ['PSD'] # what features to generate and save: SPEC or PSD\n",
    "format_to_save = ['IMG'] # IMG or ARR\n",
    "\n",
    "# Image properties\n",
    "dim_px = (224, 224) # dimension of image pixels\n",
    "dpi = 100\n",
    "\n",
    "# subfolders\n",
    "sub_folder = [ff+'_'+fm+'_'+str(n_per_seg)+\"_\"+str(t_seg) for ff in feature_to_save for fm in format_to_save]\n",
    "sub_folder = sub_folder[0]"
   ]
  },
  {
   "cell_type": "code",
   "execution_count": 4,
   "id": "f8a0ca57",
   "metadata": {},
   "outputs": [],
   "source": [
    "# make relevant folders\n",
    "try:\n",
    "    os.mkdir(folder_name+'Features/')\n",
    "except:\n",
    "    pass\n",
    "    \n",
    "\n",
    "try:\n",
    "    os.mkdir(folder_name+'Features/'+sub_folder+'/')\n",
    "except:\n",
    "    pass\n"
   ]
  },
  {
   "cell_type": "code",
   "execution_count": 5,
   "id": "396b50f2",
   "metadata": {
    "scrolled": false
   },
   "outputs": [
    {
     "name": "stderr",
     "output_type": "stream",
     "text": [
      "/home/kzhou/.pyenv/versions/3.8.2/envs/main/lib/python3.8/site-packages/scipy/signal/_spectral_py.py:1961: UserWarning: nperseg = 1024 is greater than input length  = 600, using nperseg = 600\n",
      "  warnings.warn('nperseg = {0:d} is greater than input length '\n"
     ]
    },
    {
     "name": "stdout",
     "output_type": "stream",
     "text": [
      "../../Data/S3/pdx_worker1/Features/PSD_IMG_1024_20//psd_gamutrf_recording_ettus_directional-split_gain45_1653588935_5735000000Hz_20971520sps.s16.zst\n",
      "../../Data/S3/pdx_worker1/Features/PSD_IMG_1024_20//psd_gamutrf_recording_ettus_directional-split_gain70_1653597087_5735000000Hz_20971520sps.s16.zst\n",
      "../../Data/S3/pdx_worker1/Features/PSD_IMG_1024_20//psd_gamutrf_recording_ettus_directional-split_gain45_1653589857_5735000000Hz_20971520sps.s16.zst\n",
      "../../Data/S3/pdx_worker1/Features/PSD_IMG_1024_20//psd_gamutrf_recording_ettus_directional-split_gain45_1653590598_5735000000Hz_20971520sps.s16.zst\n"
     ]
    },
    {
     "name": "stderr",
     "output_type": "stream",
     "text": [
      "/home/kzhou/.pyenv/versions/3.8.2/envs/main/lib/python3.8/site-packages/scipy/signal/_spectral_py.py:1961: UserWarning: nperseg = 1024 is greater than input length  = 660, using nperseg = 660\n",
      "  warnings.warn('nperseg = {0:d} is greater than input length '\n"
     ]
    },
    {
     "name": "stdout",
     "output_type": "stream",
     "text": [
      "../../Data/S3/pdx_worker1/Features/PSD_IMG_1024_20//psd_gamutrf_recording_ettus_directional-split_gain45_1653586663_5735000000Hz_20971520sps.s16.zst\n",
      "../../Data/S3/pdx_worker1/Features/PSD_IMG_1024_20//psd_gamutrf_recording_ettus_directional-split_gain45_1653589985_5735000000Hz_20971520sps.s16.zst\n",
      "../../Data/S3/pdx_worker1/Features/PSD_IMG_1024_20//psd_gamutrf_recording_ettus_directional-split_gain45_1653591229_5735000000Hz_20971520sps.s16.zst\n",
      "../../Data/S3/pdx_worker1/Features/PSD_IMG_1024_20//psd_gamutrf_recording_ettus_directional-split_gain45_1653588879_5735000000Hz_20971520sps.s16.zst\n",
      "../../Data/S3/pdx_worker1/Features/PSD_IMG_1024_20//psd_gamutrf_recording_ettus_directional-split_gain45_1653586925_5735000000Hz_20971520sps.s16.zst\n",
      "../../Data/S3/pdx_worker1/Features/PSD_IMG_1024_20//psd_gamutrf_recording_ettus_directional-split_gain45_1653588156_5735000000Hz_20971520sps.s16.zst\n",
      "../../Data/S3/pdx_worker1/Features/PSD_IMG_1024_20//psd_gamutrf_recording_ettus_directional-split_gain70_1653597030_5735000000Hz_20971520sps.s16.zst\n",
      "../../Data/S3/pdx_worker1/Features/PSD_IMG_1024_20//psd_gamutrf_recording_ettus_directional-split_gain45_1653588559_5735000000Hz_20971520sps.s16.zst\n",
      "../../Data/S3/pdx_worker1/Features/PSD_IMG_1024_20//psd_gamutrf_recording_ettus_directional-split_gain45_1653586731_5735000000Hz_20971520sps.s16.zst\n",
      "../../Data/S3/pdx_worker1/Features/PSD_IMG_1024_20//psd_gamutrf_recording_ettus_directional-split_gain45_1653588294_5735000000Hz_20971520sps.s16.zst\n",
      "../../Data/S3/pdx_worker1/Features/PSD_IMG_1024_20//psd_gamutrf_recording_ettus_directional-split_gain45_1653589325_5735000000Hz_20971520sps.s16.zst\n",
      "../../Data/S3/pdx_worker1/Features/PSD_IMG_1024_20//psd_gamutrf_recording_ettus_directional-split_gain45_1653589592_5735000000Hz_20971520sps.s16.zst\n",
      "../../Data/S3/pdx_worker1/Features/PSD_IMG_1024_20//psd_gamutrf_recording_ettus_directional-split_gain45_1653590864_5735000000Hz_20971520sps.s16.zst\n",
      "../../Data/S3/pdx_worker1/Features/PSD_IMG_1024_20//psd_gamutrf_recording_ettus_directional-split_gain45_1653588623_5735000000Hz_20971520sps.s16.zst\n",
      "../../Data/S3/pdx_worker1/Features/PSD_IMG_1024_20//psd_gamutrf_recording_ettus_directional-split_gain45_1653590252_5735000000Hz_20971520sps.s16.zst\n",
      "../../Data/S3/pdx_worker1/Features/PSD_IMG_1024_20//psd_gamutrf_recording_ettus_directional-split_gain45_1653589098_5735000000Hz_20971520sps.s16.zst\n",
      "../../Data/S3/pdx_worker1/Features/PSD_IMG_1024_20//psd_gamutrf_recording_ettus_directional-split_gain70_1653597286_5735000000Hz_20971520sps.s16.zst\n",
      "../../Data/S3/pdx_worker1/Features/PSD_IMG_1024_20//psd_gamutrf_recording_ettus_directional-split_gain45_1653590704_5735000000Hz_20971520sps.s16.zst\n",
      "../../Data/S3/pdx_worker1/Features/PSD_IMG_1024_20//psd_gamutrf_recording_ettus_directional-split_gain45_1653589793_5735000000Hz_20971520sps.s16.zst\n",
      "../../Data/S3/pdx_worker1/Features/PSD_IMG_1024_20//psd_gamutrf_recording_ettus_directional-split_gain45_1653588427_5735000000Hz_20971520sps.s16.zst\n",
      "../../Data/S3/pdx_worker1/Features/PSD_IMG_1024_20//psd_gamutrf_recording_ettus_directional-split_gain45_1653589203_5735000000Hz_20971520sps.s16.zst\n",
      "../../Data/S3/pdx_worker1/Features/PSD_IMG_1024_20//psd_gamutrf_recording_ettus_directional-split_gain45_1653588753_5735000000Hz_20971520sps.s16.zst\n",
      "../../Data/S3/pdx_worker1/Features/PSD_IMG_1024_20//psd_gamutrf_recording_ettus_directional-split_gain45_1653589259_5735000000Hz_20971520sps.s16.zst\n",
      "../../Data/S3/pdx_worker1/Features/PSD_IMG_1024_20//psd_gamutrf_recording_ettus_directional-split_gain45_1653590919_5735000000Hz_20971520sps.s16.zst\n",
      "../../Data/S3/pdx_worker1/Features/PSD_IMG_1024_20//psd_gamutrf_recording_ettus_directional-split_gain45_1653591161_5735000000Hz_20971520sps.s16.zst\n",
      "../../Data/S3/pdx_worker1/Features/PSD_IMG_1024_20//psd_gamutrf_recording_ettus_directional-split_gain45_1653590431_5735000000Hz_20971520sps.s16.zst\n",
      "../../Data/S3/pdx_worker1/Features/PSD_IMG_1024_20//psd_gamutrf_recording_ettus_directional-split_gain45_1653588089_5735000000Hz_20971520sps.s16.zst\n",
      "../../Data/S3/pdx_worker1/Features/PSD_IMG_1024_20//psd_gamutrf_recording_ettus_directional-split_gain45_1653591297_5735000000Hz_20971520sps.s16.zst\n",
      "../../Data/S3/pdx_worker1/Features/PSD_IMG_1024_20//psd_gamutrf_recording_ettus_directional-split_gain45_1653590544_5735000000Hz_20971520sps.s16.zst\n",
      "../../Data/S3/pdx_worker1/Features/PSD_IMG_1024_20//psd_gamutrf_recording_ettus_directional-split_gain70_1653597384_5735000000Hz_20971520sps.s16.zst\n",
      "../../Data/S3/pdx_worker1/Features/PSD_IMG_1024_20//psd_gamutrf_recording_ettus_directional-split_gain45_1653590188_5735000000Hz_20971520sps.s16.zst\n",
      "../../Data/S3/pdx_worker1/Features/PSD_IMG_1024_20//psd_gamutrf_recording_ettus_directional-split_gain45_1653587979_5735000000Hz_20971520sps.s16.zst\n",
      "../../Data/S3/pdx_worker1/Features/PSD_IMG_1024_20//psd_gamutrf_recording_ettus_directional-split_gain45_1653589659_5735000000Hz_20971520sps.s16.zst\n",
      "../../Data/S3/pdx_worker1/Features/PSD_IMG_1024_20//psd_gamutrf_recording_ettus_directional-split_gain45_1653588493_5735000000Hz_20971520sps.s16.zst\n",
      "../../Data/S3/pdx_worker1/Features/PSD_IMG_1024_20//psd_.gamutrf_recording_ettus_directional-split_gain70_1653666139_5735000000Hz_20971520sps.s16.zst\n",
      "../../Data/S3/pdx_worker1/Features/PSD_IMG_1024_20//psd_gamutrf_recording_ettus_directional-split_gain70_1653597337_5735000000Hz_20971520sps.s16.zst\n",
      "../../Data/S3/pdx_worker1/Features/PSD_IMG_1024_20//psd_gamutrf_recording_ettus_directional-split_gain45_1653586795_5735000000Hz_20971520sps.s16.zst\n",
      "../../Data/S3/pdx_worker1/Features/PSD_IMG_1024_20//psd_gamutrf_recording_ettus_directional-split_gain70_1653597190_5735000000Hz_20971520sps.s16.zst\n",
      "../../Data/S3/pdx_worker1/Features/PSD_IMG_1024_20//psd_gamutrf_recording_ettus_directional-split_gain45_1653589390_5735000000Hz_20971520sps.s16.zst\n",
      "../../Data/S3/pdx_worker1/Features/PSD_IMG_1024_20//psd_gamutrf_recording_ettus_directional-split_gain45_1653589152_5735000000Hz_20971520sps.s16.zst\n",
      "../../Data/S3/pdx_worker1/Features/PSD_IMG_1024_20//psd_gamutrf_recording_ettus_directional-split_gain45_1653590319_5735000000Hz_20971520sps.s16.zst\n",
      "../../Data/S3/pdx_worker1/Features/PSD_IMG_1024_20//psd_gamutrf_recording_ettus_directional-split_gain70_1653597439_5735000000Hz_20971520sps.s16.zst\n",
      "../../Data/S3/pdx_worker1/Features/PSD_IMG_1024_20//psd_gamutrf_recording_ettus_directional-split_gain45_1653591365_5735000000Hz_20971520sps.s16.zst\n",
      "../../Data/S3/pdx_worker1/Features/PSD_IMG_1024_20//psd_gamutrf_recording_ettus_directional-split_gain45_1653586858_5735000000Hz_20971520sps.s16.zst\n",
      "../../Data/S3/pdx_worker1/Features/PSD_IMG_1024_20//psd_gamutrf_recording_ettus_directional-split_gain70_1653597138_5735000000Hz_20971520sps.s16.zst\n",
      "../../Data/S3/pdx_worker1/Features/PSD_IMG_1024_20//psd_gamutrf_recording_ettus_directional-split_gain45_1653589725_5735000000Hz_20971520sps.s16.zst\n",
      "../../Data/S3/pdx_worker1/Features/PSD_IMG_1024_20//psd_gamutrf_recording_ettus_directional-split_gain45_1653589921_5735000000Hz_20971520sps.s16.zst\n",
      "../../Data/S3/pdx_worker1/Features/PSD_IMG_1024_20//psd_gamutrf_recording_ettus_directional-split_gain45_1653588033_5735000000Hz_20971520sps.s16.zst\n",
      "../../Data/S3/pdx_worker1/Features/PSD_IMG_1024_20//psd_gamutrf_recording_ettus_directional-split_gain45_1653590972_5735000000Hz_20971520sps.s16.zst\n",
      "../../Data/S3/pdx_worker1/Features/PSD_IMG_1024_20//psd_gamutrf_recording_ettus_directional-split_gain45_1653591095_5735000000Hz_20971520sps.s16.zst\n",
      "../../Data/S3/pdx_worker1/Features/PSD_IMG_1024_20//psd_gamutrf_recording_ettus_directional-split_gain45_1653591030_5735000000Hz_20971520sps.s16.zst\n",
      "../../Data/S3/pdx_worker1/Features/PSD_IMG_1024_20//psd_gamutrf_recording_ettus_directional-split_gain45_1653588224_5735000000Hz_20971520sps.s16.zst\n"
     ]
    },
    {
     "name": "stderr",
     "output_type": "stream",
     "text": [
      "/home/kzhou/.pyenv/versions/3.8.2/envs/main/lib/python3.8/site-packages/scipy/signal/_spectral_py.py:1961: UserWarning: nperseg = 1024 is greater than input length  = 240, using nperseg = 240\n",
      "  warnings.warn('nperseg = {0:d} is greater than input length '\n"
     ]
    },
    {
     "name": "stdout",
     "output_type": "stream",
     "text": [
      "../../Data/S3/pdx_worker1/Features/PSD_IMG_1024_20//psd_gamutrf_recording_ettus_directional-split_gain70_1653665623_5735000000Hz_20971520sps.s16.zst\n",
      "../../Data/S3/pdx_worker1/Features/PSD_IMG_1024_20//psd_gamutrf_recording_ettus_directional-split_gain45_1653586599_5735000000Hz_20971520sps.s16.zst\n",
      "../../Data/S3/pdx_worker1/Features/PSD_IMG_1024_20//psd_gamutrf_recording_ettus_directional-split_gain45_1653590758_5735000000Hz_20971520sps.s16.zst\n",
      "../../Data/S3/pdx_worker1/Features/PSD_IMG_1024_20//psd_gamutrf_recording_ettus_directional-split_gain70_1653665790_5735000000Hz_20971520sps.s16.zst\n",
      "../../Data/S3/pdx_worker1/Features/PSD_IMG_1024_20//psd_gamutrf_recording_ettus_directional-split_gain45_1653589524_5735000000Hz_20971520sps.s16.zst\n",
      "../../Data/S3/pdx_worker1/Features/PSD_IMG_1024_20//psd_gamutrf_recording_ettus_directional-split_gain45_1653588817_5735000000Hz_20971520sps.s16.zst\n",
      "../../Data/S3/pdx_worker1/Features/PSD_IMG_1024_20//psd_gamutrf_recording_ettus_directional-split_gain45_1653589045_5735000000Hz_20971520sps.s16.zst\n",
      "../../Data/S3/pdx_worker1/Features/PSD_IMG_1024_20//psd_gamutrf_recording_ettus_directional-split_gain45_1653588359_5735000000Hz_20971520sps.s16.zst\n",
      "../../Data/S3/pdx_worker1/Features/PSD_IMG_1024_20//psd_gamutrf_recording_ettus_directional-split_gain45_1653590122_5735000000Hz_20971520sps.s16.zst\n",
      "../../Data/S3/pdx_worker1/Features/PSD_IMG_1024_20//psd_gamutrf_recording_ettus_directional-split_gain45_1653590651_5735000000Hz_20971520sps.s16.zst\n",
      "../../Data/S3/pdx_worker1/Features/PSD_IMG_1024_20//psd_gamutrf_recording_ettus_directional-split_gain45_1653590378_5735000000Hz_20971520sps.s16.zst\n",
      "../../Data/S3/pdx_worker1/Features/PSD_IMG_1024_20//psd_gamutrf_recording_ettus_directional-split_gain45_1653589457_5735000000Hz_20971520sps.s16.zst\n",
      "../../Data/S3/pdx_worker1/Features/PSD_IMG_1024_20//psd_gamutrf_recording_ettus_directional-split_gain45_1653590052_5735000000Hz_20971520sps.s16.zst\n",
      "../../Data/S3/pdx_worker1/Features/PSD_IMG_1024_20//psd_gamutrf_recording_ettus_directional-split_gain45_1653590811_5735000000Hz_20971520sps.s16.zst\n",
      "../../Data/S3/pdx_worker1/Features/PSD_IMG_1024_20//psd_gamutrf_recording_ettus_directional-split_gain45_1653588689_5735000000Hz_20971520sps.s16.zst\n",
      "../../Data/S3/pdx_worker1/Features/PSD_IMG_1024_20//psd_gamutrf_recording_ettus_directional-split_gain70_1653597238_5735000000Hz_20971520sps.s16.zst\n",
      "../../Data/S3/pdx_worker1/Features/PSD_IMG_1024_20//psd_gamutrf_recording_ettus_directional-split_gain45_1653586531_5735000000Hz_20971520sps.s16.zst\n",
      "../../Data/S3/pdx_worker1/Features/PSD_IMG_1024_20//psd_gamutrf_recording_ettus_directional-split_gain45_1653588990_5735000000Hz_20971520sps.s16.zst\n",
      "../../Data/S3/pdx_worker1/Features/PSD_IMG_1024_20//psd_gamutrf_recording_ettus_directional-split_gain45_1653590489_5735000000Hz_20971520sps.s16.zst\n"
     ]
    }
   ],
   "source": [
    "files = os.listdir(folder_name)\n",
    "\n",
    "for fi in files:\n",
    "    # SPEC images\n",
    "    full_file = folder_name+fi\n",
    "    if os.path.splitext(full_file)[-1] == '.zst':\n",
    "        # read sample\n",
    "        freq_center, sample_rate, sample_dtype, sample_len, sample_type, sample_bits = parse_filename(full_file)\n",
    "        samples = read_recording(full_file, sample_rate, sample_dtype, sample_len, t_seg/1e3)\n",
    "        \n",
    "        # compute PSD\n",
    "        if 'PSD' in feature_to_save:\n",
    "            freqs, psds = get_PSD_from_samples(samples, sample_rate, win_type, n_per_seg)\n",
    "            \n",
    "            if 'ARR' in format_to_save:\n",
    "                # save PSD array\n",
    "                save_psd_array(freqs, psds, full_file)\n",
    "            elif 'IMG' in format_to_save:\n",
    "                save_psd_img(psds, dim_px, dpi, full_file, 'Features/'+sub_folder+'/')\n",
    "        \n",
    "        if 'SPEC' in feature_to_save:\n",
    "            spec, _, _, _ = plt.specgram(samples, NFFT=n_per_seg, Fs=fs, window=spec_han_window, \n",
    "                                          noverlap=n_overlap_spec, sides='onesided')\n",
    "        \n",
    "        \n",
    "#         print(sample_len)\n",
    "#         spec_file_name = replace_ext(full_file, 'png', all_ext=False)\n",
    "        \n",
    "#         Z, extent = specgram.specgram(samples, NFFT=n_per_seg, Fs=sample_rate, cmap='Greys', Fc=freq_center, \n",
    "#                              noverlap=0, skip_fft=0)\n",
    "#         save_spec_array(Z, extent, full_file)\n",
    "#     # IF Saving as an image\n",
    "#     #     specgram.plot_spectrogram(\n",
    "#     #             samples,\n",
    "#     #             spec_file_name,\n",
    "#     #             2048,\n",
    "#     #             sample_rate,\n",
    "#     #             freq_center,\n",
    "#     #             cmap = 'Greys', \n",
    "#     #             ytics = 20, \n",
    "#     #             bare = True, \n",
    "#     #             noverlap = 0,\n",
    "#     #             skip_fft =0 )\n",
    "    \n",
    "#         # PSD\n",
    "        \n",
    "#         save_psd(freqs, psds, full_file)"
   ]
  },
  {
   "cell_type": "markdown",
   "id": "676a8e61",
   "metadata": {},
   "source": [
    "### Test a single file"
   ]
  },
  {
   "cell_type": "code",
   "execution_count": 3,
   "id": "82dd50b1",
   "metadata": {},
   "outputs": [],
   "source": [
    "folder_name = \"../../Data/S3/leesburg_worker1/\"\n",
    "file_name = \"gamutrf_recording_ettus_directional-split_gain70_1655313720_5735000000Hz_20971520sps.s16.zst\"\n",
    "# full_file = 'gamutrf_recording_ettus_directional-split_gain70_1655311919_5735000000Hz_20971520sps.s16.zst'\n",
    "full_file = folder_name + file_name\n",
    "freq_center, sample_rate, sample_dtype, sample_len, sample_type, sample_bits = parse_filename(full_file)\n",
    "samples = read_recording(full_file, sample_rate, sample_dtype, 4)"
   ]
  },
  {
   "cell_type": "code",
   "execution_count": 5,
   "id": "af6179f4",
   "metadata": {},
   "outputs": [],
   "source": [
    "reader = get_reader(full_file)\n",
    "sample_len = 8\n",
    "with reader(full_file) as infile:\n",
    "    sample_buffer = infile.read(sample_rate * sample_len)\n",
    "    buffered_samples = int(len(sample_buffer) / sample_len)\n",
    "# if buffered_samples == 0:\n",
    "#     break\n",
    "# x1d = np.frombuffer(sample_buffer, dtype=sample_dtype,\n",
    "#                     count=buffered_samples)"
   ]
  },
  {
   "cell_type": "code",
   "execution_count": 39,
   "id": "f34ff534",
   "metadata": {},
   "outputs": [
    {
     "data": {
      "text/plain": [
       "41943040.0"
      ]
     },
     "execution_count": 39,
     "metadata": {},
     "output_type": "execute_result"
    }
   ],
   "source": [
    "# len(sample_buffer)/4"
   ]
  },
  {
   "cell_type": "code",
   "execution_count": 33,
   "id": "3a0e94b3",
   "metadata": {},
   "outputs": [
    {
     "data": {
      "text/plain": [
       "20971520.0"
      ]
     },
     "execution_count": 33,
     "metadata": {},
     "output_type": "execute_result"
    }
   ],
   "source": [
    "# len(sample_buffer)/4"
   ]
  },
  {
   "cell_type": "code",
   "execution_count": 42,
   "id": "bcee0268",
   "metadata": {},
   "outputs": [
    {
     "data": {
      "text/plain": [
       "176"
      ]
     },
     "execution_count": 42,
     "metadata": {},
     "output_type": "execute_result"
    }
   ],
   "source": [
    "# sample_buffer[100]"
   ]
  },
  {
   "cell_type": "code",
   "execution_count": 47,
   "id": "1c8f034e",
   "metadata": {},
   "outputs": [
    {
     "data": {
      "text/plain": [
       "dtype([('i', '<i2'), ('q', '<i2')])"
      ]
     },
     "execution_count": 47,
     "metadata": {},
     "output_type": "execute_result"
    }
   ],
   "source": [
    "# sample_dtype"
   ]
  },
  {
   "cell_type": "markdown",
   "id": "f21bc635",
   "metadata": {},
   "source": [
    "20971520 = 4 \\\\\n",
    "20971520 = 5 \n",
    "\n",
    "20971520 = 20\n",
    "20858788 = 40\n"
   ]
  },
  {
   "cell_type": "code",
   "execution_count": 6,
   "id": "1200ab1c",
   "metadata": {},
   "outputs": [],
   "source": [
    "# samples = read_recording(full_file, sample_rate, sample_dtype, sample_len)\n",
    "# spec_file_name = replace_ext(full_file, 'png', all_ext=True)\n",
    "# specgram.plot_spectrogram(\n",
    "#         samples,\n",
    "#         spec_file_name,\n",
    "#         2048,\n",
    "#         sample_rate,\n",
    "#         freq_center,\n",
    "#         cmap = 'Greys', \n",
    "#         ytics = 20, \n",
    "#         bare = True, \n",
    "#         noverlap = 0,\n",
    "#         skip_fft =0 )"
   ]
  },
  {
   "cell_type": "code",
   "execution_count": 7,
   "id": "66729af5",
   "metadata": {},
   "outputs": [],
   "source": [
    "# img = mpimg.imread(spec_file_name)\n",
    "\n",
    "# plt.figure(figsize=(15, 12))\n",
    "# imgplot = plt.imshow(img)\n",
    "# plt.show()"
   ]
  },
  {
   "cell_type": "markdown",
   "id": "dadcd01d",
   "metadata": {},
   "source": [
    "### Generate for all files in folder"
   ]
  },
  {
   "cell_type": "code",
   "execution_count": null,
   "id": "a032dd1c",
   "metadata": {},
   "outputs": [],
   "source": []
  }
 ],
 "metadata": {
  "kernelspec": {
   "display_name": "Python 3 (ipykernel)",
   "language": "python",
   "name": "python3"
  },
  "language_info": {
   "codemirror_mode": {
    "name": "ipython",
    "version": 3
   },
   "file_extension": ".py",
   "mimetype": "text/x-python",
   "name": "python",
   "nbconvert_exporter": "python",
   "pygments_lexer": "ipython3",
   "version": "3.8.2"
  }
 },
 "nbformat": 4,
 "nbformat_minor": 5
}
