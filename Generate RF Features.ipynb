{
 "cells": [
  {
   "cell_type": "markdown",
   "id": "66f67e5f",
   "metadata": {},
   "source": [
    "### Generate RF Features\n",
    "- notebook to load data (currently: DroneDetect dataset)\n",
    "- generate RF-based features: PSD, spectrograms in array form\n"
   ]
  },
  {
   "cell_type": "code",
   "execution_count": 1,
   "id": "bd033465",
   "metadata": {},
   "outputs": [],
   "source": [
    "import os\n",
    "import numpy as np\n",
    "from numpy import sum,isrealobj,sqrt\n",
    "from numpy.random import standard_normal\n",
    "import os\n",
    "from sklearn.model_selection import train_test_split\n",
    "from spafe.features.lfcc import lfcc\n",
    "import spafe.utils.vis as vis\n",
    "from scipy.signal import get_window\n",
    "import scipy.fftpack as fft\n",
    "from scipy import signal\n",
    "import matplotlib.pyplot as plt\n",
    "from datetime import date\n",
    "from tqdm import tqdm"
   ]
  },
  {
   "cell_type": "code",
   "execution_count": 2,
   "id": "7a14d5ae",
   "metadata": {},
   "outputs": [],
   "source": [
    "# Data paths\n",
    "\n",
    "# 1. DroneDetect\n",
    "main_folder = '/home/ltindall/data/DroneDetect/DroneDetect_V2/' # data path on mp-gpu-desktop06\n",
    "sub_folders = os.listdir(main_folder)\n",
    "\n",
    "# Dataset Info\n",
    "fs = 60e6 #60 MHz\n",
    "bandwidth = 20e6 # 28MHz\n",
    "center_freq = 2.43e9\n",
    "\n",
    "# 2. DroneRF\n",
    "# main_folder = '/Users/kzhou/Documents/DroneRF Data/All/converted/'\n",
    "# high_freq_files = os.listdir(data_folder+'High/')\n",
    "# low_freq_files = os.listdir(data_folder+'Low/')\n",
    "\n",
    "# high_freq_files.sort()\n",
    "# low_freq_files.sort()\n",
    "# fs = 40e6 #40 MHz\n",
    "\n",
    "\n",
    "# 3. Collected Data\n",
    "# main_folder = '/home/kzhou/Data/S3/'\n",
    "# subfolders = ['leesburg_worker1', 'pdx_worker1']\n",
    "# TODO: how to load this\n"
   ]
  },
  {
   "cell_type": "code",
   "execution_count": 3,
   "id": "89761732",
   "metadata": {},
   "outputs": [],
   "source": [
    "# Load data for Drone Detect\n",
    "# input: file_path\n",
    "#        t_seg: duration of the segment in miliseconds\n",
    "def load_data(file_path, t_seg):\n",
    "    f = open(file_path, \"rb\")                                        # open file\n",
    "    data = np.fromfile(f, dtype=\"float32\",count=240000000)      # read the data into numpy array\n",
    "    data = data.astype(np.float32).view(np.complex64)           # view as complex\n",
    "    data_norm = (data-np.mean(data))/(np.sqrt(np.var(data)))    # normalise\n",
    "    # decide on segment lengths\n",
    "    len_seg = int(t_seg/1e3*fs)\n",
    "    n_segs = (len(data_norm))//len_seg\n",
    "    n_keep = n_segs*len_seg\n",
    "    newarr = np.array_split(data_norm[:n_keep], n_segs)                  # split the array, 100 will equate to a sample length of 20ms\n",
    "    # 10 Splits into 200ms chunks\n",
    "    return newarr, data_norm"
   ]
  },
  {
   "cell_type": "code",
   "execution_count": 4,
   "id": "9ca551d7",
   "metadata": {},
   "outputs": [],
   "source": [
    "## DATA SAVING FUNCTIONS\n",
    "\n",
    "# save function to save image to file\n",
    "def save_spec_image(folder_path, cond_folder, DRONE, COND, INT, FIn, counter, f, t, Sxx):\n",
    "    plt.clf()\n",
    "    plt.pcolormesh(t, f, Sxx, cmap='Greys', vmin=Sxx.min(), vmax=Sxx.max())\n",
    "    full_img_path = folder_path+cond_folder+DRONE+'_'+COND+'_'+INT+'_'+FIn+'_'+str(counter)+'.jpg'\n",
    "    plt.savefig(full_img_path)\n",
    "\n",
    "def save_psd_image(folder_path, cond_folder, DRONE, COND, INT, FIn, counter, f, PSD):\n",
    "    plt.clf()\n",
    "    plt.plot(f, PSD, 'k')\n",
    "    full_img_path = folder_path+cond_folder+DRONE+'_'+COND+'_'+INT+'_'+FIn+'_'+str(counter)+'.jpg'\n",
    "    plt.savefig(full_img_path)    \n",
    "\n",
    "def save_array(folder_path, feat, DRONES, CONDS, INTS, feat_name, int_name):\n",
    "    Xs_arr = np.array(feat)\n",
    "    \n",
    "    # labels\n",
    "    y_drones_arr = np.array(DRONES)\n",
    "    y_conds_arr = np.array(CONDS)\n",
    "    y_ints_arr = np.array(INTS)\n",
    "\n",
    "    data_save = {'feat': Xs_arr, 'drones': y_drones_arr, 'conds': y_conds_arr, 'ints': y_ints_arr}\n",
    "#     return data_save\n",
    "\n",
    "#     #Save data\n",
    "    date_string = date.today()\n",
    "    fp = folder_path+int_name+\"_\"+feat_name+\"_\"+str(n_per_seg)\n",
    "    print(fp)\n",
    "    np.save(fp, data_save)"
   ]
  },
  {
   "cell_type": "code",
   "execution_count": null,
   "id": "556af222",
   "metadata": {
    "scrolled": true
   },
   "outputs": [
    {
     "name": "stdout",
     "output_type": "stream",
     "text": [
      "current folder:  WIFI\n",
      "     subfolder: AIR_FY\n"
     ]
    },
    {
     "name": "stderr",
     "output_type": "stream",
     "text": [
      "100%|████████████████████████████████████████████████████████████████████████████████████| 5/5 [00:28<00:00,  5.66s/it]\n"
     ]
    },
    {
     "name": "stdout",
     "output_type": "stream",
     "text": [
      "../Features/ARR_SPEC_256_100_2022-07-05/WIFI_SPEC_AIR_FY_256\n",
      "../Features/ARR_PSD_256_100_2022-07-05/WIFI_PSD_AIR_FY_256\n",
      "     subfolder: MP1_ON\n"
     ]
    },
    {
     "name": "stderr",
     "output_type": "stream",
     "text": [
      "100%|████████████████████████████████████████████████████████████████████████████████████| 5/5 [00:26<00:00,  5.28s/it]\n"
     ]
    },
    {
     "name": "stdout",
     "output_type": "stream",
     "text": [
      "../Features/ARR_SPEC_256_100_2022-07-05/WIFI_SPEC_MP1_ON_256\n",
      "../Features/ARR_PSD_256_100_2022-07-05/WIFI_PSD_MP1_ON_256\n",
      "     subfolder: MIN_FY\n"
     ]
    },
    {
     "name": "stderr",
     "output_type": "stream",
     "text": [
      "100%|████████████████████████████████████████████████████████████████████████████████████| 5/5 [00:26<00:00,  5.34s/it]\n"
     ]
    },
    {
     "name": "stdout",
     "output_type": "stream",
     "text": [
      "../Features/ARR_SPEC_256_100_2022-07-05/WIFI_SPEC_MIN_FY_256\n",
      "../Features/ARR_PSD_256_100_2022-07-05/WIFI_PSD_MIN_FY_256\n",
      "     subfolder: PHA_FY\n"
     ]
    },
    {
     "name": "stderr",
     "output_type": "stream",
     "text": [
      "100%|████████████████████████████████████████████████████████████████████████████████████| 5/5 [00:26<00:00,  5.33s/it]\n"
     ]
    },
    {
     "name": "stdout",
     "output_type": "stream",
     "text": [
      "../Features/ARR_SPEC_256_100_2022-07-05/WIFI_SPEC_PHA_FY_256\n",
      "../Features/ARR_PSD_256_100_2022-07-05/WIFI_PSD_PHA_FY_256\n",
      "     subfolder: MP2_ON\n"
     ]
    },
    {
     "name": "stderr",
     "output_type": "stream",
     "text": [
      "100%|████████████████████████████████████████████████████████████████████████████████████| 5/5 [00:26<00:00,  5.28s/it]\n"
     ]
    },
    {
     "name": "stdout",
     "output_type": "stream",
     "text": [
      "../Features/ARR_SPEC_256_100_2022-07-05/WIFI_SPEC_MP2_ON_256\n",
      "../Features/ARR_PSD_256_100_2022-07-05/WIFI_PSD_MP2_ON_256\n",
      "     subfolder: MIN_HO\n"
     ]
    },
    {
     "name": "stderr",
     "output_type": "stream",
     "text": [
      "100%|████████████████████████████████████████████████████████████████████████████████████| 5/5 [00:26<00:00,  5.24s/it]\n"
     ]
    },
    {
     "name": "stdout",
     "output_type": "stream",
     "text": [
      "../Features/ARR_SPEC_256_100_2022-07-05/WIFI_SPEC_MIN_HO_256\n",
      "../Features/ARR_PSD_256_100_2022-07-05/WIFI_PSD_MIN_HO_256\n",
      "     subfolder: AIR_HO\n"
     ]
    },
    {
     "name": "stderr",
     "output_type": "stream",
     "text": [
      "100%|████████████████████████████████████████████████████████████████████████████████████| 5/5 [00:26<00:00,  5.30s/it]\n"
     ]
    },
    {
     "name": "stdout",
     "output_type": "stream",
     "text": [
      "../Features/ARR_SPEC_256_100_2022-07-05/WIFI_SPEC_AIR_HO_256\n",
      "../Features/ARR_PSD_256_100_2022-07-05/WIFI_PSD_AIR_HO_256\n",
      "     subfolder: MP1_FY\n"
     ]
    },
    {
     "name": "stderr",
     "output_type": "stream",
     "text": [
      "100%|████████████████████████████████████████████████████████████████████████████████████| 5/5 [00:26<00:00,  5.34s/it]\n"
     ]
    },
    {
     "name": "stdout",
     "output_type": "stream",
     "text": [
      "../Features/ARR_SPEC_256_100_2022-07-05/WIFI_SPEC_MP1_FY_256\n",
      "../Features/ARR_PSD_256_100_2022-07-05/WIFI_PSD_MP1_FY_256\n",
      "     subfolder: DIS_FY\n"
     ]
    },
    {
     "name": "stderr",
     "output_type": "stream",
     "text": [
      "100%|████████████████████████████████████████████████████████████████████████████████████| 5/5 [00:26<00:00,  5.29s/it]\n"
     ]
    },
    {
     "name": "stdout",
     "output_type": "stream",
     "text": [
      "../Features/ARR_SPEC_256_100_2022-07-05/WIFI_SPEC_DIS_FY_256\n",
      "../Features/ARR_PSD_256_100_2022-07-05/WIFI_PSD_DIS_FY_256\n",
      "     subfolder: MIN_ON\n"
     ]
    },
    {
     "name": "stderr",
     "output_type": "stream",
     "text": [
      "100%|████████████████████████████████████████████████████████████████████████████████████| 5/5 [00:26<00:00,  5.23s/it]\n"
     ]
    },
    {
     "name": "stdout",
     "output_type": "stream",
     "text": [
      "../Features/ARR_SPEC_256_100_2022-07-05/WIFI_SPEC_MIN_ON_256\n",
      "../Features/ARR_PSD_256_100_2022-07-05/WIFI_PSD_MIN_ON_256\n",
      "     subfolder: DIS_ON\n"
     ]
    },
    {
     "name": "stderr",
     "output_type": "stream",
     "text": [
      "100%|████████████████████████████████████████████████████████████████████████████████████| 5/5 [00:27<00:00,  5.46s/it]\n"
     ]
    },
    {
     "name": "stdout",
     "output_type": "stream",
     "text": [
      "../Features/ARR_SPEC_256_100_2022-07-05/WIFI_SPEC_DIS_ON_256\n",
      "../Features/ARR_PSD_256_100_2022-07-05/WIFI_PSD_DIS_ON_256\n",
      "     subfolder: INS_FY\n"
     ]
    },
    {
     "name": "stderr",
     "output_type": "stream",
     "text": [
      "100%|████████████████████████████████████████████████████████████████████████████████████| 5/5 [00:26<00:00,  5.28s/it]\n"
     ]
    },
    {
     "name": "stdout",
     "output_type": "stream",
     "text": [
      "../Features/ARR_SPEC_256_100_2022-07-05/WIFI_SPEC_INS_FY_256\n",
      "../Features/ARR_PSD_256_100_2022-07-05/WIFI_PSD_INS_FY_256\n",
      "     subfolder: INS_HO\n"
     ]
    },
    {
     "name": "stderr",
     "output_type": "stream",
     "text": [
      "100%|████████████████████████████████████████████████████████████████████████████████████| 5/5 [00:26<00:00,  5.38s/it]\n"
     ]
    },
    {
     "name": "stdout",
     "output_type": "stream",
     "text": [
      "../Features/ARR_SPEC_256_100_2022-07-05/WIFI_SPEC_INS_HO_256\n",
      "../Features/ARR_PSD_256_100_2022-07-05/WIFI_PSD_INS_HO_256\n",
      "     subfolder: MP2_FY\n"
     ]
    },
    {
     "name": "stderr",
     "output_type": "stream",
     "text": [
      "100%|████████████████████████████████████████████████████████████████████████████████████| 5/5 [00:26<00:00,  5.27s/it]\n"
     ]
    },
    {
     "name": "stdout",
     "output_type": "stream",
     "text": [
      "../Features/ARR_SPEC_256_100_2022-07-05/WIFI_SPEC_MP2_FY_256\n",
      "../Features/ARR_PSD_256_100_2022-07-05/WIFI_PSD_MP2_FY_256\n",
      "     subfolder: MP1_HO\n"
     ]
    },
    {
     "name": "stderr",
     "output_type": "stream",
     "text": [
      "100%|████████████████████████████████████████████████████████████████████████████████████| 5/5 [00:26<00:00,  5.28s/it]\n"
     ]
    },
    {
     "name": "stdout",
     "output_type": "stream",
     "text": [
      "../Features/ARR_SPEC_256_100_2022-07-05/WIFI_SPEC_MP1_HO_256\n",
      "../Features/ARR_PSD_256_100_2022-07-05/WIFI_PSD_MP1_HO_256\n",
      "     subfolder: MP2_HO\n"
     ]
    },
    {
     "name": "stderr",
     "output_type": "stream",
     "text": [
      "100%|████████████████████████████████████████████████████████████████████████████████████| 5/5 [00:26<00:00,  5.31s/it]\n"
     ]
    },
    {
     "name": "stdout",
     "output_type": "stream",
     "text": [
      "../Features/ARR_SPEC_256_100_2022-07-05/WIFI_SPEC_MP2_HO_256\n",
      "../Features/ARR_PSD_256_100_2022-07-05/WIFI_PSD_MP2_HO_256\n",
      "     subfolder: PHA_ON\n"
     ]
    },
    {
     "name": "stderr",
     "output_type": "stream",
     "text": [
      "100%|████████████████████████████████████████████████████████████████████████████████████| 5/5 [00:26<00:00,  5.26s/it]\n"
     ]
    },
    {
     "name": "stdout",
     "output_type": "stream",
     "text": [
      "../Features/ARR_SPEC_256_100_2022-07-05/WIFI_SPEC_PHA_ON_256\n",
      "../Features/ARR_PSD_256_100_2022-07-05/WIFI_PSD_PHA_ON_256\n",
      "     subfolder: PHA_HO\n"
     ]
    },
    {
     "name": "stderr",
     "output_type": "stream",
     "text": [
      "100%|████████████████████████████████████████████████████████████████████████████████████| 5/5 [00:27<00:00,  5.41s/it]\n"
     ]
    },
    {
     "name": "stdout",
     "output_type": "stream",
     "text": [
      "../Features/ARR_SPEC_256_100_2022-07-05/WIFI_SPEC_PHA_HO_256\n",
      "../Features/ARR_PSD_256_100_2022-07-05/WIFI_PSD_PHA_HO_256\n",
      "     subfolder: INS_ON\n"
     ]
    },
    {
     "name": "stderr",
     "output_type": "stream",
     "text": [
      "100%|████████████████████████████████████████████████████████████████████████████████████| 5/5 [00:26<00:00,  5.21s/it]\n"
     ]
    },
    {
     "name": "stdout",
     "output_type": "stream",
     "text": [
      "../Features/ARR_SPEC_256_100_2022-07-05/WIFI_SPEC_INS_ON_256\n",
      "../Features/ARR_PSD_256_100_2022-07-05/WIFI_PSD_INS_ON_256\n",
      "     subfolder: AIR_ON\n"
     ]
    },
    {
     "name": "stderr",
     "output_type": "stream",
     "text": [
      "100%|████████████████████████████████████████████████████████████████████████████████████| 5/5 [00:26<00:00,  5.29s/it]\n"
     ]
    },
    {
     "name": "stdout",
     "output_type": "stream",
     "text": [
      "../Features/ARR_SPEC_256_100_2022-07-05/WIFI_SPEC_AIR_ON_256\n",
      "../Features/ARR_PSD_256_100_2022-07-05/WIFI_PSD_AIR_ON_256\n",
      "current folder:  BLUE\n",
      "     subfolder: AIR_FY\n"
     ]
    },
    {
     "name": "stderr",
     "output_type": "stream",
     "text": [
      "100%|████████████████████████████████████████████████████████████████████████████████████| 5/5 [00:26<00:00,  5.23s/it]\n"
     ]
    },
    {
     "name": "stdout",
     "output_type": "stream",
     "text": [
      "../Features/ARR_SPEC_256_100_2022-07-05/BLUE_SPEC_AIR_FY_256\n",
      "../Features/ARR_PSD_256_100_2022-07-05/BLUE_PSD_AIR_FY_256\n",
      "     subfolder: MP1_ON\n"
     ]
    },
    {
     "name": "stderr",
     "output_type": "stream",
     "text": [
      "100%|████████████████████████████████████████████████████████████████████████████████████| 5/5 [00:27<00:00,  5.42s/it]\n"
     ]
    },
    {
     "name": "stdout",
     "output_type": "stream",
     "text": [
      "../Features/ARR_SPEC_256_100_2022-07-05/BLUE_SPEC_MP1_ON_256\n",
      "../Features/ARR_PSD_256_100_2022-07-05/BLUE_PSD_MP1_ON_256\n",
      "     subfolder: MIN_FY\n"
     ]
    },
    {
     "name": "stderr",
     "output_type": "stream",
     "text": [
      "100%|████████████████████████████████████████████████████████████████████████████████████| 5/5 [00:26<00:00,  5.29s/it]\n"
     ]
    },
    {
     "name": "stdout",
     "output_type": "stream",
     "text": [
      "../Features/ARR_SPEC_256_100_2022-07-05/BLUE_SPEC_MIN_FY_256\n",
      "../Features/ARR_PSD_256_100_2022-07-05/BLUE_PSD_MIN_FY_256\n",
      "     subfolder: PHA_FY\n"
     ]
    },
    {
     "name": "stderr",
     "output_type": "stream",
     "text": [
      "0it [00:00, ?it/s]\n"
     ]
    },
    {
     "name": "stdout",
     "output_type": "stream",
     "text": [
      "../Features/ARR_SPEC_256_100_2022-07-05/BLUE_SPEC_PHA_FY_256\n",
      "../Features/ARR_PSD_256_100_2022-07-05/BLUE_PSD_PHA_FY_256\n",
      "     subfolder: MP2_ON\n"
     ]
    },
    {
     "name": "stderr",
     "output_type": "stream",
     "text": [
      "100%|████████████████████████████████████████████████████████████████████████████████████| 5/5 [00:26<00:00,  5.30s/it]\n"
     ]
    },
    {
     "name": "stdout",
     "output_type": "stream",
     "text": [
      "../Features/ARR_SPEC_256_100_2022-07-05/BLUE_SPEC_MP2_ON_256\n",
      "../Features/ARR_PSD_256_100_2022-07-05/BLUE_PSD_MP2_ON_256\n",
      "     subfolder: MIN_HO\n"
     ]
    },
    {
     "name": "stderr",
     "output_type": "stream",
     "text": [
      "100%|████████████████████████████████████████████████████████████████████████████████████| 5/5 [00:26<00:00,  5.31s/it]\n"
     ]
    },
    {
     "name": "stdout",
     "output_type": "stream",
     "text": [
      "../Features/ARR_SPEC_256_100_2022-07-05/BLUE_SPEC_MIN_HO_256\n",
      "../Features/ARR_PSD_256_100_2022-07-05/BLUE_PSD_MIN_HO_256\n",
      "     subfolder: AIR_HO\n"
     ]
    },
    {
     "name": "stderr",
     "output_type": "stream",
     "text": [
      "100%|████████████████████████████████████████████████████████████████████████████████████| 5/5 [00:26<00:00,  5.32s/it]\n"
     ]
    },
    {
     "name": "stdout",
     "output_type": "stream",
     "text": [
      "../Features/ARR_SPEC_256_100_2022-07-05/BLUE_SPEC_AIR_HO_256\n",
      "../Features/ARR_PSD_256_100_2022-07-05/BLUE_PSD_AIR_HO_256\n",
      "     subfolder: MP1_FY\n"
     ]
    },
    {
     "name": "stderr",
     "output_type": "stream",
     "text": [
      "100%|████████████████████████████████████████████████████████████████████████████████████| 5/5 [00:26<00:00,  5.38s/it]\n"
     ]
    },
    {
     "name": "stdout",
     "output_type": "stream",
     "text": [
      "../Features/ARR_SPEC_256_100_2022-07-05/BLUE_SPEC_MP1_FY_256\n",
      "../Features/ARR_PSD_256_100_2022-07-05/BLUE_PSD_MP1_FY_256\n",
      "     subfolder: DIS_FY\n"
     ]
    },
    {
     "name": "stderr",
     "output_type": "stream",
     "text": [
      "100%|████████████████████████████████████████████████████████████████████████████████████| 5/5 [00:26<00:00,  5.39s/it]\n"
     ]
    },
    {
     "name": "stdout",
     "output_type": "stream",
     "text": [
      "../Features/ARR_SPEC_256_100_2022-07-05/BLUE_SPEC_DIS_FY_256\n",
      "../Features/ARR_PSD_256_100_2022-07-05/BLUE_PSD_DIS_FY_256\n",
      "     subfolder: MIN_ON\n"
     ]
    },
    {
     "name": "stderr",
     "output_type": "stream",
     "text": [
      "100%|████████████████████████████████████████████████████████████████████████████████████| 5/5 [00:27<00:00,  5.41s/it]\n"
     ]
    },
    {
     "name": "stdout",
     "output_type": "stream",
     "text": [
      "../Features/ARR_SPEC_256_100_2022-07-05/BLUE_SPEC_MIN_ON_256\n",
      "../Features/ARR_PSD_256_100_2022-07-05/BLUE_PSD_MIN_ON_256\n",
      "     subfolder: DIS_ON\n"
     ]
    },
    {
     "name": "stderr",
     "output_type": "stream",
     "text": [
      "100%|████████████████████████████████████████████████████████████████████████████████████| 5/5 [00:26<00:00,  5.36s/it]\n"
     ]
    },
    {
     "name": "stdout",
     "output_type": "stream",
     "text": [
      "../Features/ARR_SPEC_256_100_2022-07-05/BLUE_SPEC_DIS_ON_256\n",
      "../Features/ARR_PSD_256_100_2022-07-05/BLUE_PSD_DIS_ON_256\n",
      "     subfolder: INS_FY\n"
     ]
    },
    {
     "name": "stderr",
     "output_type": "stream",
     "text": [
      "100%|████████████████████████████████████████████████████████████████████████████████████| 5/5 [00:26<00:00,  5.36s/it]\n"
     ]
    },
    {
     "name": "stdout",
     "output_type": "stream",
     "text": [
      "../Features/ARR_SPEC_256_100_2022-07-05/BLUE_SPEC_INS_FY_256\n",
      "../Features/ARR_PSD_256_100_2022-07-05/BLUE_PSD_INS_FY_256\n",
      "     subfolder: INS_HO\n"
     ]
    },
    {
     "name": "stderr",
     "output_type": "stream",
     "text": [
      "100%|████████████████████████████████████████████████████████████████████████████████████| 5/5 [00:26<00:00,  5.37s/it]\n"
     ]
    },
    {
     "name": "stdout",
     "output_type": "stream",
     "text": [
      "../Features/ARR_SPEC_256_100_2022-07-05/BLUE_SPEC_INS_HO_256\n",
      "../Features/ARR_PSD_256_100_2022-07-05/BLUE_PSD_INS_HO_256\n",
      "     subfolder: MP2_FY\n"
     ]
    },
    {
     "name": "stderr",
     "output_type": "stream",
     "text": [
      "100%|████████████████████████████████████████████████████████████████████████████████████| 5/5 [00:26<00:00,  5.38s/it]\n"
     ]
    },
    {
     "name": "stdout",
     "output_type": "stream",
     "text": [
      "../Features/ARR_SPEC_256_100_2022-07-05/BLUE_SPEC_MP2_FY_256\n",
      "../Features/ARR_PSD_256_100_2022-07-05/BLUE_PSD_MP2_FY_256\n",
      "     subfolder: MP1_HO\n"
     ]
    },
    {
     "name": "stderr",
     "output_type": "stream",
     "text": [
      "100%|████████████████████████████████████████████████████████████████████████████████████| 5/5 [00:26<00:00,  5.33s/it]\n"
     ]
    },
    {
     "name": "stdout",
     "output_type": "stream",
     "text": [
      "../Features/ARR_SPEC_256_100_2022-07-05/BLUE_SPEC_MP1_HO_256\n",
      "../Features/ARR_PSD_256_100_2022-07-05/BLUE_PSD_MP1_HO_256\n",
      "     subfolder: MP2_HO\n"
     ]
    },
    {
     "name": "stderr",
     "output_type": "stream",
     "text": [
      "100%|████████████████████████████████████████████████████████████████████████████████████| 5/5 [00:27<00:00,  5.43s/it]\n"
     ]
    },
    {
     "name": "stdout",
     "output_type": "stream",
     "text": [
      "../Features/ARR_SPEC_256_100_2022-07-05/BLUE_SPEC_MP2_HO_256\n",
      "../Features/ARR_PSD_256_100_2022-07-05/BLUE_PSD_MP2_HO_256\n",
      "     subfolder: PHA_ON\n"
     ]
    },
    {
     "name": "stderr",
     "output_type": "stream",
     "text": [
      "100%|████████████████████████████████████████████████████████████████████████████████████| 5/5 [00:26<00:00,  5.34s/it]\n"
     ]
    },
    {
     "name": "stdout",
     "output_type": "stream",
     "text": [
      "../Features/ARR_SPEC_256_100_2022-07-05/BLUE_SPEC_PHA_ON_256\n",
      "../Features/ARR_PSD_256_100_2022-07-05/BLUE_PSD_PHA_ON_256\n",
      "     subfolder: PHA_HO\n"
     ]
    },
    {
     "name": "stderr",
     "output_type": "stream",
     "text": [
      "100%|████████████████████████████████████████████████████████████████████████████████████| 5/5 [00:27<00:00,  5.44s/it]\n"
     ]
    },
    {
     "name": "stdout",
     "output_type": "stream",
     "text": [
      "../Features/ARR_SPEC_256_100_2022-07-05/BLUE_SPEC_PHA_HO_256\n",
      "../Features/ARR_PSD_256_100_2022-07-05/BLUE_PSD_PHA_HO_256\n",
      "     subfolder: INS_ON\n"
     ]
    },
    {
     "name": "stderr",
     "output_type": "stream",
     "text": [
      "100%|████████████████████████████████████████████████████████████████████████████████████| 5/5 [00:27<00:00,  5.48s/it]\n"
     ]
    },
    {
     "name": "stdout",
     "output_type": "stream",
     "text": [
      "../Features/ARR_SPEC_256_100_2022-07-05/BLUE_SPEC_INS_ON_256\n",
      "../Features/ARR_PSD_256_100_2022-07-05/BLUE_PSD_INS_ON_256\n",
      "     subfolder: AIR_ON\n"
     ]
    },
    {
     "name": "stderr",
     "output_type": "stream",
     "text": [
      "100%|████████████████████████████████████████████████████████████████████████████████████| 5/5 [00:26<00:00,  5.38s/it]\n"
     ]
    },
    {
     "name": "stdout",
     "output_type": "stream",
     "text": [
      "../Features/ARR_SPEC_256_100_2022-07-05/BLUE_SPEC_AIR_ON_256\n",
      "../Features/ARR_PSD_256_100_2022-07-05/BLUE_PSD_AIR_ON_256\n",
      "current folder:  BOTH\n",
      "     subfolder: AIR_FY\n"
     ]
    },
    {
     "name": "stderr",
     "output_type": "stream",
     "text": [
      "100%|████████████████████████████████████████████████████████████████████████████████████| 5/5 [00:26<00:00,  5.31s/it]\n"
     ]
    },
    {
     "name": "stdout",
     "output_type": "stream",
     "text": [
      "../Features/ARR_SPEC_256_100_2022-07-05/BOTH_SPEC_AIR_FY_256\n",
      "../Features/ARR_PSD_256_100_2022-07-05/BOTH_PSD_AIR_FY_256\n",
      "     subfolder: MP1_ON\n"
     ]
    },
    {
     "name": "stderr",
     "output_type": "stream",
     "text": [
      " 80%|███████████████████████████████████████████████████████████████████▏                | 4/5 [00:20<00:05,  5.26s/it]"
     ]
    }
   ],
   "source": [
    "# Labels & Features\n",
    "\n",
    "n_per_seg = 256 # length of each segment (powers of 2)\n",
    "win_type = 'hamming' # make ends of each segment match\n",
    "t_seg = 100 # sample length in milliseconds\n",
    "\n",
    "# data saving folders\n",
    "features_folder = '../Features/'\n",
    "date_string = date.today()\n",
    "# folder naming: ARR_FEAT_NFFT_SAMPLELENGTH_DATE\n",
    "img_psd_folder=  \"IMG_PSD_\"+str(n_per_seg)+\"_\"+str(t_seg)+\"_\"+str(date_string)+\"/\"\n",
    "img_spec_folder = \"IMG_SPEC_\"+str(n_per_seg)+\"_\"+str(t_seg)+\"_\"+str(date_string)+\"/\"\n",
    "arr_spec_folder = \"ARR_SPEC_\"+str(n_per_seg)+\"_\"+str(t_seg)+\"_\"+str(date_string)+\"/\"\n",
    "arr_psd_folder = \"ARR_PSD_\"+str(n_per_seg)+\"_\"+str(t_seg)+\"_\"+str(date_string)+\"/\"\n",
    "\n",
    "try:\n",
    "#     os.mkdir(features_folder+img_psd_folder) # just save images for now\n",
    "#     os.mkdir(features_folder+img_spec_folder)\n",
    "    os.mkdir(features_folder+arr_spec_folder)\n",
    "    os.mkdir(features_folder+arr_psd_folder)\n",
    "except:\n",
    "    print('folder already exists')\n",
    "\n",
    "# loop through all files\n",
    "for sf in ['WIFI', 'BLUE', 'BOTH', 'CLEAN']: # options: ['WIFI', 'BLUE', 'BOTH', 'CLEAN']\n",
    "    print('current folder: ', sf)\n",
    "\n",
    "    drone_folders = os.listdir(main_folder+sf+'/')\n",
    "    for df in drone_folders:\n",
    "        print('     subfolder:', df)\n",
    "        # reset lists -  to save memory\n",
    "        DRONES = []\n",
    "        CONDS =[]\n",
    "        INTS = [] # interferences: 00 for a clean signal, 01 for Bluetooth only, 10 for Wi-Fi only and 11 for Bluetooth and Wi-Fi interference concurrently.\n",
    "\n",
    "        # features\n",
    "        F_PSD = []\n",
    "        F_PSD_freq = []\n",
    "        \n",
    "        F_SPEC = []\n",
    "        F_SPEC_freq = []\n",
    "        F_SPEC_time = []\n",
    "    \n",
    "        files = os.listdir(main_folder+sf+'/'+df+'/')\n",
    "        \n",
    "        drone_name = df[:3]\n",
    "        cond_name = df[4:]\n",
    "        \n",
    "        for fi in tqdm(files):\n",
    "            d_split, _ = load_data(main_folder+sf+'/'+df+'/'+fi, t_seg)\n",
    "            fi_number = fi[-6:-4]\n",
    "            int_name = fi[4:6]\n",
    "            for i in range(len(d_split)): # 100 split samples of 20 milliseconds each\n",
    "                \n",
    "                d_real = abs(d_split[i])\n",
    "\n",
    "                # save labels\n",
    "                DRONES.append(drone_name)\n",
    "                CONDS.append(cond_name)\n",
    "                INTS.append(int_name)\n",
    "\n",
    "                # calculate PSD\n",
    "                fpsd, Pxx_den = signal.welch(d_real, fs, window=win_type, nperseg=n_per_seg)\n",
    "                F_PSD.append(Pxx_den)\n",
    "                F_PSD_freq.append(fpsd)\n",
    "\n",
    "                # calculate spectrogram\n",
    "                fspec, t, Sxx = signal.spectrogram(d_real, fs, window=win_type, nperseg=n_per_seg)\n",
    "                F_SPEC.append(Sxx)\n",
    "                F_SPEC_freq.append(fspec)\n",
    "                F_SPEC_time.append(t)\n",
    "                \n",
    "                # save the images \n",
    "#                 save_spec_image(features_folder, img_spec_folder, drone_name, \n",
    "#                                 cond_name, int_name, fi_number, i, fspec, t, Sxx)\n",
    "                \n",
    "#                 # save the images \n",
    "#                 save_psd_image(features_folder, img_psd_folder, drone_name, \n",
    "#                                 cond_name, int_name, fi_number, i, fpsd, Pxx_den)\n",
    "                \n",
    "        # save data array\n",
    "        save_array(features_folder+arr_spec_folder, F_SPEC, DRONES, CONDS, INTS, 'SPEC'+\"_\"+df, sf)\n",
    "        save_array(features_folder+arr_psd_folder, F_PSD, DRONES, CONDS, INTS, 'PSD'+\"_\"+df, sf)\n",
    "\n",
    "    "
   ]
  },
  {
   "cell_type": "markdown",
   "id": "cfba54f4",
   "metadata": {},
   "source": [
    "## Load Files test"
   ]
  },
  {
   "cell_type": "code",
   "execution_count": 32,
   "id": "265c152f",
   "metadata": {},
   "outputs": [],
   "source": [
    "from helper_functions import *"
   ]
  },
  {
   "cell_type": "code",
   "execution_count": 47,
   "id": "c8a9ad5d",
   "metadata": {},
   "outputs": [
    {
     "name": "stderr",
     "output_type": "stream",
     "text": [
      "100%|█████████████████████████████████████████████████████████████████████████████████████████████████████████████████████████████████████████| 51/51 [00:00<00:00, 1765.57it/s]\n"
     ]
    }
   ],
   "source": [
    "feat_folder = '../Features/'\n",
    "feat_name = 'PSD'\n",
    "datestr = '2022-06-29'\n",
    "n_per_seg = 1024\n",
    "interferences = ['WIFI']\n",
    "Xs_arr, y_arr = load_features_arr(feat_folder, feat_name, datestr, n_per_seg, interferences)"
   ]
  },
  {
   "cell_type": "code",
   "execution_count": 48,
   "id": "3d9f61c9",
   "metadata": {},
   "outputs": [
    {
     "data": {
      "text/plain": [
       "(1000, 513)"
      ]
     },
     "execution_count": 48,
     "metadata": {},
     "output_type": "execute_result"
    }
   ],
   "source": [
    "Xs_arr.shape"
   ]
  },
  {
   "cell_type": "markdown",
   "id": "b87533a4",
   "metadata": {},
   "source": [
    "## Plot as images test"
   ]
  },
  {
   "cell_type": "code",
   "execution_count": 49,
   "id": "77681241",
   "metadata": {},
   "outputs": [
    {
     "data": {
      "text/plain": [
       "<module 'helper_functions' from '/home/kzhou/main/RFClassification/helper_functions.py'>"
      ]
     },
     "execution_count": 49,
     "metadata": {},
     "output_type": "execute_result"
    }
   ],
   "source": [
    "import importlib\n",
    "import helper_functions\n",
    "importlib.reload(helper_functions)"
   ]
  },
  {
   "cell_type": "code",
   "execution_count": 50,
   "id": "29ac2ed5",
   "metadata": {},
   "outputs": [
    {
     "data": {
      "image/png": "[encoded data removed]",
      "text/plain": [
       "<Figure size 500x500 with 1 Axes>"
      ]
     },
     "metadata": {
      "needs_background": "light"
     },
     "output_type": "display_data"
    }
   ],
   "source": [
    "sample_to_plot = 0\n",
    "helper_functions.plot_image(Xs_arr[sample_to_plot], dim=(5,5), dpi=100)"
   ]
  },
  {
   "cell_type": "markdown",
   "id": "21a555b8",
   "metadata": {},
   "source": [
    "### To visualize images"
   ]
  },
  {
   "cell_type": "code",
   "execution_count": 7,
   "id": "56b658dd",
   "metadata": {},
   "outputs": [
    {
     "data": {
      "image/png": "[encoded data removed]",
      "text/plain": [
       "<Figure size 432x288 with 1 Axes>"
      ]
     },
     "metadata": {
      "needs_background": "light"
     },
     "output_type": "display_data"
    }
   ],
   "source": [
    "# # plot for each type of drone\n",
    "# X_norm = Xs\n",
    "# for n in range(len(Xs_arr)):\n",
    "#     if DRONES[n] == 'AIR':\n",
    "#         c = 'r'\n",
    "#     elif DRONES[n] == 'DIS':\n",
    "#         c = 'b'\n",
    "#     elif DRONES[n] == 'INS':\n",
    "#         c = 'g'\n",
    "#     elif DRONES[n] == 'MIN':\n",
    "#         c = 'c'\n",
    "#     elif DRONES[n] == 'MP1':\n",
    "#         c = 'm'\n",
    "#     elif DRONES[n] == 'MP2':\n",
    "#         c = 'k'\n",
    "#     elif DRONES[n] == 'PHA':\n",
    "#         c = 'y'\n",
    "    \n",
    "#     # normalize it\n",
    "# #     X_norm[n] = Xs[n]/max(Xs[n])\n",
    "#     plt.plot(Xs[n],color=c)"
   ]
  },
  {
   "cell_type": "code",
   "execution_count": null,
   "id": "e97c9511",
   "metadata": {},
   "outputs": [],
   "source": []
  }
 ],
 "metadata": {
  "kernelspec": {
   "display_name": "Python 3 (ipykernel)",
   "language": "python",
   "name": "python3"
  },
  "language_info": {
   "codemirror_mode": {
    "name": "ipython",
    "version": 3
   },
   "file_extension": ".py",
   "mimetype": "text/x-python",
   "name": "python",
   "nbconvert_exporter": "python",
   "pygments_lexer": "ipython3",
   "version": "3.8.2"
  }
 },
 "nbformat": 4,
 "nbformat_minor": 5
}
