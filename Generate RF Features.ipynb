{
 "cells": [
  {
   "cell_type": "markdown",
   "id": "66f67e5f",
   "metadata": {},
   "source": [
    "### Generate RF Features\n",
    "- notebook to load data (DroneDetect, DroneRF, our data)\n",
    "- generate RF-based features: PSD, \n",
    "\n",
    "#### To dos:\n",
    "- spectrogram\n",
    "- raw IQ plots\n"
   ]
  },
  {
   "cell_type": "code",
   "execution_count": 1,
   "id": "bd033465",
   "metadata": {},
   "outputs": [],
   "source": [
    "import os\n",
    "import numpy as np\n",
    "from numpy import sum,isrealobj,sqrt\n",
    "from numpy.random import standard_normal\n",
    "import os\n",
    "from sklearn.model_selection import train_test_split\n",
    "from spafe.features.lfcc import lfcc\n",
    "import spafe.utils.vis as vis\n",
    "from scipy.signal import get_window\n",
    "import scipy.fftpack as fft\n",
    "from scipy import signal\n",
    "import matplotlib.pyplot as plt\n",
    "from datetime import date"
   ]
  },
  {
   "cell_type": "code",
   "execution_count": 2,
   "id": "7a14d5ae",
   "metadata": {},
   "outputs": [],
   "source": [
    "# Data paths\n",
    "\n",
    "# 1. DroneDetect\n",
    "main_folder = '/home/ltindall/data/DroneDetect/DroneDetect_V2/' # data path on mp-gpu-desktop06\n",
    "sub_folders = os.listdir(main_folder)\n",
    "\n",
    "# Dataset Info\n",
    "fs = 60e6 #60 MHz\n",
    "bandwidth = 20e6 # 28MHz\n",
    "center_freq = 2.43e9\n",
    "\n",
    "# 2. DroneRF\n",
    "# main_folder = '/Users/kzhou/Documents/DroneRF Data/All/converted/'\n",
    "# high_freq_files = os.listdir(data_folder+'High/')\n",
    "# low_freq_files = os.listdir(data_folder+'Low/')\n",
    "\n",
    "# high_freq_files.sort()\n",
    "# low_freq_files.sort()\n",
    "# fs = 40e6 #40 MHz\n",
    "\n",
    "\n",
    "# 3. Collected Data\n",
    "# main_folder = '/home/kzhou/Data/S3/'\n",
    "# subfolders = ['leesburg_worker1', 'pdx_worker1']\n",
    "# TODO: how to load this\n"
   ]
  },
  {
   "cell_type": "code",
   "execution_count": 3,
   "id": "89761732",
   "metadata": {},
   "outputs": [],
   "source": [
    "# Load data for Drone Detect\n",
    "def load_data(file_path):\n",
    "    f = open(file_path, \"rb\")                                        # open file\n",
    "    data = np.fromfile(f, dtype=\"float32\",count=240000000)      # read the data into numpy array\n",
    "    data = data.astype(np.float32).view(np.complex64)           # view as complex\n",
    "    data_norm = (data-np.mean(data))/(np.sqrt(np.var(data)))    # normalise\n",
    "    newarr = np.array_split(data_norm, 100)\t                    # split the array, 100 will equate to a sample length of 20ms\n",
    "    return newarr, data_norm"
   ]
  },
  {
   "cell_type": "code",
   "execution_count": null,
   "id": "556af222",
   "metadata": {
    "scrolled": true
   },
   "outputs": [
    {
     "name": "stdout",
     "output_type": "stream",
     "text": [
      "current folder:  WIFI\n",
      "     subfolder: AIR_FY\n",
      "     subfolder: MP1_ON\n",
      "     subfolder: MIN_FY\n",
      "     subfolder: PHA_FY\n",
      "     subfolder: MP2_ON\n",
      "     subfolder: MIN_HO\n",
      "     subfolder: AIR_HO\n",
      "     subfolder: MP1_FY\n",
      "     subfolder: DIS_FY\n",
      "     subfolder: MIN_ON\n",
      "     subfolder: DIS_ON\n",
      "     subfolder: INS_FY\n",
      "     subfolder: INS_HO\n",
      "     subfolder: MP2_FY\n",
      "     subfolder: MP1_HO\n",
      "     subfolder: MP2_HO\n",
      "     subfolder: PHA_ON\n",
      "     subfolder: PHA_HO\n",
      "     subfolder: INS_ON\n",
      "     subfolder: AIR_ON\n",
      "current folder:  BLUE\n",
      "     subfolder: AIR_FY\n",
      "     subfolder: MP1_ON\n",
      "     subfolder: MIN_FY\n",
      "     subfolder: PHA_FY\n",
      "     subfolder: MP2_ON\n",
      "     subfolder: MIN_HO\n",
      "     subfolder: AIR_HO\n",
      "     subfolder: MP1_FY\n",
      "     subfolder: DIS_FY\n",
      "     subfolder: MIN_ON\n",
      "     subfolder: DIS_ON\n",
      "     subfolder: INS_FY\n",
      "     subfolder: INS_HO\n",
      "     subfolder: MP2_FY\n",
      "     subfolder: MP1_HO\n",
      "     subfolder: MP2_HO\n",
      "     subfolder: PHA_ON\n",
      "     subfolder: PHA_HO\n",
      "     subfolder: INS_ON\n",
      "     subfolder: AIR_ON\n",
      "current folder:  CLEAN\n",
      "     subfolder: AIR_FY\n",
      "     subfolder: MP1_ON\n",
      "     subfolder: MIN_FY\n",
      "     subfolder: PHA_FY\n",
      "     subfolder: MP2_ON\n",
      "     subfolder: MIN_HO\n",
      "     subfolder: AIR_HO\n",
      "     subfolder: MP1_FY\n"
     ]
    }
   ],
   "source": [
    "# Labels & Features\n",
    "DRONES = []\n",
    "CONDS =[]\n",
    "INTS = [] # interferences: 00 for a clean signal, 01 for Bluetooth only, 10 for Wi-Fi only and 11 for Bluetooth and Wi-Fi interference concurrently.\n",
    "\n",
    "# features\n",
    "F_PSD = []\n",
    "F_PSD_freq = []\n",
    "\n",
    "F_SPEC = []\n",
    "F_SPEC_freq = []\n",
    "F_SPEC_time = []\n",
    "\n",
    "n_per_seg = 1024 # length of each segment (powers of 2)\n",
    "win_type = 'hamming' # make ends of each segment match\n",
    "\n",
    "\n",
    "# loop through all files\n",
    "for sf in sub_folders:\n",
    "    drone_folders = os.listdir(main_folder+sf+'/')\n",
    "    print('current folder: ', sf)\n",
    "    for df in drone_folders:\n",
    "        print('     subfolder:', df)\n",
    "        files = os.listdir(main_folder+sf+'/'+df+'/')\n",
    "        for fi in files:\n",
    "            d_split, _ = load_data(main_folder+sf+'/'+df+'/'+fi)\n",
    "            for i in range(len(d_split)): # 100 split samples of 20 milliseconds each\n",
    "                d_real = abs(d_split[i])\n",
    "\n",
    "                # save labels\n",
    "                DRONES.append(df[:3])\n",
    "                CONDS.append(df[4:])\n",
    "                INTS.append(fi[4:6])\n",
    "\n",
    "                # calculate PSD\n",
    "                f, Pxx_den = signal.welch(d_real, fs, window=win_type, nperseg=n_per_seg)\n",
    "                F_PSD.append(Pxx_den)\n",
    "                F_PSD_freq.append(f)\n",
    "\n",
    "                # calculate spectrogram\n",
    "                f, t, Sxx = signal.spectrogram(d_real, fs, window=win_type, nperseg=n_per_seg)\n",
    "                F_SPEC.append(Sxx)\n",
    "                F_SPEC_freq.append(f)\n",
    "                F_SPEC_time.append(t)\n",
    "            "
   ]
  },
  {
   "cell_type": "code",
   "execution_count": 1,
   "id": "deded9e2",
   "metadata": {},
   "outputs": [
    {
     "ename": "NameError",
     "evalue": "name 'd_split' is not defined",
     "output_type": "error",
     "traceback": [
      "\u001b[0;31m---------------------------------------------------------------------------\u001b[0m",
      "\u001b[0;31mNameError\u001b[0m                                 Traceback (most recent call last)",
      "Input \u001b[0;32mIn [1]\u001b[0m, in \u001b[0;36m<cell line: 1>\u001b[0;34m()\u001b[0m\n\u001b[0;32m----> 1\u001b[0m \u001b[38;5;28mlen\u001b[39m(\u001b[43md_split\u001b[49m)\n",
      "\u001b[0;31mNameError\u001b[0m: name 'd_split' is not defined"
     ]
    }
   ],
   "source": [
    "len(d_split)"
   ]
  },
  {
   "cell_type": "markdown",
   "id": "1e81437d",
   "metadata": {},
   "source": [
    "## Data saving"
   ]
  },
  {
   "cell_type": "code",
   "execution_count": 11,
   "id": "29ac2ed5",
   "metadata": {},
   "outputs": [],
   "source": [
    "features_folder = '../Features/'"
   ]
  },
  {
   "cell_type": "code",
   "execution_count": 6,
   "id": "a2cde58a",
   "metadata": {},
   "outputs": [],
   "source": [
    "## Save Features PSD as numbers/arrays\n",
    "# Naming: feature_name+date\n",
    "#         label_name+date\n",
    "\n",
    "# CHOOSE FEATURES\n",
    "Xs = F_PSD\n",
    "\n",
    "# change lists to arrays and make it stackable\n",
    "Xs_arr = np.array(Xs)\n",
    "Xs_arr.shape\n",
    "\n",
    "# labels\n",
    "y_drones_arr = np.array(DRONES)\n",
    "y_conds_arr = np.array(CONDS)\n",
    "y_ints_arr = np.array(INTS)\n",
    "\n",
    "data_save = {'feat': Xs_arr, 'drones': y_drones_arr, 'conds': y_conds_arr, 'ints': y_ints_arr}\n",
    "\n",
    "#Save data\n",
    "date_string = date.today()\n",
    "np.save(features_folder+\"PSD_\"+str(n_per_seg)+\"_\"+str(date_string), data_save)\n"
   ]
  },
  {
   "cell_type": "code",
   "execution_count": 18,
   "id": "8e947cff",
   "metadata": {},
   "outputs": [
    {
     "name": "stdout",
     "output_type": "stream",
     "text": [
      "folder already exists\n"
     ]
    },
    {
     "data": {
      "image/png": "[encoded data removed]",
      "text/plain": [
       "<Figure size 432x288 with 1 Axes>"
      ]
     },
     "metadata": {
      "needs_background": "light"
     },
     "output_type": "display_data"
    }
   ],
   "source": [
    "## Saving Images - PSD\n",
    "image_folder = \"IMG_PSD_\"+str(n_per_seg)+\"/\"\n",
    "try:\n",
    "    os.mkdir(features_folder+image_folder)\n",
    "except:\n",
    "    print('folder already exists')\n",
    "N = len(DRONES)\n",
    "F_PSD_freq = np.array(F_PSD_freq)\n",
    "for n in range(N):\n",
    "    plt.clf()\n",
    "    plt.plot(F_PSD_freq[n], F_PSD[n], 'k')\n",
    "    img_name = features_folder+image_folder+DRONES[n]+'_'+CONDS[n]+'_'+INTS[n]+'.jpg'\n",
    "    plt.savefig(img_name)"
   ]
  },
  {
   "cell_type": "code",
   "execution_count": null,
   "id": "8ae69a17",
   "metadata": {},
   "outputs": [],
   "source": [
    "## Saving Spectrogram - Arrays\n",
    "\n",
    "# CHOOSE FEATURES\n",
    "Xs = F_SPEC\n",
    "\n",
    "# change lists to arrays and make it stackable\n",
    "Xs_arr = np.array(Xs)\n",
    "Xs_arr.shape\n",
    "\n",
    "# labels\n",
    "y_drones_arr = np.array(DRONES)\n",
    "y_conds_arr = np.array(CONDS)\n",
    "y_ints_arr = np.array(INTS)\n",
    "\n",
    "data_save = {'feat': Xs_arr, 'drones': y_drones_arr, 'conds': y_conds_arr, 'ints': y_ints_arr}\n",
    "\n",
    "#Save data\n",
    "# date_string = date.today()\n",
    "# np.save(features_folder+\"SPEC_\"+str(n_per_seg)+\"_\"+str(date_string), data_save)\n"
   ]
  },
  {
   "cell_type": "code",
   "execution_count": null,
   "id": "0ce27f5c",
   "metadata": {},
   "outputs": [],
   "source": [
    "## Saving Images - SPEC\n",
    "image_folder = \"IMG_SPEC_\"+str(n_per_seg)+\"/\"\n",
    "try:\n",
    "    os.mkdir(features_folder+image_folder)\n",
    "except:\n",
    "    print('folder already exists')\n",
    "N = len(DRONES)\n",
    "F_PSD_freq = np.array(F_PSD_freq)\n",
    "for n in range(N):\n",
    "    plt.clf()\n",
    "    plt.pcolormesh(F_SPEC_time[n], F_SPEC_freq[n], F_SPEC[n], cmap='Greys', vmin=Sxx.min(), vmax=Sxx.max())\n",
    "    img_name = features_folder+image_folder+DRONES[n]+'_'+CONDS[n]+'_'+INTS[n]+'.jpg'\n",
    "    plt.savefig(img_name)"
   ]
  },
  {
   "cell_type": "markdown",
   "id": "808979b5",
   "metadata": {},
   "source": [
    "### Visualize Signals"
   ]
  },
  {
   "cell_type": "code",
   "execution_count": 7,
   "id": "56b658dd",
   "metadata": {},
   "outputs": [
    {
     "data": {
      "image/png": "[encoded data removed]",
      "text/plain": [
       "<Figure size 432x288 with 1 Axes>"
      ]
     },
     "metadata": {
      "needs_background": "light"
     },
     "output_type": "display_data"
    }
   ],
   "source": [
    "# plot for each type of drone\n",
    "X_norm = Xs\n",
    "for n in range(len(Xs_arr)):\n",
    "    if DRONES[n] == 'AIR':\n",
    "        c = 'r'\n",
    "    elif DRONES[n] == 'DIS':\n",
    "        c = 'b'\n",
    "    elif DRONES[n] == 'INS':\n",
    "        c = 'g'\n",
    "    elif DRONES[n] == 'MIN':\n",
    "        c = 'c'\n",
    "    elif DRONES[n] == 'MP1':\n",
    "        c = 'm'\n",
    "    elif DRONES[n] == 'MP2':\n",
    "        c = 'k'\n",
    "    elif DRONES[n] == 'PHA':\n",
    "        c = 'y'\n",
    "    \n",
    "    # normalize it\n",
    "#     X_norm[n] = Xs[n]/max(Xs[n])\n",
    "    plt.plot(Xs[n],color=c)"
   ]
  },
  {
   "cell_type": "code",
   "execution_count": null,
   "id": "e97c9511",
   "metadata": {},
   "outputs": [],
   "source": []
  }
 ],
 "metadata": {
  "kernelspec": {
   "display_name": "Python 3 (ipykernel)",
   "language": "python",
   "name": "python3"
  },
  "language_info": {
   "codemirror_mode": {
    "name": "ipython",
    "version": 3
   },
   "file_extension": ".py",
   "mimetype": "text/x-python",
   "name": "python",
   "nbconvert_exporter": "python",
   "pygments_lexer": "ipython3",
   "version": "3.8.2"
  }
 },
 "nbformat": 4,
 "nbformat_minor": 5
}
