{
 "cells": [
  {
   "cell_type": "markdown",
   "id": "66f67e5f",
   "metadata": {},
   "source": [
    "### Generate RF Features\n",
    "- notebook to load data (currently: DroneDetect dataset)\n",
    "- generate RF-based features: PSD, spectrograms in array form\n"
   ]
  },
  {
   "cell_type": "code",
   "execution_count": 1,
   "id": "bd033465",
   "metadata": {},
   "outputs": [],
   "source": [
    "import os\n",
    "import numpy as np\n",
    "from numpy import sum,isrealobj,sqrt\n",
    "from numpy.random import standard_normal\n",
    "import os\n",
    "from sklearn.model_selection import train_test_split\n",
    "from spafe.features.lfcc import lfcc\n",
    "import spafe.utils.vis as vis\n",
    "from scipy.signal import get_window\n",
    "import scipy.fftpack as fft\n",
    "from scipy import signal\n",
    "import matplotlib.pyplot as plt\n",
    "from datetime import date\n",
    "from tqdm import tqdm\n",
    "from loading_functions import *\n",
    "from scipy import interpolate\n"
   ]
  },
  {
   "cell_type": "code",
   "execution_count": 2,
   "id": "157c6ea2",
   "metadata": {},
   "outputs": [],
   "source": [
    "# Reload modules for testing\n",
    "import importlib\n",
    "import helper_functions\n",
    "importlib.reload(helper_functions)\n",
    "from helper_functions import *"
   ]
  },
  {
   "cell_type": "code",
   "execution_count": 3,
   "id": "7a14d5ae",
   "metadata": {},
   "outputs": [],
   "source": [
    "# Data paths\n",
    "\n",
    "# DroneDetect\n",
    "main_folder = '/home/ltindall/data/DroneDetect/DroneDetect_V2/' # data path on mp-gpu-desktop06\n",
    "sub_folders = os.listdir(main_folder)\n",
    "\n",
    "# Dataset Info\n",
    "fs = 60e6 #60 MHz\n",
    "bandwidth = 28e6 # 28MHz\n",
    "center_freq = 2.43e9\n"
   ]
  },
  {
   "cell_type": "code",
   "execution_count": 4,
   "id": "9ca551d7",
   "metadata": {},
   "outputs": [],
   "source": [
    "## DATA SAVING FUNCTIONS\n",
    "def interpolate_2d(Sxx_in, output_size):\n",
    "    x = np.linspace(0, 1, Sxx_in.shape[0])\n",
    "    y = np.linspace(0, 1, Sxx_in.shape[1])\n",
    "    f = interpolate.interp2d(y, x, Sxx_in, kind='linear')\n",
    "    \n",
    "    x2 = np.linspace(0, 1, output_size[0])\n",
    "    y2 = np.linspace(0, 1, output_size[1])\n",
    "    arr2 = f(y2, x2)\n",
    "    \n",
    "    return arr2\n",
    "\n",
    "# save function to save image to file\n",
    "def save_spec_image(folder_path, cond_folder, DRONE, COND, INT, FIn, counter, f, t, Sxx):\n",
    "    plt.clf()\n",
    "    plt.pcolormesh(t, f, Sxx, cmap='Greys', vmin=Sxx.min(), vmax=Sxx.max())\n",
    "    full_img_path = folder_path+cond_folder+DRONE+'_'+COND+'_'+INT+'_'+FIn+'_'+str(counter)+'.jpg'\n",
    "    plt.savefig(full_img_path)\n",
    "\n",
    "# save spectrogram when passing in fig object\n",
    "def save_spec_image_fig(folder_path, cond_folder, DRONE, COND, INT, FIn, counter, fig, dpi):\n",
    "    full_img_path = folder_path+\"/\"+cond_folder+\"/\"+DRONE+'_'+COND+'_'+INT+'_'+FIn+'_'+str(counter)+'.jpg'\n",
    "    fig.savefig(full_img_path, dpi=dpi)\n",
    "    plt.close(fig)\n",
    "    \n",
    "def save_psd_image(folder_path, cond_folder, DRONE, COND, INT, FIn, counter, PSD, dim_px, dpi):\n",
    "#     plt.clf()\n",
    "#     plt.plot(f, PSD, 'k')\n",
    "    fig = plot_feat(PSD, dim_px, dpi, to_show=False, show_axis=False)\n",
    "    full_img_path = folder_path+\"/\"+cond_folder+\"/\"+DRONE+'_'+COND+'_'+INT+'_'+FIn+'_'+str(counter)+'.jpg'\n",
    "    fig.savefig(full_img_path)    \n",
    "\n",
    "def save_array(folder_path, feat, DRONES, CONDS, INTS, feat_name, int_name):\n",
    "    Xs_arr = np.array(feat)\n",
    "    \n",
    "    # labels\n",
    "    y_drones_arr = np.array(DRONES)\n",
    "    y_conds_arr = np.array(CONDS)\n",
    "    y_ints_arr = np.array(INTS)\n",
    "\n",
    "    data_save = {'feat': Xs_arr, 'drones': y_drones_arr, 'conds': y_conds_arr, 'ints': y_ints_arr}\n",
    "\n",
    "#    #Save data\n",
    "    date_string = date.today()\n",
    "    fp = folder_path+\"/\"+int_name+\"_\"+feat_name+\"_\"+str(n_per_seg)\n",
    "    print(fp)\n",
    "    np.save(fp, data_save)"
   ]
  },
  {
   "cell_type": "code",
   "execution_count": 5,
   "id": "556af222",
   "metadata": {
    "scrolled": false
   },
   "outputs": [
    {
     "name": "stdout",
     "output_type": "stream",
     "text": [
      "Generating PSD in IMAGE format\n",
      "CURRENT FOLDER:  WIFI\n",
      "     subfolder: AIR_FY\n"
     ]
    },
    {
     "name": "stderr",
     "output_type": "stream",
     "text": [
      "  0%|                                                                                                                                      | 0/5 [00:00<?, ?it/s]/home/kzhou/.pyenv/versions/3.8.2/envs/main/lib/python3.8/site-packages/scipy/signal/_spectral_py.py:1814: UserWarning: Input data is complex, switching to return_onesided=False\n",
      "  warnings.warn('Input data is complex, switching to '\n",
      "100%|██████████████████████████████████████████████████████████████████████████████████████████████████████████████████████████████| 5/5 [00:33<00:00,  6.73s/it]\n"
     ]
    },
    {
     "name": "stdout",
     "output_type": "stream",
     "text": [
      "     subfolder: MP1_ON\n"
     ]
    },
    {
     "name": "stderr",
     "output_type": "stream",
     "text": [
      "100%|██████████████████████████████████████████████████████████████████████████████████████████████████████████████████████████████| 5/5 [00:33<00:00,  6.78s/it]\n"
     ]
    },
    {
     "name": "stdout",
     "output_type": "stream",
     "text": [
      "     subfolder: MIN_FY\n"
     ]
    },
    {
     "name": "stderr",
     "output_type": "stream",
     "text": [
      "100%|██████████████████████████████████████████████████████████████████████████████████████████████████████████████████████████████| 5/5 [00:33<00:00,  6.74s/it]\n"
     ]
    },
    {
     "name": "stdout",
     "output_type": "stream",
     "text": [
      "     subfolder: PHA_FY\n"
     ]
    },
    {
     "name": "stderr",
     "output_type": "stream",
     "text": [
      "100%|██████████████████████████████████████████████████████████████████████████████████████████████████████████████████████████████| 5/5 [00:33<00:00,  6.77s/it]\n"
     ]
    },
    {
     "name": "stdout",
     "output_type": "stream",
     "text": [
      "     subfolder: MP2_ON\n"
     ]
    },
    {
     "name": "stderr",
     "output_type": "stream",
     "text": [
      "100%|██████████████████████████████████████████████████████████████████████████████████████████████████████████████████████████████| 5/5 [00:34<00:00,  6.80s/it]\n"
     ]
    },
    {
     "name": "stdout",
     "output_type": "stream",
     "text": [
      "     subfolder: MIN_HO\n"
     ]
    },
    {
     "name": "stderr",
     "output_type": "stream",
     "text": [
      "100%|██████████████████████████████████████████████████████████████████████████████████████████████████████████████████████████████| 5/5 [00:33<00:00,  6.73s/it]\n"
     ]
    },
    {
     "name": "stdout",
     "output_type": "stream",
     "text": [
      "     subfolder: AIR_HO\n"
     ]
    },
    {
     "name": "stderr",
     "output_type": "stream",
     "text": [
      "100%|██████████████████████████████████████████████████████████████████████████████████████████████████████████████████████████████| 5/5 [00:33<00:00,  6.75s/it]\n"
     ]
    },
    {
     "name": "stdout",
     "output_type": "stream",
     "text": [
      "     subfolder: MP1_FY\n"
     ]
    },
    {
     "name": "stderr",
     "output_type": "stream",
     "text": [
      "100%|██████████████████████████████████████████████████████████████████████████████████████████████████████████████████████████████| 5/5 [00:33<00:00,  6.74s/it]\n"
     ]
    },
    {
     "name": "stdout",
     "output_type": "stream",
     "text": [
      "     subfolder: DIS_FY\n"
     ]
    },
    {
     "name": "stderr",
     "output_type": "stream",
     "text": [
      "100%|██████████████████████████████████████████████████████████████████████████████████████████████████████████████████████████████| 5/5 [00:33<00:00,  6.77s/it]\n"
     ]
    },
    {
     "name": "stdout",
     "output_type": "stream",
     "text": [
      "     subfolder: MIN_ON\n"
     ]
    },
    {
     "name": "stderr",
     "output_type": "stream",
     "text": [
      "100%|██████████████████████████████████████████████████████████████████████████████████████████████████████████████████████████████| 5/5 [00:33<00:00,  6.73s/it]\n"
     ]
    },
    {
     "name": "stdout",
     "output_type": "stream",
     "text": [
      "     subfolder: DIS_ON\n"
     ]
    },
    {
     "name": "stderr",
     "output_type": "stream",
     "text": [
      "100%|██████████████████████████████████████████████████████████████████████████████████████████████████████████████████████████████| 5/5 [00:34<00:00,  6.80s/it]\n"
     ]
    },
    {
     "name": "stdout",
     "output_type": "stream",
     "text": [
      "     subfolder: INS_FY\n"
     ]
    },
    {
     "name": "stderr",
     "output_type": "stream",
     "text": [
      "100%|██████████████████████████████████████████████████████████████████████████████████████████████████████████████████████████████| 5/5 [00:33<00:00,  6.73s/it]\n"
     ]
    },
    {
     "name": "stdout",
     "output_type": "stream",
     "text": [
      "     subfolder: INS_HO\n"
     ]
    },
    {
     "name": "stderr",
     "output_type": "stream",
     "text": [
      "100%|██████████████████████████████████████████████████████████████████████████████████████████████████████████████████████████████| 5/5 [00:33<00:00,  6.75s/it]\n"
     ]
    },
    {
     "name": "stdout",
     "output_type": "stream",
     "text": [
      "     subfolder: MP2_FY\n"
     ]
    },
    {
     "name": "stderr",
     "output_type": "stream",
     "text": [
      "100%|██████████████████████████████████████████████████████████████████████████████████████████████████████████████████████████████| 5/5 [00:32<00:00,  6.55s/it]\n"
     ]
    },
    {
     "name": "stdout",
     "output_type": "stream",
     "text": [
      "     subfolder: MP1_HO\n"
     ]
    },
    {
     "name": "stderr",
     "output_type": "stream",
     "text": [
      "100%|██████████████████████████████████████████████████████████████████████████████████████████████████████████████████████████████| 5/5 [00:32<00:00,  6.49s/it]\n"
     ]
    },
    {
     "name": "stdout",
     "output_type": "stream",
     "text": [
      "     subfolder: MP2_HO\n"
     ]
    },
    {
     "name": "stderr",
     "output_type": "stream",
     "text": [
      "100%|██████████████████████████████████████████████████████████████████████████████████████████████████████████████████████████████| 5/5 [00:32<00:00,  6.48s/it]\n"
     ]
    },
    {
     "name": "stdout",
     "output_type": "stream",
     "text": [
      "     subfolder: PHA_ON\n"
     ]
    },
    {
     "name": "stderr",
     "output_type": "stream",
     "text": [
      "100%|██████████████████████████████████████████████████████████████████████████████████████████████████████████████████████████████| 5/5 [00:32<00:00,  6.52s/it]\n"
     ]
    },
    {
     "name": "stdout",
     "output_type": "stream",
     "text": [
      "     subfolder: PHA_HO\n"
     ]
    },
    {
     "name": "stderr",
     "output_type": "stream",
     "text": [
      "100%|██████████████████████████████████████████████████████████████████████████████████████████████████████████████████████████████| 5/5 [00:33<00:00,  6.78s/it]\n"
     ]
    },
    {
     "name": "stdout",
     "output_type": "stream",
     "text": [
      "     subfolder: INS_ON\n"
     ]
    },
    {
     "name": "stderr",
     "output_type": "stream",
     "text": [
      "100%|██████████████████████████████████████████████████████████████████████████████████████████████████████████████████████████████| 5/5 [00:33<00:00,  6.76s/it]\n"
     ]
    },
    {
     "name": "stdout",
     "output_type": "stream",
     "text": [
      "     subfolder: AIR_ON\n"
     ]
    },
    {
     "name": "stderr",
     "output_type": "stream",
     "text": [
      "100%|██████████████████████████████████████████████████████████████████████████████████████████████████████████████████████████████| 5/5 [00:32<00:00,  6.48s/it]\n"
     ]
    },
    {
     "name": "stdout",
     "output_type": "stream",
     "text": [
      "CURRENT FOLDER:  BLUE\n",
      "     subfolder: AIR_FY\n"
     ]
    },
    {
     "name": "stderr",
     "output_type": "stream",
     "text": [
      "100%|██████████████████████████████████████████████████████████████████████████████████████████████████████████████████████████████| 5/5 [00:44<00:00,  8.91s/it]\n"
     ]
    },
    {
     "name": "stdout",
     "output_type": "stream",
     "text": [
      "     subfolder: MP1_ON\n"
     ]
    },
    {
     "name": "stderr",
     "output_type": "stream",
     "text": [
      "100%|██████████████████████████████████████████████████████████████████████████████████████████████████████████████████████████████| 5/5 [01:05<00:00, 13.06s/it]\n"
     ]
    },
    {
     "name": "stdout",
     "output_type": "stream",
     "text": [
      "     subfolder: MIN_FY\n"
     ]
    },
    {
     "name": "stderr",
     "output_type": "stream",
     "text": [
      "100%|██████████████████████████████████████████████████████████████████████████████████████████████████████████████████████████████| 5/5 [01:05<00:00, 13.08s/it]\n"
     ]
    },
    {
     "name": "stdout",
     "output_type": "stream",
     "text": [
      "     subfolder: PHA_FY\n"
     ]
    },
    {
     "name": "stderr",
     "output_type": "stream",
     "text": [
      "0it [00:00, ?it/s]\n"
     ]
    },
    {
     "name": "stdout",
     "output_type": "stream",
     "text": [
      "     subfolder: MP2_ON\n"
     ]
    },
    {
     "name": "stderr",
     "output_type": "stream",
     "text": [
      "100%|██████████████████████████████████████████████████████████████████████████████████████████████████████████████████████████████| 5/5 [01:07<00:00, 13.44s/it]\n"
     ]
    },
    {
     "name": "stdout",
     "output_type": "stream",
     "text": [
      "     subfolder: MIN_HO\n"
     ]
    },
    {
     "name": "stderr",
     "output_type": "stream",
     "text": [
      "100%|██████████████████████████████████████████████████████████████████████████████████████████████████████████████████████████████| 5/5 [01:07<00:00, 13.48s/it]\n"
     ]
    },
    {
     "name": "stdout",
     "output_type": "stream",
     "text": [
      "     subfolder: AIR_HO\n"
     ]
    },
    {
     "name": "stderr",
     "output_type": "stream",
     "text": [
      "100%|██████████████████████████████████████████████████████████████████████████████████████████████████████████████████████████████| 5/5 [00:58<00:00, 11.79s/it]\n"
     ]
    },
    {
     "name": "stdout",
     "output_type": "stream",
     "text": [
      "     subfolder: MP1_FY\n"
     ]
    },
    {
     "name": "stderr",
     "output_type": "stream",
     "text": [
      "100%|██████████████████████████████████████████████████████████████████████████████████████████████████████████████████████████████| 5/5 [00:33<00:00,  6.64s/it]\n"
     ]
    },
    {
     "name": "stdout",
     "output_type": "stream",
     "text": [
      "     subfolder: DIS_FY\n"
     ]
    },
    {
     "name": "stderr",
     "output_type": "stream",
     "text": [
      "100%|██████████████████████████████████████████████████████████████████████████████████████████████████████████████████████████████| 5/5 [00:33<00:00,  6.72s/it]\n"
     ]
    },
    {
     "name": "stdout",
     "output_type": "stream",
     "text": [
      "     subfolder: MIN_ON\n"
     ]
    },
    {
     "name": "stderr",
     "output_type": "stream",
     "text": [
      "100%|██████████████████████████████████████████████████████████████████████████████████████████████████████████████████████████████| 5/5 [00:32<00:00,  6.59s/it]\n"
     ]
    },
    {
     "name": "stdout",
     "output_type": "stream",
     "text": [
      "     subfolder: DIS_ON\n"
     ]
    },
    {
     "name": "stderr",
     "output_type": "stream",
     "text": [
      "100%|██████████████████████████████████████████████████████████████████████████████████████████████████████████████████████████████| 5/5 [00:32<00:00,  6.57s/it]\n"
     ]
    },
    {
     "name": "stdout",
     "output_type": "stream",
     "text": [
      "     subfolder: INS_FY\n"
     ]
    },
    {
     "name": "stderr",
     "output_type": "stream",
     "text": [
      "100%|██████████████████████████████████████████████████████████████████████████████████████████████████████████████████████████████| 5/5 [00:32<00:00,  6.57s/it]\n"
     ]
    },
    {
     "name": "stdout",
     "output_type": "stream",
     "text": [
      "     subfolder: INS_HO\n"
     ]
    },
    {
     "name": "stderr",
     "output_type": "stream",
     "text": [
      "100%|██████████████████████████████████████████████████████████████████████████████████████████████████████████████████████████████| 5/5 [00:32<00:00,  6.57s/it]\n"
     ]
    },
    {
     "name": "stdout",
     "output_type": "stream",
     "text": [
      "     subfolder: MP2_FY\n"
     ]
    },
    {
     "name": "stderr",
     "output_type": "stream",
     "text": [
      "100%|██████████████████████████████████████████████████████████████████████████████████████████████████████████████████████████████| 5/5 [00:32<00:00,  6.55s/it]\n"
     ]
    },
    {
     "name": "stdout",
     "output_type": "stream",
     "text": [
      "     subfolder: MP1_HO\n"
     ]
    },
    {
     "name": "stderr",
     "output_type": "stream",
     "text": [
      "100%|██████████████████████████████████████████████████████████████████████████████████████████████████████████████████████████████| 5/5 [00:32<00:00,  6.57s/it]\n"
     ]
    },
    {
     "name": "stdout",
     "output_type": "stream",
     "text": [
      "     subfolder: MP2_HO\n"
     ]
    },
    {
     "name": "stderr",
     "output_type": "stream",
     "text": [
      "100%|██████████████████████████████████████████████████████████████████████████████████████████████████████████████████████████████| 5/5 [00:32<00:00,  6.56s/it]\n"
     ]
    },
    {
     "name": "stdout",
     "output_type": "stream",
     "text": [
      "     subfolder: PHA_ON\n"
     ]
    },
    {
     "name": "stderr",
     "output_type": "stream",
     "text": [
      "100%|██████████████████████████████████████████████████████████████████████████████████████████████████████████████████████████████| 5/5 [00:34<00:00,  6.91s/it]\n"
     ]
    },
    {
     "name": "stdout",
     "output_type": "stream",
     "text": [
      "     subfolder: PHA_HO\n"
     ]
    },
    {
     "name": "stderr",
     "output_type": "stream",
     "text": [
      "100%|██████████████████████████████████████████████████████████████████████████████████████████████████████████████████████████████| 5/5 [00:34<00:00,  6.80s/it]\n"
     ]
    },
    {
     "name": "stdout",
     "output_type": "stream",
     "text": [
      "     subfolder: INS_ON\n"
     ]
    },
    {
     "name": "stderr",
     "output_type": "stream",
     "text": [
      "100%|██████████████████████████████████████████████████████████████████████████████████████████████████████████████████████████████| 5/5 [00:34<00:00,  6.86s/it]\n"
     ]
    },
    {
     "name": "stdout",
     "output_type": "stream",
     "text": [
      "     subfolder: AIR_ON\n"
     ]
    },
    {
     "name": "stderr",
     "output_type": "stream",
     "text": [
      "100%|██████████████████████████████████████████████████████████████████████████████████████████████████████████████████████████████| 5/5 [00:34<00:00,  6.82s/it]\n"
     ]
    },
    {
     "name": "stdout",
     "output_type": "stream",
     "text": [
      "CURRENT FOLDER:  BOTH\n",
      "     subfolder: AIR_FY\n"
     ]
    },
    {
     "name": "stderr",
     "output_type": "stream",
     "text": [
      "100%|██████████████████████████████████████████████████████████████████████████████████████████████████████████████████████████████| 5/5 [00:34<00:00,  6.82s/it]\n"
     ]
    },
    {
     "name": "stdout",
     "output_type": "stream",
     "text": [
      "     subfolder: MP1_ON\n"
     ]
    },
    {
     "name": "stderr",
     "output_type": "stream",
     "text": [
      "100%|██████████████████████████████████████████████████████████████████████████████████████████████████████████████████████████████| 5/5 [00:34<00:00,  6.90s/it]\n"
     ]
    },
    {
     "name": "stdout",
     "output_type": "stream",
     "text": [
      "     subfolder: MIN_FY\n"
     ]
    },
    {
     "name": "stderr",
     "output_type": "stream",
     "text": [
      "100%|██████████████████████████████████████████████████████████████████████████████████████████████████████████████████████████████| 5/5 [00:34<00:00,  6.90s/it]\n"
     ]
    },
    {
     "name": "stdout",
     "output_type": "stream",
     "text": [
      "     subfolder: PHA_FY\n"
     ]
    },
    {
     "name": "stderr",
     "output_type": "stream",
     "text": [
      "100%|██████████████████████████████████████████████████████████████████████████████████████████████████████████████████████████████| 5/5 [00:34<00:00,  6.92s/it]\n"
     ]
    },
    {
     "name": "stdout",
     "output_type": "stream",
     "text": [
      "     subfolder: MP2_ON\n"
     ]
    },
    {
     "name": "stderr",
     "output_type": "stream",
     "text": [
      "100%|██████████████████████████████████████████████████████████████████████████████████████████████████████████████████████████████| 5/5 [00:34<00:00,  6.93s/it]\n"
     ]
    },
    {
     "name": "stdout",
     "output_type": "stream",
     "text": [
      "     subfolder: MIN_HO\n"
     ]
    },
    {
     "name": "stderr",
     "output_type": "stream",
     "text": [
      "100%|██████████████████████████████████████████████████████████████████████████████████████████████████████████████████████████████| 5/5 [00:34<00:00,  6.91s/it]\n"
     ]
    },
    {
     "name": "stdout",
     "output_type": "stream",
     "text": [
      "     subfolder: AIR_HO\n"
     ]
    },
    {
     "name": "stderr",
     "output_type": "stream",
     "text": [
      "100%|██████████████████████████████████████████████████████████████████████████████████████████████████████████████████████████████| 5/5 [00:34<00:00,  6.93s/it]\n"
     ]
    },
    {
     "name": "stdout",
     "output_type": "stream",
     "text": [
      "     subfolder: MP1_FY\n"
     ]
    },
    {
     "name": "stderr",
     "output_type": "stream",
     "text": [
      "100%|██████████████████████████████████████████████████████████████████████████████████████████████████████████████████████████████| 5/5 [00:34<00:00,  6.90s/it]\n"
     ]
    },
    {
     "name": "stdout",
     "output_type": "stream",
     "text": [
      "     subfolder: DIS_FY\n"
     ]
    },
    {
     "name": "stderr",
     "output_type": "stream",
     "text": [
      "100%|██████████████████████████████████████████████████████████████████████████████████████████████████████████████████████████████| 5/5 [00:34<00:00,  6.93s/it]\n"
     ]
    },
    {
     "name": "stdout",
     "output_type": "stream",
     "text": [
      "     subfolder: MIN_ON\n"
     ]
    },
    {
     "name": "stderr",
     "output_type": "stream",
     "text": [
      "100%|██████████████████████████████████████████████████████████████████████████████████████████████████████████████████████████████| 5/5 [00:34<00:00,  6.91s/it]\n"
     ]
    },
    {
     "name": "stdout",
     "output_type": "stream",
     "text": [
      "     subfolder: DIS_ON\n"
     ]
    },
    {
     "name": "stderr",
     "output_type": "stream",
     "text": [
      "100%|██████████████████████████████████████████████████████████████████████████████████████████████████████████████████████████████| 5/5 [00:34<00:00,  6.89s/it]\n"
     ]
    },
    {
     "name": "stdout",
     "output_type": "stream",
     "text": [
      "     subfolder: INS_FY\n"
     ]
    },
    {
     "name": "stderr",
     "output_type": "stream",
     "text": [
      "100%|██████████████████████████████████████████████████████████████████████████████████████████████████████████████████████████████| 5/5 [00:33<00:00,  6.72s/it]\n"
     ]
    },
    {
     "name": "stdout",
     "output_type": "stream",
     "text": [
      "     subfolder: INS_HO\n"
     ]
    },
    {
     "name": "stderr",
     "output_type": "stream",
     "text": [
      "100%|██████████████████████████████████████████████████████████████████████████████████████████████████████████████████████████████| 5/5 [00:34<00:00,  6.85s/it]\n"
     ]
    },
    {
     "name": "stdout",
     "output_type": "stream",
     "text": [
      "     subfolder: MP2_FY\n"
     ]
    },
    {
     "name": "stderr",
     "output_type": "stream",
     "text": [
      "100%|██████████████████████████████████████████████████████████████████████████████████████████████████████████████████████████████| 5/5 [00:34<00:00,  6.82s/it]\n"
     ]
    },
    {
     "name": "stdout",
     "output_type": "stream",
     "text": [
      "     subfolder: MP1_HO\n"
     ]
    },
    {
     "name": "stderr",
     "output_type": "stream",
     "text": [
      "100%|██████████████████████████████████████████████████████████████████████████████████████████████████████████████████████████████| 5/5 [00:34<00:00,  6.86s/it]\n"
     ]
    },
    {
     "name": "stdout",
     "output_type": "stream",
     "text": [
      "     subfolder: MP2_HO\n"
     ]
    },
    {
     "name": "stderr",
     "output_type": "stream",
     "text": [
      "100%|██████████████████████████████████████████████████████████████████████████████████████████████████████████████████████████████| 5/5 [00:32<00:00,  6.53s/it]\n"
     ]
    },
    {
     "name": "stdout",
     "output_type": "stream",
     "text": [
      "     subfolder: PHA_ON\n"
     ]
    },
    {
     "name": "stderr",
     "output_type": "stream",
     "text": [
      "100%|██████████████████████████████████████████████████████████████████████████████████████████████████████████████████████████████| 5/5 [00:40<00:00,  8.06s/it]\n"
     ]
    },
    {
     "name": "stdout",
     "output_type": "stream",
     "text": [
      "     subfolder: PHA_HO\n"
     ]
    },
    {
     "name": "stderr",
     "output_type": "stream",
     "text": [
      "100%|██████████████████████████████████████████████████████████████████████████████████████████████████████████████████████████████| 5/5 [00:44<00:00,  8.86s/it]\n"
     ]
    },
    {
     "name": "stdout",
     "output_type": "stream",
     "text": [
      "     subfolder: INS_ON\n"
     ]
    },
    {
     "name": "stderr",
     "output_type": "stream",
     "text": [
      "100%|██████████████████████████████████████████████████████████████████████████████████████████████████████████████████████████████| 5/5 [00:32<00:00,  6.59s/it]\n"
     ]
    },
    {
     "name": "stdout",
     "output_type": "stream",
     "text": [
      "     subfolder: AIR_ON\n"
     ]
    },
    {
     "name": "stderr",
     "output_type": "stream",
     "text": [
      "100%|██████████████████████████████████████████████████████████████████████████████████████████████████████████████████████████████| 5/5 [00:32<00:00,  6.58s/it]\n"
     ]
    },
    {
     "name": "stdout",
     "output_type": "stream",
     "text": [
      "CURRENT FOLDER:  CLEAN\n",
      "     subfolder: AIR_FY\n"
     ]
    },
    {
     "name": "stderr",
     "output_type": "stream",
     "text": [
      "100%|██████████████████████████████████████████████████████████████████████████████████████████████████████████████████████████████| 5/5 [00:32<00:00,  6.58s/it]\n"
     ]
    },
    {
     "name": "stdout",
     "output_type": "stream",
     "text": [
      "     subfolder: MP1_ON\n"
     ]
    },
    {
     "name": "stderr",
     "output_type": "stream",
     "text": [
      "100%|██████████████████████████████████████████████████████████████████████████████████████████████████████████████████████████████| 5/5 [00:39<00:00,  7.88s/it]\n"
     ]
    },
    {
     "name": "stdout",
     "output_type": "stream",
     "text": [
      "     subfolder: MIN_FY\n"
     ]
    },
    {
     "name": "stderr",
     "output_type": "stream",
     "text": [
      "100%|██████████████████████████████████████████████████████████████████████████████████████████████████████████████████████████████| 5/5 [00:55<00:00, 11.04s/it]\n"
     ]
    },
    {
     "name": "stdout",
     "output_type": "stream",
     "text": [
      "     subfolder: PHA_FY\n"
     ]
    },
    {
     "name": "stderr",
     "output_type": "stream",
     "text": [
      "0it [00:00, ?it/s]\n"
     ]
    },
    {
     "name": "stdout",
     "output_type": "stream",
     "text": [
      "     subfolder: MP2_ON\n"
     ]
    },
    {
     "name": "stderr",
     "output_type": "stream",
     "text": [
      "100%|██████████████████████████████████████████████████████████████████████████████████████████████████████████████████████████████| 5/5 [00:48<00:00,  9.77s/it]\n"
     ]
    },
    {
     "name": "stdout",
     "output_type": "stream",
     "text": [
      "     subfolder: MIN_HO\n"
     ]
    },
    {
     "name": "stderr",
     "output_type": "stream",
     "text": [
      "100%|██████████████████████████████████████████████████████████████████████████████████████████████████████████████████████████████| 5/5 [01:03<00:00, 12.64s/it]\n"
     ]
    },
    {
     "name": "stdout",
     "output_type": "stream",
     "text": [
      "     subfolder: AIR_HO\n"
     ]
    },
    {
     "name": "stderr",
     "output_type": "stream",
     "text": [
      "100%|██████████████████████████████████████████████████████████████████████████████████████████████████████████████████████████████| 5/5 [01:02<00:00, 12.46s/it]\n"
     ]
    },
    {
     "name": "stdout",
     "output_type": "stream",
     "text": [
      "     subfolder: MP1_FY\n"
     ]
    },
    {
     "name": "stderr",
     "output_type": "stream",
     "text": [
      "100%|██████████████████████████████████████████████████████████████████████████████████████████████████████████████████████████████| 5/5 [01:02<00:00, 12.51s/it]\n"
     ]
    },
    {
     "name": "stdout",
     "output_type": "stream",
     "text": [
      "     subfolder: DIS_FY\n"
     ]
    },
    {
     "name": "stderr",
     "output_type": "stream",
     "text": [
      "100%|██████████████████████████████████████████████████████████████████████████████████████████████████████████████████████████████| 5/5 [01:03<00:00, 12.66s/it]\n"
     ]
    },
    {
     "name": "stdout",
     "output_type": "stream",
     "text": [
      "     subfolder: MIN_ON\n"
     ]
    },
    {
     "name": "stderr",
     "output_type": "stream",
     "text": [
      "100%|██████████████████████████████████████████████████████████████████████████████████████████████████████████████████████████████| 5/5 [01:02<00:00, 12.56s/it]\n"
     ]
    },
    {
     "name": "stdout",
     "output_type": "stream",
     "text": [
      "     subfolder: DIS_ON\n"
     ]
    },
    {
     "name": "stderr",
     "output_type": "stream",
     "text": [
      "100%|██████████████████████████████████████████████████████████████████████████████████████████████████████████████████████████████| 5/5 [01:03<00:00, 12.79s/it]\n"
     ]
    },
    {
     "name": "stdout",
     "output_type": "stream",
     "text": [
      "     subfolder: INS_FY\n"
     ]
    },
    {
     "name": "stderr",
     "output_type": "stream",
     "text": [
      "100%|██████████████████████████████████████████████████████████████████████████████████████████████████████████████████████████████| 5/5 [00:59<00:00, 11.89s/it]\n"
     ]
    },
    {
     "name": "stdout",
     "output_type": "stream",
     "text": [
      "     subfolder: INS_HO\n"
     ]
    },
    {
     "name": "stderr",
     "output_type": "stream",
     "text": [
      "100%|██████████████████████████████████████████████████████████████████████████████████████████████████████████████████████████████| 5/5 [01:02<00:00, 12.52s/it]\n"
     ]
    },
    {
     "name": "stdout",
     "output_type": "stream",
     "text": [
      "     subfolder: MP2_FY\n"
     ]
    },
    {
     "name": "stderr",
     "output_type": "stream",
     "text": [
      "100%|██████████████████████████████████████████████████████████████████████████████████████████████████████████████████████████████| 5/5 [01:02<00:00, 12.40s/it]\n"
     ]
    },
    {
     "name": "stdout",
     "output_type": "stream",
     "text": [
      "     subfolder: MP1_HO\n"
     ]
    },
    {
     "name": "stderr",
     "output_type": "stream",
     "text": [
      "100%|██████████████████████████████████████████████████████████████████████████████████████████████████████████████████████████████| 5/5 [01:02<00:00, 12.51s/it]\n"
     ]
    },
    {
     "name": "stdout",
     "output_type": "stream",
     "text": [
      "     subfolder: MP2_HO\n"
     ]
    },
    {
     "name": "stderr",
     "output_type": "stream",
     "text": [
      "100%|██████████████████████████████████████████████████████████████████████████████████████████████████████████████████████████████| 5/5 [01:01<00:00, 12.36s/it]\n"
     ]
    },
    {
     "name": "stdout",
     "output_type": "stream",
     "text": [
      "     subfolder: PHA_ON\n"
     ]
    },
    {
     "name": "stderr",
     "output_type": "stream",
     "text": [
      "100%|██████████████████████████████████████████████████████████████████████████████████████████████████████████████████████████████| 5/5 [01:01<00:00, 12.32s/it]\n"
     ]
    },
    {
     "name": "stdout",
     "output_type": "stream",
     "text": [
      "     subfolder: PHA_HO\n"
     ]
    },
    {
     "name": "stderr",
     "output_type": "stream",
     "text": [
      "100%|██████████████████████████████████████████████████████████████████████████████████████████████████████████████████████████████| 5/5 [01:02<00:00, 12.51s/it]\n"
     ]
    },
    {
     "name": "stdout",
     "output_type": "stream",
     "text": [
      "     subfolder: INS_ON\n"
     ]
    },
    {
     "name": "stderr",
     "output_type": "stream",
     "text": [
      "100%|██████████████████████████████████████████████████████████████████████████████████████████████████████████████████████████████| 5/5 [01:01<00:00, 12.33s/it]\n"
     ]
    },
    {
     "name": "stdout",
     "output_type": "stream",
     "text": [
      "     subfolder: AIR_ON\n"
     ]
    },
    {
     "name": "stderr",
     "output_type": "stream",
     "text": [
      "100%|██████████████████████████████████████████████████████████████████████████████████████████████████████████████████████████████| 5/5 [01:02<00:00, 12.51s/it]\n"
     ]
    }
   ],
   "source": [
    "# Specifications on what features to generate\n",
    "n_per_seg = 1024 # length of each segment (powers of 2)\n",
    "n_overlap_spec = 120\n",
    "psd_win_type = 'hamming' # make ends of each segment match\n",
    "spec_han_window = np.hanning(n_per_seg)\n",
    "t_seg = 20 # sample length in milliseconds\n",
    "feature_to_save = ['SPEC'] # what features to generate and save: SPEC or PSD\n",
    "format_to_save = ['IMG'] # IMG or ARR\n",
    "inteference_folders = ['WIFI', 'BLUE', 'BOTH', 'CLEAN'] # options: ['WIFI', 'BLUE', 'BOTH', 'CLEAN']\n",
    "\n",
    "# Image properties\n",
    "dim_px = (224, 224) # dimension of image pixels\n",
    "dpi = 100\n",
    "\n",
    "# data saving folders\n",
    "features_folder = '../Features/'\n",
    "date_string = date.today()\n",
    "# folder naming: DATATYPE_FEAT_NFFT_SAMPLELENGTH\n",
    "arr_spec_folder = \"ARR_SPEC_\"+str(n_per_seg)+\"_\"+str(t_seg)\n",
    "arr_psd_folder = \"ARR_PSD_\"+str(n_per_seg)+\"_\"+str(t_seg)\n",
    "img_spec_folder = \"IMG_SPEC_\"+str(n_per_seg)+\"_\"+str(t_seg)\n",
    "img_psd_folder = \"IMG_PSD_\"+str(n_per_seg)+\"_\"+str(t_seg)\n",
    "\n",
    "# check if this set of parameters already exists\n",
    "existing_folders = os.listdir(features_folder)\n",
    "\n",
    "# check if each of the 4 folders exist\n",
    "sa_save = False   #spec array\n",
    "si_save = False   #spec imag\n",
    "pa_save = False   #psd array\n",
    "pi_save = False   #psd imag\n",
    "if 'SPEC' in feature_to_save:\n",
    "    if 'ARR' in format_to_save:\n",
    "        if arr_spec_folder not in existing_folders:\n",
    "            os.mkdir(features_folder+arr_spec_folder)\n",
    "            sa_save = True\n",
    "            print('Generating SPEC in ARRAY format')\n",
    "        else:\n",
    "            print('Spec Arr folder already exists')\n",
    "    if 'IMG' in format_to_save:\n",
    "        if img_spec_folder not in existing_folders:\n",
    "            os.mkdir(features_folder+img_spec_folder)\n",
    "            si_save = True\n",
    "            print('Generating SPEC in IMAGE format')\n",
    "        else:\n",
    "            print('Spec Arr folder already exists')\n",
    "if 'PSD' in feature_to_save:\n",
    "    if 'ARR' in format_to_save:\n",
    "        if arr_psd_folder not in existing_folders:\n",
    "            os.mkdir(features_folder+arr_psd_folder)\n",
    "            pa_save = True\n",
    "            print('Generating PSD in ARRAY format')\n",
    "        else:\n",
    "            print('PSD Arr folder already exists')\n",
    "    if 'IMG' in format_to_save:\n",
    "        if img_psd_folder not in existing_folders:\n",
    "            os.mkdir(features_folder+img_psd_folder)\n",
    "            pi_save = True\n",
    "            print('Generating PSD in IMAGE format')\n",
    "        else:\n",
    "            print('PSD Arr folder already exists')            \n",
    "            \n",
    "if all([not sa_save, not si_save, not pa_save, not pi_save]):\n",
    "    print('Features Already Exist - Do Not Generate')\n",
    "else:\n",
    "    ## Generate features\n",
    "\n",
    "    # loop through all files\n",
    "    for sf in inteference_folders: # options: ['WIFI', 'BLUE', 'BOTH', 'CLEAN']\n",
    "        print('CURRENT FOLDER: ', sf)\n",
    "\n",
    "        drone_folders = os.listdir(main_folder+sf+'/')\n",
    "        for df in drone_folders:\n",
    "            print('     subfolder:', df)\n",
    "            # reset lists -  to save memory\n",
    "            DRONES = []\n",
    "            CONDS =[]\n",
    "            INTS = [] # interferences: 00 for a clean signal, 01 for Bluetooth only, 10 for Wi-Fi only and 11 for Bluetooth and Wi-Fi interference concurrently.\n",
    "\n",
    "            # features\n",
    "            F_PSD = []\n",
    "#             F_PSD_freq = []\n",
    "\n",
    "            F_SPEC = []\n",
    "#             F_SPEC_freq = []\n",
    "#             F_SPEC_time = []\n",
    "\n",
    "            files = os.listdir(main_folder+sf+'/'+df+'/')\n",
    "            \n",
    "            #labels (from folder name)\n",
    "            drone_name = df[:3]\n",
    "            cond_name = df[4:]\n",
    "\n",
    "            for fi in tqdm(files):\n",
    "                d_split, _ = load_dronedetect_raw(main_folder+sf+'/'+df+'/'+fi, t_seg)\n",
    "                \n",
    "                # labels (from file name)\n",
    "                fi_number = fi[-6:-4]\n",
    "                int_name = fi[4:6]\n",
    "                for i in range(len(d_split)): # for each split based on t_seg\n",
    "\n",
    "                    d_complex = d_split[i]\n",
    "\n",
    "                    # save labels\n",
    "                    DRONES.append(drone_name)\n",
    "                    CONDS.append(cond_name)\n",
    "                    INTS.append(int_name)\n",
    "\n",
    "                    # calculate PSD\n",
    "                    if pa_save or pi_save:\n",
    "                        fpsd, Pxx_den = signal.welch(d_complex, fs, window=psd_win_type, nperseg=n_per_seg)\n",
    "                        if pa_save:\n",
    "                            F_PSD.append(Pxx_den)\n",
    "                            F_PSD_freq.append(fpsd)\n",
    "                        \n",
    "                        if pi_save:\n",
    "                            save_psd_image(features_folder, img_psd_folder, drone_name, \n",
    "                                           cond_name, int_name, fi_number, i, Pxx_den, dim_px, dpi)\n",
    "\n",
    "                    # calculate spectrogram\n",
    "                    if sa_save or si_save:\n",
    "#                         fspec, t, Sxx = signal.spectrogram(d_complex, fs, window=win_type, nperseg=n_per_seg, noverlap =0) ## using minimal overlap\n",
    "                        if si_save: # set up fig properties if saving images\n",
    "                            plt.clf()\n",
    "                            fig,ax = plt.subplots(1, figsize=(dim_px[0]/dpi, dim_px[1]/dpi), dpi=dpi)\n",
    "                            fig.subplots_adjust(left=0,right=1,bottom=0,top=1)\n",
    "                            ax.axis('tight')\n",
    "                            ax.axis('off')\n",
    "                        \n",
    "                        spec, freqs, bins, im = plt.specgram(d_complex, NFFT=n_per_seg, Fs=fs, window=spec_han_window, \n",
    "                                          noverlap=n_overlap_spec, sides='onesided')\n",
    "                        if si_save:\n",
    "                            save_spec_image_fig(features_folder, img_spec_folder, \n",
    "                                                drone_name, cond_name, int_name, fi_number, i, fig, dpi)\n",
    "                        if sa_save:\n",
    "                            F_SPEC.append(interpolate_2d(sp[0], (224,224))) # reshape to square?\n",
    "#                         F_SPEC_freq.append(fspec)\n",
    "#                         F_SPEC_time.append(t)\n",
    "\n",
    "                    # save the images \n",
    "    #                 save_spec_image(features_folder, img_spec_folder, drone_name, \n",
    "    #                                 cond_name, int_name, fi_number, i, fspec, t, Sxx)\n",
    "\n",
    "    #                 # save the images \n",
    "    #                 save_psd_image(features_folder, img_psd_folder, drone_name, \n",
    "    #                                 cond_name, int_name, fi_number, i, fpsd, Pxx_den)\n",
    "\n",
    "            # save data array\n",
    "            if sa_save:\n",
    "                save_array(features_folder+arr_spec_folder, F_SPEC, DRONES, CONDS, INTS, 'SPEC'+\"_\"+df, sf)\n",
    "            if pa_save:\n",
    "                save_array(features_folder+arr_psd_folder, F_PSD, DRONES, CONDS, INTS, 'PSD'+\"_\"+df, sf)\n",
    "\n"
   ]
  },
  {
   "cell_type": "code",
   "execution_count": 33,
   "id": "68a089a0",
   "metadata": {},
   "outputs": [],
   "source": [
    "fig.savefig('saved.jpeg')"
   ]
  },
  {
   "cell_type": "code",
   "execution_count": 9,
   "id": "0631def9",
   "metadata": {},
   "outputs": [
    {
     "data": {
      "image/png": "[encoded data removed]",
      "text/plain": [
       "<Figure size 432x288 with 1 Axes>"
      ]
     },
     "metadata": {
      "needs_background": "light"
     },
     "output_type": "display_data"
    }
   ],
   "source": [
    "fig,ax = plt.subplots(1)\n",
    "fig.subplots_adjust(left=0,right=1,bottom=0,top=1)\n",
    "ax.axis('tight')\n",
    "ax.axis('off')\n",
    "\n",
    "han_window = np.hanning(n_per_seg)\n",
    "spec, freqs, bins, im = plt.specgram(d_complex, NFFT=n_per_seg, Fs=fs, window=han_window, \n",
    "                  noverlap=n_overlap_spec, sides='onesided', scale = 'dB')"
   ]
  },
  {
   "cell_type": "code",
   "execution_count": 53,
   "id": "038df363",
   "metadata": {},
   "outputs": [
    {
     "name": "stderr",
     "output_type": "stream",
     "text": [
      "/tmp/ipykernel_966232/3252065198.py:2: MatplotlibDeprecationWarning: savefig() got unexpected keyword argument \"frameon\" which is no longer supported as of 3.3 and will become an error in 3.6\n",
      "  fig.savefig('sp_xyz.jpeg', dpi=300, frameon='false')\n"
     ]
    }
   ],
   "source": [
    "# im.axis('off')\n",
    "fig.savefig('sp_xyz.jpeg', dpi=300, frameon='false')"
   ]
  },
  {
   "cell_type": "code",
   "execution_count": 58,
   "id": "71220677",
   "metadata": {},
   "outputs": [],
   "source": [
    "plt.show()"
   ]
  },
  {
   "cell_type": "code",
   "execution_count": 40,
   "id": "674b4c1e",
   "metadata": {},
   "outputs": [
    {
     "data": {
      "text/plain": [
       "(array([[6.72113371e-06, 6.93242680e-06, 6.78941552e-06, ...,\n",
       "         2.51285332e-10, 2.72264977e-10, 1.46599068e-10],\n",
       "        [3.49353247e-06, 3.65622718e-06, 3.57279992e-06, ...,\n",
       "         1.55194557e-10, 1.29404807e-10, 8.16930634e-11],\n",
       "        [1.81344909e-09, 2.24953691e-09, 2.34818657e-09, ...,\n",
       "         6.24893119e-12, 2.09387459e-11, 4.69305363e-12],\n",
       "        ...,\n",
       "        [2.09565386e-11, 2.85386489e-11, 2.35594933e-11, ...,\n",
       "         9.97949899e-13, 4.46178628e-13, 1.07567612e-12],\n",
       "        [1.71217638e-11, 2.27981477e-11, 2.65889234e-11, ...,\n",
       "         2.55737908e-12, 2.45553556e-12, 1.49899238e-12],\n",
       "        [1.32578482e-11, 2.21960381e-11, 5.11664552e-12, ...,\n",
       "         3.29555235e-12, 1.71317451e-12, 1.66996359e-12]]),\n",
       " array([       0. ,   117187.5,   234375. ,   351562.5,   468750. ,\n",
       "          585937.5,   703125. ,   820312.5,   937500. ,  1054687.5,\n",
       "         1171875. ,  1289062.5,  1406250. ,  1523437.5,  1640625. ,\n",
       "         1757812.5,  1875000. ,  1992187.5,  2109375. ,  2226562.5,\n",
       "         2343750. ,  2460937.5,  2578125. ,  2695312.5,  2812500. ,\n",
       "         2929687.5,  3046875. ,  3164062.5,  3281250. ,  3398437.5,\n",
       "         3515625. ,  3632812.5,  3750000. ,  3867187.5,  3984375. ,\n",
       "         4101562.5,  4218750. ,  4335937.5,  4453125. ,  4570312.5,\n",
       "         4687500. ,  4804687.5,  4921875. ,  5039062.5,  5156250. ,\n",
       "         5273437.5,  5390625. ,  5507812.5,  5625000. ,  5742187.5,\n",
       "         5859375. ,  5976562.5,  6093750. ,  6210937.5,  6328125. ,\n",
       "         6445312.5,  6562500. ,  6679687.5,  6796875. ,  6914062.5,\n",
       "         7031250. ,  7148437.5,  7265625. ,  7382812.5,  7500000. ,\n",
       "         7617187.5,  7734375. ,  7851562.5,  7968750. ,  8085937.5,\n",
       "         8203125. ,  8320312.5,  8437500. ,  8554687.5,  8671875. ,\n",
       "         8789062.5,  8906250. ,  9023437.5,  9140625. ,  9257812.5,\n",
       "         9375000. ,  9492187.5,  9609375. ,  9726562.5,  9843750. ,\n",
       "         9960937.5, 10078125. , 10195312.5, 10312500. , 10429687.5,\n",
       "        10546875. , 10664062.5, 10781250. , 10898437.5, 11015625. ,\n",
       "        11132812.5, 11250000. , 11367187.5, 11484375. , 11601562.5,\n",
       "        11718750. , 11835937.5, 11953125. , 12070312.5, 12187500. ,\n",
       "        12304687.5, 12421875. , 12539062.5, 12656250. , 12773437.5,\n",
       "        12890625. , 13007812.5, 13125000. , 13242187.5, 13359375. ,\n",
       "        13476562.5, 13593750. , 13710937.5, 13828125. , 13945312.5,\n",
       "        14062500. , 14179687.5, 14296875. , 14414062.5, 14531250. ,\n",
       "        14648437.5, 14765625. , 14882812.5, 15000000. , 15117187.5,\n",
       "        15234375. , 15351562.5, 15468750. , 15585937.5, 15703125. ,\n",
       "        15820312.5, 15937500. , 16054687.5, 16171875. , 16289062.5,\n",
       "        16406250. , 16523437.5, 16640625. , 16757812.5, 16875000. ,\n",
       "        16992187.5, 17109375. , 17226562.5, 17343750. , 17460937.5,\n",
       "        17578125. , 17695312.5, 17812500. , 17929687.5, 18046875. ,\n",
       "        18164062.5, 18281250. , 18398437.5, 18515625. , 18632812.5,\n",
       "        18750000. , 18867187.5, 18984375. , 19101562.5, 19218750. ,\n",
       "        19335937.5, 19453125. , 19570312.5, 19687500. , 19804687.5,\n",
       "        19921875. , 20039062.5, 20156250. , 20273437.5, 20390625. ,\n",
       "        20507812.5, 20625000. , 20742187.5, 20859375. , 20976562.5,\n",
       "        21093750. , 21210937.5, 21328125. , 21445312.5, 21562500. ,\n",
       "        21679687.5, 21796875. , 21914062.5, 22031250. , 22148437.5,\n",
       "        22265625. , 22382812.5, 22500000. , 22617187.5, 22734375. ,\n",
       "        22851562.5, 22968750. , 23085937.5, 23203125. , 23320312.5,\n",
       "        23437500. , 23554687.5, 23671875. , 23789062.5, 23906250. ,\n",
       "        24023437.5, 24140625. , 24257812.5, 24375000. , 24492187.5,\n",
       "        24609375. , 24726562.5, 24843750. , 24960937.5, 25078125. ,\n",
       "        25195312.5, 25312500. , 25429687.5, 25546875. , 25664062.5,\n",
       "        25781250. , 25898437.5, 26015625. , 26132812.5, 26250000. ,\n",
       "        26367187.5, 26484375. , 26601562.5, 26718750. , 26835937.5,\n",
       "        26953125. , 27070312.5, 27187500. , 27304687.5, 27421875. ,\n",
       "        27539062.5, 27656250. , 27773437.5, 27890625. , 28007812.5,\n",
       "        28125000. , 28242187.5, 28359375. , 28476562.5, 28593750. ,\n",
       "        28710937.5, 28828125. , 28945312.5, 29062500. , 29179687.5,\n",
       "        29296875. , 29414062.5, 29531250. , 29648437.5, 29765625. ,\n",
       "        29882812.5, 30000000. ]),\n",
       " array([4.26666667e-06, 1.08000000e-05, 1.73333333e-05, ...,\n",
       "        1.99766667e-02, 1.99832000e-02, 1.99897333e-02]),\n",
       " <matplotlib.image.AxesImage at 0x7f9d9ce04970>)"
      ]
     },
     "execution_count": 40,
     "metadata": {},
     "output_type": "execute_result"
    }
   ],
   "source": [
    "sp"
   ]
  },
  {
   "cell_type": "code",
   "execution_count": 7,
   "id": "8b176565",
   "metadata": {},
   "outputs": [
    {
     "data": {
      "text/plain": [
       "'IMG_SPEC_1024_20/'"
      ]
     },
     "execution_count": 7,
     "metadata": {},
     "output_type": "execute_result"
    }
   ],
   "source": [
    "img_spec_folder"
   ]
  },
  {
   "cell_type": "code",
   "execution_count": 7,
   "id": "7e7a1fca",
   "metadata": {},
   "outputs": [
    {
     "data": {
      "text/plain": [
       "True"
      ]
     },
     "execution_count": 7,
     "metadata": {},
     "output_type": "execute_result"
    }
   ],
   "source": [
    "sa_save = False\n",
    "si_save = False\n",
    "pa_save = False\n",
    "pi_save = False\n",
    "all([not sa_save, not si_save, not pa_save, not pi_save])"
   ]
  },
  {
   "cell_type": "markdown",
   "id": "cfba54f4",
   "metadata": {},
   "source": [
    "## Load Files test"
   ]
  },
  {
   "cell_type": "code",
   "execution_count": 46,
   "id": "265c152f",
   "metadata": {},
   "outputs": [],
   "source": [
    "from loading_functions import *"
   ]
  },
  {
   "cell_type": "code",
   "execution_count": 47,
   "id": "c8a9ad5d",
   "metadata": {},
   "outputs": [
    {
     "name": "stderr",
     "output_type": "stream",
     "text": [
      "100%|██████████████████████████████████████████████████████████████████████████████████████████████████████████████████████████| 80/80 [00:00<00:00, 3199.04it/s]\n"
     ]
    }
   ],
   "source": [
    "feat_folder = '../Features/'\n",
    "feat_name = 'PSD'\n",
    "# datestr = '2022-06-29'\n",
    "n_per_seg = 512\n",
    "interferences = ['WIFI']\n",
    "seg_len = 200\n",
    "output_feat = 'drones'\n",
    "# (feat_folder, feat_name, seg_len, n_per_seg, output_feat, interferences)\n",
    "Xs_arr, y_arr = load_dronedetect_features(feat_folder, feat_name, seg_len, n_per_seg, output_feat, interferences)"
   ]
  },
  {
   "cell_type": "code",
   "execution_count": 35,
   "id": "3d9f61c9",
   "metadata": {},
   "outputs": [
    {
     "data": {
      "text/plain": [
       "(1000, 512)"
      ]
     },
     "execution_count": 35,
     "metadata": {},
     "output_type": "execute_result"
    }
   ],
   "source": [
    "Xs_arr.shape"
   ]
  },
  {
   "cell_type": "markdown",
   "id": "b87533a4",
   "metadata": {},
   "source": [
    "## Plot as images test"
   ]
  },
  {
   "cell_type": "code",
   "execution_count": 48,
   "id": "77681241",
   "metadata": {},
   "outputs": [],
   "source": [
    "import importlib\n",
    "# import loading_functions\n",
    "# importlib.reload(loading_functions)"
   ]
  },
  {
   "cell_type": "code",
   "execution_count": 49,
   "id": "29ac2ed5",
   "metadata": {},
   "outputs": [
    {
     "data": {
      "image/png": "[encoded data removed]",
      "text/plain": [
       "<Figure size 500x500 with 1 Axes>"
      ]
     },
     "metadata": {
      "needs_background": "light"
     },
     "output_type": "display_data"
    }
   ],
   "source": [
    "sample_to_plot = 0\n",
    "helper_functions.plot_image(Xs_arr[sample_to_plot], dim=(224,224), dpi=100)"
   ]
  },
  {
   "cell_type": "markdown",
   "id": "21a555b8",
   "metadata": {},
   "source": [
    "### To visualize images"
   ]
  },
  {
   "cell_type": "code",
   "execution_count": 7,
   "id": "56b658dd",
   "metadata": {},
   "outputs": [
    {
     "data": {
      "image/png": "[encoded data removed]",
      "text/plain": [
       "<Figure size 432x288 with 1 Axes>"
      ]
     },
     "metadata": {
      "needs_background": "light"
     },
     "output_type": "display_data"
    }
   ],
   "source": [
    "# # plot for each type of drone\n",
    "# X_norm = Xs\n",
    "# for n in range(len(Xs_arr)):\n",
    "#     if DRONES[n] == 'AIR':\n",
    "#         c = 'r'\n",
    "#     elif DRONES[n] == 'DIS':\n",
    "#         c = 'b'\n",
    "#     elif DRONES[n] == 'INS':\n",
    "#         c = 'g'\n",
    "#     elif DRONES[n] == 'MIN':\n",
    "#         c = 'c'\n",
    "#     elif DRONES[n] == 'MP1':\n",
    "#         c = 'm'\n",
    "#     elif DRONES[n] == 'MP2':\n",
    "#         c = 'k'\n",
    "#     elif DRONES[n] == 'PHA':\n",
    "#         c = 'y'\n",
    "    \n",
    "#     # normalize it\n",
    "# #     X_norm[n] = Xs[n]/max(Xs[n])\n",
    "#     plt.plot(Xs[n],color=c)"
   ]
  },
  {
   "cell_type": "code",
   "execution_count": null,
   "id": "e97c9511",
   "metadata": {},
   "outputs": [],
   "source": []
  }
 ],
 "metadata": {
  "kernelspec": {
   "display_name": "Python 3 (ipykernel)",
   "language": "python",
   "name": "python3"
  },
  "language_info": {
   "codemirror_mode": {
    "name": "ipython",
    "version": 3
   },
   "file_extension": ".py",
   "mimetype": "text/x-python",
   "name": "python",
   "nbconvert_exporter": "python",
   "pygments_lexer": "ipython3",
   "version": "3.8.2"
  }
 },
 "nbformat": 4,
 "nbformat_minor": 5
}
