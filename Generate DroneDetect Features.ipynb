{
 "cells": [
  {
   "cell_type": "markdown",
   "id": "66f67e5f",
   "metadata": {},
   "source": [
    "### Generate DroneDetect Features\n",
    "- notebook to load data (currently: DroneDetect dataset)\n",
    "- generate RF-based features: PSD, spectrograms in array and image format\n"
   ]
  },
  {
   "cell_type": "code",
   "execution_count": 1,
   "id": "bd033465",
   "metadata": {},
   "outputs": [],
   "source": [
    "import os\n",
    "import numpy as np\n",
    "from numpy import sum,isrealobj,sqrt\n",
    "from numpy.random import standard_normal\n",
    "import os\n",
    "from sklearn.model_selection import train_test_split\n",
    "from spafe.features.lfcc import lfcc\n",
    "import spafe.utils.vis as vis\n",
    "from scipy.signal import get_window\n",
    "import scipy.fftpack as fft\n",
    "from scipy import signal\n",
    "import matplotlib.pyplot as plt\n",
    "from datetime import date\n",
    "from tqdm import tqdm\n",
    "from loading_functions import *\n",
    "\n",
    "from feat_gen_functions import *"
   ]
  },
  {
   "cell_type": "code",
   "execution_count": 2,
   "id": "157c6ea2",
   "metadata": {},
   "outputs": [],
   "source": [
    "# # Reload modules for testing\n",
    "# import importlib\n",
    "# import helper_functions\n",
    "# importlib.reload(helper_functions)\n",
    "# from helper_functions import *"
   ]
  },
  {
   "cell_type": "code",
   "execution_count": 3,
   "id": "7a14d5ae",
   "metadata": {},
   "outputs": [],
   "source": [
    "# Data paths\n",
    "from file_paths import *\n",
    "# DroneDetect\n",
    "main_folder = dronedetect_raw_path # data path on mp-gpu-desktop06\n",
    "sub_folders = os.listdir(main_folder)\n",
    "\n",
    "# Dataset Info\n",
    "fs = 60e6 #60 MHz\n",
    "bandwidth = 28e6 # 28MHz\n",
    "center_freq = 2.43e9\n"
   ]
  },
  {
   "cell_type": "code",
   "execution_count": null,
   "id": "556af222",
   "metadata": {
    "scrolled": true
   },
   "outputs": [
    {
     "name": "stdout",
     "output_type": "stream",
     "text": [
      "Generating SPEC in ARRAY format\n",
      "CURRENT FOLDER:  CLEAN\n",
      "     subfolder: AIR_FY\n"
     ]
    },
    {
     "name": "stderr",
     "output_type": "stream",
     "text": [
      "100%|███████████████████████████████████████████████████████████████████████████| 5/5 [01:08<00:00, 13.67s/it]\n"
     ]
    },
    {
     "name": "stdout",
     "output_type": "stream",
     "text": [
      "/home/kzhou/main/Features/ARR_SPEC_256_20/CLEAN_SPEC_AIR_FY_256\n",
      "     subfolder: MP1_ON\n"
     ]
    },
    {
     "name": "stderr",
     "output_type": "stream",
     "text": [
      "100%|███████████████████████████████████████████████████████████████████████████| 5/5 [01:11<00:00, 14.26s/it]\n"
     ]
    },
    {
     "name": "stdout",
     "output_type": "stream",
     "text": [
      "/home/kzhou/main/Features/ARR_SPEC_256_20/CLEAN_SPEC_MP1_ON_256\n",
      "     subfolder: MIN_FY\n"
     ]
    },
    {
     "name": "stderr",
     "output_type": "stream",
     "text": [
      "100%|███████████████████████████████████████████████████████████████████████████| 5/5 [01:09<00:00, 13.91s/it]\n"
     ]
    },
    {
     "name": "stdout",
     "output_type": "stream",
     "text": [
      "/home/kzhou/main/Features/ARR_SPEC_256_20/CLEAN_SPEC_MIN_FY_256\n",
      "     subfolder: PHA_FY\n"
     ]
    },
    {
     "name": "stderr",
     "output_type": "stream",
     "text": [
      "0it [00:00, ?it/s]\n"
     ]
    },
    {
     "name": "stdout",
     "output_type": "stream",
     "text": [
      "/home/kzhou/main/Features/ARR_SPEC_256_20/CLEAN_SPEC_PHA_FY_256\n",
      "     subfolder: MP2_ON\n"
     ]
    },
    {
     "name": "stderr",
     "output_type": "stream",
     "text": [
      "100%|███████████████████████████████████████████████████████████████████████████| 5/5 [01:11<00:00, 14.27s/it]\n"
     ]
    },
    {
     "name": "stdout",
     "output_type": "stream",
     "text": [
      "/home/kzhou/main/Features/ARR_SPEC_256_20/CLEAN_SPEC_MP2_ON_256\n",
      "     subfolder: MIN_HO\n"
     ]
    },
    {
     "name": "stderr",
     "output_type": "stream",
     "text": [
      "100%|███████████████████████████████████████████████████████████████████████████| 5/5 [01:07<00:00, 13.58s/it]\n"
     ]
    },
    {
     "name": "stdout",
     "output_type": "stream",
     "text": [
      "/home/kzhou/main/Features/ARR_SPEC_256_20/CLEAN_SPEC_MIN_HO_256\n",
      "     subfolder: AIR_HO\n"
     ]
    },
    {
     "name": "stderr",
     "output_type": "stream",
     "text": [
      "100%|███████████████████████████████████████████████████████████████████████████| 5/5 [01:10<00:00, 14.09s/it]\n"
     ]
    },
    {
     "name": "stdout",
     "output_type": "stream",
     "text": [
      "/home/kzhou/main/Features/ARR_SPEC_256_20/CLEAN_SPEC_AIR_HO_256\n",
      "     subfolder: MP1_FY\n"
     ]
    },
    {
     "name": "stderr",
     "output_type": "stream",
     "text": [
      "100%|███████████████████████████████████████████████████████████████████████████| 5/5 [01:18<00:00, 15.65s/it]\n"
     ]
    },
    {
     "name": "stdout",
     "output_type": "stream",
     "text": [
      "/home/kzhou/main/Features/ARR_SPEC_256_20/CLEAN_SPEC_MP1_FY_256\n",
      "     subfolder: DIS_FY\n"
     ]
    },
    {
     "name": "stderr",
     "output_type": "stream",
     "text": [
      "100%|███████████████████████████████████████████████████████████████████████████| 5/5 [01:18<00:00, 15.74s/it]\n"
     ]
    },
    {
     "name": "stdout",
     "output_type": "stream",
     "text": [
      "/home/kzhou/main/Features/ARR_SPEC_256_20/CLEAN_SPEC_DIS_FY_256\n",
      "     subfolder: MIN_ON\n"
     ]
    },
    {
     "name": "stderr",
     "output_type": "stream",
     "text": [
      "100%|███████████████████████████████████████████████████████████████████████████| 5/5 [01:38<00:00, 19.74s/it]\n"
     ]
    },
    {
     "name": "stdout",
     "output_type": "stream",
     "text": [
      "/home/kzhou/main/Features/ARR_SPEC_256_20/CLEAN_SPEC_MIN_ON_256\n",
      "     subfolder: DIS_ON\n"
     ]
    },
    {
     "name": "stderr",
     "output_type": "stream",
     "text": [
      "100%|███████████████████████████████████████████████████████████████████████████| 5/5 [02:05<00:00, 25.02s/it]\n"
     ]
    },
    {
     "name": "stdout",
     "output_type": "stream",
     "text": [
      "/home/kzhou/main/Features/ARR_SPEC_256_20/CLEAN_SPEC_DIS_ON_256\n",
      "     subfolder: INS_FY\n"
     ]
    },
    {
     "name": "stderr",
     "output_type": "stream",
     "text": [
      "100%|███████████████████████████████████████████████████████████████████████████| 5/5 [01:42<00:00, 20.41s/it]\n"
     ]
    },
    {
     "name": "stdout",
     "output_type": "stream",
     "text": [
      "/home/kzhou/main/Features/ARR_SPEC_256_20/CLEAN_SPEC_INS_FY_256\n",
      "     subfolder: INS_HO\n"
     ]
    },
    {
     "name": "stderr",
     "output_type": "stream",
     "text": [
      "100%|███████████████████████████████████████████████████████████████████████████| 5/5 [02:07<00:00, 25.49s/it]\n"
     ]
    },
    {
     "name": "stdout",
     "output_type": "stream",
     "text": [
      "/home/kzhou/main/Features/ARR_SPEC_256_20/CLEAN_SPEC_INS_HO_256\n",
      "     subfolder: MP2_FY\n"
     ]
    },
    {
     "name": "stderr",
     "output_type": "stream",
     "text": [
      "100%|███████████████████████████████████████████████████████████████████████████| 5/5 [02:07<00:00, 25.46s/it]\n"
     ]
    },
    {
     "name": "stdout",
     "output_type": "stream",
     "text": [
      "/home/kzhou/main/Features/ARR_SPEC_256_20/CLEAN_SPEC_MP2_FY_256\n",
      "     subfolder: MP1_HO\n"
     ]
    },
    {
     "name": "stderr",
     "output_type": "stream",
     "text": [
      "100%|███████████████████████████████████████████████████████████████████████████| 5/5 [02:16<00:00, 27.36s/it]\n"
     ]
    },
    {
     "name": "stdout",
     "output_type": "stream",
     "text": [
      "/home/kzhou/main/Features/ARR_SPEC_256_20/CLEAN_SPEC_MP1_HO_256\n",
      "     subfolder: MP2_HO\n"
     ]
    },
    {
     "name": "stderr",
     "output_type": "stream",
     "text": [
      "100%|███████████████████████████████████████████████████████████████████████████| 5/5 [02:01<00:00, 24.37s/it]\n"
     ]
    },
    {
     "name": "stdout",
     "output_type": "stream",
     "text": [
      "/home/kzhou/main/Features/ARR_SPEC_256_20/CLEAN_SPEC_MP2_HO_256\n",
      "     subfolder: PHA_ON\n"
     ]
    },
    {
     "name": "stderr",
     "output_type": "stream",
     "text": [
      "100%|███████████████████████████████████████████████████████████████████████████| 5/5 [02:06<00:00, 25.38s/it]\n"
     ]
    },
    {
     "name": "stdout",
     "output_type": "stream",
     "text": [
      "/home/kzhou/main/Features/ARR_SPEC_256_20/CLEAN_SPEC_PHA_ON_256\n",
      "     subfolder: PHA_HO\n"
     ]
    },
    {
     "name": "stderr",
     "output_type": "stream",
     "text": [
      "100%|███████████████████████████████████████████████████████████████████████████| 5/5 [02:11<00:00, 26.40s/it]\n"
     ]
    },
    {
     "name": "stdout",
     "output_type": "stream",
     "text": [
      "/home/kzhou/main/Features/ARR_SPEC_256_20/CLEAN_SPEC_PHA_HO_256\n",
      "     subfolder: INS_ON\n"
     ]
    },
    {
     "name": "stderr",
     "output_type": "stream",
     "text": [
      "100%|███████████████████████████████████████████████████████████████████████████| 5/5 [02:23<00:00, 28.62s/it]\n"
     ]
    },
    {
     "name": "stdout",
     "output_type": "stream",
     "text": [
      "/home/kzhou/main/Features/ARR_SPEC_256_20/CLEAN_SPEC_INS_ON_256\n",
      "     subfolder: AIR_ON\n"
     ]
    },
    {
     "name": "stderr",
     "output_type": "stream",
     "text": [
      "100%|███████████████████████████████████████████████████████████████████████████| 5/5 [02:16<00:00, 27.35s/it]\n"
     ]
    },
    {
     "name": "stdout",
     "output_type": "stream",
     "text": [
      "/home/kzhou/main/Features/ARR_SPEC_256_20/CLEAN_SPEC_AIR_ON_256\n",
      "CURRENT FOLDER:  WIFI\n",
      "     subfolder: AIR_FY\n"
     ]
    },
    {
     "name": "stderr",
     "output_type": "stream",
     "text": [
      "100%|███████████████████████████████████████████████████████████████████████████| 5/5 [01:21<00:00, 16.33s/it]\n"
     ]
    },
    {
     "name": "stdout",
     "output_type": "stream",
     "text": [
      "/home/kzhou/main/Features/ARR_SPEC_256_20/WIFI_SPEC_AIR_FY_256\n",
      "     subfolder: MP1_ON\n"
     ]
    },
    {
     "name": "stderr",
     "output_type": "stream",
     "text": [
      "100%|███████████████████████████████████████████████████████████████████████████| 5/5 [03:41<00:00, 44.30s/it]\n"
     ]
    },
    {
     "name": "stdout",
     "output_type": "stream",
     "text": [
      "/home/kzhou/main/Features/ARR_SPEC_256_20/WIFI_SPEC_MP1_ON_256\n",
      "     subfolder: MIN_FY\n"
     ]
    },
    {
     "name": "stderr",
     "output_type": "stream",
     "text": [
      "100%|███████████████████████████████████████████████████████████████████████████| 5/5 [03:27<00:00, 41.45s/it]\n"
     ]
    },
    {
     "name": "stdout",
     "output_type": "stream",
     "text": [
      "/home/kzhou/main/Features/ARR_SPEC_256_20/WIFI_SPEC_MIN_FY_256\n",
      "     subfolder: PHA_FY\n"
     ]
    },
    {
     "name": "stderr",
     "output_type": "stream",
     "text": [
      "100%|███████████████████████████████████████████████████████████████████████████| 5/5 [02:47<00:00, 33.52s/it]\n"
     ]
    },
    {
     "name": "stdout",
     "output_type": "stream",
     "text": [
      "/home/kzhou/main/Features/ARR_SPEC_256_20/WIFI_SPEC_PHA_FY_256\n",
      "     subfolder: MP2_ON\n"
     ]
    },
    {
     "name": "stderr",
     "output_type": "stream",
     "text": [
      "100%|███████████████████████████████████████████████████████████████████████████| 5/5 [02:46<00:00, 33.22s/it]\n"
     ]
    },
    {
     "name": "stdout",
     "output_type": "stream",
     "text": [
      "/home/kzhou/main/Features/ARR_SPEC_256_20/WIFI_SPEC_MP2_ON_256\n",
      "     subfolder: MIN_HO\n"
     ]
    },
    {
     "name": "stderr",
     "output_type": "stream",
     "text": [
      " 20%|███████████████                                                            | 1/5 [00:33<02:13, 33.44s/it]"
     ]
    }
   ],
   "source": [
    "# Specifications on what features to generate\n",
    "n_per_seg = 256 # length of each segment (powers of 2)\n",
    "n_overlap_spec = 120\n",
    "psd_win_type = 'hamming' # make ends of each segment match\n",
    "spec_han_window = np.hanning(n_per_seg)\n",
    "t_seg = 20 # sample length in milliseconds\n",
    "feature_to_save = ['SPEC'] # what features to generate and save: SPEC or PSD, or RAW\n",
    "format_to_save = ['ARR'] # IMG or ARR\n",
    "inteference_folders = ['CLEAN','WIFI', 'BLUE', 'BOTH'] # options: ['WIFI', 'BLUE', 'BOTH', 'CLEAN']\n",
    "to_add = True # to add to existing directory\n",
    "\n",
    "# Image properties\n",
    "dim_px = (224, 224) # dimension of image pixels\n",
    "dpi = 100\n",
    "\n",
    "# RAW data downsample: length\n",
    "iq_samp_len = 10000 # 10000 is the input lengths \n",
    "\n",
    "# data saving folders\n",
    "features_folder = dronedetect_feat_path\n",
    "date_string = date.today()\n",
    "# folder naming: DATATYPE_FEAT_NFFT_SAMPLELENGTH\n",
    "arr_spec_folder = \"ARR_SPEC_\"+str(n_per_seg)+\"_\"+str(t_seg)\n",
    "arr_psd_folder = \"ARR_PSD_\"+str(n_per_seg)+\"_\"+str(t_seg)\n",
    "img_spec_folder = \"IMG_SPEC_\"+str(n_per_seg)+\"_\"+str(t_seg)\n",
    "img_psd_folder = \"IMG_PSD_\"+str(n_per_seg)+\"_\"+str(t_seg)\n",
    "iq_folder = 'IQ'+'_'+str(iq_samp_len)+\"_\"+str(t_seg)\n",
    "\n",
    "# check if this set of parameters already exists\n",
    "existing_folders = os.listdir(features_folder)\n",
    "\n",
    "# check if each of the 4 folders exist\n",
    "sa_save = False   #spec array\n",
    "si_save = False   #spec imag\n",
    "pa_save = False   #psd array\n",
    "pi_save = False   #psd imag\n",
    "iq_save = False   #iq raw\n",
    "if 'SPEC' in feature_to_save:\n",
    "    if 'ARR' in format_to_save:\n",
    "        if arr_spec_folder not in existing_folders or to_add:\n",
    "            try:\n",
    "                os.mkdir(features_folder+arr_spec_folder)\n",
    "            except:\n",
    "                print('folder already exist - adding')\n",
    "            sa_save = True\n",
    "            print('Generating SPEC in ARRAY format')\n",
    "        else:\n",
    "            print('Spec Arr folder already exists')\n",
    "    if 'IMG' in format_to_save:\n",
    "        if img_spec_folder not in existing_folders or to_add:\n",
    "            try:\n",
    "                os.mkdir(features_folder+img_spec_folder)\n",
    "            except:\n",
    "                print('folder already exist - adding')\n",
    "            si_save = True\n",
    "            print('Generating SPEC in IMAGE format')\n",
    "        else:\n",
    "            print('Spec Arr folder already exists')\n",
    "if 'PSD' in feature_to_save:\n",
    "    if 'ARR' in format_to_save:\n",
    "        if arr_psd_folder not in existing_folders or to_add:\n",
    "            try:\n",
    "                os.mkdir(features_folder+arr_psd_folder)\n",
    "            except:\n",
    "                print('folder already exist - adding')\n",
    "            pa_save = True\n",
    "            print('Generating PSD in ARRAY format')\n",
    "        else:\n",
    "            print('PSD Arr folder already exists')\n",
    "    if 'IMG' in format_to_save:\n",
    "        if img_psd_folder not in existing_folders or to_add:\n",
    "            try:\n",
    "                os.mkdir(features_folder+img_psd_folder)\n",
    "            except:\n",
    "                print('folder already exist - adding')\n",
    "            pi_save = True\n",
    "            print('Generating PSD in IMAGE format')\n",
    "        else:\n",
    "            print('PSD Arr folder already exists')\n",
    "if 'RAW' in feature_to_save:\n",
    "    if iq_folder in existing_folders or to_add:\n",
    "        try:\n",
    "            os.mkdir(features_folder+iq_folder)\n",
    "        except:\n",
    "            print('RAW IQ folder already exists')\n",
    "        iq_save = True\n",
    "            \n",
    "if all([not sa_save, not si_save, not pa_save, not pi_save, not iq_save]):\n",
    "    print('Features Already Exist - Do Not Generate')\n",
    "else:\n",
    "    ## Generate features\n",
    "\n",
    "    # loop through all files\n",
    "    for sf in inteference_folders: # options: ['WIFI', 'BLUE', 'BOTH', 'CLEAN']\n",
    "        print('CURRENT FOLDER: ', sf)\n",
    "\n",
    "        drone_folders = os.listdir(main_folder+sf+'/')\n",
    "        for df in drone_folders:\n",
    "            print('     subfolder:', df)\n",
    "            # reset lists -  to save memory\n",
    "            DRONES = []\n",
    "            CONDS =[]\n",
    "            INTS = [] # interferences: 00 for a clean signal, 01 for Bluetooth only, 10 for Wi-Fi only and 11 for Bluetooth and Wi-Fi interference concurrently.\n",
    "\n",
    "            # features\n",
    "            F_PSD = []\n",
    "            F_SPEC = []\n",
    "            F_IQ = []\n",
    "\n",
    "            files = os.listdir(main_folder+sf+'/'+df+'/')\n",
    "            \n",
    "            #labels (from folder name)\n",
    "            drone_name = df[:3]\n",
    "            cond_name = df[4:]\n",
    "\n",
    "            for fi in tqdm(files):\n",
    "                d_split, _ = load_dronedetect_raw(main_folder+sf+'/'+df+'/'+fi, t_seg)\n",
    "                \n",
    "                # labels (from file name)\n",
    "                fi_number = fi[-6:-4]\n",
    "                int_name = fi[4:6]\n",
    "                for i in range(len(d_split)): # for each split based on t_seg\n",
    "\n",
    "                    d_complex = d_split[i]\n",
    "\n",
    "                    # save labels\n",
    "                    DRONES.append(drone_name)\n",
    "                    CONDS.append(cond_name)\n",
    "                    INTS.append(int_name)\n",
    "                    \n",
    "                    # if save raw data\n",
    "                    if iq_save:\n",
    "                        t = np.arange(0, len(d_complex))\n",
    "                        f_real = interpolate.interp1d(t, d_complex.real)\n",
    "                        f_imag = interpolate.interp1d(t, d_complex.imag)\n",
    "                        tt = np.linspace(0, len(d_complex)-1, num=iq_samp_len)\n",
    "\n",
    "                        d_iq = np.stack((f_real(tt), f_imag(tt)), axis=0)\n",
    "                        F_IQ.append(d_iq)\n",
    "\n",
    "                    # calculate PSD\n",
    "                    if pa_save or pi_save:\n",
    "                        fpsd, Pxx_den = signal.welch(d_complex, fs, window=psd_win_type, nperseg=n_per_seg)\n",
    "                        if pa_save:\n",
    "                            F_PSD.append(Pxx_den)\n",
    "#                             F_PSD_freq.append(fpsd)\n",
    "                        \n",
    "                        if pi_save:\n",
    "                            save_psd_image(features_folder, img_psd_folder, drone_name, \n",
    "                                           cond_name, int_name, fi_number, i, Pxx_den, dim_px, dpi)\n",
    "\n",
    "                    # calculate spectrogram\n",
    "                    if sa_save or si_save:\n",
    "#                         fspec, t, Sxx = signal.spectrogram(d_complex, fs, window=win_type, nperseg=n_per_seg, noverlap =0) ## using minimal overlap\n",
    "                        if si_save: # set up fig properties if saving images\n",
    "                            plt.clf()\n",
    "                            fig,ax = plt.subplots(1, figsize=(dim_px[0]/dpi, dim_px[1]/dpi), dpi=dpi)\n",
    "                            fig.subplots_adjust(left=0,right=1,bottom=0,top=1)\n",
    "                            ax.axis('tight')\n",
    "                            ax.axis('off')\n",
    "                        \n",
    "                        spec, _, _, _ = plt.specgram(d_complex, NFFT=n_per_seg, Fs=fs, window=spec_han_window, \n",
    "                                          noverlap=n_overlap_spec, sides='onesided')\n",
    "                        if si_save:\n",
    "                            save_spec_image_fig(features_folder, img_spec_folder, \n",
    "                                                drone_name, cond_name, int_name, fi_number, i, fig, dpi)\n",
    "                        if sa_save:\n",
    "                            F_SPEC.append(interpolate_2d(spec, (224,224))) # reshape to square?\n",
    "#                         F_SPEC_freq.append(fspec)\n",
    "#                         F_SPEC_time.append(t)\n",
    "\n",
    "                    # save the images \n",
    "    #                 save_spec_image(features_folder, img_spec_folder, drone_name, \n",
    "    #                                 cond_name, int_name, fi_number, i, fspec, t, Sxx)\n",
    "\n",
    "    #                 # save the images \n",
    "    #                 save_psd_image(features_folder, img_psd_folder, drone_name, \n",
    "    #                                 cond_name, int_name, fi_number, i, fpsd, Pxx_den)\n",
    "\n",
    "            # save data array\n",
    "            if sa_save:\n",
    "                save_array_detect(features_folder+arr_spec_folder, F_SPEC, DRONES, CONDS, INTS, 'SPEC'+\"_\"+df, sf, n_per_seg)\n",
    "            if pa_save:\n",
    "                save_array_detect(features_folder+arr_psd_folder, F_PSD, DRONES, CONDS, INTS, 'PSD'+\"_\"+df, sf, n_per_seg)\n",
    "            if iq_save:\n",
    "                save_array_detect(features_folder+iq_folder, F_IQ, DRONES, CONDS, INTS, 'RAW'+\"_\"+df, sf, '')\n",
    "\n"
   ]
  },
  {
   "cell_type": "code",
   "execution_count": 16,
   "id": "16c344af",
   "metadata": {},
   "outputs": [],
   "source": [
    "d_iq = np.stack((d_complex.real, d_complex.imag), axis=0)"
   ]
  },
  {
   "cell_type": "code",
   "execution_count": 17,
   "id": "bdce822a",
   "metadata": {},
   "outputs": [
    {
     "data": {
      "text/plain": [
       "(2, 1200000)"
      ]
     },
     "execution_count": 17,
     "metadata": {},
     "output_type": "execute_result"
    }
   ],
   "source": [
    "d_iq.shape"
   ]
  },
  {
   "cell_type": "code",
   "execution_count": 23,
   "id": "52f0196b",
   "metadata": {},
   "outputs": [
    {
     "data": {
      "text/plain": [
       "0.008333333333333333"
      ]
     },
     "execution_count": 23,
     "metadata": {},
     "output_type": "execute_result"
    }
   ],
   "source": [
    "10000/1200000"
   ]
  },
  {
   "cell_type": "code",
   "execution_count": 22,
   "id": "2a434f1d",
   "metadata": {},
   "outputs": [],
   "source": [
    "d1 = d_iq[0]"
   ]
  },
  {
   "cell_type": "code",
   "execution_count": 21,
   "id": "6072b4fb",
   "metadata": {},
   "outputs": [
    {
     "data": {
      "text/plain": [
       "[<matplotlib.lines.Line2D at 0x7f5d40fa7af0>]"
      ]
     },
     "execution_count": 21,
     "metadata": {},
     "output_type": "execute_result"
    },
    {
     "data": {
      "image/png": "[encoded data removed]",
      "text/plain": [
       "<Figure size 432x288 with 1 Axes>"
      ]
     },
     "metadata": {
      "needs_background": "light"
     },
     "output_type": "display_data"
    }
   ],
   "source": [
    "plt.plot(d_iq[0])\n",
    "plt.plot(d_iq[1])"
   ]
  },
  {
   "cell_type": "code",
   "execution_count": 24,
   "id": "79b7a414",
   "metadata": {},
   "outputs": [],
   "source": [
    "t = np.arange(0, len(d1))\n",
    "f = interpolate.interp1d(t,d1)\n",
    "tt = np.linspace(0, len(d1)-1, num=10000)\n",
    "\n",
    "dd = f(tt)\n"
   ]
  },
  {
   "cell_type": "code",
   "execution_count": 27,
   "id": "d8ac7113",
   "metadata": {},
   "outputs": [
    {
     "data": {
      "text/plain": [
       "[<matplotlib.lines.Line2D at 0x7f5d4064c070>]"
      ]
     },
     "execution_count": 27,
     "metadata": {},
     "output_type": "execute_result"
    },
    {
     "data": {
      "image/png": "[encoded data removed]",
      "text/plain": [
       "<Figure size 432x288 with 1 Axes>"
      ]
     },
     "metadata": {
      "needs_background": "light"
     },
     "output_type": "display_data"
    }
   ],
   "source": [
    "plt.plot(tt, dd)\n",
    "plt.plot(t, d1)\n"
   ]
  },
  {
   "cell_type": "markdown",
   "id": "890257b7",
   "metadata": {},
   "source": [
    "------------------------------------------------------------------------"
   ]
  },
  {
   "cell_type": "markdown",
   "id": "cfba54f4",
   "metadata": {},
   "source": [
    "## Load Files test"
   ]
  },
  {
   "cell_type": "code",
   "execution_count": 46,
   "id": "265c152f",
   "metadata": {},
   "outputs": [],
   "source": [
    "from loading_functions import *"
   ]
  },
  {
   "cell_type": "code",
   "execution_count": 47,
   "id": "c8a9ad5d",
   "metadata": {},
   "outputs": [
    {
     "name": "stderr",
     "output_type": "stream",
     "text": [
      "100%|██████████████████████████████████████████████████████████████████████████████████████████████████████████████████████████| 80/80 [00:00<00:00, 3199.04it/s]\n"
     ]
    }
   ],
   "source": [
    "feat_folder = '../Features/'\n",
    "feat_name = 'PSD'\n",
    "# datestr = '2022-06-29'\n",
    "n_per_seg = 512\n",
    "interferences = ['WIFI']\n",
    "seg_len = 200\n",
    "output_feat = 'drones'\n",
    "# (feat_folder, feat_name, seg_len, n_per_seg, output_feat, interferences)\n",
    "Xs_arr, y_arr = load_dronedetect_features(feat_folder, feat_name, seg_len, n_per_seg, output_feat, interferences)"
   ]
  },
  {
   "cell_type": "code",
   "execution_count": 35,
   "id": "3d9f61c9",
   "metadata": {},
   "outputs": [
    {
     "data": {
      "text/plain": [
       "(1000, 512)"
      ]
     },
     "execution_count": 35,
     "metadata": {},
     "output_type": "execute_result"
    }
   ],
   "source": [
    "Xs_arr.shape"
   ]
  },
  {
   "cell_type": "markdown",
   "id": "b87533a4",
   "metadata": {},
   "source": [
    "## Plot as images test"
   ]
  },
  {
   "cell_type": "code",
   "execution_count": 48,
   "id": "77681241",
   "metadata": {},
   "outputs": [],
   "source": [
    "import importlib\n",
    "# import loading_functions\n",
    "# importlib.reload(loading_functions)"
   ]
  },
  {
   "cell_type": "code",
   "execution_count": 49,
   "id": "29ac2ed5",
   "metadata": {},
   "outputs": [
    {
     "data": {
      "image/png": "[encoded data removed]",
      "text/plain": [
       "<Figure size 500x500 with 1 Axes>"
      ]
     },
     "metadata": {
      "needs_background": "light"
     },
     "output_type": "display_data"
    }
   ],
   "source": [
    "sample_to_plot = 0\n",
    "helper_functions.plot_image(Xs_arr[sample_to_plot], dim=(224,224), dpi=100)"
   ]
  }
 ],
 "metadata": {
  "kernelspec": {
   "display_name": "Python 3 (ipykernel)",
   "language": "python",
   "name": "python3"
  },
  "language_info": {
   "codemirror_mode": {
    "name": "ipython",
    "version": 3
   },
   "file_extension": ".py",
   "mimetype": "text/x-python",
   "name": "python",
   "nbconvert_exporter": "python",
   "pygments_lexer": "ipython3",
   "version": "3.8.2"
  }
 },
 "nbformat": 4,
 "nbformat_minor": 5
}
