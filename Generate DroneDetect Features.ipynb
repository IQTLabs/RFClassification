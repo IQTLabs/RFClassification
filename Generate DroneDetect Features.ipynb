{
 "cells": [
  {
   "cell_type": "markdown",
   "id": "66f67e5f",
   "metadata": {},
   "source": [
    "### Generate RF Features\n",
    "- notebook to load data (currently: DroneDetect dataset)\n",
    "- generate RF-based features: PSD, spectrograms in array form\n"
   ]
  },
  {
   "cell_type": "code",
   "execution_count": 1,
   "id": "bd033465",
   "metadata": {},
   "outputs": [],
   "source": [
    "import os\n",
    "import numpy as np\n",
    "from numpy import sum,isrealobj,sqrt\n",
    "from numpy.random import standard_normal\n",
    "import os\n",
    "from sklearn.model_selection import train_test_split\n",
    "from spafe.features.lfcc import lfcc\n",
    "import spafe.utils.vis as vis\n",
    "from scipy.signal import get_window\n",
    "import scipy.fftpack as fft\n",
    "from scipy import signal\n",
    "import matplotlib.pyplot as plt\n",
    "from datetime import date\n",
    "from tqdm import tqdm\n",
    "from loading_functions import *\n",
    "from scipy import interpolate\n"
   ]
  },
  {
   "cell_type": "code",
   "execution_count": 2,
   "id": "157c6ea2",
   "metadata": {},
   "outputs": [],
   "source": [
    "# Reload modules for testing\n",
    "import importlib\n",
    "import helper_functions\n",
    "importlib.reload(helper_functions)\n",
    "from helper_functions import *"
   ]
  },
  {
   "cell_type": "code",
   "execution_count": 3,
   "id": "7a14d5ae",
   "metadata": {},
   "outputs": [],
   "source": [
    "# Data paths\n",
    "\n",
    "# DroneDetect\n",
    "main_folder = '/home/ltindall/data/DroneDetect/DroneDetect_V2/' # data path on mp-gpu-desktop06\n",
    "sub_folders = os.listdir(main_folder)\n",
    "\n",
    "# Dataset Info\n",
    "fs = 60e6 #60 MHz\n",
    "bandwidth = 28e6 # 28MHz\n",
    "center_freq = 2.43e9\n"
   ]
  },
  {
   "cell_type": "code",
   "execution_count": 4,
   "id": "9ca551d7",
   "metadata": {},
   "outputs": [],
   "source": [
    "## DATA SAVING FUNCTIONS\n",
    "def interpolate_2d(Sxx_in, output_size):\n",
    "    x = np.linspace(0, 1, Sxx_in.shape[0])\n",
    "    y = np.linspace(0, 1, Sxx_in.shape[1])\n",
    "    f = interpolate.interp2d(y, x, Sxx_in, kind='linear')\n",
    "    \n",
    "    x2 = np.linspace(0, 1, output_size[0])\n",
    "    y2 = np.linspace(0, 1, output_size[1])\n",
    "    arr2 = f(y2, x2)\n",
    "    \n",
    "    return arr2\n",
    "\n",
    "# save function to save image to file\n",
    "def save_spec_image(folder_path, cond_folder, DRONE, COND, INT, FIn, counter, f, t, Sxx):\n",
    "    plt.clf()\n",
    "    plt.pcolormesh(t, f, Sxx, cmap='Greys', vmin=Sxx.min(), vmax=Sxx.max())\n",
    "    full_img_path = folder_path+cond_folder+DRONE+'_'+COND+'_'+INT+'_'+FIn+'_'+str(counter)+'.jpg'\n",
    "    plt.savefig(full_img_path)\n",
    "\n",
    "# save spectrogram when passing in fig object\n",
    "def save_spec_image_fig(folder_path, cond_folder, DRONE, COND, INT, FIn, counter, fig, dpi):\n",
    "    full_img_path = folder_path+\"/\"+cond_folder+\"/\"+DRONE+'_'+COND+'_'+INT+'_'+FIn+'_'+str(counter)+'.jpg'\n",
    "    fig.savefig(full_img_path, dpi=dpi)\n",
    "    plt.close(fig)\n",
    "    plt.clf()\n",
    "    \n",
    "def save_psd_image(folder_path, cond_folder, DRONE, COND, INT, FIn, counter, PSD, dim_px, dpi):\n",
    "#     plt.clf()\n",
    "#     plt.plot(f, PSD, 'k')\n",
    "    fig = plot_feat(PSD, dim_px, dpi, to_show=False, show_axis=False)\n",
    "    full_img_path = folder_path+\"/\"+cond_folder+\"/\"+DRONE+'_'+COND+'_'+INT+'_'+FIn+'_'+str(counter)+'.jpg'\n",
    "    fig.savefig(full_img_path)    \n",
    "\n",
    "def save_array(folder_path, feat, DRONES, CONDS, INTS, feat_name, int_name):\n",
    "    Xs_arr = np.array(feat)\n",
    "    \n",
    "    # labels\n",
    "    y_drones_arr = np.array(DRONES)\n",
    "    y_conds_arr = np.array(CONDS)\n",
    "    y_ints_arr = np.array(INTS)\n",
    "\n",
    "    data_save = {'feat': Xs_arr, 'drones': y_drones_arr, 'conds': y_conds_arr, 'ints': y_ints_arr}\n",
    "\n",
    "#    #Save data\n",
    "    date_string = date.today()\n",
    "    fp = folder_path+\"/\"+int_name+\"_\"+feat_name+\"_\"+str(n_per_seg)\n",
    "    print(fp)\n",
    "    np.save(fp, data_save)"
   ]
  },
  {
   "cell_type": "code",
   "execution_count": 7,
   "id": "556af222",
   "metadata": {
    "scrolled": true
   },
   "outputs": [
    {
     "name": "stdout",
     "output_type": "stream",
     "text": [
      "folder already exist - adding\n",
      "Generating PSD in ARRAY format\n",
      "CURRENT FOLDER:  WIFI\n",
      "     subfolder: AIR_FY\n"
     ]
    },
    {
     "name": "stderr",
     "output_type": "stream",
     "text": [
      "100%|████████████████████████████████████████████████████████████████████████████████| 5/5 [00:28<00:00,  5.73s/it]\n"
     ]
    },
    {
     "name": "stdout",
     "output_type": "stream",
     "text": [
      "../Features/ARR_PSD_1024_50/WIFI_PSD_AIR_FY_1024\n",
      "     subfolder: MP1_ON\n"
     ]
    },
    {
     "name": "stderr",
     "output_type": "stream",
     "text": [
      "100%|████████████████████████████████████████████████████████████████████████████████| 5/5 [00:28<00:00,  5.70s/it]\n"
     ]
    },
    {
     "name": "stdout",
     "output_type": "stream",
     "text": [
      "../Features/ARR_PSD_1024_50/WIFI_PSD_MP1_ON_1024\n",
      "     subfolder: MIN_FY\n"
     ]
    },
    {
     "name": "stderr",
     "output_type": "stream",
     "text": [
      "100%|████████████████████████████████████████████████████████████████████████████████| 5/5 [00:28<00:00,  5.71s/it]\n"
     ]
    },
    {
     "name": "stdout",
     "output_type": "stream",
     "text": [
      "../Features/ARR_PSD_1024_50/WIFI_PSD_MIN_FY_1024\n",
      "     subfolder: PHA_FY\n"
     ]
    },
    {
     "name": "stderr",
     "output_type": "stream",
     "text": [
      "100%|████████████████████████████████████████████████████████████████████████████████| 5/5 [00:28<00:00,  5.72s/it]\n"
     ]
    },
    {
     "name": "stdout",
     "output_type": "stream",
     "text": [
      "../Features/ARR_PSD_1024_50/WIFI_PSD_PHA_FY_1024\n",
      "     subfolder: MP2_ON\n"
     ]
    },
    {
     "name": "stderr",
     "output_type": "stream",
     "text": [
      "100%|████████████████████████████████████████████████████████████████████████████████| 5/5 [00:28<00:00,  5.70s/it]\n"
     ]
    },
    {
     "name": "stdout",
     "output_type": "stream",
     "text": [
      "../Features/ARR_PSD_1024_50/WIFI_PSD_MP2_ON_1024\n",
      "     subfolder: MIN_HO\n"
     ]
    },
    {
     "name": "stderr",
     "output_type": "stream",
     "text": [
      "100%|████████████████████████████████████████████████████████████████████████████████| 5/5 [00:28<00:00,  5.72s/it]\n"
     ]
    },
    {
     "name": "stdout",
     "output_type": "stream",
     "text": [
      "../Features/ARR_PSD_1024_50/WIFI_PSD_MIN_HO_1024\n",
      "     subfolder: AIR_HO\n"
     ]
    },
    {
     "name": "stderr",
     "output_type": "stream",
     "text": [
      "100%|████████████████████████████████████████████████████████████████████████████████| 5/5 [00:28<00:00,  5.71s/it]\n"
     ]
    },
    {
     "name": "stdout",
     "output_type": "stream",
     "text": [
      "../Features/ARR_PSD_1024_50/WIFI_PSD_AIR_HO_1024\n",
      "     subfolder: MP1_FY\n"
     ]
    },
    {
     "name": "stderr",
     "output_type": "stream",
     "text": [
      "100%|████████████████████████████████████████████████████████████████████████████████| 5/5 [00:28<00:00,  5.75s/it]\n"
     ]
    },
    {
     "name": "stdout",
     "output_type": "stream",
     "text": [
      "../Features/ARR_PSD_1024_50/WIFI_PSD_MP1_FY_1024\n",
      "     subfolder: DIS_FY\n"
     ]
    },
    {
     "name": "stderr",
     "output_type": "stream",
     "text": [
      "100%|████████████████████████████████████████████████████████████████████████████████| 5/5 [00:28<00:00,  5.70s/it]\n"
     ]
    },
    {
     "name": "stdout",
     "output_type": "stream",
     "text": [
      "../Features/ARR_PSD_1024_50/WIFI_PSD_DIS_FY_1024\n",
      "     subfolder: MIN_ON\n"
     ]
    },
    {
     "name": "stderr",
     "output_type": "stream",
     "text": [
      "100%|████████████████████████████████████████████████████████████████████████████████| 5/5 [00:28<00:00,  5.73s/it]\n"
     ]
    },
    {
     "name": "stdout",
     "output_type": "stream",
     "text": [
      "../Features/ARR_PSD_1024_50/WIFI_PSD_MIN_ON_1024\n",
      "     subfolder: DIS_ON\n"
     ]
    },
    {
     "name": "stderr",
     "output_type": "stream",
     "text": [
      "100%|████████████████████████████████████████████████████████████████████████████████| 5/5 [00:29<00:00,  5.98s/it]\n"
     ]
    },
    {
     "name": "stdout",
     "output_type": "stream",
     "text": [
      "../Features/ARR_PSD_1024_50/WIFI_PSD_DIS_ON_1024\n",
      "     subfolder: INS_FY\n"
     ]
    },
    {
     "name": "stderr",
     "output_type": "stream",
     "text": [
      "100%|████████████████████████████████████████████████████████████████████████████████| 5/5 [00:30<00:00,  6.05s/it]\n"
     ]
    },
    {
     "name": "stdout",
     "output_type": "stream",
     "text": [
      "../Features/ARR_PSD_1024_50/WIFI_PSD_INS_FY_1024\n",
      "     subfolder: INS_HO\n"
     ]
    },
    {
     "name": "stderr",
     "output_type": "stream",
     "text": [
      "100%|████████████████████████████████████████████████████████████████████████████████| 5/5 [00:30<00:00,  6.04s/it]\n"
     ]
    },
    {
     "name": "stdout",
     "output_type": "stream",
     "text": [
      "../Features/ARR_PSD_1024_50/WIFI_PSD_INS_HO_1024\n",
      "     subfolder: MP2_FY\n"
     ]
    },
    {
     "name": "stderr",
     "output_type": "stream",
     "text": [
      "100%|████████████████████████████████████████████████████████████████████████████████| 5/5 [00:30<00:00,  6.07s/it]\n"
     ]
    },
    {
     "name": "stdout",
     "output_type": "stream",
     "text": [
      "../Features/ARR_PSD_1024_50/WIFI_PSD_MP2_FY_1024\n",
      "     subfolder: MP1_HO\n"
     ]
    },
    {
     "name": "stderr",
     "output_type": "stream",
     "text": [
      "100%|████████████████████████████████████████████████████████████████████████████████| 5/5 [00:29<00:00,  5.87s/it]\n"
     ]
    },
    {
     "name": "stdout",
     "output_type": "stream",
     "text": [
      "../Features/ARR_PSD_1024_50/WIFI_PSD_MP1_HO_1024\n",
      "     subfolder: MP2_HO\n"
     ]
    },
    {
     "name": "stderr",
     "output_type": "stream",
     "text": [
      "100%|████████████████████████████████████████████████████████████████████████████████| 5/5 [00:30<00:00,  6.08s/it]\n"
     ]
    },
    {
     "name": "stdout",
     "output_type": "stream",
     "text": [
      "../Features/ARR_PSD_1024_50/WIFI_PSD_MP2_HO_1024\n",
      "     subfolder: PHA_ON\n"
     ]
    },
    {
     "name": "stderr",
     "output_type": "stream",
     "text": [
      "100%|████████████████████████████████████████████████████████████████████████████████| 5/5 [00:30<00:00,  6.06s/it]\n"
     ]
    },
    {
     "name": "stdout",
     "output_type": "stream",
     "text": [
      "../Features/ARR_PSD_1024_50/WIFI_PSD_PHA_ON_1024\n",
      "     subfolder: PHA_HO\n"
     ]
    },
    {
     "name": "stderr",
     "output_type": "stream",
     "text": [
      "100%|████████████████████████████████████████████████████████████████████████████████| 5/5 [00:29<00:00,  5.94s/it]\n"
     ]
    },
    {
     "name": "stdout",
     "output_type": "stream",
     "text": [
      "../Features/ARR_PSD_1024_50/WIFI_PSD_PHA_HO_1024\n",
      "     subfolder: INS_ON\n"
     ]
    },
    {
     "name": "stderr",
     "output_type": "stream",
     "text": [
      "100%|████████████████████████████████████████████████████████████████████████████████| 5/5 [00:29<00:00,  5.97s/it]\n"
     ]
    },
    {
     "name": "stdout",
     "output_type": "stream",
     "text": [
      "../Features/ARR_PSD_1024_50/WIFI_PSD_INS_ON_1024\n",
      "     subfolder: AIR_ON\n"
     ]
    },
    {
     "name": "stderr",
     "output_type": "stream",
     "text": [
      "100%|████████████████████████████████████████████████████████████████████████████████| 5/5 [00:29<00:00,  5.80s/it]\n"
     ]
    },
    {
     "name": "stdout",
     "output_type": "stream",
     "text": [
      "../Features/ARR_PSD_1024_50/WIFI_PSD_AIR_ON_1024\n",
      "CURRENT FOLDER:  BLUE\n",
      "     subfolder: AIR_FY\n"
     ]
    },
    {
     "name": "stderr",
     "output_type": "stream",
     "text": [
      "100%|████████████████████████████████████████████████████████████████████████████████| 5/5 [00:29<00:00,  5.85s/it]\n"
     ]
    },
    {
     "name": "stdout",
     "output_type": "stream",
     "text": [
      "../Features/ARR_PSD_1024_50/BLUE_PSD_AIR_FY_1024\n",
      "     subfolder: MP1_ON\n"
     ]
    },
    {
     "name": "stderr",
     "output_type": "stream",
     "text": [
      "100%|████████████████████████████████████████████████████████████████████████████████| 5/5 [00:29<00:00,  5.82s/it]\n"
     ]
    },
    {
     "name": "stdout",
     "output_type": "stream",
     "text": [
      "../Features/ARR_PSD_1024_50/BLUE_PSD_MP1_ON_1024\n",
      "     subfolder: MIN_FY\n"
     ]
    },
    {
     "name": "stderr",
     "output_type": "stream",
     "text": [
      "100%|████████████████████████████████████████████████████████████████████████████████| 5/5 [00:29<00:00,  5.81s/it]\n"
     ]
    },
    {
     "name": "stdout",
     "output_type": "stream",
     "text": [
      "../Features/ARR_PSD_1024_50/BLUE_PSD_MIN_FY_1024\n",
      "     subfolder: PHA_FY\n"
     ]
    },
    {
     "name": "stderr",
     "output_type": "stream",
     "text": [
      "0it [00:00, ?it/s]\n"
     ]
    },
    {
     "name": "stdout",
     "output_type": "stream",
     "text": [
      "../Features/ARR_PSD_1024_50/BLUE_PSD_PHA_FY_1024\n",
      "     subfolder: MP2_ON\n"
     ]
    },
    {
     "name": "stderr",
     "output_type": "stream",
     "text": [
      "100%|████████████████████████████████████████████████████████████████████████████████| 5/5 [00:28<00:00,  5.65s/it]\n"
     ]
    },
    {
     "name": "stdout",
     "output_type": "stream",
     "text": [
      "../Features/ARR_PSD_1024_50/BLUE_PSD_MP2_ON_1024\n",
      "     subfolder: MIN_HO\n"
     ]
    },
    {
     "name": "stderr",
     "output_type": "stream",
     "text": [
      "100%|████████████████████████████████████████████████████████████████████████████████| 5/5 [00:29<00:00,  5.84s/it]\n"
     ]
    },
    {
     "name": "stdout",
     "output_type": "stream",
     "text": [
      "../Features/ARR_PSD_1024_50/BLUE_PSD_MIN_HO_1024\n",
      "     subfolder: AIR_HO\n"
     ]
    },
    {
     "name": "stderr",
     "output_type": "stream",
     "text": [
      "100%|████████████████████████████████████████████████████████████████████████████████| 5/5 [00:29<00:00,  5.92s/it]\n"
     ]
    },
    {
     "name": "stdout",
     "output_type": "stream",
     "text": [
      "../Features/ARR_PSD_1024_50/BLUE_PSD_AIR_HO_1024\n",
      "     subfolder: MP1_FY\n"
     ]
    },
    {
     "name": "stderr",
     "output_type": "stream",
     "text": [
      "100%|████████████████████████████████████████████████████████████████████████████████| 5/5 [00:29<00:00,  5.87s/it]\n"
     ]
    },
    {
     "name": "stdout",
     "output_type": "stream",
     "text": [
      "../Features/ARR_PSD_1024_50/BLUE_PSD_MP1_FY_1024\n",
      "     subfolder: DIS_FY\n"
     ]
    },
    {
     "name": "stderr",
     "output_type": "stream",
     "text": [
      "100%|████████████████████████████████████████████████████████████████████████████████| 5/5 [00:29<00:00,  5.91s/it]\n"
     ]
    },
    {
     "name": "stdout",
     "output_type": "stream",
     "text": [
      "../Features/ARR_PSD_1024_50/BLUE_PSD_DIS_FY_1024\n",
      "     subfolder: MIN_ON\n"
     ]
    },
    {
     "name": "stderr",
     "output_type": "stream",
     "text": [
      "100%|████████████████████████████████████████████████████████████████████████████████| 5/5 [00:29<00:00,  5.97s/it]\n"
     ]
    },
    {
     "name": "stdout",
     "output_type": "stream",
     "text": [
      "../Features/ARR_PSD_1024_50/BLUE_PSD_MIN_ON_1024\n",
      "     subfolder: DIS_ON\n"
     ]
    },
    {
     "name": "stderr",
     "output_type": "stream",
     "text": [
      "100%|████████████████████████████████████████████████████████████████████████████████| 5/5 [00:29<00:00,  5.99s/it]\n"
     ]
    },
    {
     "name": "stdout",
     "output_type": "stream",
     "text": [
      "../Features/ARR_PSD_1024_50/BLUE_PSD_DIS_ON_1024\n",
      "     subfolder: INS_FY\n"
     ]
    },
    {
     "name": "stderr",
     "output_type": "stream",
     "text": [
      "100%|████████████████████████████████████████████████████████████████████████████████| 5/5 [00:29<00:00,  5.87s/it]\n"
     ]
    },
    {
     "name": "stdout",
     "output_type": "stream",
     "text": [
      "../Features/ARR_PSD_1024_50/BLUE_PSD_INS_FY_1024\n",
      "     subfolder: INS_HO\n"
     ]
    },
    {
     "name": "stderr",
     "output_type": "stream",
     "text": [
      "100%|████████████████████████████████████████████████████████████████████████████████| 5/5 [00:29<00:00,  5.99s/it]\n"
     ]
    },
    {
     "name": "stdout",
     "output_type": "stream",
     "text": [
      "../Features/ARR_PSD_1024_50/BLUE_PSD_INS_HO_1024\n",
      "     subfolder: MP2_FY\n"
     ]
    },
    {
     "name": "stderr",
     "output_type": "stream",
     "text": [
      "100%|████████████████████████████████████████████████████████████████████████████████| 5/5 [00:30<00:00,  6.01s/it]\n"
     ]
    },
    {
     "name": "stdout",
     "output_type": "stream",
     "text": [
      "../Features/ARR_PSD_1024_50/BLUE_PSD_MP2_FY_1024\n",
      "     subfolder: MP1_HO\n"
     ]
    },
    {
     "name": "stderr",
     "output_type": "stream",
     "text": [
      "100%|████████████████████████████████████████████████████████████████████████████████| 5/5 [00:29<00:00,  6.00s/it]\n"
     ]
    },
    {
     "name": "stdout",
     "output_type": "stream",
     "text": [
      "../Features/ARR_PSD_1024_50/BLUE_PSD_MP1_HO_1024\n",
      "     subfolder: MP2_HO\n"
     ]
    },
    {
     "name": "stderr",
     "output_type": "stream",
     "text": [
      "100%|████████████████████████████████████████████████████████████████████████████████| 5/5 [00:30<00:00,  6.01s/it]\n"
     ]
    },
    {
     "name": "stdout",
     "output_type": "stream",
     "text": [
      "../Features/ARR_PSD_1024_50/BLUE_PSD_MP2_HO_1024\n",
      "     subfolder: PHA_ON\n"
     ]
    },
    {
     "name": "stderr",
     "output_type": "stream",
     "text": [
      "100%|████████████████████████████████████████████████████████████████████████████████| 5/5 [00:28<00:00,  5.80s/it]\n"
     ]
    },
    {
     "name": "stdout",
     "output_type": "stream",
     "text": [
      "../Features/ARR_PSD_1024_50/BLUE_PSD_PHA_ON_1024\n",
      "     subfolder: PHA_HO\n"
     ]
    },
    {
     "name": "stderr",
     "output_type": "stream",
     "text": [
      "100%|████████████████████████████████████████████████████████████████████████████████| 5/5 [00:29<00:00,  5.90s/it]\n"
     ]
    },
    {
     "name": "stdout",
     "output_type": "stream",
     "text": [
      "../Features/ARR_PSD_1024_50/BLUE_PSD_PHA_HO_1024\n",
      "     subfolder: INS_ON\n"
     ]
    },
    {
     "name": "stderr",
     "output_type": "stream",
     "text": [
      "100%|████████████████████████████████████████████████████████████████████████████████| 5/5 [00:29<00:00,  5.83s/it]\n"
     ]
    },
    {
     "name": "stdout",
     "output_type": "stream",
     "text": [
      "../Features/ARR_PSD_1024_50/BLUE_PSD_INS_ON_1024\n",
      "     subfolder: AIR_ON\n"
     ]
    },
    {
     "name": "stderr",
     "output_type": "stream",
     "text": [
      "100%|████████████████████████████████████████████████████████████████████████████████| 5/5 [00:29<00:00,  5.87s/it]\n"
     ]
    },
    {
     "name": "stdout",
     "output_type": "stream",
     "text": [
      "../Features/ARR_PSD_1024_50/BLUE_PSD_AIR_ON_1024\n",
      "CURRENT FOLDER:  BOTH\n",
      "     subfolder: AIR_FY\n"
     ]
    },
    {
     "name": "stderr",
     "output_type": "stream",
     "text": [
      "100%|████████████████████████████████████████████████████████████████████████████████| 5/5 [00:29<00:00,  5.84s/it]\n"
     ]
    },
    {
     "name": "stdout",
     "output_type": "stream",
     "text": [
      "../Features/ARR_PSD_1024_50/BOTH_PSD_AIR_FY_1024\n",
      "     subfolder: MP1_ON\n"
     ]
    },
    {
     "name": "stderr",
     "output_type": "stream",
     "text": [
      "100%|████████████████████████████████████████████████████████████████████████████████| 5/5 [00:29<00:00,  5.89s/it]\n"
     ]
    },
    {
     "name": "stdout",
     "output_type": "stream",
     "text": [
      "../Features/ARR_PSD_1024_50/BOTH_PSD_MP1_ON_1024\n",
      "     subfolder: MIN_FY\n"
     ]
    },
    {
     "name": "stderr",
     "output_type": "stream",
     "text": [
      "100%|████████████████████████████████████████████████████████████████████████████████| 5/5 [00:29<00:00,  5.90s/it]\n"
     ]
    },
    {
     "name": "stdout",
     "output_type": "stream",
     "text": [
      "../Features/ARR_PSD_1024_50/BOTH_PSD_MIN_FY_1024\n",
      "     subfolder: PHA_FY\n"
     ]
    },
    {
     "name": "stderr",
     "output_type": "stream",
     "text": [
      "100%|████████████████████████████████████████████████████████████████████████████████| 5/5 [00:29<00:00,  5.92s/it]\n"
     ]
    },
    {
     "name": "stdout",
     "output_type": "stream",
     "text": [
      "../Features/ARR_PSD_1024_50/BOTH_PSD_PHA_FY_1024\n",
      "     subfolder: MP2_ON\n"
     ]
    },
    {
     "name": "stderr",
     "output_type": "stream",
     "text": [
      "100%|████████████████████████████████████████████████████████████████████████████████| 5/5 [00:29<00:00,  5.93s/it]\n"
     ]
    },
    {
     "name": "stdout",
     "output_type": "stream",
     "text": [
      "../Features/ARR_PSD_1024_50/BOTH_PSD_MP2_ON_1024\n",
      "     subfolder: MIN_HO\n"
     ]
    },
    {
     "name": "stderr",
     "output_type": "stream",
     "text": [
      "100%|████████████████████████████████████████████████████████████████████████████████| 5/5 [00:29<00:00,  5.94s/it]\n"
     ]
    },
    {
     "name": "stdout",
     "output_type": "stream",
     "text": [
      "../Features/ARR_PSD_1024_50/BOTH_PSD_MIN_HO_1024\n",
      "     subfolder: AIR_HO\n"
     ]
    },
    {
     "name": "stderr",
     "output_type": "stream",
     "text": [
      "100%|████████████████████████████████████████████████████████████████████████████████| 5/5 [00:29<00:00,  5.87s/it]\n"
     ]
    },
    {
     "name": "stdout",
     "output_type": "stream",
     "text": [
      "../Features/ARR_PSD_1024_50/BOTH_PSD_AIR_HO_1024\n",
      "     subfolder: MP1_FY\n"
     ]
    },
    {
     "name": "stderr",
     "output_type": "stream",
     "text": [
      "100%|████████████████████████████████████████████████████████████████████████████████| 5/5 [00:29<00:00,  5.94s/it]\n"
     ]
    },
    {
     "name": "stdout",
     "output_type": "stream",
     "text": [
      "../Features/ARR_PSD_1024_50/BOTH_PSD_MP1_FY_1024\n",
      "     subfolder: DIS_FY\n"
     ]
    },
    {
     "name": "stderr",
     "output_type": "stream",
     "text": [
      "100%|████████████████████████████████████████████████████████████████████████████████| 5/5 [00:30<00:00,  6.03s/it]\n"
     ]
    },
    {
     "name": "stdout",
     "output_type": "stream",
     "text": [
      "../Features/ARR_PSD_1024_50/BOTH_PSD_DIS_FY_1024\n",
      "     subfolder: MIN_ON\n"
     ]
    },
    {
     "name": "stderr",
     "output_type": "stream",
     "text": [
      "100%|████████████████████████████████████████████████████████████████████████████████| 5/5 [00:29<00:00,  5.94s/it]\n"
     ]
    },
    {
     "name": "stdout",
     "output_type": "stream",
     "text": [
      "../Features/ARR_PSD_1024_50/BOTH_PSD_MIN_ON_1024\n",
      "     subfolder: DIS_ON\n"
     ]
    },
    {
     "name": "stderr",
     "output_type": "stream",
     "text": [
      "100%|████████████████████████████████████████████████████████████████████████████████| 5/5 [00:30<00:00,  6.00s/it]\n"
     ]
    },
    {
     "name": "stdout",
     "output_type": "stream",
     "text": [
      "../Features/ARR_PSD_1024_50/BOTH_PSD_DIS_ON_1024\n",
      "     subfolder: INS_FY\n"
     ]
    },
    {
     "name": "stderr",
     "output_type": "stream",
     "text": [
      "100%|████████████████████████████████████████████████████████████████████████████████| 5/5 [00:28<00:00,  5.76s/it]\n"
     ]
    },
    {
     "name": "stdout",
     "output_type": "stream",
     "text": [
      "../Features/ARR_PSD_1024_50/BOTH_PSD_INS_FY_1024\n",
      "     subfolder: INS_HO\n"
     ]
    },
    {
     "name": "stderr",
     "output_type": "stream",
     "text": [
      "100%|████████████████████████████████████████████████████████████████████████████████| 5/5 [00:29<00:00,  5.83s/it]\n"
     ]
    },
    {
     "name": "stdout",
     "output_type": "stream",
     "text": [
      "../Features/ARR_PSD_1024_50/BOTH_PSD_INS_HO_1024\n",
      "     subfolder: MP2_FY\n"
     ]
    },
    {
     "name": "stderr",
     "output_type": "stream",
     "text": [
      "100%|████████████████████████████████████████████████████████████████████████████████| 5/5 [00:28<00:00,  5.77s/it]\n"
     ]
    },
    {
     "name": "stdout",
     "output_type": "stream",
     "text": [
      "../Features/ARR_PSD_1024_50/BOTH_PSD_MP2_FY_1024\n",
      "     subfolder: MP1_HO\n"
     ]
    },
    {
     "name": "stderr",
     "output_type": "stream",
     "text": [
      "100%|████████████████████████████████████████████████████████████████████████████████| 5/5 [00:28<00:00,  5.80s/it]\n"
     ]
    },
    {
     "name": "stdout",
     "output_type": "stream",
     "text": [
      "../Features/ARR_PSD_1024_50/BOTH_PSD_MP1_HO_1024\n",
      "     subfolder: MP2_HO\n"
     ]
    },
    {
     "name": "stderr",
     "output_type": "stream",
     "text": [
      "100%|████████████████████████████████████████████████████████████████████████████████| 5/5 [00:29<00:00,  5.85s/it]\n"
     ]
    },
    {
     "name": "stdout",
     "output_type": "stream",
     "text": [
      "../Features/ARR_PSD_1024_50/BOTH_PSD_MP2_HO_1024\n",
      "     subfolder: PHA_ON\n"
     ]
    },
    {
     "name": "stderr",
     "output_type": "stream",
     "text": [
      "100%|████████████████████████████████████████████████████████████████████████████████| 5/5 [00:29<00:00,  5.94s/it]\n"
     ]
    },
    {
     "name": "stdout",
     "output_type": "stream",
     "text": [
      "../Features/ARR_PSD_1024_50/BOTH_PSD_PHA_ON_1024\n",
      "     subfolder: PHA_HO\n"
     ]
    },
    {
     "name": "stderr",
     "output_type": "stream",
     "text": [
      "100%|████████████████████████████████████████████████████████████████████████████████| 5/5 [00:29<00:00,  5.86s/it]\n"
     ]
    },
    {
     "name": "stdout",
     "output_type": "stream",
     "text": [
      "../Features/ARR_PSD_1024_50/BOTH_PSD_PHA_HO_1024\n",
      "     subfolder: INS_ON\n"
     ]
    },
    {
     "name": "stderr",
     "output_type": "stream",
     "text": [
      "100%|████████████████████████████████████████████████████████████████████████████████| 5/5 [00:29<00:00,  5.97s/it]\n"
     ]
    },
    {
     "name": "stdout",
     "output_type": "stream",
     "text": [
      "../Features/ARR_PSD_1024_50/BOTH_PSD_INS_ON_1024\n",
      "     subfolder: AIR_ON\n"
     ]
    },
    {
     "name": "stderr",
     "output_type": "stream",
     "text": [
      "100%|████████████████████████████████████████████████████████████████████████████████| 5/5 [00:29<00:00,  5.90s/it]\n"
     ]
    },
    {
     "name": "stdout",
     "output_type": "stream",
     "text": [
      "../Features/ARR_PSD_1024_50/BOTH_PSD_AIR_ON_1024\n",
      "CURRENT FOLDER:  CLEAN\n",
      "     subfolder: AIR_FY\n"
     ]
    },
    {
     "name": "stderr",
     "output_type": "stream",
     "text": [
      "100%|████████████████████████████████████████████████████████████████████████████████| 5/5 [00:29<00:00,  5.96s/it]\n"
     ]
    },
    {
     "name": "stdout",
     "output_type": "stream",
     "text": [
      "../Features/ARR_PSD_1024_50/CLEAN_PSD_AIR_FY_1024\n",
      "     subfolder: MP1_ON\n"
     ]
    },
    {
     "name": "stderr",
     "output_type": "stream",
     "text": [
      "100%|████████████████████████████████████████████████████████████████████████████████| 5/5 [00:29<00:00,  5.82s/it]\n"
     ]
    },
    {
     "name": "stdout",
     "output_type": "stream",
     "text": [
      "../Features/ARR_PSD_1024_50/CLEAN_PSD_MP1_ON_1024\n",
      "     subfolder: MIN_FY\n"
     ]
    },
    {
     "name": "stderr",
     "output_type": "stream",
     "text": [
      "100%|████████████████████████████████████████████████████████████████████████████████| 5/5 [00:29<00:00,  5.97s/it]\n"
     ]
    },
    {
     "name": "stdout",
     "output_type": "stream",
     "text": [
      "../Features/ARR_PSD_1024_50/CLEAN_PSD_MIN_FY_1024\n",
      "     subfolder: PHA_FY\n"
     ]
    },
    {
     "name": "stderr",
     "output_type": "stream",
     "text": [
      "0it [00:00, ?it/s]\n"
     ]
    },
    {
     "name": "stdout",
     "output_type": "stream",
     "text": [
      "../Features/ARR_PSD_1024_50/CLEAN_PSD_PHA_FY_1024\n",
      "     subfolder: MP2_ON\n"
     ]
    },
    {
     "name": "stderr",
     "output_type": "stream",
     "text": [
      "100%|████████████████████████████████████████████████████████████████████████████████| 5/5 [00:29<00:00,  5.95s/it]\n"
     ]
    },
    {
     "name": "stdout",
     "output_type": "stream",
     "text": [
      "../Features/ARR_PSD_1024_50/CLEAN_PSD_MP2_ON_1024\n",
      "     subfolder: MIN_HO\n"
     ]
    },
    {
     "name": "stderr",
     "output_type": "stream",
     "text": [
      "100%|████████████████████████████████████████████████████████████████████████████████| 5/5 [00:29<00:00,  5.89s/it]\n"
     ]
    },
    {
     "name": "stdout",
     "output_type": "stream",
     "text": [
      "../Features/ARR_PSD_1024_50/CLEAN_PSD_MIN_HO_1024\n",
      "     subfolder: AIR_HO\n"
     ]
    },
    {
     "name": "stderr",
     "output_type": "stream",
     "text": [
      "100%|████████████████████████████████████████████████████████████████████████████████| 5/5 [00:30<00:00,  6.01s/it]\n"
     ]
    },
    {
     "name": "stdout",
     "output_type": "stream",
     "text": [
      "../Features/ARR_PSD_1024_50/CLEAN_PSD_AIR_HO_1024\n",
      "     subfolder: MP1_FY\n"
     ]
    },
    {
     "name": "stderr",
     "output_type": "stream",
     "text": [
      "100%|████████████████████████████████████████████████████████████████████████████████| 5/5 [00:29<00:00,  5.99s/it]\n"
     ]
    },
    {
     "name": "stdout",
     "output_type": "stream",
     "text": [
      "../Features/ARR_PSD_1024_50/CLEAN_PSD_MP1_FY_1024\n",
      "     subfolder: DIS_FY\n"
     ]
    },
    {
     "name": "stderr",
     "output_type": "stream",
     "text": [
      "100%|████████████████████████████████████████████████████████████████████████████████| 5/5 [00:29<00:00,  5.86s/it]\n"
     ]
    },
    {
     "name": "stdout",
     "output_type": "stream",
     "text": [
      "../Features/ARR_PSD_1024_50/CLEAN_PSD_DIS_FY_1024\n",
      "     subfolder: MIN_ON\n"
     ]
    },
    {
     "name": "stderr",
     "output_type": "stream",
     "text": [
      "100%|████████████████████████████████████████████████████████████████████████████████| 5/5 [00:29<00:00,  5.87s/it]\n"
     ]
    },
    {
     "name": "stdout",
     "output_type": "stream",
     "text": [
      "../Features/ARR_PSD_1024_50/CLEAN_PSD_MIN_ON_1024\n",
      "     subfolder: DIS_ON\n"
     ]
    },
    {
     "name": "stderr",
     "output_type": "stream",
     "text": [
      "100%|████████████████████████████████████████████████████████████████████████████████| 5/5 [00:29<00:00,  5.85s/it]\n"
     ]
    },
    {
     "name": "stdout",
     "output_type": "stream",
     "text": [
      "../Features/ARR_PSD_1024_50/CLEAN_PSD_DIS_ON_1024\n",
      "     subfolder: INS_FY\n"
     ]
    },
    {
     "name": "stderr",
     "output_type": "stream",
     "text": [
      "100%|████████████████████████████████████████████████████████████████████████████████| 5/5 [00:28<00:00,  5.73s/it]\n"
     ]
    },
    {
     "name": "stdout",
     "output_type": "stream",
     "text": [
      "../Features/ARR_PSD_1024_50/CLEAN_PSD_INS_FY_1024\n",
      "     subfolder: INS_HO\n"
     ]
    },
    {
     "name": "stderr",
     "output_type": "stream",
     "text": [
      "100%|████████████████████████████████████████████████████████████████████████████████| 5/5 [00:29<00:00,  5.99s/it]\n"
     ]
    },
    {
     "name": "stdout",
     "output_type": "stream",
     "text": [
      "../Features/ARR_PSD_1024_50/CLEAN_PSD_INS_HO_1024\n",
      "     subfolder: MP2_FY\n"
     ]
    },
    {
     "name": "stderr",
     "output_type": "stream",
     "text": [
      "100%|████████████████████████████████████████████████████████████████████████████████| 5/5 [00:30<00:00,  6.02s/it]\n"
     ]
    },
    {
     "name": "stdout",
     "output_type": "stream",
     "text": [
      "../Features/ARR_PSD_1024_50/CLEAN_PSD_MP2_FY_1024\n",
      "     subfolder: MP1_HO\n"
     ]
    },
    {
     "name": "stderr",
     "output_type": "stream",
     "text": [
      "100%|████████████████████████████████████████████████████████████████████████████████| 5/5 [00:29<00:00,  5.97s/it]\n"
     ]
    },
    {
     "name": "stdout",
     "output_type": "stream",
     "text": [
      "../Features/ARR_PSD_1024_50/CLEAN_PSD_MP1_HO_1024\n",
      "     subfolder: MP2_HO\n"
     ]
    },
    {
     "name": "stderr",
     "output_type": "stream",
     "text": [
      "100%|████████████████████████████████████████████████████████████████████████████████| 5/5 [00:29<00:00,  5.91s/it]\n"
     ]
    },
    {
     "name": "stdout",
     "output_type": "stream",
     "text": [
      "../Features/ARR_PSD_1024_50/CLEAN_PSD_MP2_HO_1024\n",
      "     subfolder: PHA_ON\n"
     ]
    },
    {
     "name": "stderr",
     "output_type": "stream",
     "text": [
      "100%|████████████████████████████████████████████████████████████████████████████████| 5/5 [00:29<00:00,  5.96s/it]\n"
     ]
    },
    {
     "name": "stdout",
     "output_type": "stream",
     "text": [
      "../Features/ARR_PSD_1024_50/CLEAN_PSD_PHA_ON_1024\n",
      "     subfolder: PHA_HO\n"
     ]
    },
    {
     "name": "stderr",
     "output_type": "stream",
     "text": [
      "100%|████████████████████████████████████████████████████████████████████████████████| 5/5 [00:29<00:00,  5.90s/it]\n"
     ]
    },
    {
     "name": "stdout",
     "output_type": "stream",
     "text": [
      "../Features/ARR_PSD_1024_50/CLEAN_PSD_PHA_HO_1024\n",
      "     subfolder: INS_ON\n"
     ]
    },
    {
     "name": "stderr",
     "output_type": "stream",
     "text": [
      "100%|████████████████████████████████████████████████████████████████████████████████| 5/5 [00:29<00:00,  5.93s/it]\n"
     ]
    },
    {
     "name": "stdout",
     "output_type": "stream",
     "text": [
      "../Features/ARR_PSD_1024_50/CLEAN_PSD_INS_ON_1024\n",
      "     subfolder: AIR_ON\n"
     ]
    },
    {
     "name": "stderr",
     "output_type": "stream",
     "text": [
      "100%|████████████████████████████████████████████████████████████████████████████████| 5/5 [00:30<00:00,  6.03s/it]"
     ]
    },
    {
     "name": "stdout",
     "output_type": "stream",
     "text": [
      "../Features/ARR_PSD_1024_50/CLEAN_PSD_AIR_ON_1024\n"
     ]
    },
    {
     "name": "stderr",
     "output_type": "stream",
     "text": [
      "\n"
     ]
    }
   ],
   "source": [
    "# Specifications on what features to generate\n",
    "n_per_seg = 1024 # length of each segment (powers of 2)\n",
    "n_overlap_spec = 120\n",
    "psd_win_type = 'hamming' # make ends of each segment match\n",
    "spec_han_window = np.hanning(n_per_seg)\n",
    "t_seg = 50 # sample length in milliseconds\n",
    "feature_to_save = ['PSD'] # what features to generate and save: SPEC or PSD\n",
    "format_to_save = ['ARR'] # IMG or ARR\n",
    "inteference_folders = ['WIFI', 'BLUE', 'BOTH', 'CLEAN'] # options: ['WIFI', 'BLUE', 'BOTH', 'CLEAN']\n",
    "to_add = True # to add to existing directory\n",
    "\n",
    "# Image properties\n",
    "dim_px = (224, 224) # dimension of image pixels\n",
    "dpi = 100\n",
    "\n",
    "# data saving folders\n",
    "features_folder = '../Features/'\n",
    "date_string = date.today()\n",
    "# folder naming: DATATYPE_FEAT_NFFT_SAMPLELENGTH\n",
    "arr_spec_folder = \"ARR_SPEC_\"+str(n_per_seg)+\"_\"+str(t_seg)\n",
    "arr_psd_folder = \"ARR_PSD_\"+str(n_per_seg)+\"_\"+str(t_seg)\n",
    "img_spec_folder = \"IMG_SPEC_\"+str(n_per_seg)+\"_\"+str(t_seg)\n",
    "img_psd_folder = \"IMG_PSD_\"+str(n_per_seg)+\"_\"+str(t_seg)\n",
    "\n",
    "# check if this set of parameters already exists\n",
    "existing_folders = os.listdir(features_folder)\n",
    "\n",
    "# check if each of the 4 folders exist\n",
    "sa_save = False   #spec array\n",
    "si_save = False   #spec imag\n",
    "pa_save = False   #psd array\n",
    "pi_save = False   #psd imag\n",
    "if 'SPEC' in feature_to_save:\n",
    "    if 'ARR' in format_to_save:\n",
    "        if arr_spec_folder not in existing_folders or to_add:\n",
    "            try:\n",
    "                os.mkdir(features_folder+arr_spec_folder)\n",
    "            except:\n",
    "                print('folder already exist - adding')\n",
    "            sa_save = True\n",
    "            print('Generating SPEC in ARRAY format')\n",
    "        else:\n",
    "            print('Spec Arr folder already exists')\n",
    "    if 'IMG' in format_to_save:\n",
    "        if img_spec_folder not in existing_folders or to_add:\n",
    "            try:\n",
    "                os.mkdir(features_folder+img_spec_folder)\n",
    "            except:\n",
    "                print('folder already exist - adding')\n",
    "            si_save = True\n",
    "            print('Generating SPEC in IMAGE format')\n",
    "        else:\n",
    "            print('Spec Arr folder already exists')\n",
    "if 'PSD' in feature_to_save:\n",
    "    if 'ARR' in format_to_save:\n",
    "        if arr_psd_folder not in existing_folders or to_add:\n",
    "            try:\n",
    "                os.mkdir(features_folder+arr_psd_folder)\n",
    "            except:\n",
    "                print('folder already exist - adding')\n",
    "            pa_save = True\n",
    "            print('Generating PSD in ARRAY format')\n",
    "        else:\n",
    "            print('PSD Arr folder already exists')\n",
    "    if 'IMG' in format_to_save:\n",
    "        if img_psd_folder not in existing_folders or to_add:\n",
    "            try:\n",
    "                os.mkdir(features_folder+img_psd_folder)\n",
    "            except:\n",
    "                print('folder already exist - adding')\n",
    "            pi_save = True\n",
    "            print('Generating PSD in IMAGE format')\n",
    "        else:\n",
    "            print('PSD Arr folder already exists')            \n",
    "            \n",
    "if all([not sa_save, not si_save, not pa_save, not pi_save]):\n",
    "    print('Features Already Exist - Do Not Generate')\n",
    "else:\n",
    "    ## Generate features\n",
    "\n",
    "    # loop through all files\n",
    "    for sf in inteference_folders: # options: ['WIFI', 'BLUE', 'BOTH', 'CLEAN']\n",
    "        print('CURRENT FOLDER: ', sf)\n",
    "\n",
    "        drone_folders = os.listdir(main_folder+sf+'/')\n",
    "        for df in drone_folders:\n",
    "            print('     subfolder:', df)\n",
    "            # reset lists -  to save memory\n",
    "            DRONES = []\n",
    "            CONDS =[]\n",
    "            INTS = [] # interferences: 00 for a clean signal, 01 for Bluetooth only, 10 for Wi-Fi only and 11 for Bluetooth and Wi-Fi interference concurrently.\n",
    "\n",
    "            # features\n",
    "            F_PSD = []\n",
    "#             F_PSD_freq = []\n",
    "\n",
    "            F_SPEC = []\n",
    "#             F_SPEC_freq = []\n",
    "#             F_SPEC_time = []\n",
    "\n",
    "            files = os.listdir(main_folder+sf+'/'+df+'/')\n",
    "            \n",
    "            #labels (from folder name)\n",
    "            drone_name = df[:3]\n",
    "            cond_name = df[4:]\n",
    "\n",
    "            for fi in tqdm(files):\n",
    "                d_split, _ = load_dronedetect_raw(main_folder+sf+'/'+df+'/'+fi, t_seg)\n",
    "                \n",
    "                # labels (from file name)\n",
    "                fi_number = fi[-6:-4]\n",
    "                int_name = fi[4:6]\n",
    "                for i in range(len(d_split)): # for each split based on t_seg\n",
    "\n",
    "                    d_complex = d_split[i]\n",
    "\n",
    "                    # save labels\n",
    "                    DRONES.append(drone_name)\n",
    "                    CONDS.append(cond_name)\n",
    "                    INTS.append(int_name)\n",
    "\n",
    "                    # calculate PSD\n",
    "                    if pa_save or pi_save:\n",
    "                        fpsd, Pxx_den = signal.welch(d_complex, fs, window=psd_win_type, nperseg=n_per_seg)\n",
    "                        if pa_save:\n",
    "                            F_PSD.append(Pxx_den)\n",
    "#                             F_PSD_freq.append(fpsd)\n",
    "                        \n",
    "                        if pi_save:\n",
    "                            save_psd_image(features_folder, img_psd_folder, drone_name, \n",
    "                                           cond_name, int_name, fi_number, i, Pxx_den, dim_px, dpi)\n",
    "\n",
    "                    # calculate spectrogram\n",
    "                    if sa_save or si_save:\n",
    "#                         fspec, t, Sxx = signal.spectrogram(d_complex, fs, window=win_type, nperseg=n_per_seg, noverlap =0) ## using minimal overlap\n",
    "                        if si_save: # set up fig properties if saving images\n",
    "                            plt.clf()\n",
    "                            fig,ax = plt.subplots(1, figsize=(dim_px[0]/dpi, dim_px[1]/dpi), dpi=dpi)\n",
    "                            fig.subplots_adjust(left=0,right=1,bottom=0,top=1)\n",
    "                            ax.axis('tight')\n",
    "                            ax.axis('off')\n",
    "                        \n",
    "                        spec, _, _, _ = plt.specgram(d_complex, NFFT=n_per_seg, Fs=fs, window=spec_han_window, \n",
    "                                          noverlap=n_overlap_spec, sides='onesided')\n",
    "                        if si_save:\n",
    "                            save_spec_image_fig(features_folder, img_spec_folder, \n",
    "                                                drone_name, cond_name, int_name, fi_number, i, fig, dpi)\n",
    "                        if sa_save:\n",
    "                            F_SPEC.append(interpolate_2d(sp[0], (224,224))) # reshape to square?\n",
    "#                         F_SPEC_freq.append(fspec)\n",
    "#                         F_SPEC_time.append(t)\n",
    "\n",
    "                    # save the images \n",
    "    #                 save_spec_image(features_folder, img_spec_folder, drone_name, \n",
    "    #                                 cond_name, int_name, fi_number, i, fspec, t, Sxx)\n",
    "\n",
    "    #                 # save the images \n",
    "    #                 save_psd_image(features_folder, img_psd_folder, drone_name, \n",
    "    #                                 cond_name, int_name, fi_number, i, fpsd, Pxx_den)\n",
    "\n",
    "            # save data array\n",
    "            if sa_save:\n",
    "                save_array(features_folder+arr_spec_folder, F_SPEC, DRONES, CONDS, INTS, 'SPEC'+\"_\"+df, sf)\n",
    "            if pa_save:\n",
    "                save_array(features_folder+arr_psd_folder, F_PSD, DRONES, CONDS, INTS, 'PSD'+\"_\"+df, sf)\n",
    "\n"
   ]
  },
  {
   "cell_type": "code",
   "execution_count": 14,
   "id": "4e01dd81",
   "metadata": {},
   "outputs": [
    {
     "name": "stdout",
     "output_type": "stream",
     "text": [
      "                          bins: 24.0 KiB\n",
      "                           _i5:  6.4 KiB\n",
      "                           _i6:  6.4 KiB\n",
      "                           _ii:  6.4 KiB\n",
      "                          _i12:  6.4 KiB\n",
      "               spec_han_window:  4.1 KiB\n",
      "                        DRONES:  2.5 KiB\n",
      "                         CONDS:  2.5 KiB\n",
      "                          INTS:  2.5 KiB\n",
      "                          tqdm:  2.0 KiB\n"
     ]
    }
   ],
   "source": [
    "import sys\n",
    "def sizeof_fmt(num, suffix='B'):\n",
    "    ''' by Fred Cirera,  https://stackoverflow.com/a/1094933/1870254, modified'''\n",
    "    for unit in ['','Ki','Mi','Gi','Ti','Pi','Ei','Zi']:\n",
    "        if abs(num) < 1024.0:\n",
    "            return \"%3.1f %s%s\" % (num, unit, suffix)\n",
    "        num /= 1024.0\n",
    "    return \"%.1f %s%s\" % (num, 'Yi', suffix)\n",
    "\n",
    "for name, size in sorted(((name, sys.getsizeof(value)) for name, value in locals().items()),\n",
    "                         key= lambda x: -x[1])[:10]:\n",
    "    print(\"{:>30}: {:>8}\".format(name, sizeof_fmt(size)))"
   ]
  },
  {
   "cell_type": "code",
   "execution_count": 10,
   "id": "260c86c4",
   "metadata": {},
   "outputs": [
    {
     "data": {
      "text/plain": [
       "dict_items([('__name__', '__main__'), ('__doc__', 'Automatically created module for IPython interactive environment'), ('__package__', None), ('__loader__', None), ('__spec__', None), ('__builtin__', <module 'builtins' (built-in)>), ('__builtins__', <module 'builtins' (built-in)>), ('_ih', ['', 'import os\\nimport numpy as np\\nfrom numpy import sum,isrealobj,sqrt\\nfrom numpy.random import standard_normal\\nimport os\\nfrom sklearn.model_selection import train_test_split\\nfrom spafe.features.lfcc import lfcc\\nimport spafe.utils.vis as vis\\nfrom scipy.signal import get_window\\nimport scipy.fftpack as fft\\nfrom scipy import signal\\nimport matplotlib.pyplot as plt\\nfrom datetime import date\\nfrom tqdm import tqdm\\nfrom loading_functions import *\\nfrom scipy import interpolate', '# Reload modules for testing\\nimport importlib\\nimport helper_functions\\nimportlib.reload(helper_functions)\\nfrom helper_functions import *', \"# Data paths\\n\\n# DroneDetect\\nmain_folder = '/home/ltindall/data/DroneDetect/DroneDetect_V2/' # data path on mp-gpu-desktop06\\nsub_folders = os.listdir(main_folder)\\n\\n# Dataset Info\\nfs = 60e6 #60 MHz\\nbandwidth = 28e6 # 28MHz\\ncenter_freq = 2.43e9\", '## DATA SAVING FUNCTIONS\\ndef interpolate_2d(Sxx_in, output_size):\\n    x = np.linspace(0, 1, Sxx_in.shape[0])\\n    y = np.linspace(0, 1, Sxx_in.shape[1])\\n    f = interpolate.interp2d(y, x, Sxx_in, kind=\\'linear\\')\\n    \\n    x2 = np.linspace(0, 1, output_size[0])\\n    y2 = np.linspace(0, 1, output_size[1])\\n    arr2 = f(y2, x2)\\n    \\n    return arr2\\n\\n# save function to save image to file\\ndef save_spec_image(folder_path, cond_folder, DRONE, COND, INT, FIn, counter, f, t, Sxx):\\n    plt.clf()\\n    plt.pcolormesh(t, f, Sxx, cmap=\\'Greys\\', vmin=Sxx.min(), vmax=Sxx.max())\\n    full_img_path = folder_path+cond_folder+DRONE+\\'_\\'+COND+\\'_\\'+INT+\\'_\\'+FIn+\\'_\\'+str(counter)+\\'.jpg\\'\\n    plt.savefig(full_img_path)\\n\\n# save spectrogram when passing in fig object\\ndef save_spec_image_fig(folder_path, cond_folder, DRONE, COND, INT, FIn, counter, fig, dpi):\\n    full_img_path = folder_path+\"/\"+cond_folder+\"/\"+DRONE+\\'_\\'+COND+\\'_\\'+INT+\\'_\\'+FIn+\\'_\\'+str(counter)+\\'.jpg\\'\\n    fig.savefig(full_img_path, dpi=dpi)\\n    plt.close(fig)\\n    plt.clf()\\n    \\ndef save_psd_image(folder_path, cond_folder, DRONE, COND, INT, FIn, counter, PSD, dim_px, dpi):\\n#     plt.clf()\\n#     plt.plot(f, PSD, \\'k\\')\\n    fig = plot_feat(PSD, dim_px, dpi, to_show=False, show_axis=False)\\n    full_img_path = folder_path+\"/\"+cond_folder+\"/\"+DRONE+\\'_\\'+COND+\\'_\\'+INT+\\'_\\'+FIn+\\'_\\'+str(counter)+\\'.jpg\\'\\n    fig.savefig(full_img_path)    \\n\\ndef save_array(folder_path, feat, DRONES, CONDS, INTS, feat_name, int_name):\\n    Xs_arr = np.array(feat)\\n    \\n    # labels\\n    y_drones_arr = np.array(DRONES)\\n    y_conds_arr = np.array(CONDS)\\n    y_ints_arr = np.array(INTS)\\n\\n    data_save = {\\'feat\\': Xs_arr, \\'drones\\': y_drones_arr, \\'conds\\': y_conds_arr, \\'ints\\': y_ints_arr}\\n\\n#    #Save data\\n    date_string = date.today()\\n    fp = folder_path+\"/\"+int_name+\"_\"+feat_name+\"_\"+str(n_per_seg)\\n    print(fp)\\n    np.save(fp, data_save)', '# Specifications on what features to generate\\nn_per_seg = 1024 # length of each segment (powers of 2)\\nn_overlap_spec = 120\\npsd_win_type = \\'hamming\\' # make ends of each segment match\\nspec_han_window = np.hanning(n_per_seg)\\nt_seg = 20 # sample length in milliseconds\\nfeature_to_save = [\\'SPEC\\'] # what features to generate and save: SPEC or PSD\\nformat_to_save = [\\'IMG\\'] # IMG or ARR\\ninteference_folders = [\\'WIFI\\', \\'BLUE\\', \\'BOTH\\', \\'CLEAN\\'] # options: [\\'WIFI\\', \\'BLUE\\', \\'BOTH\\', \\'CLEAN\\']\\n\\n# Image properties\\ndim_px = (224, 224) # dimension of image pixels\\ndpi = 100\\n\\n# data saving folders\\nfeatures_folder = \\'../Features/\\'\\ndate_string = date.today()\\n# folder naming: DATATYPE_FEAT_NFFT_SAMPLELENGTH\\narr_spec_folder = \"ARR_SPEC_\"+str(n_per_seg)+\"_\"+str(t_seg)\\narr_psd_folder = \"ARR_PSD_\"+str(n_per_seg)+\"_\"+str(t_seg)\\nimg_spec_folder = \"IMG_SPEC_\"+str(n_per_seg)+\"_\"+str(t_seg)\\nimg_psd_folder = \"IMG_PSD_\"+str(n_per_seg)+\"_\"+str(t_seg)\\n\\n# check if this set of parameters already exists\\nexisting_folders = os.listdir(features_folder)\\n\\n# check if each of the 4 folders exist\\nsa_save = False   #spec array\\nsi_save = False   #spec imag\\npa_save = False   #psd array\\npi_save = False   #psd imag\\nif \\'SPEC\\' in feature_to_save:\\n    if \\'ARR\\' in format_to_save:\\n        if arr_spec_folder not in existing_folders:\\n            os.mkdir(features_folder+arr_spec_folder)\\n            sa_save = True\\n            print(\\'Generating SPEC in ARRAY format\\')\\n        else:\\n            print(\\'Spec Arr folder already exists\\')\\n    if \\'IMG\\' in format_to_save:\\n        if img_spec_folder not in existing_folders:\\n            os.mkdir(features_folder+img_spec_folder)\\n            si_save = True\\n            print(\\'Generating SPEC in IMAGE format\\')\\n        else:\\n            print(\\'Spec Arr folder already exists\\')\\nif \\'PSD\\' in feature_to_save:\\n    if \\'ARR\\' in format_to_save:\\n        if arr_psd_folder not in existing_folders:\\n            os.mkdir(features_folder+arr_psd_folder)\\n            pa_save = True\\n            print(\\'Generating PSD in ARRAY format\\')\\n        else:\\n            print(\\'PSD Arr folder already exists\\')\\n    if \\'IMG\\' in format_to_save:\\n        if img_psd_folder not in existing_folders:\\n            os.mkdir(features_folder+img_psd_folder)\\n            pi_save = True\\n            print(\\'Generating PSD in IMAGE format\\')\\n        else:\\n            print(\\'PSD Arr folder already exists\\')            \\n            \\nif all([not sa_save, not si_save, not pa_save, not pi_save]):\\n    print(\\'Features Already Exist - Do Not Generate\\')\\nelse:\\n    ## Generate features\\n\\n    # loop through all files\\n    for sf in inteference_folders: # options: [\\'WIFI\\', \\'BLUE\\', \\'BOTH\\', \\'CLEAN\\']\\n        print(\\'CURRENT FOLDER: \\', sf)\\n\\n        drone_folders = os.listdir(main_folder+sf+\\'/\\')\\n        for df in drone_folders:\\n            print(\\'     subfolder:\\', df)\\n            # reset lists -  to save memory\\n            DRONES = []\\n            CONDS =[]\\n            INTS = [] # interferences: 00 for a clean signal, 01 for Bluetooth only, 10 for Wi-Fi only and 11 for Bluetooth and Wi-Fi interference concurrently.\\n\\n            # features\\n            F_PSD = []\\n#             F_PSD_freq = []\\n\\n            F_SPEC = []\\n#             F_SPEC_freq = []\\n#             F_SPEC_time = []\\n\\n            files = os.listdir(main_folder+sf+\\'/\\'+df+\\'/\\')\\n            \\n            #labels (from folder name)\\n            drone_name = df[:3]\\n            cond_name = df[4:]\\n\\n            for fi in tqdm(files):\\n                d_split, _ = load_dronedetect_raw(main_folder+sf+\\'/\\'+df+\\'/\\'+fi, t_seg)\\n                \\n                # labels (from file name)\\n                fi_number = fi[-6:-4]\\n                int_name = fi[4:6]\\n                for i in range(len(d_split)): # for each split based on t_seg\\n\\n                    d_complex = d_split[i]\\n\\n                    # save labels\\n                    DRONES.append(drone_name)\\n                    CONDS.append(cond_name)\\n                    INTS.append(int_name)\\n\\n                    # calculate PSD\\n                    if pa_save or pi_save:\\n                        fpsd, Pxx_den = signal.welch(d_complex, fs, window=psd_win_type, nperseg=n_per_seg)\\n                        if pa_save:\\n                            F_PSD.append(Pxx_den)\\n                            F_PSD_freq.append(fpsd)\\n                        \\n                        if pi_save:\\n                            save_psd_image(features_folder, img_psd_folder, drone_name, \\n                                           cond_name, int_name, fi_number, i, Pxx_den, dim_px, dpi)\\n\\n                    # calculate spectrogram\\n                    if sa_save or si_save:\\n#                         fspec, t, Sxx = signal.spectrogram(d_complex, fs, window=win_type, nperseg=n_per_seg, noverlap =0) ## using minimal overlap\\n                        if si_save: # set up fig properties if saving images\\n                            plt.clf()\\n                            fig,ax = plt.subplots(1, figsize=(dim_px[0]/dpi, dim_px[1]/dpi), dpi=dpi)\\n                            fig.subplots_adjust(left=0,right=1,bottom=0,top=1)\\n                            ax.axis(\\'tight\\')\\n                            ax.axis(\\'off\\')\\n                        \\n                        spec, freqs, bins, im = plt.specgram(d_complex, NFFT=n_per_seg, Fs=fs, window=spec_han_window, \\n                                          noverlap=n_overlap_spec, sides=\\'onesided\\')\\n                        if si_save:\\n                            save_spec_image_fig(features_folder, img_spec_folder, \\n                                                drone_name, cond_name, int_name, fi_number, i, fig, dpi)\\n                        if sa_save:\\n                            F_SPEC.append(interpolate_2d(sp[0], (224,224))) # reshape to square?\\n#                         F_SPEC_freq.append(fspec)\\n#                         F_SPEC_time.append(t)\\n\\n                    # save the images \\n    #                 save_spec_image(features_folder, img_spec_folder, drone_name, \\n    #                                 cond_name, int_name, fi_number, i, fspec, t, Sxx)\\n\\n    #                 # save the images \\n    #                 save_psd_image(features_folder, img_psd_folder, drone_name, \\n    #                                 cond_name, int_name, fi_number, i, fpsd, Pxx_den)\\n\\n            # save data array\\n            if sa_save:\\n                save_array(features_folder+arr_spec_folder, F_SPEC, DRONES, CONDS, INTS, \\'SPEC\\'+\"_\"+df, sf)\\n            if pa_save:\\n                save_array(features_folder+arr_psd_folder, F_PSD, DRONES, CONDS, INTS, \\'PSD\\'+\"_\"+df, sf)', '# Specifications on what features to generate\\nn_per_seg = 512 # length of each segment (powers of 2)\\nn_overlap_spec = 120\\npsd_win_type = \\'hamming\\' # make ends of each segment match\\nspec_han_window = np.hanning(n_per_seg)\\nt_seg = 20 # sample length in milliseconds\\nfeature_to_save = [\\'SPEC\\'] # what features to generate and save: SPEC or PSD\\nformat_to_save = [\\'IMG\\'] # IMG or ARR\\ninteference_folders = [\\'WIFI\\', \\'BLUE\\', \\'BOTH\\', \\'CLEAN\\'] # options: [\\'WIFI\\', \\'BLUE\\', \\'BOTH\\', \\'CLEAN\\']\\n\\n# Image properties\\ndim_px = (224, 224) # dimension of image pixels\\ndpi = 100\\n\\n# data saving folders\\nfeatures_folder = \\'../Features/\\'\\ndate_string = date.today()\\n# folder naming: DATATYPE_FEAT_NFFT_SAMPLELENGTH\\narr_spec_folder = \"ARR_SPEC_\"+str(n_per_seg)+\"_\"+str(t_seg)\\narr_psd_folder = \"ARR_PSD_\"+str(n_per_seg)+\"_\"+str(t_seg)\\nimg_spec_folder = \"IMG_SPEC_\"+str(n_per_seg)+\"_\"+str(t_seg)\\nimg_psd_folder = \"IMG_PSD_\"+str(n_per_seg)+\"_\"+str(t_seg)\\n\\n# check if this set of parameters already exists\\nexisting_folders = os.listdir(features_folder)\\n\\n# check if each of the 4 folders exist\\nsa_save = False   #spec array\\nsi_save = False   #spec imag\\npa_save = False   #psd array\\npi_save = False   #psd imag\\nif \\'SPEC\\' in feature_to_save:\\n    if \\'ARR\\' in format_to_save:\\n        if arr_spec_folder not in existing_folders:\\n            os.mkdir(features_folder+arr_spec_folder)\\n            sa_save = True\\n            print(\\'Generating SPEC in ARRAY format\\')\\n        else:\\n            print(\\'Spec Arr folder already exists\\')\\n    if \\'IMG\\' in format_to_save:\\n        if img_spec_folder not in existing_folders:\\n            os.mkdir(features_folder+img_spec_folder)\\n            si_save = True\\n            print(\\'Generating SPEC in IMAGE format\\')\\n        else:\\n            print(\\'Spec Arr folder already exists\\')\\nif \\'PSD\\' in feature_to_save:\\n    if \\'ARR\\' in format_to_save:\\n        if arr_psd_folder not in existing_folders:\\n            os.mkdir(features_folder+arr_psd_folder)\\n            pa_save = True\\n            print(\\'Generating PSD in ARRAY format\\')\\n        else:\\n            print(\\'PSD Arr folder already exists\\')\\n    if \\'IMG\\' in format_to_save:\\n        if img_psd_folder not in existing_folders:\\n            os.mkdir(features_folder+img_psd_folder)\\n            pi_save = True\\n            print(\\'Generating PSD in IMAGE format\\')\\n        else:\\n            print(\\'PSD Arr folder already exists\\')            \\n            \\nif all([not sa_save, not si_save, not pa_save, not pi_save]):\\n    print(\\'Features Already Exist - Do Not Generate\\')\\nelse:\\n    ## Generate features\\n\\n    # loop through all files\\n    for sf in inteference_folders: # options: [\\'WIFI\\', \\'BLUE\\', \\'BOTH\\', \\'CLEAN\\']\\n        print(\\'CURRENT FOLDER: \\', sf)\\n\\n        drone_folders = os.listdir(main_folder+sf+\\'/\\')\\n        for df in drone_folders:\\n            print(\\'     subfolder:\\', df)\\n            # reset lists -  to save memory\\n            DRONES = []\\n            CONDS =[]\\n            INTS = [] # interferences: 00 for a clean signal, 01 for Bluetooth only, 10 for Wi-Fi only and 11 for Bluetooth and Wi-Fi interference concurrently.\\n\\n            # features\\n            F_PSD = []\\n#             F_PSD_freq = []\\n\\n            F_SPEC = []\\n#             F_SPEC_freq = []\\n#             F_SPEC_time = []\\n\\n            files = os.listdir(main_folder+sf+\\'/\\'+df+\\'/\\')\\n            \\n            #labels (from folder name)\\n            drone_name = df[:3]\\n            cond_name = df[4:]\\n\\n            for fi in tqdm(files):\\n                d_split, _ = load_dronedetect_raw(main_folder+sf+\\'/\\'+df+\\'/\\'+fi, t_seg)\\n                \\n                # labels (from file name)\\n                fi_number = fi[-6:-4]\\n                int_name = fi[4:6]\\n                for i in range(len(d_split)): # for each split based on t_seg\\n\\n                    d_complex = d_split[i]\\n\\n                    # save labels\\n                    DRONES.append(drone_name)\\n                    CONDS.append(cond_name)\\n                    INTS.append(int_name)\\n\\n                    # calculate PSD\\n                    if pa_save or pi_save:\\n                        fpsd, Pxx_den = signal.welch(d_complex, fs, window=psd_win_type, nperseg=n_per_seg)\\n                        if pa_save:\\n                            F_PSD.append(Pxx_den)\\n                            F_PSD_freq.append(fpsd)\\n                        \\n                        if pi_save:\\n                            save_psd_image(features_folder, img_psd_folder, drone_name, \\n                                           cond_name, int_name, fi_number, i, Pxx_den, dim_px, dpi)\\n\\n                    # calculate spectrogram\\n                    if sa_save or si_save:\\n#                         fspec, t, Sxx = signal.spectrogram(d_complex, fs, window=win_type, nperseg=n_per_seg, noverlap =0) ## using minimal overlap\\n                        if si_save: # set up fig properties if saving images\\n                            plt.clf()\\n                            fig,ax = plt.subplots(1, figsize=(dim_px[0]/dpi, dim_px[1]/dpi), dpi=dpi)\\n                            fig.subplots_adjust(left=0,right=1,bottom=0,top=1)\\n                            ax.axis(\\'tight\\')\\n                            ax.axis(\\'off\\')\\n                        \\n                        spec, freqs, bins, im = plt.specgram(d_complex, NFFT=n_per_seg, Fs=fs, window=spec_han_window, \\n                                          noverlap=n_overlap_spec, sides=\\'onesided\\')\\n                        if si_save:\\n                            save_spec_image_fig(features_folder, img_spec_folder, \\n                                                drone_name, cond_name, int_name, fi_number, i, fig, dpi)\\n                        if sa_save:\\n                            F_SPEC.append(interpolate_2d(sp[0], (224,224))) # reshape to square?\\n#                         F_SPEC_freq.append(fspec)\\n#                         F_SPEC_time.append(t)\\n\\n                    # save the images \\n    #                 save_spec_image(features_folder, img_spec_folder, drone_name, \\n    #                                 cond_name, int_name, fi_number, i, fspec, t, Sxx)\\n\\n    #                 # save the images \\n    #                 save_psd_image(features_folder, img_psd_folder, drone_name, \\n    #                                 cond_name, int_name, fi_number, i, fpsd, Pxx_den)\\n\\n            # save data array\\n            if sa_save:\\n                save_array(features_folder+arr_spec_folder, F_SPEC, DRONES, CONDS, INTS, \\'SPEC\\'+\"_\"+df, sf)\\n            if pa_save:\\n                save_array(features_folder+arr_psd_folder, F_PSD, DRONES, CONDS, INTS, \\'PSD\\'+\"_\"+df, sf)', \"get_ipython().run_line_magic('who', '')\", \"get_ipython().run_line_magic('whos', '')\", 'import sys\\ndef sizeof_fmt(num, suffix=\\'B\\'):\\n    \\'\\'\\' by Fred Cirera,  https://stackoverflow.com/a/1094933/1870254, modified\\'\\'\\'\\n    for unit in [\\'\\',\\'Ki\\',\\'Mi\\',\\'Gi\\',\\'Ti\\',\\'Pi\\',\\'Ei\\',\\'Zi\\']:\\n        if abs(num) < 1024.0:\\n            return \"%3.1f %s%s\" % (num, unit, suffix)\\n        num /= 1024.0\\n    return \"%.1f %s%s\" % (num, \\'Yi\\', suffix)\\n\\nfor name, size in sorted(((name, sys.getsizeof(value)) for name, value in locals().items()),\\n                         key= lambda x: -x[1])[:10]:\\n    print(\"{:>30}: {:>8}\".format(name, sizeof_fmt(size)))', 'locals().items()']), ('_oh', {}), ('_dh', [PosixPath('/home/kzhou/main/RFClassification')]), ('In', ['', 'import os\\nimport numpy as np\\nfrom numpy import sum,isrealobj,sqrt\\nfrom numpy.random import standard_normal\\nimport os\\nfrom sklearn.model_selection import train_test_split\\nfrom spafe.features.lfcc import lfcc\\nimport spafe.utils.vis as vis\\nfrom scipy.signal import get_window\\nimport scipy.fftpack as fft\\nfrom scipy import signal\\nimport matplotlib.pyplot as plt\\nfrom datetime import date\\nfrom tqdm import tqdm\\nfrom loading_functions import *\\nfrom scipy import interpolate', '# Reload modules for testing\\nimport importlib\\nimport helper_functions\\nimportlib.reload(helper_functions)\\nfrom helper_functions import *', \"# Data paths\\n\\n# DroneDetect\\nmain_folder = '/home/ltindall/data/DroneDetect/DroneDetect_V2/' # data path on mp-gpu-desktop06\\nsub_folders = os.listdir(main_folder)\\n\\n# Dataset Info\\nfs = 60e6 #60 MHz\\nbandwidth = 28e6 # 28MHz\\ncenter_freq = 2.43e9\", '## DATA SAVING FUNCTIONS\\ndef interpolate_2d(Sxx_in, output_size):\\n    x = np.linspace(0, 1, Sxx_in.shape[0])\\n    y = np.linspace(0, 1, Sxx_in.shape[1])\\n    f = interpolate.interp2d(y, x, Sxx_in, kind=\\'linear\\')\\n    \\n    x2 = np.linspace(0, 1, output_size[0])\\n    y2 = np.linspace(0, 1, output_size[1])\\n    arr2 = f(y2, x2)\\n    \\n    return arr2\\n\\n# save function to save image to file\\ndef save_spec_image(folder_path, cond_folder, DRONE, COND, INT, FIn, counter, f, t, Sxx):\\n    plt.clf()\\n    plt.pcolormesh(t, f, Sxx, cmap=\\'Greys\\', vmin=Sxx.min(), vmax=Sxx.max())\\n    full_img_path = folder_path+cond_folder+DRONE+\\'_\\'+COND+\\'_\\'+INT+\\'_\\'+FIn+\\'_\\'+str(counter)+\\'.jpg\\'\\n    plt.savefig(full_img_path)\\n\\n# save spectrogram when passing in fig object\\ndef save_spec_image_fig(folder_path, cond_folder, DRONE, COND, INT, FIn, counter, fig, dpi):\\n    full_img_path = folder_path+\"/\"+cond_folder+\"/\"+DRONE+\\'_\\'+COND+\\'_\\'+INT+\\'_\\'+FIn+\\'_\\'+str(counter)+\\'.jpg\\'\\n    fig.savefig(full_img_path, dpi=dpi)\\n    plt.close(fig)\\n    plt.clf()\\n    \\ndef save_psd_image(folder_path, cond_folder, DRONE, COND, INT, FIn, counter, PSD, dim_px, dpi):\\n#     plt.clf()\\n#     plt.plot(f, PSD, \\'k\\')\\n    fig = plot_feat(PSD, dim_px, dpi, to_show=False, show_axis=False)\\n    full_img_path = folder_path+\"/\"+cond_folder+\"/\"+DRONE+\\'_\\'+COND+\\'_\\'+INT+\\'_\\'+FIn+\\'_\\'+str(counter)+\\'.jpg\\'\\n    fig.savefig(full_img_path)    \\n\\ndef save_array(folder_path, feat, DRONES, CONDS, INTS, feat_name, int_name):\\n    Xs_arr = np.array(feat)\\n    \\n    # labels\\n    y_drones_arr = np.array(DRONES)\\n    y_conds_arr = np.array(CONDS)\\n    y_ints_arr = np.array(INTS)\\n\\n    data_save = {\\'feat\\': Xs_arr, \\'drones\\': y_drones_arr, \\'conds\\': y_conds_arr, \\'ints\\': y_ints_arr}\\n\\n#    #Save data\\n    date_string = date.today()\\n    fp = folder_path+\"/\"+int_name+\"_\"+feat_name+\"_\"+str(n_per_seg)\\n    print(fp)\\n    np.save(fp, data_save)', '# Specifications on what features to generate\\nn_per_seg = 1024 # length of each segment (powers of 2)\\nn_overlap_spec = 120\\npsd_win_type = \\'hamming\\' # make ends of each segment match\\nspec_han_window = np.hanning(n_per_seg)\\nt_seg = 20 # sample length in milliseconds\\nfeature_to_save = [\\'SPEC\\'] # what features to generate and save: SPEC or PSD\\nformat_to_save = [\\'IMG\\'] # IMG or ARR\\ninteference_folders = [\\'WIFI\\', \\'BLUE\\', \\'BOTH\\', \\'CLEAN\\'] # options: [\\'WIFI\\', \\'BLUE\\', \\'BOTH\\', \\'CLEAN\\']\\n\\n# Image properties\\ndim_px = (224, 224) # dimension of image pixels\\ndpi = 100\\n\\n# data saving folders\\nfeatures_folder = \\'../Features/\\'\\ndate_string = date.today()\\n# folder naming: DATATYPE_FEAT_NFFT_SAMPLELENGTH\\narr_spec_folder = \"ARR_SPEC_\"+str(n_per_seg)+\"_\"+str(t_seg)\\narr_psd_folder = \"ARR_PSD_\"+str(n_per_seg)+\"_\"+str(t_seg)\\nimg_spec_folder = \"IMG_SPEC_\"+str(n_per_seg)+\"_\"+str(t_seg)\\nimg_psd_folder = \"IMG_PSD_\"+str(n_per_seg)+\"_\"+str(t_seg)\\n\\n# check if this set of parameters already exists\\nexisting_folders = os.listdir(features_folder)\\n\\n# check if each of the 4 folders exist\\nsa_save = False   #spec array\\nsi_save = False   #spec imag\\npa_save = False   #psd array\\npi_save = False   #psd imag\\nif \\'SPEC\\' in feature_to_save:\\n    if \\'ARR\\' in format_to_save:\\n        if arr_spec_folder not in existing_folders:\\n            os.mkdir(features_folder+arr_spec_folder)\\n            sa_save = True\\n            print(\\'Generating SPEC in ARRAY format\\')\\n        else:\\n            print(\\'Spec Arr folder already exists\\')\\n    if \\'IMG\\' in format_to_save:\\n        if img_spec_folder not in existing_folders:\\n            os.mkdir(features_folder+img_spec_folder)\\n            si_save = True\\n            print(\\'Generating SPEC in IMAGE format\\')\\n        else:\\n            print(\\'Spec Arr folder already exists\\')\\nif \\'PSD\\' in feature_to_save:\\n    if \\'ARR\\' in format_to_save:\\n        if arr_psd_folder not in existing_folders:\\n            os.mkdir(features_folder+arr_psd_folder)\\n            pa_save = True\\n            print(\\'Generating PSD in ARRAY format\\')\\n        else:\\n            print(\\'PSD Arr folder already exists\\')\\n    if \\'IMG\\' in format_to_save:\\n        if img_psd_folder not in existing_folders:\\n            os.mkdir(features_folder+img_psd_folder)\\n            pi_save = True\\n            print(\\'Generating PSD in IMAGE format\\')\\n        else:\\n            print(\\'PSD Arr folder already exists\\')            \\n            \\nif all([not sa_save, not si_save, not pa_save, not pi_save]):\\n    print(\\'Features Already Exist - Do Not Generate\\')\\nelse:\\n    ## Generate features\\n\\n    # loop through all files\\n    for sf in inteference_folders: # options: [\\'WIFI\\', \\'BLUE\\', \\'BOTH\\', \\'CLEAN\\']\\n        print(\\'CURRENT FOLDER: \\', sf)\\n\\n        drone_folders = os.listdir(main_folder+sf+\\'/\\')\\n        for df in drone_folders:\\n            print(\\'     subfolder:\\', df)\\n            # reset lists -  to save memory\\n            DRONES = []\\n            CONDS =[]\\n            INTS = [] # interferences: 00 for a clean signal, 01 for Bluetooth only, 10 for Wi-Fi only and 11 for Bluetooth and Wi-Fi interference concurrently.\\n\\n            # features\\n            F_PSD = []\\n#             F_PSD_freq = []\\n\\n            F_SPEC = []\\n#             F_SPEC_freq = []\\n#             F_SPEC_time = []\\n\\n            files = os.listdir(main_folder+sf+\\'/\\'+df+\\'/\\')\\n            \\n            #labels (from folder name)\\n            drone_name = df[:3]\\n            cond_name = df[4:]\\n\\n            for fi in tqdm(files):\\n                d_split, _ = load_dronedetect_raw(main_folder+sf+\\'/\\'+df+\\'/\\'+fi, t_seg)\\n                \\n                # labels (from file name)\\n                fi_number = fi[-6:-4]\\n                int_name = fi[4:6]\\n                for i in range(len(d_split)): # for each split based on t_seg\\n\\n                    d_complex = d_split[i]\\n\\n                    # save labels\\n                    DRONES.append(drone_name)\\n                    CONDS.append(cond_name)\\n                    INTS.append(int_name)\\n\\n                    # calculate PSD\\n                    if pa_save or pi_save:\\n                        fpsd, Pxx_den = signal.welch(d_complex, fs, window=psd_win_type, nperseg=n_per_seg)\\n                        if pa_save:\\n                            F_PSD.append(Pxx_den)\\n                            F_PSD_freq.append(fpsd)\\n                        \\n                        if pi_save:\\n                            save_psd_image(features_folder, img_psd_folder, drone_name, \\n                                           cond_name, int_name, fi_number, i, Pxx_den, dim_px, dpi)\\n\\n                    # calculate spectrogram\\n                    if sa_save or si_save:\\n#                         fspec, t, Sxx = signal.spectrogram(d_complex, fs, window=win_type, nperseg=n_per_seg, noverlap =0) ## using minimal overlap\\n                        if si_save: # set up fig properties if saving images\\n                            plt.clf()\\n                            fig,ax = plt.subplots(1, figsize=(dim_px[0]/dpi, dim_px[1]/dpi), dpi=dpi)\\n                            fig.subplots_adjust(left=0,right=1,bottom=0,top=1)\\n                            ax.axis(\\'tight\\')\\n                            ax.axis(\\'off\\')\\n                        \\n                        spec, freqs, bins, im = plt.specgram(d_complex, NFFT=n_per_seg, Fs=fs, window=spec_han_window, \\n                                          noverlap=n_overlap_spec, sides=\\'onesided\\')\\n                        if si_save:\\n                            save_spec_image_fig(features_folder, img_spec_folder, \\n                                                drone_name, cond_name, int_name, fi_number, i, fig, dpi)\\n                        if sa_save:\\n                            F_SPEC.append(interpolate_2d(sp[0], (224,224))) # reshape to square?\\n#                         F_SPEC_freq.append(fspec)\\n#                         F_SPEC_time.append(t)\\n\\n                    # save the images \\n    #                 save_spec_image(features_folder, img_spec_folder, drone_name, \\n    #                                 cond_name, int_name, fi_number, i, fspec, t, Sxx)\\n\\n    #                 # save the images \\n    #                 save_psd_image(features_folder, img_psd_folder, drone_name, \\n    #                                 cond_name, int_name, fi_number, i, fpsd, Pxx_den)\\n\\n            # save data array\\n            if sa_save:\\n                save_array(features_folder+arr_spec_folder, F_SPEC, DRONES, CONDS, INTS, \\'SPEC\\'+\"_\"+df, sf)\\n            if pa_save:\\n                save_array(features_folder+arr_psd_folder, F_PSD, DRONES, CONDS, INTS, \\'PSD\\'+\"_\"+df, sf)', '# Specifications on what features to generate\\nn_per_seg = 512 # length of each segment (powers of 2)\\nn_overlap_spec = 120\\npsd_win_type = \\'hamming\\' # make ends of each segment match\\nspec_han_window = np.hanning(n_per_seg)\\nt_seg = 20 # sample length in milliseconds\\nfeature_to_save = [\\'SPEC\\'] # what features to generate and save: SPEC or PSD\\nformat_to_save = [\\'IMG\\'] # IMG or ARR\\ninteference_folders = [\\'WIFI\\', \\'BLUE\\', \\'BOTH\\', \\'CLEAN\\'] # options: [\\'WIFI\\', \\'BLUE\\', \\'BOTH\\', \\'CLEAN\\']\\n\\n# Image properties\\ndim_px = (224, 224) # dimension of image pixels\\ndpi = 100\\n\\n# data saving folders\\nfeatures_folder = \\'../Features/\\'\\ndate_string = date.today()\\n# folder naming: DATATYPE_FEAT_NFFT_SAMPLELENGTH\\narr_spec_folder = \"ARR_SPEC_\"+str(n_per_seg)+\"_\"+str(t_seg)\\narr_psd_folder = \"ARR_PSD_\"+str(n_per_seg)+\"_\"+str(t_seg)\\nimg_spec_folder = \"IMG_SPEC_\"+str(n_per_seg)+\"_\"+str(t_seg)\\nimg_psd_folder = \"IMG_PSD_\"+str(n_per_seg)+\"_\"+str(t_seg)\\n\\n# check if this set of parameters already exists\\nexisting_folders = os.listdir(features_folder)\\n\\n# check if each of the 4 folders exist\\nsa_save = False   #spec array\\nsi_save = False   #spec imag\\npa_save = False   #psd array\\npi_save = False   #psd imag\\nif \\'SPEC\\' in feature_to_save:\\n    if \\'ARR\\' in format_to_save:\\n        if arr_spec_folder not in existing_folders:\\n            os.mkdir(features_folder+arr_spec_folder)\\n            sa_save = True\\n            print(\\'Generating SPEC in ARRAY format\\')\\n        else:\\n            print(\\'Spec Arr folder already exists\\')\\n    if \\'IMG\\' in format_to_save:\\n        if img_spec_folder not in existing_folders:\\n            os.mkdir(features_folder+img_spec_folder)\\n            si_save = True\\n            print(\\'Generating SPEC in IMAGE format\\')\\n        else:\\n            print(\\'Spec Arr folder already exists\\')\\nif \\'PSD\\' in feature_to_save:\\n    if \\'ARR\\' in format_to_save:\\n        if arr_psd_folder not in existing_folders:\\n            os.mkdir(features_folder+arr_psd_folder)\\n            pa_save = True\\n            print(\\'Generating PSD in ARRAY format\\')\\n        else:\\n            print(\\'PSD Arr folder already exists\\')\\n    if \\'IMG\\' in format_to_save:\\n        if img_psd_folder not in existing_folders:\\n            os.mkdir(features_folder+img_psd_folder)\\n            pi_save = True\\n            print(\\'Generating PSD in IMAGE format\\')\\n        else:\\n            print(\\'PSD Arr folder already exists\\')            \\n            \\nif all([not sa_save, not si_save, not pa_save, not pi_save]):\\n    print(\\'Features Already Exist - Do Not Generate\\')\\nelse:\\n    ## Generate features\\n\\n    # loop through all files\\n    for sf in inteference_folders: # options: [\\'WIFI\\', \\'BLUE\\', \\'BOTH\\', \\'CLEAN\\']\\n        print(\\'CURRENT FOLDER: \\', sf)\\n\\n        drone_folders = os.listdir(main_folder+sf+\\'/\\')\\n        for df in drone_folders:\\n            print(\\'     subfolder:\\', df)\\n            # reset lists -  to save memory\\n            DRONES = []\\n            CONDS =[]\\n            INTS = [] # interferences: 00 for a clean signal, 01 for Bluetooth only, 10 for Wi-Fi only and 11 for Bluetooth and Wi-Fi interference concurrently.\\n\\n            # features\\n            F_PSD = []\\n#             F_PSD_freq = []\\n\\n            F_SPEC = []\\n#             F_SPEC_freq = []\\n#             F_SPEC_time = []\\n\\n            files = os.listdir(main_folder+sf+\\'/\\'+df+\\'/\\')\\n            \\n            #labels (from folder name)\\n            drone_name = df[:3]\\n            cond_name = df[4:]\\n\\n            for fi in tqdm(files):\\n                d_split, _ = load_dronedetect_raw(main_folder+sf+\\'/\\'+df+\\'/\\'+fi, t_seg)\\n                \\n                # labels (from file name)\\n                fi_number = fi[-6:-4]\\n                int_name = fi[4:6]\\n                for i in range(len(d_split)): # for each split based on t_seg\\n\\n                    d_complex = d_split[i]\\n\\n                    # save labels\\n                    DRONES.append(drone_name)\\n                    CONDS.append(cond_name)\\n                    INTS.append(int_name)\\n\\n                    # calculate PSD\\n                    if pa_save or pi_save:\\n                        fpsd, Pxx_den = signal.welch(d_complex, fs, window=psd_win_type, nperseg=n_per_seg)\\n                        if pa_save:\\n                            F_PSD.append(Pxx_den)\\n                            F_PSD_freq.append(fpsd)\\n                        \\n                        if pi_save:\\n                            save_psd_image(features_folder, img_psd_folder, drone_name, \\n                                           cond_name, int_name, fi_number, i, Pxx_den, dim_px, dpi)\\n\\n                    # calculate spectrogram\\n                    if sa_save or si_save:\\n#                         fspec, t, Sxx = signal.spectrogram(d_complex, fs, window=win_type, nperseg=n_per_seg, noverlap =0) ## using minimal overlap\\n                        if si_save: # set up fig properties if saving images\\n                            plt.clf()\\n                            fig,ax = plt.subplots(1, figsize=(dim_px[0]/dpi, dim_px[1]/dpi), dpi=dpi)\\n                            fig.subplots_adjust(left=0,right=1,bottom=0,top=1)\\n                            ax.axis(\\'tight\\')\\n                            ax.axis(\\'off\\')\\n                        \\n                        spec, freqs, bins, im = plt.specgram(d_complex, NFFT=n_per_seg, Fs=fs, window=spec_han_window, \\n                                          noverlap=n_overlap_spec, sides=\\'onesided\\')\\n                        if si_save:\\n                            save_spec_image_fig(features_folder, img_spec_folder, \\n                                                drone_name, cond_name, int_name, fi_number, i, fig, dpi)\\n                        if sa_save:\\n                            F_SPEC.append(interpolate_2d(sp[0], (224,224))) # reshape to square?\\n#                         F_SPEC_freq.append(fspec)\\n#                         F_SPEC_time.append(t)\\n\\n                    # save the images \\n    #                 save_spec_image(features_folder, img_spec_folder, drone_name, \\n    #                                 cond_name, int_name, fi_number, i, fspec, t, Sxx)\\n\\n    #                 # save the images \\n    #                 save_psd_image(features_folder, img_psd_folder, drone_name, \\n    #                                 cond_name, int_name, fi_number, i, fpsd, Pxx_den)\\n\\n            # save data array\\n            if sa_save:\\n                save_array(features_folder+arr_spec_folder, F_SPEC, DRONES, CONDS, INTS, \\'SPEC\\'+\"_\"+df, sf)\\n            if pa_save:\\n                save_array(features_folder+arr_psd_folder, F_PSD, DRONES, CONDS, INTS, \\'PSD\\'+\"_\"+df, sf)', \"get_ipython().run_line_magic('who', '')\", \"get_ipython().run_line_magic('whos', '')\", 'import sys\\ndef sizeof_fmt(num, suffix=\\'B\\'):\\n    \\'\\'\\' by Fred Cirera,  https://stackoverflow.com/a/1094933/1870254, modified\\'\\'\\'\\n    for unit in [\\'\\',\\'Ki\\',\\'Mi\\',\\'Gi\\',\\'Ti\\',\\'Pi\\',\\'Ei\\',\\'Zi\\']:\\n        if abs(num) < 1024.0:\\n            return \"%3.1f %s%s\" % (num, unit, suffix)\\n        num /= 1024.0\\n    return \"%.1f %s%s\" % (num, \\'Yi\\', suffix)\\n\\nfor name, size in sorted(((name, sys.getsizeof(value)) for name, value in locals().items()),\\n                         key= lambda x: -x[1])[:10]:\\n    print(\"{:>30}: {:>8}\".format(name, sizeof_fmt(size)))', 'locals().items()']), ('Out', {}), ('get_ipython', <bound method InteractiveShell.get_ipython of <ipykernel.zmqshell.ZMQInteractiveShell object at 0x7f2a8d379220>>), ('exit', <IPython.core.autocall.ZMQExitAutocall object at 0x7f2a8d379a30>), ('quit', <IPython.core.autocall.ZMQExitAutocall object at 0x7f2a8d379a30>), ('_', array([ 0.00426216+0.0386812j , -0.00210772+0.02594143j,\n",
       "       -0.00370019-0.01227786j, ...,  0.02018687+0.00523931j,\n",
       "        0.03611157+0.00205437j, -0.0084776 +0.00523931j], dtype=complex64)), ('__', ''), ('___', ''), ('_i', 'import sys\\ndef sizeof_fmt(num, suffix=\\'B\\'):\\n    \\'\\'\\' by Fred Cirera,  https://stackoverflow.com/a/1094933/1870254, modified\\'\\'\\'\\n    for unit in [\\'\\',\\'Ki\\',\\'Mi\\',\\'Gi\\',\\'Ti\\',\\'Pi\\',\\'Ei\\',\\'Zi\\']:\\n        if abs(num) < 1024.0:\\n            return \"%3.1f %s%s\" % (num, unit, suffix)\\n        num /= 1024.0\\n    return \"%.1f %s%s\" % (num, \\'Yi\\', suffix)\\n\\nfor name, size in sorted(((name, sys.getsizeof(value)) for name, value in locals().items()),\\n                         key= lambda x: -x[1])[:10]:\\n    print(\"{:>30}: {:>8}\".format(name, sizeof_fmt(size)))'), ('_ii', '%whos'), ('_iii', '%who'), ('_i1', 'import os\\nimport numpy as np\\nfrom numpy import sum,isrealobj,sqrt\\nfrom numpy.random import standard_normal\\nimport os\\nfrom sklearn.model_selection import train_test_split\\nfrom spafe.features.lfcc import lfcc\\nimport spafe.utils.vis as vis\\nfrom scipy.signal import get_window\\nimport scipy.fftpack as fft\\nfrom scipy import signal\\nimport matplotlib.pyplot as plt\\nfrom datetime import date\\nfrom tqdm import tqdm\\nfrom loading_functions import *\\nfrom scipy import interpolate'), ('os', <module 'os' from '/home/kzhou/.pyenv/versions/3.8.2/lib/python3.8/os.py'>), ('np', <module 'numpy' from '/home/kzhou/.pyenv/versions/3.8.2/envs/main/lib/python3.8/site-packages/numpy/__init__.py'>), ('sum', <function sum at 0x7f2a7c1889d0>), ('isrealobj', <function isrealobj at 0x7f2a7c13b9d0>), ('sqrt', <ufunc 'sqrt'>), ('standard_normal', <built-in method standard_normal of numpy.random.mtrand.RandomState object at 0x7f2a64627940>), ('train_test_split', <function train_test_split at 0x7f2a2f3500d0>), ('lfcc', <function lfcc at 0x7f2a2ef363a0>), ('vis', <module 'spafe.utils.vis' from '/home/kzhou/.pyenv/versions/3.8.2/envs/main/lib/python3.8/site-packages/spafe/utils/vis.py'>), ('get_window', <function get_window at 0x7f2a2d5fe790>), ('fft', <module 'scipy.fftpack' from '/home/kzhou/.pyenv/versions/3.8.2/envs/main/lib/python3.8/site-packages/scipy/fftpack/__init__.py'>), ('signal', <module 'scipy.signal' from '/home/kzhou/.pyenv/versions/3.8.2/envs/main/lib/python3.8/site-packages/scipy/signal/__init__.py'>), ('plt', <module 'matplotlib.pyplot' from '/home/kzhou/.pyenv/versions/3.8.2/envs/main/lib/python3.8/site-packages/matplotlib/pyplot.py'>), ('date', <class 'datetime.date'>), ('tqdm', <class 'tqdm.std.tqdm'>), ('Dataset', <class 'torch.utils.data.dataset.Dataset'>), ('plot_feat', <function plot_feat at 0x7f2a8c343940>), ('get_n_params', <function get_n_params at 0x7f2a8c3439d0>), ('normalize_rf', <function normalize_rf at 0x7f29d1e33430>), ('preprocessing', <module 'sklearn.preprocessing' from '/home/kzhou/.pyenv/versions/3.8.2/envs/main/lib/python3.8/site-packages/sklearn/preprocessing/__init__.py'>), ('f1_score', <function f1_score at 0x7f2a2f1ee0d0>), ('torch', <module 'torch' from '/home/kzhou/.pyenv/versions/3.8.2/envs/main/lib/python3.8/site-packages/torch/__init__.py'>), ('pd', <module 'pandas' from '/home/kzhou/.pyenv/versions/3.8.2/envs/main/lib/python3.8/site-packages/pandas/__init__.py'>), ('cv2', <module 'cv2' from '/home/kzhou/.pyenv/versions/3.8.2/envs/main/lib/python3.8/site-packages/cv2/__init__.py'>), ('DroneData', <class 'loading_functions.DroneData'>), ('load_dronedetect_raw', <function load_dronedetect_raw at 0x7f2a2d296c10>), ('load_dronedetect_data', <function load_dronedetect_data at 0x7f2a317e3d30>), ('load_dronedetect_features', <function load_dronedetect_features at 0x7f29d1e36d30>), ('get_label', <function get_label at 0x7f29d1e36f70>), ('aug_int', <function aug_int at 0x7f29d1e33040>), ('is_interference', <function is_interference at 0x7f29d1e330d0>), ('load_dronerf_raw', <function load_dronerf_raw at 0x7f29d1e33160>), ('load_dronerf_features', <function load_dronerf_features at 0x7f29d1e331f0>), ('load_gamut_features', <function load_gamut_features at 0x7f29d1e33280>), ('interpolate', <module 'scipy.interpolate' from '/home/kzhou/.pyenv/versions/3.8.2/envs/main/lib/python3.8/site-packages/scipy/interpolate/__init__.py'>), ('_i2', '# Reload modules for testing\\nimport importlib\\nimport helper_functions\\nimportlib.reload(helper_functions)\\nfrom helper_functions import *'), ('importlib', <module 'importlib' from '/home/kzhou/.pyenv/versions/3.8.2/lib/python3.8/importlib/__init__.py'>), ('helper_functions', <module 'helper_functions' from '/home/kzhou/main/RFClassification/helper_functions.py'>), ('_i3', \"# Data paths\\n\\n# DroneDetect\\nmain_folder = '/home/ltindall/data/DroneDetect/DroneDetect_V2/' # data path on mp-gpu-desktop06\\nsub_folders = os.listdir(main_folder)\\n\\n# Dataset Info\\nfs = 60e6 #60 MHz\\nbandwidth = 28e6 # 28MHz\\ncenter_freq = 2.43e9\"), ('main_folder', '/home/ltindall/data/DroneDetect/DroneDetect_V2/'), ('sub_folders', ['WIFI', 'BLUE', 'CLEAN', 'BOTH']), ('fs', 60000000.0), ('bandwidth', 28000000.0), ('center_freq', 2430000000.0), ('_i4', '## DATA SAVING FUNCTIONS\\ndef interpolate_2d(Sxx_in, output_size):\\n    x = np.linspace(0, 1, Sxx_in.shape[0])\\n    y = np.linspace(0, 1, Sxx_in.shape[1])\\n    f = interpolate.interp2d(y, x, Sxx_in, kind=\\'linear\\')\\n    \\n    x2 = np.linspace(0, 1, output_size[0])\\n    y2 = np.linspace(0, 1, output_size[1])\\n    arr2 = f(y2, x2)\\n    \\n    return arr2\\n\\n# save function to save image to file\\ndef save_spec_image(folder_path, cond_folder, DRONE, COND, INT, FIn, counter, f, t, Sxx):\\n    plt.clf()\\n    plt.pcolormesh(t, f, Sxx, cmap=\\'Greys\\', vmin=Sxx.min(), vmax=Sxx.max())\\n    full_img_path = folder_path+cond_folder+DRONE+\\'_\\'+COND+\\'_\\'+INT+\\'_\\'+FIn+\\'_\\'+str(counter)+\\'.jpg\\'\\n    plt.savefig(full_img_path)\\n\\n# save spectrogram when passing in fig object\\ndef save_spec_image_fig(folder_path, cond_folder, DRONE, COND, INT, FIn, counter, fig, dpi):\\n    full_img_path = folder_path+\"/\"+cond_folder+\"/\"+DRONE+\\'_\\'+COND+\\'_\\'+INT+\\'_\\'+FIn+\\'_\\'+str(counter)+\\'.jpg\\'\\n    fig.savefig(full_img_path, dpi=dpi)\\n    plt.close(fig)\\n    plt.clf()\\n    \\ndef save_psd_image(folder_path, cond_folder, DRONE, COND, INT, FIn, counter, PSD, dim_px, dpi):\\n#     plt.clf()\\n#     plt.plot(f, PSD, \\'k\\')\\n    fig = plot_feat(PSD, dim_px, dpi, to_show=False, show_axis=False)\\n    full_img_path = folder_path+\"/\"+cond_folder+\"/\"+DRONE+\\'_\\'+COND+\\'_\\'+INT+\\'_\\'+FIn+\\'_\\'+str(counter)+\\'.jpg\\'\\n    fig.savefig(full_img_path)    \\n\\ndef save_array(folder_path, feat, DRONES, CONDS, INTS, feat_name, int_name):\\n    Xs_arr = np.array(feat)\\n    \\n    # labels\\n    y_drones_arr = np.array(DRONES)\\n    y_conds_arr = np.array(CONDS)\\n    y_ints_arr = np.array(INTS)\\n\\n    data_save = {\\'feat\\': Xs_arr, \\'drones\\': y_drones_arr, \\'conds\\': y_conds_arr, \\'ints\\': y_ints_arr}\\n\\n#    #Save data\\n    date_string = date.today()\\n    fp = folder_path+\"/\"+int_name+\"_\"+feat_name+\"_\"+str(n_per_seg)\\n    print(fp)\\n    np.save(fp, data_save)'), ('interpolate_2d', <function interpolate_2d at 0x7f29d1e333a0>), ('save_spec_image', <function save_spec_image at 0x7f29d1e33a60>), ('save_spec_image_fig', <function save_spec_image_fig at 0x7f29d1e33af0>), ('save_psd_image', <function save_psd_image at 0x7f29d1e33c10>), ('save_array', <function save_array at 0x7f29d1e33ca0>), ('_i5', '# Specifications on what features to generate\\nn_per_seg = 1024 # length of each segment (powers of 2)\\nn_overlap_spec = 120\\npsd_win_type = \\'hamming\\' # make ends of each segment match\\nspec_han_window = np.hanning(n_per_seg)\\nt_seg = 20 # sample length in milliseconds\\nfeature_to_save = [\\'SPEC\\'] # what features to generate and save: SPEC or PSD\\nformat_to_save = [\\'IMG\\'] # IMG or ARR\\ninteference_folders = [\\'WIFI\\', \\'BLUE\\', \\'BOTH\\', \\'CLEAN\\'] # options: [\\'WIFI\\', \\'BLUE\\', \\'BOTH\\', \\'CLEAN\\']\\n\\n# Image properties\\ndim_px = (224, 224) # dimension of image pixels\\ndpi = 100\\n\\n# data saving folders\\nfeatures_folder = \\'../Features/\\'\\ndate_string = date.today()\\n# folder naming: DATATYPE_FEAT_NFFT_SAMPLELENGTH\\narr_spec_folder = \"ARR_SPEC_\"+str(n_per_seg)+\"_\"+str(t_seg)\\narr_psd_folder = \"ARR_PSD_\"+str(n_per_seg)+\"_\"+str(t_seg)\\nimg_spec_folder = \"IMG_SPEC_\"+str(n_per_seg)+\"_\"+str(t_seg)\\nimg_psd_folder = \"IMG_PSD_\"+str(n_per_seg)+\"_\"+str(t_seg)\\n\\n# check if this set of parameters already exists\\nexisting_folders = os.listdir(features_folder)\\n\\n# check if each of the 4 folders exist\\nsa_save = False   #spec array\\nsi_save = False   #spec imag\\npa_save = False   #psd array\\npi_save = False   #psd imag\\nif \\'SPEC\\' in feature_to_save:\\n    if \\'ARR\\' in format_to_save:\\n        if arr_spec_folder not in existing_folders:\\n            os.mkdir(features_folder+arr_spec_folder)\\n            sa_save = True\\n            print(\\'Generating SPEC in ARRAY format\\')\\n        else:\\n            print(\\'Spec Arr folder already exists\\')\\n    if \\'IMG\\' in format_to_save:\\n        if img_spec_folder not in existing_folders:\\n            os.mkdir(features_folder+img_spec_folder)\\n            si_save = True\\n            print(\\'Generating SPEC in IMAGE format\\')\\n        else:\\n            print(\\'Spec Arr folder already exists\\')\\nif \\'PSD\\' in feature_to_save:\\n    if \\'ARR\\' in format_to_save:\\n        if arr_psd_folder not in existing_folders:\\n            os.mkdir(features_folder+arr_psd_folder)\\n            pa_save = True\\n            print(\\'Generating PSD in ARRAY format\\')\\n        else:\\n            print(\\'PSD Arr folder already exists\\')\\n    if \\'IMG\\' in format_to_save:\\n        if img_psd_folder not in existing_folders:\\n            os.mkdir(features_folder+img_psd_folder)\\n            pi_save = True\\n            print(\\'Generating PSD in IMAGE format\\')\\n        else:\\n            print(\\'PSD Arr folder already exists\\')            \\n            \\nif all([not sa_save, not si_save, not pa_save, not pi_save]):\\n    print(\\'Features Already Exist - Do Not Generate\\')\\nelse:\\n    ## Generate features\\n\\n    # loop through all files\\n    for sf in inteference_folders: # options: [\\'WIFI\\', \\'BLUE\\', \\'BOTH\\', \\'CLEAN\\']\\n        print(\\'CURRENT FOLDER: \\', sf)\\n\\n        drone_folders = os.listdir(main_folder+sf+\\'/\\')\\n        for df in drone_folders:\\n            print(\\'     subfolder:\\', df)\\n            # reset lists -  to save memory\\n            DRONES = []\\n            CONDS =[]\\n            INTS = [] # interferences: 00 for a clean signal, 01 for Bluetooth only, 10 for Wi-Fi only and 11 for Bluetooth and Wi-Fi interference concurrently.\\n\\n            # features\\n            F_PSD = []\\n#             F_PSD_freq = []\\n\\n            F_SPEC = []\\n#             F_SPEC_freq = []\\n#             F_SPEC_time = []\\n\\n            files = os.listdir(main_folder+sf+\\'/\\'+df+\\'/\\')\\n            \\n            #labels (from folder name)\\n            drone_name = df[:3]\\n            cond_name = df[4:]\\n\\n            for fi in tqdm(files):\\n                d_split, _ = load_dronedetect_raw(main_folder+sf+\\'/\\'+df+\\'/\\'+fi, t_seg)\\n                \\n                # labels (from file name)\\n                fi_number = fi[-6:-4]\\n                int_name = fi[4:6]\\n                for i in range(len(d_split)): # for each split based on t_seg\\n\\n                    d_complex = d_split[i]\\n\\n                    # save labels\\n                    DRONES.append(drone_name)\\n                    CONDS.append(cond_name)\\n                    INTS.append(int_name)\\n\\n                    # calculate PSD\\n                    if pa_save or pi_save:\\n                        fpsd, Pxx_den = signal.welch(d_complex, fs, window=psd_win_type, nperseg=n_per_seg)\\n                        if pa_save:\\n                            F_PSD.append(Pxx_den)\\n                            F_PSD_freq.append(fpsd)\\n                        \\n                        if pi_save:\\n                            save_psd_image(features_folder, img_psd_folder, drone_name, \\n                                           cond_name, int_name, fi_number, i, Pxx_den, dim_px, dpi)\\n\\n                    # calculate spectrogram\\n                    if sa_save or si_save:\\n#                         fspec, t, Sxx = signal.spectrogram(d_complex, fs, window=win_type, nperseg=n_per_seg, noverlap =0) ## using minimal overlap\\n                        if si_save: # set up fig properties if saving images\\n                            plt.clf()\\n                            fig,ax = plt.subplots(1, figsize=(dim_px[0]/dpi, dim_px[1]/dpi), dpi=dpi)\\n                            fig.subplots_adjust(left=0,right=1,bottom=0,top=1)\\n                            ax.axis(\\'tight\\')\\n                            ax.axis(\\'off\\')\\n                        \\n                        spec, freqs, bins, im = plt.specgram(d_complex, NFFT=n_per_seg, Fs=fs, window=spec_han_window, \\n                                          noverlap=n_overlap_spec, sides=\\'onesided\\')\\n                        if si_save:\\n                            save_spec_image_fig(features_folder, img_spec_folder, \\n                                                drone_name, cond_name, int_name, fi_number, i, fig, dpi)\\n                        if sa_save:\\n                            F_SPEC.append(interpolate_2d(sp[0], (224,224))) # reshape to square?\\n#                         F_SPEC_freq.append(fspec)\\n#                         F_SPEC_time.append(t)\\n\\n                    # save the images \\n    #                 save_spec_image(features_folder, img_spec_folder, drone_name, \\n    #                                 cond_name, int_name, fi_number, i, fspec, t, Sxx)\\n\\n    #                 # save the images \\n    #                 save_psd_image(features_folder, img_psd_folder, drone_name, \\n    #                                 cond_name, int_name, fi_number, i, fpsd, Pxx_den)\\n\\n            # save data array\\n            if sa_save:\\n                save_array(features_folder+arr_spec_folder, F_SPEC, DRONES, CONDS, INTS, \\'SPEC\\'+\"_\"+df, sf)\\n            if pa_save:\\n                save_array(features_folder+arr_psd_folder, F_PSD, DRONES, CONDS, INTS, \\'PSD\\'+\"_\"+df, sf)'), ('n_per_seg', 512), ('n_overlap_spec', 120), ('psd_win_type', 'hamming'), ('spec_han_window', array([0.00000000e+00, 3.77965773e-05, 1.51180595e-04, 3.40134910e-04,\n",
       "       6.04630957e-04, 9.44628746e-04, 1.36007687e-03, 1.85091253e-03,\n",
       "       2.41706151e-03, 3.05843822e-03, 3.77494569e-03, 4.56647559e-03,\n",
       "       5.43290826e-03, 6.37411270e-03, 7.38994662e-03, 8.48025644e-03,\n",
       "       9.64487731e-03, 1.08836332e-02, 1.21963367e-02, 1.35827895e-02,\n",
       "       1.50427819e-02, 1.65760932e-02, 1.81824916e-02, 1.98617342e-02,\n",
       "       2.16135671e-02, 2.34377255e-02, 2.53339336e-02, 2.73019047e-02,\n",
       "       2.93413412e-02, 3.14519350e-02, 3.36333667e-02, 3.58853068e-02,\n",
       "       3.82074146e-02, 4.05993391e-02, 4.30607187e-02, 4.55911813e-02,\n",
       "       4.81903443e-02, 5.08578147e-02, 5.35931893e-02, 5.63960544e-02,\n",
       "       5.92659864e-02, 6.22025514e-02, 6.52053053e-02, 6.82737943e-02,\n",
       "       7.14075543e-02, 7.46061116e-02, 7.78689827e-02, 8.11956742e-02,\n",
       "       8.45856832e-02, 8.80384971e-02, 9.15535940e-02, 9.51304424e-02,\n",
       "       9.87685015e-02, 1.02467221e-01, 1.06226043e-01, 1.10044397e-01,\n",
       "       1.13921708e-01, 1.17857388e-01, 1.21850843e-01, 1.25901469e-01,\n",
       "       1.30008654e-01, 1.34171776e-01, 1.38390206e-01, 1.42663307e-01,\n",
       "       1.46990432e-01, 1.51370928e-01, 1.55804131e-01, 1.60289372e-01,\n",
       "       1.64825973e-01, 1.69413247e-01, 1.74050502e-01, 1.78737036e-01,\n",
       "       1.83472140e-01, 1.88255099e-01, 1.93085190e-01, 1.97961681e-01,\n",
       "       2.02883837e-01, 2.07850913e-01, 2.12862158e-01, 2.17916814e-01,\n",
       "       2.23014117e-01, 2.28153297e-01, 2.33333576e-01, 2.38554171e-01,\n",
       "       2.43814294e-01, 2.49113148e-01, 2.54449933e-01, 2.59823842e-01,\n",
       "       2.65234062e-01, 2.70679775e-01, 2.76160159e-01, 2.81674384e-01,\n",
       "       2.87221617e-01, 2.92801019e-01, 2.98411747e-01, 3.04052952e-01,\n",
       "       3.09723782e-01, 3.15423378e-01, 3.21150881e-01, 3.26905422e-01,\n",
       "       3.32686134e-01, 3.38492141e-01, 3.44322565e-01, 3.50176526e-01,\n",
       "       3.56053138e-01, 3.61951513e-01, 3.67870760e-01, 3.73809982e-01,\n",
       "       3.79768282e-01, 3.85744760e-01, 3.91738511e-01, 3.97748631e-01,\n",
       "       4.03774209e-01, 4.09814335e-01, 4.15868096e-01, 4.21934577e-01,\n",
       "       4.28012860e-01, 4.34102027e-01, 4.40201156e-01, 4.46309327e-01,\n",
       "       4.52425614e-01, 4.58549094e-01, 4.64678841e-01, 4.70813928e-01,\n",
       "       4.76953428e-01, 4.83096412e-01, 4.89241951e-01, 4.95389117e-01,\n",
       "       5.01536980e-01, 5.07684611e-01, 5.13831080e-01, 5.19975458e-01,\n",
       "       5.26116815e-01, 5.32254225e-01, 5.38386758e-01, 5.44513487e-01,\n",
       "       5.50633486e-01, 5.56745831e-01, 5.62849596e-01, 5.68943859e-01,\n",
       "       5.75027699e-01, 5.81100196e-01, 5.87160431e-01, 5.93207489e-01,\n",
       "       5.99240456e-01, 6.05258418e-01, 6.11260467e-01, 6.17245695e-01,\n",
       "       6.23213197e-01, 6.29162070e-01, 6.35091417e-01, 6.41000339e-01,\n",
       "       6.46887944e-01, 6.52753341e-01, 6.58595644e-01, 6.64413970e-01,\n",
       "       6.70207439e-01, 6.75975174e-01, 6.81716305e-01, 6.87429962e-01,\n",
       "       6.93115283e-01, 6.98771407e-01, 7.04397480e-01, 7.09992651e-01,\n",
       "       7.15556073e-01, 7.21086907e-01, 7.26584315e-01, 7.32047467e-01,\n",
       "       7.37475536e-01, 7.42867702e-01, 7.48223150e-01, 7.53541070e-01,\n",
       "       7.58820659e-01, 7.64061117e-01, 7.69261652e-01, 7.74421479e-01,\n",
       "       7.79539817e-01, 7.84615893e-01, 7.89648938e-01, 7.94638193e-01,\n",
       "       7.99582902e-01, 8.04482319e-01, 8.09335702e-01, 8.14142317e-01,\n",
       "       8.18901439e-01, 8.23612347e-01, 8.28274329e-01, 8.32886681e-01,\n",
       "       8.37448705e-01, 8.41959711e-01, 8.46419017e-01, 8.50825950e-01,\n",
       "       8.55179843e-01, 8.59480037e-01, 8.63725883e-01, 8.67916738e-01,\n",
       "       8.72051970e-01, 8.76130952e-01, 8.80153069e-01, 8.84117711e-01,\n",
       "       8.88024281e-01, 8.91872186e-01, 8.95660845e-01, 8.99389686e-01,\n",
       "       9.03058145e-01, 9.06665667e-01, 9.10211707e-01, 9.13695728e-01,\n",
       "       9.17117204e-01, 9.20475618e-01, 9.23770461e-01, 9.27001237e-01,\n",
       "       9.30167455e-01, 9.33268638e-01, 9.36304317e-01, 9.39274033e-01,\n",
       "       9.42177336e-01, 9.45013788e-01, 9.47782960e-01, 9.50484434e-01,\n",
       "       9.53117800e-01, 9.55682662e-01, 9.58178630e-01, 9.60605328e-01,\n",
       "       9.62962389e-01, 9.65249456e-01, 9.67466184e-01, 9.69612237e-01,\n",
       "       9.71687291e-01, 9.73691033e-01, 9.75623159e-01, 9.77483377e-01,\n",
       "       9.79271407e-01, 9.80986977e-01, 9.82629829e-01, 9.84199713e-01,\n",
       "       9.85696393e-01, 9.87119643e-01, 9.88469246e-01, 9.89745000e-01,\n",
       "       9.90946711e-01, 9.92074198e-01, 9.93127290e-01, 9.94105827e-01,\n",
       "       9.95009663e-01, 9.95838660e-01, 9.96592693e-01, 9.97271648e-01,\n",
       "       9.97875422e-01, 9.98403924e-01, 9.98857075e-01, 9.99234805e-01,\n",
       "       9.99537058e-01, 9.99763787e-01, 9.99914959e-01, 9.99990551e-01,\n",
       "       9.99990551e-01, 9.99914959e-01, 9.99763787e-01, 9.99537058e-01,\n",
       "       9.99234805e-01, 9.98857075e-01, 9.98403924e-01, 9.97875422e-01,\n",
       "       9.97271648e-01, 9.96592693e-01, 9.95838660e-01, 9.95009663e-01,\n",
       "       9.94105827e-01, 9.93127290e-01, 9.92074198e-01, 9.90946711e-01,\n",
       "       9.89745000e-01, 9.88469246e-01, 9.87119643e-01, 9.85696393e-01,\n",
       "       9.84199713e-01, 9.82629829e-01, 9.80986977e-01, 9.79271407e-01,\n",
       "       9.77483377e-01, 9.75623159e-01, 9.73691033e-01, 9.71687291e-01,\n",
       "       9.69612237e-01, 9.67466184e-01, 9.65249456e-01, 9.62962389e-01,\n",
       "       9.60605328e-01, 9.58178630e-01, 9.55682662e-01, 9.53117800e-01,\n",
       "       9.50484434e-01, 9.47782960e-01, 9.45013788e-01, 9.42177336e-01,\n",
       "       9.39274033e-01, 9.36304317e-01, 9.33268638e-01, 9.30167455e-01,\n",
       "       9.27001237e-01, 9.23770461e-01, 9.20475618e-01, 9.17117204e-01,\n",
       "       9.13695728e-01, 9.10211707e-01, 9.06665667e-01, 9.03058145e-01,\n",
       "       8.99389686e-01, 8.95660845e-01, 8.91872186e-01, 8.88024281e-01,\n",
       "       8.84117711e-01, 8.80153069e-01, 8.76130952e-01, 8.72051970e-01,\n",
       "       8.67916738e-01, 8.63725883e-01, 8.59480037e-01, 8.55179843e-01,\n",
       "       8.50825950e-01, 8.46419017e-01, 8.41959711e-01, 8.37448705e-01,\n",
       "       8.32886681e-01, 8.28274329e-01, 8.23612347e-01, 8.18901439e-01,\n",
       "       8.14142317e-01, 8.09335702e-01, 8.04482319e-01, 7.99582902e-01,\n",
       "       7.94638193e-01, 7.89648938e-01, 7.84615893e-01, 7.79539817e-01,\n",
       "       7.74421479e-01, 7.69261652e-01, 7.64061117e-01, 7.58820659e-01,\n",
       "       7.53541070e-01, 7.48223150e-01, 7.42867702e-01, 7.37475536e-01,\n",
       "       7.32047467e-01, 7.26584315e-01, 7.21086907e-01, 7.15556073e-01,\n",
       "       7.09992651e-01, 7.04397480e-01, 6.98771407e-01, 6.93115283e-01,\n",
       "       6.87429962e-01, 6.81716305e-01, 6.75975174e-01, 6.70207439e-01,\n",
       "       6.64413970e-01, 6.58595644e-01, 6.52753341e-01, 6.46887944e-01,\n",
       "       6.41000339e-01, 6.35091417e-01, 6.29162070e-01, 6.23213197e-01,\n",
       "       6.17245695e-01, 6.11260467e-01, 6.05258418e-01, 5.99240456e-01,\n",
       "       5.93207489e-01, 5.87160431e-01, 5.81100196e-01, 5.75027699e-01,\n",
       "       5.68943859e-01, 5.62849596e-01, 5.56745831e-01, 5.50633486e-01,\n",
       "       5.44513487e-01, 5.38386758e-01, 5.32254225e-01, 5.26116815e-01,\n",
       "       5.19975458e-01, 5.13831080e-01, 5.07684611e-01, 5.01536980e-01,\n",
       "       4.95389117e-01, 4.89241951e-01, 4.83096412e-01, 4.76953428e-01,\n",
       "       4.70813928e-01, 4.64678841e-01, 4.58549094e-01, 4.52425614e-01,\n",
       "       4.46309327e-01, 4.40201156e-01, 4.34102027e-01, 4.28012860e-01,\n",
       "       4.21934577e-01, 4.15868096e-01, 4.09814335e-01, 4.03774209e-01,\n",
       "       3.97748631e-01, 3.91738511e-01, 3.85744760e-01, 3.79768282e-01,\n",
       "       3.73809982e-01, 3.67870760e-01, 3.61951513e-01, 3.56053138e-01,\n",
       "       3.50176526e-01, 3.44322565e-01, 3.38492141e-01, 3.32686134e-01,\n",
       "       3.26905422e-01, 3.21150881e-01, 3.15423378e-01, 3.09723782e-01,\n",
       "       3.04052952e-01, 2.98411747e-01, 2.92801019e-01, 2.87221617e-01,\n",
       "       2.81674384e-01, 2.76160159e-01, 2.70679775e-01, 2.65234062e-01,\n",
       "       2.59823842e-01, 2.54449933e-01, 2.49113148e-01, 2.43814294e-01,\n",
       "       2.38554171e-01, 2.33333576e-01, 2.28153297e-01, 2.23014117e-01,\n",
       "       2.17916814e-01, 2.12862158e-01, 2.07850913e-01, 2.02883837e-01,\n",
       "       1.97961681e-01, 1.93085190e-01, 1.88255099e-01, 1.83472140e-01,\n",
       "       1.78737036e-01, 1.74050502e-01, 1.69413247e-01, 1.64825973e-01,\n",
       "       1.60289372e-01, 1.55804131e-01, 1.51370928e-01, 1.46990432e-01,\n",
       "       1.42663307e-01, 1.38390206e-01, 1.34171776e-01, 1.30008654e-01,\n",
       "       1.25901469e-01, 1.21850843e-01, 1.17857388e-01, 1.13921708e-01,\n",
       "       1.10044397e-01, 1.06226043e-01, 1.02467221e-01, 9.87685015e-02,\n",
       "       9.51304424e-02, 9.15535940e-02, 8.80384971e-02, 8.45856832e-02,\n",
       "       8.11956742e-02, 7.78689827e-02, 7.46061116e-02, 7.14075543e-02,\n",
       "       6.82737943e-02, 6.52053053e-02, 6.22025514e-02, 5.92659864e-02,\n",
       "       5.63960544e-02, 5.35931893e-02, 5.08578147e-02, 4.81903443e-02,\n",
       "       4.55911813e-02, 4.30607187e-02, 4.05993391e-02, 3.82074146e-02,\n",
       "       3.58853068e-02, 3.36333667e-02, 3.14519350e-02, 2.93413412e-02,\n",
       "       2.73019047e-02, 2.53339336e-02, 2.34377255e-02, 2.16135671e-02,\n",
       "       1.98617342e-02, 1.81824916e-02, 1.65760932e-02, 1.50427819e-02,\n",
       "       1.35827895e-02, 1.21963367e-02, 1.08836332e-02, 9.64487731e-03,\n",
       "       8.48025644e-03, 7.38994662e-03, 6.37411270e-03, 5.43290826e-03,\n",
       "       4.56647559e-03, 3.77494569e-03, 3.05843822e-03, 2.41706151e-03,\n",
       "       1.85091253e-03, 1.36007687e-03, 9.44628746e-04, 6.04630957e-04,\n",
       "       3.40134910e-04, 1.51180595e-04, 3.77965773e-05, 0.00000000e+00])), ('t_seg', 20), ('feature_to_save', ['SPEC']), ('format_to_save', ['IMG']), ('inteference_folders', ['WIFI', 'BLUE', 'BOTH', 'CLEAN']), ('dim_px', (224, 224)), ('dpi', 100), ('features_folder', '../Features/'), ('date_string', datetime.date(2022, 7, 20)), ('arr_spec_folder', 'ARR_SPEC_512_20'), ('arr_psd_folder', 'ARR_PSD_512_20'), ('img_spec_folder', 'IMG_SPEC_512_20'), ('img_psd_folder', 'IMG_PSD_512_20'), ('existing_folders', ['IMG_SPEC_1024_20', 'IMG_PSD_1024_20', 'ARR_PSD_512_500', 'ARR_SPEC_512_200', 'ARR_SPEC_256_200', 'ARR_PSD_1024_20', '.ipynb_checkpoints', 'testtest', 'ARR_PSD_512_200', 'ARR_SPEC_1024_20', 'pyplt_spec', 'ARR_PSD_256_200']), ('sa_save', False), ('si_save', True), ('pa_save', False), ('pi_save', False), ('_i6', '# Specifications on what features to generate\\nn_per_seg = 512 # length of each segment (powers of 2)\\nn_overlap_spec = 120\\npsd_win_type = \\'hamming\\' # make ends of each segment match\\nspec_han_window = np.hanning(n_per_seg)\\nt_seg = 20 # sample length in milliseconds\\nfeature_to_save = [\\'SPEC\\'] # what features to generate and save: SPEC or PSD\\nformat_to_save = [\\'IMG\\'] # IMG or ARR\\ninteference_folders = [\\'WIFI\\', \\'BLUE\\', \\'BOTH\\', \\'CLEAN\\'] # options: [\\'WIFI\\', \\'BLUE\\', \\'BOTH\\', \\'CLEAN\\']\\n\\n# Image properties\\ndim_px = (224, 224) # dimension of image pixels\\ndpi = 100\\n\\n# data saving folders\\nfeatures_folder = \\'../Features/\\'\\ndate_string = date.today()\\n# folder naming: DATATYPE_FEAT_NFFT_SAMPLELENGTH\\narr_spec_folder = \"ARR_SPEC_\"+str(n_per_seg)+\"_\"+str(t_seg)\\narr_psd_folder = \"ARR_PSD_\"+str(n_per_seg)+\"_\"+str(t_seg)\\nimg_spec_folder = \"IMG_SPEC_\"+str(n_per_seg)+\"_\"+str(t_seg)\\nimg_psd_folder = \"IMG_PSD_\"+str(n_per_seg)+\"_\"+str(t_seg)\\n\\n# check if this set of parameters already exists\\nexisting_folders = os.listdir(features_folder)\\n\\n# check if each of the 4 folders exist\\nsa_save = False   #spec array\\nsi_save = False   #spec imag\\npa_save = False   #psd array\\npi_save = False   #psd imag\\nif \\'SPEC\\' in feature_to_save:\\n    if \\'ARR\\' in format_to_save:\\n        if arr_spec_folder not in existing_folders:\\n            os.mkdir(features_folder+arr_spec_folder)\\n            sa_save = True\\n            print(\\'Generating SPEC in ARRAY format\\')\\n        else:\\n            print(\\'Spec Arr folder already exists\\')\\n    if \\'IMG\\' in format_to_save:\\n        if img_spec_folder not in existing_folders:\\n            os.mkdir(features_folder+img_spec_folder)\\n            si_save = True\\n            print(\\'Generating SPEC in IMAGE format\\')\\n        else:\\n            print(\\'Spec Arr folder already exists\\')\\nif \\'PSD\\' in feature_to_save:\\n    if \\'ARR\\' in format_to_save:\\n        if arr_psd_folder not in existing_folders:\\n            os.mkdir(features_folder+arr_psd_folder)\\n            pa_save = True\\n            print(\\'Generating PSD in ARRAY format\\')\\n        else:\\n            print(\\'PSD Arr folder already exists\\')\\n    if \\'IMG\\' in format_to_save:\\n        if img_psd_folder not in existing_folders:\\n            os.mkdir(features_folder+img_psd_folder)\\n            pi_save = True\\n            print(\\'Generating PSD in IMAGE format\\')\\n        else:\\n            print(\\'PSD Arr folder already exists\\')            \\n            \\nif all([not sa_save, not si_save, not pa_save, not pi_save]):\\n    print(\\'Features Already Exist - Do Not Generate\\')\\nelse:\\n    ## Generate features\\n\\n    # loop through all files\\n    for sf in inteference_folders: # options: [\\'WIFI\\', \\'BLUE\\', \\'BOTH\\', \\'CLEAN\\']\\n        print(\\'CURRENT FOLDER: \\', sf)\\n\\n        drone_folders = os.listdir(main_folder+sf+\\'/\\')\\n        for df in drone_folders:\\n            print(\\'     subfolder:\\', df)\\n            # reset lists -  to save memory\\n            DRONES = []\\n            CONDS =[]\\n            INTS = [] # interferences: 00 for a clean signal, 01 for Bluetooth only, 10 for Wi-Fi only and 11 for Bluetooth and Wi-Fi interference concurrently.\\n\\n            # features\\n            F_PSD = []\\n#             F_PSD_freq = []\\n\\n            F_SPEC = []\\n#             F_SPEC_freq = []\\n#             F_SPEC_time = []\\n\\n            files = os.listdir(main_folder+sf+\\'/\\'+df+\\'/\\')\\n            \\n            #labels (from folder name)\\n            drone_name = df[:3]\\n            cond_name = df[4:]\\n\\n            for fi in tqdm(files):\\n                d_split, _ = load_dronedetect_raw(main_folder+sf+\\'/\\'+df+\\'/\\'+fi, t_seg)\\n                \\n                # labels (from file name)\\n                fi_number = fi[-6:-4]\\n                int_name = fi[4:6]\\n                for i in range(len(d_split)): # for each split based on t_seg\\n\\n                    d_complex = d_split[i]\\n\\n                    # save labels\\n                    DRONES.append(drone_name)\\n                    CONDS.append(cond_name)\\n                    INTS.append(int_name)\\n\\n                    # calculate PSD\\n                    if pa_save or pi_save:\\n                        fpsd, Pxx_den = signal.welch(d_complex, fs, window=psd_win_type, nperseg=n_per_seg)\\n                        if pa_save:\\n                            F_PSD.append(Pxx_den)\\n                            F_PSD_freq.append(fpsd)\\n                        \\n                        if pi_save:\\n                            save_psd_image(features_folder, img_psd_folder, drone_name, \\n                                           cond_name, int_name, fi_number, i, Pxx_den, dim_px, dpi)\\n\\n                    # calculate spectrogram\\n                    if sa_save or si_save:\\n#                         fspec, t, Sxx = signal.spectrogram(d_complex, fs, window=win_type, nperseg=n_per_seg, noverlap =0) ## using minimal overlap\\n                        if si_save: # set up fig properties if saving images\\n                            plt.clf()\\n                            fig,ax = plt.subplots(1, figsize=(dim_px[0]/dpi, dim_px[1]/dpi), dpi=dpi)\\n                            fig.subplots_adjust(left=0,right=1,bottom=0,top=1)\\n                            ax.axis(\\'tight\\')\\n                            ax.axis(\\'off\\')\\n                        \\n                        spec, freqs, bins, im = plt.specgram(d_complex, NFFT=n_per_seg, Fs=fs, window=spec_han_window, \\n                                          noverlap=n_overlap_spec, sides=\\'onesided\\')\\n                        if si_save:\\n                            save_spec_image_fig(features_folder, img_spec_folder, \\n                                                drone_name, cond_name, int_name, fi_number, i, fig, dpi)\\n                        if sa_save:\\n                            F_SPEC.append(interpolate_2d(sp[0], (224,224))) # reshape to square?\\n#                         F_SPEC_freq.append(fspec)\\n#                         F_SPEC_time.append(t)\\n\\n                    # save the images \\n    #                 save_spec_image(features_folder, img_spec_folder, drone_name, \\n    #                                 cond_name, int_name, fi_number, i, fspec, t, Sxx)\\n\\n    #                 # save the images \\n    #                 save_psd_image(features_folder, img_psd_folder, drone_name, \\n    #                                 cond_name, int_name, fi_number, i, fpsd, Pxx_den)\\n\\n            # save data array\\n            if sa_save:\\n                save_array(features_folder+arr_spec_folder, F_SPEC, DRONES, CONDS, INTS, \\'SPEC\\'+\"_\"+df, sf)\\n            if pa_save:\\n                save_array(features_folder+arr_psd_folder, F_PSD, DRONES, CONDS, INTS, \\'PSD\\'+\"_\"+df, sf)'), ('sf', 'WIFI'), ('drone_folders', ['AIR_FY', 'MP1_ON', 'MIN_FY', 'PHA_FY', 'MP2_ON', 'MIN_HO', 'AIR_HO', 'MP1_FY', 'DIS_FY', 'MIN_ON', 'DIS_ON', 'INS_FY', 'INS_HO', 'MP2_FY', 'MP1_HO', 'MP2_HO', 'PHA_ON', 'PHA_HO', 'INS_ON', 'AIR_ON']), ('df', 'AIR_HO'), ('DRONES', ['AIR', 'AIR', 'AIR', 'AIR', 'AIR', 'AIR', 'AIR', 'AIR', 'AIR', 'AIR', 'AIR', 'AIR', 'AIR', 'AIR', 'AIR', 'AIR', 'AIR', 'AIR', 'AIR', 'AIR', 'AIR', 'AIR', 'AIR', 'AIR', 'AIR', 'AIR', 'AIR', 'AIR', 'AIR', 'AIR', 'AIR', 'AIR', 'AIR', 'AIR', 'AIR', 'AIR', 'AIR', 'AIR', 'AIR', 'AIR', 'AIR', 'AIR', 'AIR', 'AIR', 'AIR', 'AIR', 'AIR', 'AIR', 'AIR', 'AIR', 'AIR', 'AIR', 'AIR', 'AIR', 'AIR', 'AIR', 'AIR', 'AIR', 'AIR', 'AIR', 'AIR', 'AIR', 'AIR', 'AIR', 'AIR', 'AIR', 'AIR', 'AIR', 'AIR', 'AIR', 'AIR', 'AIR', 'AIR', 'AIR', 'AIR', 'AIR', 'AIR', 'AIR', 'AIR', 'AIR', 'AIR', 'AIR', 'AIR', 'AIR', 'AIR', 'AIR', 'AIR', 'AIR', 'AIR', 'AIR', 'AIR', 'AIR', 'AIR', 'AIR', 'AIR', 'AIR', 'AIR', 'AIR', 'AIR', 'AIR', 'AIR', 'AIR', 'AIR', 'AIR', 'AIR', 'AIR', 'AIR', 'AIR', 'AIR', 'AIR', 'AIR', 'AIR', 'AIR', 'AIR', 'AIR', 'AIR', 'AIR', 'AIR', 'AIR', 'AIR', 'AIR', 'AIR', 'AIR', 'AIR', 'AIR', 'AIR', 'AIR', 'AIR', 'AIR', 'AIR', 'AIR', 'AIR', 'AIR', 'AIR', 'AIR', 'AIR', 'AIR', 'AIR', 'AIR', 'AIR', 'AIR', 'AIR', 'AIR', 'AIR', 'AIR', 'AIR', 'AIR', 'AIR', 'AIR', 'AIR', 'AIR', 'AIR', 'AIR', 'AIR', 'AIR', 'AIR', 'AIR', 'AIR', 'AIR', 'AIR', 'AIR', 'AIR', 'AIR', 'AIR', 'AIR', 'AIR', 'AIR', 'AIR', 'AIR', 'AIR', 'AIR', 'AIR', 'AIR', 'AIR', 'AIR', 'AIR', 'AIR', 'AIR', 'AIR', 'AIR', 'AIR', 'AIR', 'AIR', 'AIR', 'AIR', 'AIR', 'AIR', 'AIR', 'AIR', 'AIR', 'AIR', 'AIR', 'AIR', 'AIR', 'AIR', 'AIR', 'AIR', 'AIR', 'AIR', 'AIR', 'AIR', 'AIR', 'AIR', 'AIR', 'AIR', 'AIR', 'AIR', 'AIR', 'AIR', 'AIR', 'AIR', 'AIR', 'AIR', 'AIR', 'AIR', 'AIR', 'AIR', 'AIR', 'AIR', 'AIR', 'AIR', 'AIR', 'AIR', 'AIR']), ('CONDS', ['HO', 'HO', 'HO', 'HO', 'HO', 'HO', 'HO', 'HO', 'HO', 'HO', 'HO', 'HO', 'HO', 'HO', 'HO', 'HO', 'HO', 'HO', 'HO', 'HO', 'HO', 'HO', 'HO', 'HO', 'HO', 'HO', 'HO', 'HO', 'HO', 'HO', 'HO', 'HO', 'HO', 'HO', 'HO', 'HO', 'HO', 'HO', 'HO', 'HO', 'HO', 'HO', 'HO', 'HO', 'HO', 'HO', 'HO', 'HO', 'HO', 'HO', 'HO', 'HO', 'HO', 'HO', 'HO', 'HO', 'HO', 'HO', 'HO', 'HO', 'HO', 'HO', 'HO', 'HO', 'HO', 'HO', 'HO', 'HO', 'HO', 'HO', 'HO', 'HO', 'HO', 'HO', 'HO', 'HO', 'HO', 'HO', 'HO', 'HO', 'HO', 'HO', 'HO', 'HO', 'HO', 'HO', 'HO', 'HO', 'HO', 'HO', 'HO', 'HO', 'HO', 'HO', 'HO', 'HO', 'HO', 'HO', 'HO', 'HO', 'HO', 'HO', 'HO', 'HO', 'HO', 'HO', 'HO', 'HO', 'HO', 'HO', 'HO', 'HO', 'HO', 'HO', 'HO', 'HO', 'HO', 'HO', 'HO', 'HO', 'HO', 'HO', 'HO', 'HO', 'HO', 'HO', 'HO', 'HO', 'HO', 'HO', 'HO', 'HO', 'HO', 'HO', 'HO', 'HO', 'HO', 'HO', 'HO', 'HO', 'HO', 'HO', 'HO', 'HO', 'HO', 'HO', 'HO', 'HO', 'HO', 'HO', 'HO', 'HO', 'HO', 'HO', 'HO', 'HO', 'HO', 'HO', 'HO', 'HO', 'HO', 'HO', 'HO', 'HO', 'HO', 'HO', 'HO', 'HO', 'HO', 'HO', 'HO', 'HO', 'HO', 'HO', 'HO', 'HO', 'HO', 'HO', 'HO', 'HO', 'HO', 'HO', 'HO', 'HO', 'HO', 'HO', 'HO', 'HO', 'HO', 'HO', 'HO', 'HO', 'HO', 'HO', 'HO', 'HO', 'HO', 'HO', 'HO', 'HO', 'HO', 'HO', 'HO', 'HO', 'HO', 'HO', 'HO', 'HO', 'HO', 'HO', 'HO', 'HO', 'HO', 'HO', 'HO', 'HO', 'HO', 'HO', 'HO', 'HO', 'HO', 'HO', 'HO', 'HO']), ('INTS', ['10', '10', '10', '10', '10', '10', '10', '10', '10', '10', '10', '10', '10', '10', '10', '10', '10', '10', '10', '10', '10', '10', '10', '10', '10', '10', '10', '10', '10', '10', '10', '10', '10', '10', '10', '10', '10', '10', '10', '10', '10', '10', '10', '10', '10', '10', '10', '10', '10', '10', '10', '10', '10', '10', '10', '10', '10', '10', '10', '10', '10', '10', '10', '10', '10', '10', '10', '10', '10', '10', '10', '10', '10', '10', '10', '10', '10', '10', '10', '10', '10', '10', '10', '10', '10', '10', '10', '10', '10', '10', '10', '10', '10', '10', '10', '10', '10', '10', '10', '10', '10', '10', '10', '10', '10', '10', '10', '10', '10', '10', '10', '10', '10', '10', '10', '10', '10', '10', '10', '10', '10', '10', '10', '10', '10', '10', '10', '10', '10', '10', '10', '10', '10', '10', '10', '10', '10', '10', '10', '10', '10', '10', '10', '10', '10', '10', '10', '10', '10', '10', '10', '10', '10', '10', '10', '10', '10', '10', '10', '10', '10', '10', '10', '10', '10', '10', '10', '10', '10', '10', '10', '10', '10', '10', '10', '10', '10', '10', '10', '10', '10', '10', '10', '10', '10', '10', '10', '10', '10', '10', '10', '10', '10', '10', '10', '10', '10', '10', '10', '10', '10', '10', '10', '10', '10', '10', '10', '10', '10', '10', '10', '10', '10', '10', '10', '10', '10', '10', '10', '10', '10', '10', '10', '10']), ('F_PSD', []), ('F_SPEC', []), ('files', ['AIR_1001_03.dat', 'AIR_1001_00.dat', 'AIR_1001_02.dat', 'AIR_1001_01.dat', 'AIR_1001_04.dat']), ('drone_name', 'AIR'), ('cond_name', 'HO'), ('fi', 'AIR_1001_02.dat'), ('d_split', [array([ 4.2621600e-03+0.0386812j , -2.1077225e-03+0.02594143j,\n",
       "       -3.7001930e-03-0.01227786j, ..., -3.1886413e+00-0.3291795j ,\n",
       "       -1.7379007e+00-3.2593253j ,  8.3885685e-02-3.4599767j ],\n",
       "      dtype=complex64), array([ 1.953446  -3.4599767e+00j,  3.1764634 -3.4599767e+00j,\n",
       "        3.1764634 -3.0268247e+00j, ..., -0.00529266-1.1305676e-03j,\n",
       "        0.01700193-7.5004497e-03j,  0.02018687+2.7533902e-02j],\n",
       "      dtype=complex64), array([ 0.01063204+0.03549626j,  0.00585463-0.01068539j,\n",
       "        0.01063204-0.0266101j , ..., -0.02758725-0.00909292j,\n",
       "       -0.04032702+0.02116402j,  0.00107722+0.01001673j], dtype=complex64), array([-0.00370019+0.0116092j , -0.01166255+0.01957155j,\n",
       "        0.02337181-0.00590798j, ...,  0.02018687-0.00113057j,\n",
       "       -0.01166255+0.0116092j , -0.00529266-0.00272304j], dtype=complex64), array([ 0.00426216-0.00431551j, -0.00529266+0.01001673j,\n",
       "       -0.0084776 -0.01227786j, ...,  0.01381698+0.0275339j ,\n",
       "        0.00266969-0.00113057j,  0.02177934+0.01479414j], dtype=complex64), array([ 0.02337181+0.01479414j, -0.00529266+0.00205437j,\n",
       "       -0.02280984+0.02594143j, ...,  0.04566639+0.02116402j,\n",
       "        0.04248145-0.02501763j,  0.00266969-0.02820257j], dtype=complex64), array([-0.03714208-0.00590798j, -0.01803243+0.02275649j,\n",
       "        0.03292663+0.02594143j, ..., -0.0196249 +0.04027367j,\n",
       "       -0.0084776 +0.03708873j,  0.0345191 +0.01001673j], dtype=complex64), array([ 0.03611157+0.00523931j,  0.00585463+0.01001673j,\n",
       "       -0.02917972+0.00523931j, ..., -0.00370019-0.01864774j,\n",
       "        0.00266969-0.00431551j, -0.0084776 +0.02434896j], dtype=complex64), array([ 0.0074471 +0.03708873j,  0.0074471 +0.02594143j,\n",
       "       -0.01166255+0.02275649j, ...,  0.02655675+0.01638661j,\n",
       "        0.02337181-0.01227786j, -0.00529266+0.00205437j], dtype=complex64), array([-0.01166255+0.02594143j,  0.0074471 +0.00842426j,\n",
       "       -0.00210772-0.04890468j, ...,  0.01540945-0.0425348j ,\n",
       "       -0.01643996-0.01705527j, -0.01007008-0.00272304j], dtype=complex64), array([-0.0084776 +0.01479414j,  0.00903957+0.01320167j,\n",
       "        0.01063204-0.01068539j, ...,  0.0074471 +0.00683179j,\n",
       "        0.02337181-0.01068539j,  0.00107722-0.02501763j], dtype=complex64), array([-0.01325502+0.02594143j, -0.01007008+0.03390379j,\n",
       "       -0.00210772-0.00909292j, ..., -0.02758725+0.0116092j ,\n",
       "       -0.01803243+0.03549626j,  0.0074471 +0.01320167j], dtype=complex64), array([ 0.00585463-0.02024021j, -0.01803243-0.01387033j,\n",
       "       -0.01007008+0.01320167j, ...,  0.02974169+0.02434896j,\n",
       "        0.00585463+0.00842426j, -0.01803243-0.00272304j], dtype=complex64), array([-0.01166255+0.02275649j,  0.00585463+0.03231131j,\n",
       "        0.01063204+0.01001673j, ...,  0.01540945+0.00523931j,\n",
       "       -0.00210772+0.00364684j, -0.04351196+0.00842426j], dtype=complex64), array([-0.04828937-0.00272304j, -0.00210772+0.01001673j,\n",
       "        0.0074471 -0.01068539j, ..., -0.45277688+2.2569926j ,\n",
       "        0.15713933+1.2171094j ,  1.1667657 +0.34602803j], dtype=complex64), array([ 1.8117162 -0.32599455j,  1.1572108 -0.8132906j ,\n",
       "       -1.0674706 -1.0059795j , ..., -0.04351196+0.00683179j,\n",
       "        0.01063204+0.01797908j,  0.04248145-0.00113057j], dtype=complex64), array([ 0.0074471 -0.01705527j, -0.04510443+0.0116092j ,\n",
       "       -0.0196249 +0.03549626j, ..., -0.00370019+0.03071884j,\n",
       "        0.0185944 -0.00113057j,  0.01222451-0.02820257j], dtype=complex64), array([-0.03077219-0.00272304j, -0.04032702+0.02275649j,\n",
       "       -0.01007008+0.02275649j, ...,  0.01381698+0.00842426j,\n",
       "        0.02177934+0.00205437j,  0.0074471 +0.00205437j], dtype=complex64), array([-0.01803243+0.0116092j , -0.0084776 +0.02116402j,\n",
       "        0.00426216+0.00683179j, ...,  0.0074471 -0.01227786j,\n",
       "       -0.01325502-0.01068539j, -0.01007008+0.01320167j], dtype=complex64), array([-0.0196249 +0.03071884j, -0.02121737+0.03390379j,\n",
       "        0.00585463+0.01479414j, ..., -0.03236466+0.00205437j,\n",
       "        0.00426216+0.01320167j,  0.02814922+0.0275339j ], dtype=complex64), array([-0.00210772+0.0116092j , -0.00688513-0.00272304j,\n",
       "        0.03292663-0.01387033j, ..., -0.8572644 +1.0069033j ,\n",
       "        0.1316598 +1.6789259j ,  1.4820749 +1.7872138j ], dtype=complex64), array([2.6445782 +1.2218868j , 3.0681756 +0.18518849j,\n",
       "       2.3611186 -0.6413038j , ..., 0.07433087-0.01227786j,\n",
       "       0.1380297 -0.03457245j, 0.06796099-0.01068539j], dtype=complex64), array([ 0.0074471 +0.04982849j,  0.04088898+0.06256825j,\n",
       "        0.10777275+0.04345861j, ..., -0.03395713+0.00523931j,\n",
       "       -0.00210772+0.0657532j ,  0.03133416-0.00272304j], dtype=complex64), array([ 0.01700193-0.0425348j ,  0.00107722-0.01387033j,\n",
       "       -0.01325502+0.00205437j, ...,  0.14121462-0.01068539j,\n",
       "        0.10458781-0.00431551j,  0.12528992+0.05938331j], dtype=complex64), array([ 0.23357794+0.06097579j,  0.257465  +0.08486284j,\n",
       "        0.16191675+0.14219178j, ..., -0.03395713+0.02116402j,\n",
       "       -0.01166255+0.01957155j,  0.00903957+0.00523931j], dtype=complex64), array([-0.03395713-0.00272304j, -0.04510443-0.01227786j,\n",
       "        0.02655675-0.0266101j , ...,  0.01381698+0.02116402j,\n",
       "        0.02655675+0.00842426j, -0.02758725-0.01068539j], dtype=complex64), array([-0.03077219+0.0116092j ,  0.0345191 +0.01797908j,\n",
       "        0.0345191 -0.03297998j, ...,  0.02018687-0.01864774j,\n",
       "        0.01700193+0.02116402j, -0.0084776 +0.03390379j], dtype=complex64), array([-0.0196249 -0.00431551j, -0.01803243-0.02979504j,\n",
       "       -0.02280984-0.00272304j, ..., -0.00210772+0.04027367j,\n",
       "       -0.03236466+0.0546059j , -0.04510443+0.0275339j ], dtype=complex64), array([ 0.00266969-0.00113057j,  0.03292663-0.01387033j,\n",
       "       -0.0196249 +0.01001673j, ..., -0.01007008+0.00205437j,\n",
       "        0.02337181-0.00431551j,  0.02018687-0.01387033j], dtype=complex64), array([ 0.00426216-0.01227786j, -0.02758725+0.0116092j ,\n",
       "       -0.01803243+0.04505108j, ...,  0.07910828-0.01387033j,\n",
       "        0.08229322-0.01864774j,  0.02018687+0.00364684j], dtype=complex64), array([-0.01007008+0.03231131j,  0.02337181+0.0004619j ,\n",
       "        0.03133416-0.02979504j, ...,  0.01063204-0.01227786j,\n",
       "        0.05522122-0.01227786j,  0.01540945+0.00205437j], dtype=complex64), array([ 0.00585463+0.0116092j ,  0.02974169-0.01387033j,\n",
       "        0.00426216-0.02979504j, ..., -0.0084776 -0.02024021j,\n",
       "        0.01222451+0.00523931j,  0.00426216+0.01957155j], dtype=complex64), array([-0.0084776 -0.01068539j,  0.0074471 -0.01864774j,\n",
       "        0.02018687-0.02024021j, ..., -0.01803243-0.00750045j,\n",
       "        0.01063204-0.00909292j,  0.0185944 +0.00523931j], dtype=complex64), array([-0.00688513+0.0116092j , -0.02758725+0.02434896j,\n",
       "        0.00903957+0.0386812j , ...,  0.00107722-0.03297998j,\n",
       "        0.0074471 +0.02594143j, -0.0084776 +0.06097579j], dtype=complex64), array([-0.03236466+0.04664355j, -0.00370019+0.02116402j,\n",
       "        0.0074471 +0.01638661j, ...,  0.00426216+0.00842426j,\n",
       "        0.01381698-0.06323692j,  0.01222451-0.02820257j], dtype=complex64), array([-2.1077225e-03+2.5941432e-02j, -3.5549603e-02+2.0543735e-03j,\n",
       "       -2.4402311e-02-1.0685391e-02j, ...,  1.3228278e+00-1.3499532e+00j,\n",
       "       -5.1329076e-01-2.5490835e+00j, -2.1439807e+00-3.4599767e+00j],\n",
       "      dtype=complex64), array([-2.753897  -3.4599767j, -2.0293229 -3.4599767j,\n",
       "       -0.47666395-3.4599767j, ..., -0.08173125-3.4599767j,\n",
       "        2.3117518 -3.4599767j,  3.1764634 -1.5123851j], dtype=complex64), array([ 3.1764634 +0.6056007j ,  1.8435656 +1.9767178j ,\n",
       "       -0.32856417+2.3923526j , ..., -0.20594394-0.5728275j ,\n",
       "       -0.72986674+0.06097579j, -0.19479667+0.77121764j], dtype=complex64), array([ 0.8339393 +0.37150756j,  0.609401  -0.79895836j,\n",
       "       -0.78401077-0.8260304j , ..., -0.01484749+0.00205437j,\n",
       "        0.02337181-0.00272304j, -0.00210772-0.01068539j], dtype=complex64), array([-0.02917972+0.02594143j,  0.00107722+0.03071884j,\n",
       "        0.01063204-0.02183268j, ...,  0.00426216+0.00205437j,\n",
       "        0.01222451+0.0004619j ,  0.01063204+0.01797908j], dtype=complex64), array([-0.00370019-0.00272304j, -0.02121737-0.01227786j,\n",
       "       -0.00529266+0.01797908j, ...,  0.03611157+0.00205437j,\n",
       "       -0.0084776 +0.01479414j,  0.00266969+0.01001673j], dtype=complex64), array([ 0.02814922+0.00683179j,  0.01700193-0.00113057j,\n",
       "       -0.02758725-0.00590798j, ..., -0.0196249 +0.00842426j,\n",
       "        0.01540945-0.01227786j,  0.02337181-0.00750045j], dtype=complex64), array([-0.01166255+0.01797908j, -0.03714208+0.01001673j,\n",
       "       -0.02280984-0.02024021j, ..., -0.6072465 -2.9169443j ,\n",
       "       -2.7093077 +0.88428307j,  1.0552927 +2.728364j  ], dtype=complex64), array([ 2.3611186 -1.3228811e+00j, -1.5977632 -2.4057612e+00j,\n",
       "       -2.1328335 +1.7696967e+00j, ..., -0.02758725+5.2393149e-03j,\n",
       "       -0.01166255+8.4242560e-03j,  0.00903957-1.1305676e-03j],\n",
       "      dtype=complex64), array([ 0.01222451+0.00842426j, -0.0084776 -0.00272304j,\n",
       "       -0.02917972-0.01227786j, ..., -0.02440231-0.02820257j,\n",
       "       -0.01484749+0.0116092j , -0.0196249 +0.02275649j], dtype=complex64), array([-0.00688513-0.01068539j,  0.01540945-0.03138751j,\n",
       "       -0.00688513-0.00113057j, ...,  0.00266969-0.00750045j,\n",
       "       -0.01166255+0.00842426j, -0.0084776 -0.01227786j], dtype=complex64), array([-0.01484749-0.00272304j, -0.00529266-0.00909292j,\n",
       "       -0.04351196-0.00909292j, ...,  0.00903957+0.00842426j,\n",
       "        0.02337181-0.00431551j,  0.0074471 -0.01705527j], dtype=complex64), array([-0.02758725+0.01320167j, -0.03714208+0.03708873j,\n",
       "       -0.01484749+0.02275649j, ..., -0.01007008+0.00205437j,\n",
       "        0.00585463-0.0154628j , -0.00210772-0.02183268j], dtype=complex64), array([-0.01484749+0.00205437j,  0.01063204+0.0275339j ,\n",
       "        0.03133416+0.01479414j, ..., -0.01643996+0.06097579j,\n",
       "       -0.06580655+0.04982849j,  0.01222451-0.03775739j], dtype=complex64), array([ 0.09344051-0.08075409j,  0.06477604+0.00205437j,\n",
       "       -0.01484749+0.03708873j, ..., -0.03714208+0.04027367j,\n",
       "        0.00266969+0.04345861j, -0.00529266-0.00431551j], dtype=complex64), array([ 0.00266969-0.01864774j,  0.01063204-0.00750045j,\n",
       "       -0.00210772-0.02183268j, ..., -0.00688513-0.02024021j,\n",
       "       -0.01166255+0.00842426j, -0.02758725+0.02434896j], dtype=complex64), array([ 0.00585463-0.01864774j,  0.03611157-0.05208962j,\n",
       "        0.03292663-0.02820257j, ...,  0.01063204-0.01068539j,\n",
       "        0.01700193-0.01068539j, -0.03395713+0.01001673j], dtype=complex64), array([-0.0355496 -0.01068539j, -0.02440231+0.0004619j ,\n",
       "       -0.00688513-0.01227786j, ...,  0.01540945-0.03297998j,\n",
       "       -0.01803243-0.02183268j, -0.02917972+0.0116092j ], dtype=complex64), array([-0.01484749+0.03071884j, -0.01484749+0.0116092j ,\n",
       "       -0.02280984+0.01638661j, ..., -0.01166255+0.02275649j,\n",
       "        0.01700193+0.03708873j,  0.0074471 +0.00205437j], dtype=complex64), array([-0.00688513-0.03457245j,  0.0074471 -0.03297998j,\n",
       "       -0.00370019-0.03775739j, ...,  0.09981039-0.00431551j,\n",
       "        0.02655675+0.1087499j , -0.03873454+0.10078755j], dtype=complex64), array([-0.03236466+0.01001673j,  0.02655675+0.01797908j,\n",
       "        0.06796099+0.11034237j, ..., -0.02280984-0.00431551j,\n",
       "       -0.00210772+0.01001673j, -0.00370019-0.00909292j], dtype=complex64), array([-0.0084776 -0.00909292j, -0.0084776 +0.00364684j,\n",
       "       -0.01007008+0.02434896j, ...,  0.02337181-0.00431551j,\n",
       "       -0.00688513+0.02594143j, -0.00210772-0.00113057j], dtype=complex64), array([ 0.03611157-0.02342516j,  0.02337181+0.02116402j,\n",
       "       -0.01007008+0.05779084j, ..., -0.03714208+0.01638661j,\n",
       "       -0.00529266-0.02820257j,  0.00107722-0.02024021j], dtype=complex64), array([-0.02280984-0.02024021j, -0.0196249 -0.00113057j,\n",
       "       -0.01484749+0.01797908j, ..., -0.0084776 -0.00272304j,\n",
       "        0.01381698+0.02594143j,  0.01063204+0.00205437j], dtype=complex64), array([-0.01484749-0.01387033j, -0.01325502+0.01001673j,\n",
       "        0.00266969+0.02434896j, ...,  0.01700193+0.00205437j,\n",
       "        0.03292663-0.00431551j, -0.00210772+0.00842426j], dtype=complex64), array([-0.03077219+0.0116092j , -0.01484749-0.00113057j,\n",
       "       -0.00370019-0.00909292j, ...,  0.12210498+0.41928163j,\n",
       "        1.2432042 -0.44065246j,  1.6094725 -0.7766638j ], dtype=complex64), array([ 1.0982895 -0.56008774j, -0.00688513-0.07756916j,\n",
       "       -1.2872314 +0.26958942j, ...,  0.0074471 -0.02501763j,\n",
       "       -0.0196249 -0.01068539j, -0.02440231+0.04027367j], dtype=complex64), array([-2.1077225e-03+2.1164021e-02j, -1.4847487e-02-1.0685391e-02j,\n",
       "       -1.9624898e-02+2.0543735e-03j, ..., -3.3447034e+00+3.0277483e+00j,\n",
       "       -3.3447034e+00+3.0611904e+00j, -3.3447034e+00+3.0611904e+00j],\n",
       "      dtype=complex64), array([-3.3447034 +3.0611904j , -3.3447034 +3.0611904j ,\n",
       "       -3.3447034 +3.0611904j , ..., -0.02758725+0.01320167j,\n",
       "       -0.00529266+0.03071884j, -0.00370019+0.01001673j], dtype=complex64), array([ 0.00585463-0.00909292j,  0.01381698+0.00842426j,\n",
       "        0.0074471 -0.00113057j, ..., -0.01484749+0.00842426j,\n",
       "       -0.00688513-0.00272304j, -0.01007008+0.00842426j], dtype=complex64), array([ 0.01381698+0.00364684j, -0.00210772-0.02820257j,\n",
       "       -0.0355496 -0.00272304j, ...,  0.01540945-0.00909292j,\n",
       "       -0.02121737-0.01068539j, -0.0466969 +0.00523931j], dtype=complex64), array([ 0.01381698+0.00842426j,  0.01540945-0.01705527j,\n",
       "       -0.01643996-0.02820257j, ...,  0.03292663+0.0275339j ,\n",
       "        0.0074471 +0.04664355j, -0.00370019+0.02594143j], dtype=complex64), array([ 0.03611157-0.00272304j,  0.09344051-0.02820257j,\n",
       "        0.08388568-0.00750045j, ..., -0.03077219-0.02342516j,\n",
       "       -0.04191948+0.02594143j, -0.0084776 +0.03231131j], dtype=complex64), array([-0.00688513-0.00590798j, -0.02121737-0.00431551j,\n",
       "        0.00585463+0.01479414j, ..., -0.00529266-0.01227786j,\n",
       "       -0.03236466-0.00750045j, -0.03077219-0.01068539j], dtype=complex64), array([-0.01007008-0.01705527j,  0.00585463-0.00431551j,\n",
       "        0.0185944 +0.00842426j, ..., -2.5691705 +3.0611904j ,\n",
       "        3.1764634 +2.3843904j ,  1.9343364 -3.4599767j ], dtype=complex64), array([-3.3447034 -1.6827796e+00j, -0.9002611 +3.0611904e+00j,\n",
       "        3.1764634 +6.6133714e-01j, ...,  0.02814922+2.4348961e-02j,\n",
       "       -0.02758725-2.7230382e-03j, -0.01484749-2.7230382e-03j],\n",
       "      dtype=complex64), array([-0.01166255-0.04571974j, -0.01803243-0.0425348j ,\n",
       "        0.00903957-0.01227786j, ...,  0.01700193+0.02434896j,\n",
       "        0.0615911 +0.03071884j,  0.04885134-0.00909292j], dtype=complex64), array([-0.00210772-0.02820257j, -0.02758725-0.00431551j,\n",
       "        0.00585463+0.02912637j, ...,  0.01700193-0.01227786j,\n",
       "       -0.01643996+0.01320167j, -0.01166255+0.02434896j], dtype=complex64), array([-8.4776049e-03+6.8317852e-03j,  7.4471012e-03-1.1305676e-03j,\n",
       "        1.0772188e-03-2.7230382e-03j, ..., -1.5308795e+00-1.7751428e+00j,\n",
       "        4.9155816e-01-2.9057970e+00j,  3.1143570e+00-3.4599767e+00j],\n",
       "      dtype=complex64), array([ 3.1764634 -3.1175954e+00j,  3.1764634 -2.0586026e+00j,\n",
       "        3.1764634 -7.0500261e-01j, ..., -0.00529266-1.3870332e-02j,\n",
       "        0.00426216-5.9079793e-03j, -0.01166255-1.1305676e-03j],\n",
       "      dtype=complex64), array([-0.02121737+0.00205437j,  0.00585463+0.02275649j,\n",
       "        0.02337181+0.02594143j, ...,  0.03611157-0.02501763j,\n",
       "        0.01700193-0.01705527j, -0.00370019+0.00683179j], dtype=complex64), array([-0.01166255-0.00431551j,  0.01700193+0.0004619j ,\n",
       "        0.03929651-0.01227786j, ..., -0.02758725-0.04571974j,\n",
       "       -0.02917972+0.03549626j, -0.01007008+0.01479414j], dtype=complex64), array([-0.0196249 -0.02979504j, -0.00210772+0.00364684j,\n",
       "        0.00585463-0.0154628j , ..., -0.03236466-0.0154628j ,\n",
       "        0.00266969-0.00272304j,  0.01222451+0.02594143j], dtype=complex64), array([ 0.01222451+0.00842426j, -0.01007008-0.05845951j,\n",
       "       -0.02440231-0.05208962j, ...,  0.02974169-0.02024021j,\n",
       "       -0.00688513-0.01387033j, -0.01166255-0.00113057j], dtype=complex64), array([-0.01166255-4.5719743e-02j, -0.02121737-2.0240214e-02j,\n",
       "        0.03292663-2.7230382e-03j, ..., -3.3447034 +1.7824365e+00j,\n",
       "        2.0028126 +3.0611904e+00j,  3.1764634 -2.3054354e+00j],\n",
       "      dtype=complex64), array([-2.4115157 -3.116003j , -2.7188625 +2.637593j ,\n",
       "        2.3611186 +2.54523j  , ...,  0.8004975 +0.9511668j,\n",
       "        1.1890603 -0.3833235j,  0.12528992-1.2687372j], dtype=complex64), array([-1.0977274 -0.5760125j , -0.9766997 +0.81421435j,\n",
       "        0.33549604+1.1932223j , ...,  0.0185944 +0.00842426j,\n",
       "        0.02177934-0.00750045j, -0.00210772-0.02820257j], dtype=complex64), array([-0.02280984+0.01479414j,  0.01700193+0.0275339j ,\n",
       "        0.02337181-0.02501763j, ...,  0.01700193+0.01001673j,\n",
       "        0.01540945+0.00205437j, -0.00529266+0.02275649j], dtype=complex64), array([ 0.0074471 +0.02434896j,  0.03292663-0.0266101j ,\n",
       "        0.00426216-0.02501763j, ...,  0.0074471 -0.01705527j,\n",
       "       -0.01484749-0.0266101j ,  0.01540945-0.00431551j], dtype=complex64), array([ 0.02814922+0.00523931j,  0.01222451-0.01227786j,\n",
       "       -0.02121737-0.02820257j, ...,  0.01700193+0.0116092j ,\n",
       "        0.0185944 +0.00205437j, -0.04351196-0.00272304j], dtype=complex64), array([0.00266969-0.02024021j, 0.05362875-0.08075409j,\n",
       "       0.02018687-0.02820257j, ..., 0.00266969-0.00590798j,\n",
       "       0.04725887+0.01320167j, 0.02655675+0.02594143j], dtype=complex64), array([-0.04351196+0.01638661j, -0.07058395+0.00205437j,\n",
       "       -0.02121737+0.00364684j, ...,  2.200279  -1.5171626j ,\n",
       "        1.5011845 -1.010757j  ,  0.41830453-0.05527457j], dtype=complex64), array([-0.6852776 +0.9702765j , -1.5006225 +1.8493202j ,\n",
       "       -1.9035176 +2.5818567j , ..., -0.02280984+0.01001673j,\n",
       "        0.00585463-0.0154628j , -0.00688513-0.00750045j], dtype=complex64), array([-0.03077219+0.0275339j , -0.0084776 +0.00205437j,\n",
       "        0.00266969-0.0425348j , ..., -0.01007008+0.0657532j ,\n",
       "        0.11414263-0.00750045j,  0.00426216-0.06005198j], dtype=complex64), array([-0.01803243+0.06097579j,  0.0615911 -0.02979504j,\n",
       "       -0.06899149-0.08712398j, ..., -0.02758725-0.01227786j,\n",
       "        0.0074471 -0.01387033j,  0.0074471 -0.00113057j], dtype=complex64), array([-0.02917972-0.02183268j, -0.03236466-0.01705527j,\n",
       "       -0.00210772-0.01227786j, ..., -0.01325502+0.02116402j,\n",
       "        0.01540945+0.00842426j,  0.06477604-0.03297998j], dtype=complex64), array([ 0.0345191 -0.03775739j, -0.02280984-0.00431551j,\n",
       "       -0.03236466+0.00205437j, ...,  0.01540945-0.00431551j,\n",
       "        0.02814922-0.00909292j,  0.0074471 -0.00113057j], dtype=complex64), array([-0.01484749-0.01864774j, -0.01007008-0.02024021j,\n",
       "       -0.00210772+0.00364684j, ...,  0.00107722-0.03297998j,\n",
       "       -0.0084776 -0.03457245j,  0.01540945-0.00750045j], dtype=complex64), array([ 0.02814922-0.01227786j, -0.02440231-0.02024021j,\n",
       "       -0.04828937-0.00750045j, ..., -0.0084776 +0.01957155j,\n",
       "        0.00107722+0.02116402j,  0.0185944 -0.01068539j], dtype=complex64), array([ 0.00585463-0.05049716j, -0.02758725-0.0536821j ,\n",
       "       -0.03077219-0.01705527j, ...,  0.00903957-0.00590798j,\n",
       "        0.00107722-0.03457245j,  0.01063204-0.00750045j], dtype=complex64), array([ 0.02177934+0.00842426j, -0.00688513-0.01705527j,\n",
       "       -0.03395713-0.01387033j, ..., -0.0196249 -0.02979504j,\n",
       "        0.00107722+0.00205437j,  0.0185944 -0.00113057j], dtype=complex64), array([-0.0084776 -0.02979504j, -0.02121737-0.01068539j,\n",
       "        0.00585463+0.01479414j, ..., -0.0355496 -0.00431551j,\n",
       "       -0.0355496 +0.01001673j, -0.01007008+0.00205437j], dtype=complex64), array([-0.01803243-0.00909292j, -0.0196249 -0.00272304j,\n",
       "        0.01700193-0.00750045j, ...,  0.01540945-0.05049716j,\n",
       "        0.00585463+0.01479414j,  0.00426216+0.03549626j], dtype=complex64), array([-0.02121737-0.00272304j, -0.03236466+0.01479414j,\n",
       "        0.00585463+0.04823602j, ..., -0.02121737+0.01479414j,\n",
       "       -0.00210772+0.02275649j,  0.00426216+0.00205437j], dtype=complex64), array([ 0.00107722-0.00431551j,  0.00903957+0.00523931j,\n",
       "       -0.00370019+0.00842426j, ...,  0.02018687+0.00523931j,\n",
       "        0.03611157+0.00205437j, -0.0084776 +0.00523931j], dtype=complex64)]), ('fi_number', '02'), ('int_name', '10'), ('i', 23), ('d_complex', array([ 0.01700193-0.0425348j ,  0.00107722-0.01387033j,\n",
       "       -0.01325502+0.00205437j, ...,  0.14121462-0.01068539j,\n",
       "        0.10458781-0.00431551j,  0.12528992+0.05938331j], dtype=complex64)), ('fig', <Figure size 224x224 with 1 Axes>), ('ax', <AxesSubplot:>), ('spec', array([[1.29436339e-08, 1.49891405e-08, 1.79230409e-08, ...,\n",
       "        1.24685184e-10, 2.21107637e-10, 8.89965542e-11],\n",
       "       [3.15973335e-09, 1.26343344e-08, 6.69720037e-09, ...,\n",
       "        2.33693122e-11, 2.64866029e-10, 7.08220048e-11],\n",
       "       [2.42596443e-09, 2.16589825e-09, 2.44533105e-09, ...,\n",
       "        5.58257010e-12, 3.87979434e-11, 2.64679599e-11],\n",
       "       ...,\n",
       "       [7.31713049e-13, 1.89579235e-12, 1.47375212e-13, ...,\n",
       "        8.67416059e-13, 7.29285584e-13, 7.40377590e-13],\n",
       "       [2.39290090e-13, 3.32644230e-13, 1.04670938e-12, ...,\n",
       "        1.71556688e-12, 2.64466975e-13, 4.36336578e-13],\n",
       "       [3.38441217e-13, 6.71179525e-13, 5.31742225e-13, ...,\n",
       "        2.31921337e-13, 5.28517285e-13, 3.30037536e-13]])), ('freqs', array([       0. ,   117187.5,   234375. ,   351562.5,   468750. ,\n",
       "         585937.5,   703125. ,   820312.5,   937500. ,  1054687.5,\n",
       "        1171875. ,  1289062.5,  1406250. ,  1523437.5,  1640625. ,\n",
       "        1757812.5,  1875000. ,  1992187.5,  2109375. ,  2226562.5,\n",
       "        2343750. ,  2460937.5,  2578125. ,  2695312.5,  2812500. ,\n",
       "        2929687.5,  3046875. ,  3164062.5,  3281250. ,  3398437.5,\n",
       "        3515625. ,  3632812.5,  3750000. ,  3867187.5,  3984375. ,\n",
       "        4101562.5,  4218750. ,  4335937.5,  4453125. ,  4570312.5,\n",
       "        4687500. ,  4804687.5,  4921875. ,  5039062.5,  5156250. ,\n",
       "        5273437.5,  5390625. ,  5507812.5,  5625000. ,  5742187.5,\n",
       "        5859375. ,  5976562.5,  6093750. ,  6210937.5,  6328125. ,\n",
       "        6445312.5,  6562500. ,  6679687.5,  6796875. ,  6914062.5,\n",
       "        7031250. ,  7148437.5,  7265625. ,  7382812.5,  7500000. ,\n",
       "        7617187.5,  7734375. ,  7851562.5,  7968750. ,  8085937.5,\n",
       "        8203125. ,  8320312.5,  8437500. ,  8554687.5,  8671875. ,\n",
       "        8789062.5,  8906250. ,  9023437.5,  9140625. ,  9257812.5,\n",
       "        9375000. ,  9492187.5,  9609375. ,  9726562.5,  9843750. ,\n",
       "        9960937.5, 10078125. , 10195312.5, 10312500. , 10429687.5,\n",
       "       10546875. , 10664062.5, 10781250. , 10898437.5, 11015625. ,\n",
       "       11132812.5, 11250000. , 11367187.5, 11484375. , 11601562.5,\n",
       "       11718750. , 11835937.5, 11953125. , 12070312.5, 12187500. ,\n",
       "       12304687.5, 12421875. , 12539062.5, 12656250. , 12773437.5,\n",
       "       12890625. , 13007812.5, 13125000. , 13242187.5, 13359375. ,\n",
       "       13476562.5, 13593750. , 13710937.5, 13828125. , 13945312.5,\n",
       "       14062500. , 14179687.5, 14296875. , 14414062.5, 14531250. ,\n",
       "       14648437.5, 14765625. , 14882812.5, 15000000. , 15117187.5,\n",
       "       15234375. , 15351562.5, 15468750. , 15585937.5, 15703125. ,\n",
       "       15820312.5, 15937500. , 16054687.5, 16171875. , 16289062.5,\n",
       "       16406250. , 16523437.5, 16640625. , 16757812.5, 16875000. ,\n",
       "       16992187.5, 17109375. , 17226562.5, 17343750. , 17460937.5,\n",
       "       17578125. , 17695312.5, 17812500. , 17929687.5, 18046875. ,\n",
       "       18164062.5, 18281250. , 18398437.5, 18515625. , 18632812.5,\n",
       "       18750000. , 18867187.5, 18984375. , 19101562.5, 19218750. ,\n",
       "       19335937.5, 19453125. , 19570312.5, 19687500. , 19804687.5,\n",
       "       19921875. , 20039062.5, 20156250. , 20273437.5, 20390625. ,\n",
       "       20507812.5, 20625000. , 20742187.5, 20859375. , 20976562.5,\n",
       "       21093750. , 21210937.5, 21328125. , 21445312.5, 21562500. ,\n",
       "       21679687.5, 21796875. , 21914062.5, 22031250. , 22148437.5,\n",
       "       22265625. , 22382812.5, 22500000. , 22617187.5, 22734375. ,\n",
       "       22851562.5, 22968750. , 23085937.5, 23203125. , 23320312.5,\n",
       "       23437500. , 23554687.5, 23671875. , 23789062.5, 23906250. ,\n",
       "       24023437.5, 24140625. , 24257812.5, 24375000. , 24492187.5,\n",
       "       24609375. , 24726562.5, 24843750. , 24960937.5, 25078125. ,\n",
       "       25195312.5, 25312500. , 25429687.5, 25546875. , 25664062.5,\n",
       "       25781250. , 25898437.5, 26015625. , 26132812.5, 26250000. ,\n",
       "       26367187.5, 26484375. , 26601562.5, 26718750. , 26835937.5,\n",
       "       26953125. , 27070312.5, 27187500. , 27304687.5, 27421875. ,\n",
       "       27539062.5, 27656250. , 27773437.5, 27890625. , 28007812.5,\n",
       "       28125000. , 28242187.5, 28359375. , 28476562.5, 28593750. ,\n",
       "       28710937.5, 28828125. , 28945312.5, 29062500. , 29179687.5,\n",
       "       29296875. , 29414062.5, 29531250. , 29648437.5, 29765625. ,\n",
       "       29882812.5, 30000000. ])), ('bins', array([4.26666667e-06, 1.08000000e-05, 1.73333333e-05, ...,\n",
       "       1.99766667e-02, 1.99832000e-02, 1.99897333e-02])), ('im', <matplotlib.image.AxesImage object at 0x7f299b025280>), ('_i7', '%who'), ('_i8', '%whos'), ('_i9', 'import sys\\ndef sizeof_fmt(num, suffix=\\'B\\'):\\n    \\'\\'\\' by Fred Cirera,  https://stackoverflow.com/a/1094933/1870254, modified\\'\\'\\'\\n    for unit in [\\'\\',\\'Ki\\',\\'Mi\\',\\'Gi\\',\\'Ti\\',\\'Pi\\',\\'Ei\\',\\'Zi\\']:\\n        if abs(num) < 1024.0:\\n            return \"%3.1f %s%s\" % (num, unit, suffix)\\n        num /= 1024.0\\n    return \"%.1f %s%s\" % (num, \\'Yi\\', suffix)\\n\\nfor name, size in sorted(((name, sys.getsizeof(value)) for name, value in locals().items()),\\n                         key= lambda x: -x[1])[:10]:\\n    print(\"{:>30}: {:>8}\".format(name, sizeof_fmt(size)))'), ('sys', <module 'sys' (built-in)>), ('sizeof_fmt', <function sizeof_fmt at 0x7f29d1e33550>), ('name', 'INTS'), ('size', 1920), ('_i10', 'locals().items()')])"
      ]
     },
     "execution_count": 10,
     "metadata": {},
     "output_type": "execute_result"
    }
   ],
   "source": [
    "locals().items()"
   ]
  },
  {
   "cell_type": "code",
   "execution_count": 15,
   "id": "30f0c4a0",
   "metadata": {},
   "outputs": [
    {
     "name": "stdout",
     "output_type": "stream",
     "text": [
      "Variable                    Type                          Data/Info\n",
      "-------------------------------------------------------------------\n",
      "CONDS                       list                          n=283\n",
      "DRONES                      list                          n=283\n",
      "Dataset                     type                          <class 'torch.utils.data.dataset.Dataset'>\n",
      "DroneData                   type                          <class 'loading_functions.DroneData'>\n",
      "F_PSD                       list                          n=0\n",
      "F_SPEC                      list                          n=0\n",
      "INTS                        list                          n=283\n",
      "arr_psd_folder              str                           ARR_PSD_512_20\n",
      "arr_spec_folder             str                           ARR_SPEC_512_20\n",
      "aug_int                     function                      <function aug_int at 0x7f29d1e33040>\n",
      "ax                          AxesSubplot                   AxesSubplot(0,0;1x1)\n",
      "bandwidth                   float                         28000000.0\n",
      "bins                        ndarray                       3060: 3060 elems, type `float64`, 24480 bytes\n",
      "center_freq                 float                         2430000000.0\n",
      "cond_name                   str                           ON\n",
      "cv2                         module                        <module 'cv2' from '/home<...>ackages/cv2/__init__.py'>\n",
      "d_complex                   ndarray                       1200000: 1200000 elems, type `complex64`, 9600000 bytes (9.1552734375 Mb)\n",
      "d_split                     list                          n=100\n",
      "date                        type                          <class 'datetime.date'>\n",
      "date_string                 date                          2022-07-20\n",
      "df                          str                           MIN_ON\n",
      "dim_px                      tuple                         n=2\n",
      "dpi                         int                           100\n",
      "drone_folders               list                          n=20\n",
      "drone_name                  str                           MIN\n",
      "existing_folders            list                          n=12\n",
      "f1_score                    function                      <function f1_score at 0x7f2a2f1ee0d0>\n",
      "feature_to_save             list                          n=1\n",
      "features_folder             str                           ../Features/\n",
      "fft                         module                        <module 'scipy.fftpack' f<...>ipy/fftpack/__init__.py'>\n",
      "fi                          str                           MIN_0100_00.dat\n",
      "fi_number                   str                           00\n",
      "fig                         Figure                        Figure(224x224)\n",
      "files                       list                          n=5\n",
      "format_to_save              list                          n=1\n",
      "freqs                       ndarray                       257: 257 elems, type `float64`, 2056 bytes\n",
      "fs                          float                         60000000.0\n",
      "get_label                   function                      <function get_label at 0x7f29d1e36f70>\n",
      "get_n_params                function                      <function get_n_params at 0x7f2a8c3439d0>\n",
      "get_window                  function                      <function get_window at 0x7f2a2d5fe790>\n",
      "helper_functions            module                        <module 'helper_functions<...>ion/helper_functions.py'>\n",
      "i                           int                           82\n",
      "im                          AxesImage                     AxesImage(0,0;224x224)\n",
      "img_psd_folder              str                           IMG_PSD_512_20\n",
      "img_spec_folder             str                           IMG_SPEC_512_20\n",
      "importlib                   module                        <module 'importlib' from <...>8/importlib/__init__.py'>\n",
      "int_name                    str                           01\n",
      "inteference_folders         list                          n=4\n",
      "interpolate                 module                        <module 'scipy.interpolat<...>interpolate/__init__.py'>\n",
      "interpolate_2d              function                      <function interpolate_2d at 0x7f29d1e333a0>\n",
      "is_interference             function                      <function is_interference at 0x7f29d1e330d0>\n",
      "isrealobj                   function                      <function isrealobj at 0x7f2a7c13b9d0>\n",
      "lfcc                        function                      <function lfcc at 0x7f2a2ef363a0>\n",
      "load_dronedetect_data       function                      <function load_dronedetec<...>t_data at 0x7f2a317e3d30>\n",
      "load_dronedetect_features   function                      <function load_dronedetec<...>atures at 0x7f29d1e36d30>\n",
      "load_dronedetect_raw        function                      <function load_dronedetect_raw at 0x7f2a2d296c10>\n",
      "load_dronerf_features       function                      <function load_dronerf_fe<...>atures at 0x7f29d1e331f0>\n",
      "load_dronerf_raw            function                      <function load_dronerf_raw at 0x7f29d1e33160>\n",
      "load_gamut_features         function                      <function load_gamut_features at 0x7f29d1e33280>\n",
      "local_vars                  list                          n=133\n",
      "main_folder                 str                           /home/ltindall/data/DroneDetect/DroneDetect_V2/\n",
      "n_overlap_spec              int                           120\n",
      "n_per_seg                   int                           512\n",
      "name                        str                           tqdm\n",
      "normalize_rf                function                      <function normalize_rf at 0x7f29d1e33430>\n",
      "np                          module                        <module 'numpy' from '/ho<...>kages/numpy/__init__.py'>\n",
      "obj                         str                           local_vars = list(locals(<...>(var, sys.getsizeof(obj))\n",
      "os                          module                        <module 'os' from '/home/<...>8.2/lib/python3.8/os.py'>\n",
      "pa_save                     bool                          False\n",
      "pd                          module                        <module 'pandas' from '/h<...>ages/pandas/__init__.py'>\n",
      "pi_save                     bool                          False\n",
      "plot_feat                   function                      <function plot_feat at 0x7f2a8c343940>\n",
      "plt                         module                        <module 'matplotlib.pyplo<...>es/matplotlib/pyplot.py'>\n",
      "preprocessing               module                        <module 'sklearn.preproce<...>eprocessing/__init__.py'>\n",
      "psd_win_type                str                           hamming\n",
      "sa_save                     bool                          False\n",
      "save_array                  function                      <function save_array at 0x7f29d1e33ca0>\n",
      "save_psd_image              function                      <function save_psd_image at 0x7f29d1e33c10>\n",
      "save_spec_image             function                      <function save_spec_image at 0x7f29d1e33a60>\n",
      "save_spec_image_fig         function                      <function save_spec_image_fig at 0x7f29d1e33af0>\n",
      "sf                          str                           BLUE\n",
      "si_save                     bool                          True\n",
      "signal                      module                        <module 'scipy.signal' fr<...>cipy/signal/__init__.py'>\n",
      "size                        int                           2008\n",
      "sizeof_fmt                  function                      <function sizeof_fmt at 0x7f29d1dea0d0>\n",
      "spec                        ndarray                       257x3060: 786420 elems, type `float64`, 6291360 bytes (5.999908447265625 Mb)\n",
      "spec_han_window             ndarray                       512: 512 elems, type `float64`, 4096 bytes\n",
      "sqrt                        ufunc                         <ufunc 'sqrt'>\n",
      "standard_normal             builtin_function_or_method    <built-in method standard<...>object at 0x7f2a64627940>\n",
      "sub_folders                 list                          n=4\n",
      "sum                         function                      <function sum at 0x7f2a7c1889d0>\n",
      "sys                         module                        <module 'sys' (built-in)>\n",
      "t_seg                       int                           20\n",
      "torch                       module                        <module 'torch' from '/ho<...>kages/torch/__init__.py'>\n",
      "tqdm                        type                          <class 'tqdm.std.tqdm'>\n",
      "train_test_split            function                      <function train_test_split at 0x7f2a2f3500d0>\n",
      "var                         str                           _i13\n",
      "vis                         module                        <module 'spafe.utils.vis'<...>ages/spafe/utils/vis.py'>\n"
     ]
    }
   ],
   "source": [
    "%whos"
   ]
  },
  {
   "cell_type": "markdown",
   "id": "cfba54f4",
   "metadata": {},
   "source": [
    "## Load Files test"
   ]
  },
  {
   "cell_type": "code",
   "execution_count": 46,
   "id": "265c152f",
   "metadata": {},
   "outputs": [],
   "source": [
    "from loading_functions import *"
   ]
  },
  {
   "cell_type": "code",
   "execution_count": 47,
   "id": "c8a9ad5d",
   "metadata": {},
   "outputs": [
    {
     "name": "stderr",
     "output_type": "stream",
     "text": [
      "100%|██████████████████████████████████████████████████████████████████████████████████████████████████████████████████████████| 80/80 [00:00<00:00, 3199.04it/s]\n"
     ]
    }
   ],
   "source": [
    "feat_folder = '../Features/'\n",
    "feat_name = 'PSD'\n",
    "# datestr = '2022-06-29'\n",
    "n_per_seg = 512\n",
    "interferences = ['WIFI']\n",
    "seg_len = 200\n",
    "output_feat = 'drones'\n",
    "# (feat_folder, feat_name, seg_len, n_per_seg, output_feat, interferences)\n",
    "Xs_arr, y_arr = load_dronedetect_features(feat_folder, feat_name, seg_len, n_per_seg, output_feat, interferences)"
   ]
  },
  {
   "cell_type": "code",
   "execution_count": 35,
   "id": "3d9f61c9",
   "metadata": {},
   "outputs": [
    {
     "data": {
      "text/plain": [
       "(1000, 512)"
      ]
     },
     "execution_count": 35,
     "metadata": {},
     "output_type": "execute_result"
    }
   ],
   "source": [
    "Xs_arr.shape"
   ]
  },
  {
   "cell_type": "markdown",
   "id": "b87533a4",
   "metadata": {},
   "source": [
    "## Plot as images test"
   ]
  },
  {
   "cell_type": "code",
   "execution_count": 48,
   "id": "77681241",
   "metadata": {},
   "outputs": [],
   "source": [
    "import importlib\n",
    "# import loading_functions\n",
    "# importlib.reload(loading_functions)"
   ]
  },
  {
   "cell_type": "code",
   "execution_count": 49,
   "id": "29ac2ed5",
   "metadata": {},
   "outputs": [
    {
     "data": {
      "image/png": "[encoded data removed]",
      "text/plain": [
       "<Figure size 500x500 with 1 Axes>"
      ]
     },
     "metadata": {
      "needs_background": "light"
     },
     "output_type": "display_data"
    }
   ],
   "source": [
    "sample_to_plot = 0\n",
    "helper_functions.plot_image(Xs_arr[sample_to_plot], dim=(224,224), dpi=100)"
   ]
  },
  {
   "cell_type": "markdown",
   "id": "21a555b8",
   "metadata": {},
   "source": [
    "### To visualize images"
   ]
  },
  {
   "cell_type": "code",
   "execution_count": 7,
   "id": "56b658dd",
   "metadata": {},
   "outputs": [
    {
     "data": {
      "image/png": "[encoded data removed]",
      "text/plain": [
       "<Figure size 432x288 with 1 Axes>"
      ]
     },
     "metadata": {
      "needs_background": "light"
     },
     "output_type": "display_data"
    }
   ],
   "source": [
    "# # plot for each type of drone\n",
    "# X_norm = Xs\n",
    "# for n in range(len(Xs_arr)):\n",
    "#     if DRONES[n] == 'AIR':\n",
    "#         c = 'r'\n",
    "#     elif DRONES[n] == 'DIS':\n",
    "#         c = 'b'\n",
    "#     elif DRONES[n] == 'INS':\n",
    "#         c = 'g'\n",
    "#     elif DRONES[n] == 'MIN':\n",
    "#         c = 'c'\n",
    "#     elif DRONES[n] == 'MP1':\n",
    "#         c = 'm'\n",
    "#     elif DRONES[n] == 'MP2':\n",
    "#         c = 'k'\n",
    "#     elif DRONES[n] == 'PHA':\n",
    "#         c = 'y'\n",
    "    \n",
    "#     # normalize it\n",
    "# #     X_norm[n] = Xs[n]/max(Xs[n])\n",
    "#     plt.plot(Xs[n],color=c)"
   ]
  },
  {
   "cell_type": "code",
   "execution_count": null,
   "id": "e97c9511",
   "metadata": {},
   "outputs": [],
   "source": []
  }
 ],
 "metadata": {
  "kernelspec": {
   "display_name": "Python 3 (ipykernel)",
   "language": "python",
   "name": "python3"
  },
  "language_info": {
   "codemirror_mode": {
    "name": "ipython",
    "version": 3
   },
   "file_extension": ".py",
   "mimetype": "text/x-python",
   "name": "python",
   "nbconvert_exporter": "python",
   "pygments_lexer": "ipython3",
   "version": "3.8.2"
  }
 },
 "nbformat": 4,
 "nbformat_minor": 5
}
