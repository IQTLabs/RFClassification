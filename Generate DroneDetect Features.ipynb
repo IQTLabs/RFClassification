{
 "cells": [
  {
   "cell_type": "markdown",
   "id": "66f67e5f",
   "metadata": {},
   "source": [
    "### Generate RF Features\n",
    "- notebook to load data (currently: DroneDetect dataset)\n",
    "- generate RF-based features: PSD, spectrograms in array form\n"
   ]
  },
  {
   "cell_type": "code",
   "execution_count": 1,
   "id": "bd033465",
   "metadata": {},
   "outputs": [],
   "source": [
    "import os\n",
    "import numpy as np\n",
    "from numpy import sum,isrealobj,sqrt\n",
    "from numpy.random import standard_normal\n",
    "import os\n",
    "from sklearn.model_selection import train_test_split\n",
    "from spafe.features.lfcc import lfcc\n",
    "import spafe.utils.vis as vis\n",
    "from scipy.signal import get_window\n",
    "import scipy.fftpack as fft\n",
    "from scipy import signal\n",
    "import matplotlib.pyplot as plt\n",
    "from datetime import date\n",
    "from tqdm import tqdm\n",
    "from loading_functions import *\n",
    "from scipy import interpolate\n"
   ]
  },
  {
   "cell_type": "code",
   "execution_count": 2,
   "id": "157c6ea2",
   "metadata": {},
   "outputs": [],
   "source": [
    "# # Reload modules for testing\n",
    "# import importlib\n",
    "# import helper_functions\n",
    "# importlib.reload(helper_functions)\n",
    "# from helper_functions import *"
   ]
  },
  {
   "cell_type": "code",
   "execution_count": 3,
   "id": "7a14d5ae",
   "metadata": {},
   "outputs": [],
   "source": [
    "# Data paths\n",
    "\n",
    "# DroneDetect\n",
    "main_folder = '/home/ltindall/data/DroneDetect/DroneDetect_V2/' # data path on mp-gpu-desktop06\n",
    "sub_folders = os.listdir(main_folder)\n",
    "\n",
    "# Dataset Info\n",
    "fs = 60e6 #60 MHz\n",
    "bandwidth = 28e6 # 28MHz\n",
    "center_freq = 2.43e9\n"
   ]
  },
  {
   "cell_type": "code",
   "execution_count": 4,
   "id": "9ca551d7",
   "metadata": {},
   "outputs": [],
   "source": [
    "## DATA SAVING FUNCTIONS\n",
    "def interpolate_2d(Sxx_in, output_size):\n",
    "    x = np.linspace(0, 1, Sxx_in.shape[0])\n",
    "    y = np.linspace(0, 1, Sxx_in.shape[1])\n",
    "    f = interpolate.interp2d(y, x, Sxx_in, kind='linear')\n",
    "    \n",
    "    x2 = np.linspace(0, 1, output_size[0])\n",
    "    y2 = np.linspace(0, 1, output_size[1])\n",
    "    arr2 = f(y2, x2)\n",
    "    \n",
    "    return arr2\n",
    "\n",
    "# save function to save image to file\n",
    "def save_spec_image(folder_path, cond_folder, DRONE, COND, INT, FIn, counter, f, t, Sxx):\n",
    "    plt.clf()\n",
    "    plt.pcolormesh(t, f, Sxx, cmap='Greys', vmin=Sxx.min(), vmax=Sxx.max())\n",
    "    full_img_path = folder_path+cond_folder+DRONE+'_'+COND+'_'+INT+'_'+FIn+'_'+str(counter)+'.jpg'\n",
    "    plt.savefig(full_img_path)\n",
    "\n",
    "# save spectrogram when passing in fig object\n",
    "def save_spec_image_fig(folder_path, cond_folder, DRONE, COND, INT, FIn, counter, fig, dpi):\n",
    "    full_img_path = folder_path+\"/\"+cond_folder+\"/\"+DRONE+'_'+COND+'_'+INT+'_'+FIn+'_'+str(counter)+'.jpg'\n",
    "    fig.savefig(full_img_path, dpi=dpi)\n",
    "    plt.close(fig)\n",
    "    plt.clf()\n",
    "    \n",
    "def save_psd_image(folder_path, cond_folder, DRONE, COND, INT, FIn, counter, PSD, dim_px, dpi):\n",
    "#     plt.clf()\n",
    "#     plt.plot(f, PSD, 'k')\n",
    "    fig = plot_feat(PSD, dim_px, dpi, to_show=False, show_axis=False)\n",
    "    full_img_path = folder_path+\"/\"+cond_folder+\"/\"+DRONE+'_'+COND+'_'+INT+'_'+FIn+'_'+str(counter)+'.jpg'\n",
    "    fig.savefig(full_img_path)    \n",
    "\n",
    "def save_array(folder_path, feat, DRONES, CONDS, INTS, feat_name, int_name):\n",
    "    Xs_arr = np.array(feat)\n",
    "    \n",
    "    # labels\n",
    "    y_drones_arr = np.array(DRONES)\n",
    "    y_conds_arr = np.array(CONDS)\n",
    "    y_ints_arr = np.array(INTS)\n",
    "\n",
    "    data_save = {'feat': Xs_arr, 'drones': y_drones_arr, 'conds': y_conds_arr, 'ints': y_ints_arr}\n",
    "\n",
    "#    #Save data\n",
    "    date_string = date.today()\n",
    "    fp = folder_path+\"/\"+int_name+\"_\"+feat_name+\"_\"+str(n_per_seg)\n",
    "    print(fp)\n",
    "    np.save(fp, data_save)"
   ]
  },
  {
   "cell_type": "code",
   "execution_count": 10,
   "id": "556af222",
   "metadata": {
    "scrolled": true
   },
   "outputs": [
    {
     "name": "stdout",
     "output_type": "stream",
     "text": [
      "Generating PSD in ARRAY format\n",
      "CURRENT FOLDER:  CLEAN\n",
      "     subfolder: AIR_FY\n"
     ]
    },
    {
     "name": "stderr",
     "output_type": "stream",
     "text": [
      "100%|████████████████████████████████████████████████████████████████████████████████████████████| 5/5 [00:29<00:00,  5.86s/it]\n"
     ]
    },
    {
     "name": "stdout",
     "output_type": "stream",
     "text": [
      "../Features/ARR_PSD_256_50/CLEAN_PSD_AIR_FY_256\n",
      "     subfolder: MP1_ON\n"
     ]
    },
    {
     "name": "stderr",
     "output_type": "stream",
     "text": [
      "100%|████████████████████████████████████████████████████████████████████████████████████████████| 5/5 [00:28<00:00,  5.68s/it]\n"
     ]
    },
    {
     "name": "stdout",
     "output_type": "stream",
     "text": [
      "../Features/ARR_PSD_256_50/CLEAN_PSD_MP1_ON_256\n",
      "     subfolder: MIN_FY\n"
     ]
    },
    {
     "name": "stderr",
     "output_type": "stream",
     "text": [
      "100%|████████████████████████████████████████████████████████████████████████████████████████████| 5/5 [00:28<00:00,  5.71s/it]\n"
     ]
    },
    {
     "name": "stdout",
     "output_type": "stream",
     "text": [
      "../Features/ARR_PSD_256_50/CLEAN_PSD_MIN_FY_256\n",
      "     subfolder: PHA_FY\n"
     ]
    },
    {
     "name": "stderr",
     "output_type": "stream",
     "text": [
      "0it [00:00, ?it/s]\n"
     ]
    },
    {
     "name": "stdout",
     "output_type": "stream",
     "text": [
      "../Features/ARR_PSD_256_50/CLEAN_PSD_PHA_FY_256\n",
      "     subfolder: MP2_ON\n"
     ]
    },
    {
     "name": "stderr",
     "output_type": "stream",
     "text": [
      "100%|████████████████████████████████████████████████████████████████████████████████████████████| 5/5 [00:28<00:00,  5.69s/it]\n"
     ]
    },
    {
     "name": "stdout",
     "output_type": "stream",
     "text": [
      "../Features/ARR_PSD_256_50/CLEAN_PSD_MP2_ON_256\n",
      "     subfolder: MIN_HO\n"
     ]
    },
    {
     "name": "stderr",
     "output_type": "stream",
     "text": [
      "100%|████████████████████████████████████████████████████████████████████████████████████████████| 5/5 [00:28<00:00,  5.70s/it]\n"
     ]
    },
    {
     "name": "stdout",
     "output_type": "stream",
     "text": [
      "../Features/ARR_PSD_256_50/CLEAN_PSD_MIN_HO_256\n",
      "     subfolder: AIR_HO\n"
     ]
    },
    {
     "name": "stderr",
     "output_type": "stream",
     "text": [
      "100%|████████████████████████████████████████████████████████████████████████████████████████████| 5/5 [00:28<00:00,  5.69s/it]\n"
     ]
    },
    {
     "name": "stdout",
     "output_type": "stream",
     "text": [
      "../Features/ARR_PSD_256_50/CLEAN_PSD_AIR_HO_256\n",
      "     subfolder: MP1_FY\n"
     ]
    },
    {
     "name": "stderr",
     "output_type": "stream",
     "text": [
      "100%|████████████████████████████████████████████████████████████████████████████████████████████| 5/5 [00:28<00:00,  5.68s/it]\n"
     ]
    },
    {
     "name": "stdout",
     "output_type": "stream",
     "text": [
      "../Features/ARR_PSD_256_50/CLEAN_PSD_MP1_FY_256\n",
      "     subfolder: DIS_FY\n"
     ]
    },
    {
     "name": "stderr",
     "output_type": "stream",
     "text": [
      "100%|████████████████████████████████████████████████████████████████████████████████████████████| 5/5 [00:28<00:00,  5.67s/it]\n"
     ]
    },
    {
     "name": "stdout",
     "output_type": "stream",
     "text": [
      "../Features/ARR_PSD_256_50/CLEAN_PSD_DIS_FY_256\n",
      "     subfolder: MIN_ON\n"
     ]
    },
    {
     "name": "stderr",
     "output_type": "stream",
     "text": [
      "100%|████████████████████████████████████████████████████████████████████████████████████████████| 5/5 [00:28<00:00,  5.70s/it]\n"
     ]
    },
    {
     "name": "stdout",
     "output_type": "stream",
     "text": [
      "../Features/ARR_PSD_256_50/CLEAN_PSD_MIN_ON_256\n",
      "     subfolder: DIS_ON\n"
     ]
    },
    {
     "name": "stderr",
     "output_type": "stream",
     "text": [
      "100%|████████████████████████████████████████████████████████████████████████████████████████████| 5/5 [00:28<00:00,  5.72s/it]\n"
     ]
    },
    {
     "name": "stdout",
     "output_type": "stream",
     "text": [
      "../Features/ARR_PSD_256_50/CLEAN_PSD_DIS_ON_256\n",
      "     subfolder: INS_FY\n"
     ]
    },
    {
     "name": "stderr",
     "output_type": "stream",
     "text": [
      "100%|████████████████████████████████████████████████████████████████████████████████████████████| 5/5 [00:27<00:00,  5.53s/it]\n"
     ]
    },
    {
     "name": "stdout",
     "output_type": "stream",
     "text": [
      "../Features/ARR_PSD_256_50/CLEAN_PSD_INS_FY_256\n",
      "     subfolder: INS_HO\n"
     ]
    },
    {
     "name": "stderr",
     "output_type": "stream",
     "text": [
      "100%|████████████████████████████████████████████████████████████████████████████████████████████| 5/5 [00:28<00:00,  5.66s/it]\n"
     ]
    },
    {
     "name": "stdout",
     "output_type": "stream",
     "text": [
      "../Features/ARR_PSD_256_50/CLEAN_PSD_INS_HO_256\n",
      "     subfolder: MP2_FY\n"
     ]
    },
    {
     "name": "stderr",
     "output_type": "stream",
     "text": [
      "100%|████████████████████████████████████████████████████████████████████████████████████████████| 5/5 [00:28<00:00,  5.71s/it]\n"
     ]
    },
    {
     "name": "stdout",
     "output_type": "stream",
     "text": [
      "../Features/ARR_PSD_256_50/CLEAN_PSD_MP2_FY_256\n",
      "     subfolder: MP1_HO\n"
     ]
    },
    {
     "name": "stderr",
     "output_type": "stream",
     "text": [
      "100%|████████████████████████████████████████████████████████████████████████████████████████████| 5/5 [00:28<00:00,  5.76s/it]\n"
     ]
    },
    {
     "name": "stdout",
     "output_type": "stream",
     "text": [
      "../Features/ARR_PSD_256_50/CLEAN_PSD_MP1_HO_256\n",
      "     subfolder: MP2_HO\n"
     ]
    },
    {
     "name": "stderr",
     "output_type": "stream",
     "text": [
      "100%|████████████████████████████████████████████████████████████████████████████████████████████| 5/5 [00:28<00:00,  5.73s/it]\n"
     ]
    },
    {
     "name": "stdout",
     "output_type": "stream",
     "text": [
      "../Features/ARR_PSD_256_50/CLEAN_PSD_MP2_HO_256\n",
      "     subfolder: PHA_ON\n"
     ]
    },
    {
     "name": "stderr",
     "output_type": "stream",
     "text": [
      "100%|████████████████████████████████████████████████████████████████████████████████████████████| 5/5 [00:28<00:00,  5.64s/it]\n"
     ]
    },
    {
     "name": "stdout",
     "output_type": "stream",
     "text": [
      "../Features/ARR_PSD_256_50/CLEAN_PSD_PHA_ON_256\n",
      "     subfolder: PHA_HO\n"
     ]
    },
    {
     "name": "stderr",
     "output_type": "stream",
     "text": [
      "100%|████████████████████████████████████████████████████████████████████████████████████████████| 5/5 [00:28<00:00,  5.67s/it]\n"
     ]
    },
    {
     "name": "stdout",
     "output_type": "stream",
     "text": [
      "../Features/ARR_PSD_256_50/CLEAN_PSD_PHA_HO_256\n",
      "     subfolder: INS_ON\n"
     ]
    },
    {
     "name": "stderr",
     "output_type": "stream",
     "text": [
      "100%|████████████████████████████████████████████████████████████████████████████████████████████| 5/5 [00:28<00:00,  5.69s/it]\n"
     ]
    },
    {
     "name": "stdout",
     "output_type": "stream",
     "text": [
      "../Features/ARR_PSD_256_50/CLEAN_PSD_INS_ON_256\n",
      "     subfolder: AIR_ON\n"
     ]
    },
    {
     "name": "stderr",
     "output_type": "stream",
     "text": [
      "100%|████████████████████████████████████████████████████████████████████████████████████████████| 5/5 [00:28<00:00,  5.76s/it]\n"
     ]
    },
    {
     "name": "stdout",
     "output_type": "stream",
     "text": [
      "../Features/ARR_PSD_256_50/CLEAN_PSD_AIR_ON_256\n",
      "CURRENT FOLDER:  WIFI\n",
      "     subfolder: AIR_FY\n"
     ]
    },
    {
     "name": "stderr",
     "output_type": "stream",
     "text": [
      "100%|████████████████████████████████████████████████████████████████████████████████████████████| 5/5 [00:29<00:00,  6.00s/it]\n"
     ]
    },
    {
     "name": "stdout",
     "output_type": "stream",
     "text": [
      "../Features/ARR_PSD_256_50/WIFI_PSD_AIR_FY_256\n",
      "     subfolder: MP1_ON\n"
     ]
    },
    {
     "name": "stderr",
     "output_type": "stream",
     "text": [
      "100%|████████████████████████████████████████████████████████████████████████████████████████████| 5/5 [00:29<00:00,  5.97s/it]\n"
     ]
    },
    {
     "name": "stdout",
     "output_type": "stream",
     "text": [
      "../Features/ARR_PSD_256_50/WIFI_PSD_MP1_ON_256\n",
      "     subfolder: MIN_FY\n"
     ]
    },
    {
     "name": "stderr",
     "output_type": "stream",
     "text": [
      "100%|████████████████████████████████████████████████████████████████████████████████████████████| 5/5 [00:29<00:00,  5.90s/it]\n"
     ]
    },
    {
     "name": "stdout",
     "output_type": "stream",
     "text": [
      "../Features/ARR_PSD_256_50/WIFI_PSD_MIN_FY_256\n",
      "     subfolder: PHA_FY\n"
     ]
    },
    {
     "name": "stderr",
     "output_type": "stream",
     "text": [
      "100%|████████████████████████████████████████████████████████████████████████████████████████████| 5/5 [00:29<00:00,  5.84s/it]\n"
     ]
    },
    {
     "name": "stdout",
     "output_type": "stream",
     "text": [
      "../Features/ARR_PSD_256_50/WIFI_PSD_PHA_FY_256\n",
      "     subfolder: MP2_ON\n"
     ]
    },
    {
     "name": "stderr",
     "output_type": "stream",
     "text": [
      "100%|████████████████████████████████████████████████████████████████████████████████████████████| 5/5 [00:29<00:00,  5.83s/it]\n"
     ]
    },
    {
     "name": "stdout",
     "output_type": "stream",
     "text": [
      "../Features/ARR_PSD_256_50/WIFI_PSD_MP2_ON_256\n",
      "     subfolder: MIN_HO\n"
     ]
    },
    {
     "name": "stderr",
     "output_type": "stream",
     "text": [
      "100%|████████████████████████████████████████████████████████████████████████████████████████████| 5/5 [00:29<00:00,  5.97s/it]\n"
     ]
    },
    {
     "name": "stdout",
     "output_type": "stream",
     "text": [
      "../Features/ARR_PSD_256_50/WIFI_PSD_MIN_HO_256\n",
      "     subfolder: AIR_HO\n"
     ]
    },
    {
     "name": "stderr",
     "output_type": "stream",
     "text": [
      "100%|████████████████████████████████████████████████████████████████████████████████████████████| 5/5 [00:30<00:00,  6.09s/it]\n"
     ]
    },
    {
     "name": "stdout",
     "output_type": "stream",
     "text": [
      "../Features/ARR_PSD_256_50/WIFI_PSD_AIR_HO_256\n",
      "     subfolder: MP1_FY\n"
     ]
    },
    {
     "name": "stderr",
     "output_type": "stream",
     "text": [
      "100%|████████████████████████████████████████████████████████████████████████████████████████████| 5/5 [00:30<00:00,  6.10s/it]\n"
     ]
    },
    {
     "name": "stdout",
     "output_type": "stream",
     "text": [
      "../Features/ARR_PSD_256_50/WIFI_PSD_MP1_FY_256\n",
      "     subfolder: DIS_FY\n"
     ]
    },
    {
     "name": "stderr",
     "output_type": "stream",
     "text": [
      "100%|████████████████████████████████████████████████████████████████████████████████████████████| 5/5 [00:29<00:00,  5.92s/it]\n"
     ]
    },
    {
     "name": "stdout",
     "output_type": "stream",
     "text": [
      "../Features/ARR_PSD_256_50/WIFI_PSD_DIS_FY_256\n",
      "     subfolder: MIN_ON\n"
     ]
    },
    {
     "name": "stderr",
     "output_type": "stream",
     "text": [
      "100%|████████████████████████████████████████████████████████████████████████████████████████████| 5/5 [00:29<00:00,  6.00s/it]\n"
     ]
    },
    {
     "name": "stdout",
     "output_type": "stream",
     "text": [
      "../Features/ARR_PSD_256_50/WIFI_PSD_MIN_ON_256\n",
      "     subfolder: DIS_ON\n"
     ]
    },
    {
     "name": "stderr",
     "output_type": "stream",
     "text": [
      "100%|████████████████████████████████████████████████████████████████████████████████████████████| 5/5 [00:30<00:00,  6.04s/it]\n"
     ]
    },
    {
     "name": "stdout",
     "output_type": "stream",
     "text": [
      "../Features/ARR_PSD_256_50/WIFI_PSD_DIS_ON_256\n",
      "     subfolder: INS_FY\n"
     ]
    },
    {
     "name": "stderr",
     "output_type": "stream",
     "text": [
      "100%|████████████████████████████████████████████████████████████████████████████████████████████| 5/5 [00:29<00:00,  6.00s/it]\n"
     ]
    },
    {
     "name": "stdout",
     "output_type": "stream",
     "text": [
      "../Features/ARR_PSD_256_50/WIFI_PSD_INS_FY_256\n",
      "     subfolder: INS_HO\n"
     ]
    },
    {
     "name": "stderr",
     "output_type": "stream",
     "text": [
      "100%|████████████████████████████████████████████████████████████████████████████████████████████| 5/5 [00:29<00:00,  5.89s/it]\n"
     ]
    },
    {
     "name": "stdout",
     "output_type": "stream",
     "text": [
      "../Features/ARR_PSD_256_50/WIFI_PSD_INS_HO_256\n",
      "     subfolder: MP2_FY\n"
     ]
    },
    {
     "name": "stderr",
     "output_type": "stream",
     "text": [
      "100%|████████████████████████████████████████████████████████████████████████████████████████████| 5/5 [00:30<00:00,  6.03s/it]\n"
     ]
    },
    {
     "name": "stdout",
     "output_type": "stream",
     "text": [
      "../Features/ARR_PSD_256_50/WIFI_PSD_MP2_FY_256\n",
      "     subfolder: MP1_HO\n"
     ]
    },
    {
     "name": "stderr",
     "output_type": "stream",
     "text": [
      "100%|████████████████████████████████████████████████████████████████████████████████████████████| 5/5 [00:29<00:00,  5.91s/it]\n"
     ]
    },
    {
     "name": "stdout",
     "output_type": "stream",
     "text": [
      "../Features/ARR_PSD_256_50/WIFI_PSD_MP1_HO_256\n",
      "     subfolder: MP2_HO\n"
     ]
    },
    {
     "name": "stderr",
     "output_type": "stream",
     "text": [
      "100%|████████████████████████████████████████████████████████████████████████████████████████████| 5/5 [00:29<00:00,  5.95s/it]\n"
     ]
    },
    {
     "name": "stdout",
     "output_type": "stream",
     "text": [
      "../Features/ARR_PSD_256_50/WIFI_PSD_MP2_HO_256\n",
      "     subfolder: PHA_ON\n"
     ]
    },
    {
     "name": "stderr",
     "output_type": "stream",
     "text": [
      "100%|████████████████████████████████████████████████████████████████████████████████████████████| 5/5 [00:29<00:00,  5.98s/it]\n"
     ]
    },
    {
     "name": "stdout",
     "output_type": "stream",
     "text": [
      "../Features/ARR_PSD_256_50/WIFI_PSD_PHA_ON_256\n",
      "     subfolder: PHA_HO\n"
     ]
    },
    {
     "name": "stderr",
     "output_type": "stream",
     "text": [
      "100%|████████████████████████████████████████████████████████████████████████████████████████████| 5/5 [00:29<00:00,  5.98s/it]\n"
     ]
    },
    {
     "name": "stdout",
     "output_type": "stream",
     "text": [
      "../Features/ARR_PSD_256_50/WIFI_PSD_PHA_HO_256\n",
      "     subfolder: INS_ON\n"
     ]
    },
    {
     "name": "stderr",
     "output_type": "stream",
     "text": [
      "100%|████████████████████████████████████████████████████████████████████████████████████████████| 5/5 [00:30<00:00,  6.03s/it]\n"
     ]
    },
    {
     "name": "stdout",
     "output_type": "stream",
     "text": [
      "../Features/ARR_PSD_256_50/WIFI_PSD_INS_ON_256\n",
      "     subfolder: AIR_ON\n"
     ]
    },
    {
     "name": "stderr",
     "output_type": "stream",
     "text": [
      "100%|████████████████████████████████████████████████████████████████████████████████████████████| 5/5 [00:30<00:00,  6.01s/it]\n"
     ]
    },
    {
     "name": "stdout",
     "output_type": "stream",
     "text": [
      "../Features/ARR_PSD_256_50/WIFI_PSD_AIR_ON_256\n",
      "CURRENT FOLDER:  BLUE\n",
      "     subfolder: AIR_FY\n"
     ]
    },
    {
     "name": "stderr",
     "output_type": "stream",
     "text": [
      "100%|████████████████████████████████████████████████████████████████████████████████████████████| 5/5 [00:29<00:00,  5.95s/it]\n"
     ]
    },
    {
     "name": "stdout",
     "output_type": "stream",
     "text": [
      "../Features/ARR_PSD_256_50/BLUE_PSD_AIR_FY_256\n",
      "     subfolder: MP1_ON\n"
     ]
    },
    {
     "name": "stderr",
     "output_type": "stream",
     "text": [
      "100%|████████████████████████████████████████████████████████████████████████████████████████████| 5/5 [00:29<00:00,  5.99s/it]\n"
     ]
    },
    {
     "name": "stdout",
     "output_type": "stream",
     "text": [
      "../Features/ARR_PSD_256_50/BLUE_PSD_MP1_ON_256\n",
      "     subfolder: MIN_FY\n"
     ]
    },
    {
     "name": "stderr",
     "output_type": "stream",
     "text": [
      "100%|████████████████████████████████████████████████████████████████████████████████████████████| 5/5 [00:29<00:00,  5.94s/it]\n"
     ]
    },
    {
     "name": "stdout",
     "output_type": "stream",
     "text": [
      "../Features/ARR_PSD_256_50/BLUE_PSD_MIN_FY_256\n",
      "     subfolder: PHA_FY\n"
     ]
    },
    {
     "name": "stderr",
     "output_type": "stream",
     "text": [
      "0it [00:00, ?it/s]\n"
     ]
    },
    {
     "name": "stdout",
     "output_type": "stream",
     "text": [
      "../Features/ARR_PSD_256_50/BLUE_PSD_PHA_FY_256\n",
      "     subfolder: MP2_ON\n"
     ]
    },
    {
     "name": "stderr",
     "output_type": "stream",
     "text": [
      "100%|████████████████████████████████████████████████████████████████████████████████████████████| 5/5 [00:29<00:00,  5.94s/it]\n"
     ]
    },
    {
     "name": "stdout",
     "output_type": "stream",
     "text": [
      "../Features/ARR_PSD_256_50/BLUE_PSD_MP2_ON_256\n",
      "     subfolder: MIN_HO\n"
     ]
    },
    {
     "name": "stderr",
     "output_type": "stream",
     "text": [
      "100%|████████████████████████████████████████████████████████████████████████████████████████████| 5/5 [00:30<00:00,  6.02s/it]\n"
     ]
    },
    {
     "name": "stdout",
     "output_type": "stream",
     "text": [
      "../Features/ARR_PSD_256_50/BLUE_PSD_MIN_HO_256\n",
      "     subfolder: AIR_HO\n"
     ]
    },
    {
     "name": "stderr",
     "output_type": "stream",
     "text": [
      "100%|████████████████████████████████████████████████████████████████████████████████████████████| 5/5 [00:30<00:00,  6.10s/it]\n"
     ]
    },
    {
     "name": "stdout",
     "output_type": "stream",
     "text": [
      "../Features/ARR_PSD_256_50/BLUE_PSD_AIR_HO_256\n",
      "     subfolder: MP1_FY\n"
     ]
    },
    {
     "name": "stderr",
     "output_type": "stream",
     "text": [
      "100%|████████████████████████████████████████████████████████████████████████████████████████████| 5/5 [00:29<00:00,  5.95s/it]\n"
     ]
    },
    {
     "name": "stdout",
     "output_type": "stream",
     "text": [
      "../Features/ARR_PSD_256_50/BLUE_PSD_MP1_FY_256\n",
      "     subfolder: DIS_FY\n"
     ]
    },
    {
     "name": "stderr",
     "output_type": "stream",
     "text": [
      "100%|████████████████████████████████████████████████████████████████████████████████████████████| 5/5 [00:30<00:00,  6.01s/it]\n"
     ]
    },
    {
     "name": "stdout",
     "output_type": "stream",
     "text": [
      "../Features/ARR_PSD_256_50/BLUE_PSD_DIS_FY_256\n",
      "     subfolder: MIN_ON\n"
     ]
    },
    {
     "name": "stderr",
     "output_type": "stream",
     "text": [
      "100%|████████████████████████████████████████████████████████████████████████████████████████████| 5/5 [00:29<00:00,  5.99s/it]\n"
     ]
    },
    {
     "name": "stdout",
     "output_type": "stream",
     "text": [
      "../Features/ARR_PSD_256_50/BLUE_PSD_MIN_ON_256\n",
      "     subfolder: DIS_ON\n"
     ]
    },
    {
     "name": "stderr",
     "output_type": "stream",
     "text": [
      "100%|████████████████████████████████████████████████████████████████████████████████████████████| 5/5 [00:29<00:00,  5.98s/it]\n"
     ]
    },
    {
     "name": "stdout",
     "output_type": "stream",
     "text": [
      "../Features/ARR_PSD_256_50/BLUE_PSD_DIS_ON_256\n",
      "     subfolder: INS_FY\n"
     ]
    },
    {
     "name": "stderr",
     "output_type": "stream",
     "text": [
      "100%|████████████████████████████████████████████████████████████████████████████████████████████| 5/5 [00:29<00:00,  5.91s/it]\n"
     ]
    },
    {
     "name": "stdout",
     "output_type": "stream",
     "text": [
      "../Features/ARR_PSD_256_50/BLUE_PSD_INS_FY_256\n",
      "     subfolder: INS_HO\n"
     ]
    },
    {
     "name": "stderr",
     "output_type": "stream",
     "text": [
      "100%|████████████████████████████████████████████████████████████████████████████████████████████| 5/5 [00:29<00:00,  5.94s/it]\n"
     ]
    },
    {
     "name": "stdout",
     "output_type": "stream",
     "text": [
      "../Features/ARR_PSD_256_50/BLUE_PSD_INS_HO_256\n",
      "     subfolder: MP2_FY\n"
     ]
    },
    {
     "name": "stderr",
     "output_type": "stream",
     "text": [
      "100%|████████████████████████████████████████████████████████████████████████████████████████████| 5/5 [00:29<00:00,  5.92s/it]\n"
     ]
    },
    {
     "name": "stdout",
     "output_type": "stream",
     "text": [
      "../Features/ARR_PSD_256_50/BLUE_PSD_MP2_FY_256\n",
      "     subfolder: MP1_HO\n"
     ]
    },
    {
     "name": "stderr",
     "output_type": "stream",
     "text": [
      "100%|████████████████████████████████████████████████████████████████████████████████████████████| 5/5 [00:29<00:00,  5.99s/it]\n"
     ]
    },
    {
     "name": "stdout",
     "output_type": "stream",
     "text": [
      "../Features/ARR_PSD_256_50/BLUE_PSD_MP1_HO_256\n",
      "     subfolder: MP2_HO\n"
     ]
    },
    {
     "name": "stderr",
     "output_type": "stream",
     "text": [
      "100%|████████████████████████████████████████████████████████████████████████████████████████████| 5/5 [00:29<00:00,  5.94s/it]\n"
     ]
    },
    {
     "name": "stdout",
     "output_type": "stream",
     "text": [
      "../Features/ARR_PSD_256_50/BLUE_PSD_MP2_HO_256\n",
      "     subfolder: PHA_ON\n"
     ]
    },
    {
     "name": "stderr",
     "output_type": "stream",
     "text": [
      "100%|████████████████████████████████████████████████████████████████████████████████████████████| 5/5 [00:30<00:00,  6.08s/it]\n"
     ]
    },
    {
     "name": "stdout",
     "output_type": "stream",
     "text": [
      "../Features/ARR_PSD_256_50/BLUE_PSD_PHA_ON_256\n",
      "     subfolder: PHA_HO\n"
     ]
    },
    {
     "name": "stderr",
     "output_type": "stream",
     "text": [
      "100%|████████████████████████████████████████████████████████████████████████████████████████████| 5/5 [00:30<00:00,  6.04s/it]\n"
     ]
    },
    {
     "name": "stdout",
     "output_type": "stream",
     "text": [
      "../Features/ARR_PSD_256_50/BLUE_PSD_PHA_HO_256\n",
      "     subfolder: INS_ON\n"
     ]
    },
    {
     "name": "stderr",
     "output_type": "stream",
     "text": [
      "100%|████████████████████████████████████████████████████████████████████████████████████████████| 5/5 [00:29<00:00,  5.89s/it]\n"
     ]
    },
    {
     "name": "stdout",
     "output_type": "stream",
     "text": [
      "../Features/ARR_PSD_256_50/BLUE_PSD_INS_ON_256\n",
      "     subfolder: AIR_ON\n"
     ]
    },
    {
     "name": "stderr",
     "output_type": "stream",
     "text": [
      "100%|████████████████████████████████████████████████████████████████████████████████████████████| 5/5 [00:30<00:00,  6.00s/it]\n"
     ]
    },
    {
     "name": "stdout",
     "output_type": "stream",
     "text": [
      "../Features/ARR_PSD_256_50/BLUE_PSD_AIR_ON_256\n",
      "CURRENT FOLDER:  BOTH\n",
      "     subfolder: AIR_FY\n"
     ]
    },
    {
     "name": "stderr",
     "output_type": "stream",
     "text": [
      "100%|████████████████████████████████████████████████████████████████████████████████████████████| 5/5 [00:29<00:00,  5.95s/it]\n"
     ]
    },
    {
     "name": "stdout",
     "output_type": "stream",
     "text": [
      "../Features/ARR_PSD_256_50/BOTH_PSD_AIR_FY_256\n",
      "     subfolder: MP1_ON\n"
     ]
    },
    {
     "name": "stderr",
     "output_type": "stream",
     "text": [
      "100%|████████████████████████████████████████████████████████████████████████████████████████████| 5/5 [00:29<00:00,  5.99s/it]\n"
     ]
    },
    {
     "name": "stdout",
     "output_type": "stream",
     "text": [
      "../Features/ARR_PSD_256_50/BOTH_PSD_MP1_ON_256\n",
      "     subfolder: MIN_FY\n"
     ]
    },
    {
     "name": "stderr",
     "output_type": "stream",
     "text": [
      "100%|████████████████████████████████████████████████████████████████████████████████████████████| 5/5 [00:29<00:00,  5.93s/it]\n"
     ]
    },
    {
     "name": "stdout",
     "output_type": "stream",
     "text": [
      "../Features/ARR_PSD_256_50/BOTH_PSD_MIN_FY_256\n",
      "     subfolder: PHA_FY\n"
     ]
    },
    {
     "name": "stderr",
     "output_type": "stream",
     "text": [
      "100%|████████████████████████████████████████████████████████████████████████████████████████████| 5/5 [00:29<00:00,  5.92s/it]\n"
     ]
    },
    {
     "name": "stdout",
     "output_type": "stream",
     "text": [
      "../Features/ARR_PSD_256_50/BOTH_PSD_PHA_FY_256\n",
      "     subfolder: MP2_ON\n"
     ]
    },
    {
     "name": "stderr",
     "output_type": "stream",
     "text": [
      "100%|████████████████████████████████████████████████████████████████████████████████████████████| 5/5 [00:29<00:00,  5.88s/it]\n"
     ]
    },
    {
     "name": "stdout",
     "output_type": "stream",
     "text": [
      "../Features/ARR_PSD_256_50/BOTH_PSD_MP2_ON_256\n",
      "     subfolder: MIN_HO\n"
     ]
    },
    {
     "name": "stderr",
     "output_type": "stream",
     "text": [
      "100%|████████████████████████████████████████████████████████████████████████████████████████████| 5/5 [00:29<00:00,  5.93s/it]\n"
     ]
    },
    {
     "name": "stdout",
     "output_type": "stream",
     "text": [
      "../Features/ARR_PSD_256_50/BOTH_PSD_MIN_HO_256\n",
      "     subfolder: AIR_HO\n"
     ]
    },
    {
     "name": "stderr",
     "output_type": "stream",
     "text": [
      "100%|████████████████████████████████████████████████████████████████████████████████████████████| 5/5 [00:29<00:00,  5.93s/it]\n"
     ]
    },
    {
     "name": "stdout",
     "output_type": "stream",
     "text": [
      "../Features/ARR_PSD_256_50/BOTH_PSD_AIR_HO_256\n",
      "     subfolder: MP1_FY\n"
     ]
    },
    {
     "name": "stderr",
     "output_type": "stream",
     "text": [
      "100%|████████████████████████████████████████████████████████████████████████████████████████████| 5/5 [00:29<00:00,  5.97s/it]\n"
     ]
    },
    {
     "name": "stdout",
     "output_type": "stream",
     "text": [
      "../Features/ARR_PSD_256_50/BOTH_PSD_MP1_FY_256\n",
      "     subfolder: DIS_FY\n"
     ]
    },
    {
     "name": "stderr",
     "output_type": "stream",
     "text": [
      "100%|████████████████████████████████████████████████████████████████████████████████████████████| 5/5 [00:30<00:00,  6.04s/it]\n"
     ]
    },
    {
     "name": "stdout",
     "output_type": "stream",
     "text": [
      "../Features/ARR_PSD_256_50/BOTH_PSD_DIS_FY_256\n",
      "     subfolder: MIN_ON\n"
     ]
    },
    {
     "name": "stderr",
     "output_type": "stream",
     "text": [
      "100%|████████████████████████████████████████████████████████████████████████████████████████████| 5/5 [00:30<00:00,  6.07s/it]\n"
     ]
    },
    {
     "name": "stdout",
     "output_type": "stream",
     "text": [
      "../Features/ARR_PSD_256_50/BOTH_PSD_MIN_ON_256\n",
      "     subfolder: DIS_ON\n"
     ]
    },
    {
     "name": "stderr",
     "output_type": "stream",
     "text": [
      "100%|████████████████████████████████████████████████████████████████████████████████████████████| 5/5 [00:30<00:00,  6.06s/it]\n"
     ]
    },
    {
     "name": "stdout",
     "output_type": "stream",
     "text": [
      "../Features/ARR_PSD_256_50/BOTH_PSD_DIS_ON_256\n",
      "     subfolder: INS_FY\n"
     ]
    },
    {
     "name": "stderr",
     "output_type": "stream",
     "text": [
      "100%|████████████████████████████████████████████████████████████████████████████████████████████| 5/5 [00:29<00:00,  5.99s/it]\n"
     ]
    },
    {
     "name": "stdout",
     "output_type": "stream",
     "text": [
      "../Features/ARR_PSD_256_50/BOTH_PSD_INS_FY_256\n",
      "     subfolder: INS_HO\n"
     ]
    },
    {
     "name": "stderr",
     "output_type": "stream",
     "text": [
      "100%|████████████████████████████████████████████████████████████████████████████████████████████| 5/5 [00:29<00:00,  5.98s/it]\n"
     ]
    },
    {
     "name": "stdout",
     "output_type": "stream",
     "text": [
      "../Features/ARR_PSD_256_50/BOTH_PSD_INS_HO_256\n",
      "     subfolder: MP2_FY\n"
     ]
    },
    {
     "name": "stderr",
     "output_type": "stream",
     "text": [
      "100%|████████████████████████████████████████████████████████████████████████████████████████████| 5/5 [00:30<00:00,  6.04s/it]\n"
     ]
    },
    {
     "name": "stdout",
     "output_type": "stream",
     "text": [
      "../Features/ARR_PSD_256_50/BOTH_PSD_MP2_FY_256\n",
      "     subfolder: MP1_HO\n"
     ]
    },
    {
     "name": "stderr",
     "output_type": "stream",
     "text": [
      "100%|████████████████████████████████████████████████████████████████████████████████████████████| 5/5 [00:30<00:00,  6.12s/it]\n"
     ]
    },
    {
     "name": "stdout",
     "output_type": "stream",
     "text": [
      "../Features/ARR_PSD_256_50/BOTH_PSD_MP1_HO_256\n",
      "     subfolder: MP2_HO\n"
     ]
    },
    {
     "name": "stderr",
     "output_type": "stream",
     "text": [
      "100%|████████████████████████████████████████████████████████████████████████████████████████████| 5/5 [00:29<00:00,  5.96s/it]\n"
     ]
    },
    {
     "name": "stdout",
     "output_type": "stream",
     "text": [
      "../Features/ARR_PSD_256_50/BOTH_PSD_MP2_HO_256\n",
      "     subfolder: PHA_ON\n"
     ]
    },
    {
     "name": "stderr",
     "output_type": "stream",
     "text": [
      "100%|████████████████████████████████████████████████████████████████████████████████████████████| 5/5 [00:29<00:00,  6.00s/it]\n"
     ]
    },
    {
     "name": "stdout",
     "output_type": "stream",
     "text": [
      "../Features/ARR_PSD_256_50/BOTH_PSD_PHA_ON_256\n",
      "     subfolder: PHA_HO\n"
     ]
    },
    {
     "name": "stderr",
     "output_type": "stream",
     "text": [
      "100%|████████████████████████████████████████████████████████████████████████████████████████████| 5/5 [00:29<00:00,  5.89s/it]\n"
     ]
    },
    {
     "name": "stdout",
     "output_type": "stream",
     "text": [
      "../Features/ARR_PSD_256_50/BOTH_PSD_PHA_HO_256\n",
      "     subfolder: INS_ON\n"
     ]
    },
    {
     "name": "stderr",
     "output_type": "stream",
     "text": [
      "100%|████████████████████████████████████████████████████████████████████████████████████████████| 5/5 [00:29<00:00,  5.94s/it]\n"
     ]
    },
    {
     "name": "stdout",
     "output_type": "stream",
     "text": [
      "../Features/ARR_PSD_256_50/BOTH_PSD_INS_ON_256\n",
      "     subfolder: AIR_ON\n"
     ]
    },
    {
     "name": "stderr",
     "output_type": "stream",
     "text": [
      "100%|████████████████████████████████████████████████████████████████████████████████████████████| 5/5 [00:30<00:00,  6.08s/it]"
     ]
    },
    {
     "name": "stdout",
     "output_type": "stream",
     "text": [
      "../Features/ARR_PSD_256_50/BOTH_PSD_AIR_ON_256\n"
     ]
    },
    {
     "name": "stderr",
     "output_type": "stream",
     "text": [
      "\n"
     ]
    }
   ],
   "source": [
    "# Specifications on what features to generate\n",
    "n_per_seg = 256 # length of each segment (powers of 2)\n",
    "n_overlap_spec = 120\n",
    "psd_win_type = 'hamming' # make ends of each segment match\n",
    "spec_han_window = np.hanning(n_per_seg)\n",
    "t_seg = 50 # sample length in milliseconds\n",
    "feature_to_save = ['PSD'] # what features to generate and save: SPEC or PSD\n",
    "format_to_save = ['ARR'] # IMG or ARR\n",
    "inteference_folders = ['CLEAN','WIFI', 'BLUE', 'BOTH'] # options: ['WIFI', 'BLUE', 'BOTH', 'CLEAN']\n",
    "to_add = False # to add to existing directory\n",
    "\n",
    "# Image properties\n",
    "dim_px = (224, 224) # dimension of image pixels\n",
    "dpi = 100\n",
    "\n",
    "# data saving folders\n",
    "features_folder = '../Features/'\n",
    "date_string = date.today()\n",
    "# folder naming: DATATYPE_FEAT_NFFT_SAMPLELENGTH\n",
    "arr_spec_folder = \"ARR_SPEC_\"+str(n_per_seg)+\"_\"+str(t_seg)\n",
    "arr_psd_folder = \"ARR_PSD_\"+str(n_per_seg)+\"_\"+str(t_seg)\n",
    "img_spec_folder = \"IMG_SPEC_\"+str(n_per_seg)+\"_\"+str(t_seg)\n",
    "img_psd_folder = \"IMG_PSD_\"+str(n_per_seg)+\"_\"+str(t_seg)\n",
    "\n",
    "# check if this set of parameters already exists\n",
    "existing_folders = os.listdir(features_folder)\n",
    "\n",
    "# check if each of the 4 folders exist\n",
    "sa_save = False   #spec array\n",
    "si_save = False   #spec imag\n",
    "pa_save = False   #psd array\n",
    "pi_save = False   #psd imag\n",
    "if 'SPEC' in feature_to_save:\n",
    "    if 'ARR' in format_to_save:\n",
    "        if arr_spec_folder not in existing_folders or to_add:\n",
    "            try:\n",
    "                os.mkdir(features_folder+arr_spec_folder)\n",
    "            except:\n",
    "                print('folder already exist - adding')\n",
    "            sa_save = True\n",
    "            print('Generating SPEC in ARRAY format')\n",
    "        else:\n",
    "            print('Spec Arr folder already exists')\n",
    "    if 'IMG' in format_to_save:\n",
    "        if img_spec_folder not in existing_folders or to_add:\n",
    "            try:\n",
    "                os.mkdir(features_folder+img_spec_folder)\n",
    "            except:\n",
    "                print('folder already exist - adding')\n",
    "            si_save = True\n",
    "            print('Generating SPEC in IMAGE format')\n",
    "        else:\n",
    "            print('Spec Arr folder already exists')\n",
    "if 'PSD' in feature_to_save:\n",
    "    if 'ARR' in format_to_save:\n",
    "        if arr_psd_folder not in existing_folders or to_add:\n",
    "            try:\n",
    "                os.mkdir(features_folder+arr_psd_folder)\n",
    "            except:\n",
    "                print('folder already exist - adding')\n",
    "            pa_save = True\n",
    "            print('Generating PSD in ARRAY format')\n",
    "        else:\n",
    "            print('PSD Arr folder already exists')\n",
    "    if 'IMG' in format_to_save:\n",
    "        if img_psd_folder not in existing_folders or to_add:\n",
    "            try:\n",
    "                os.mkdir(features_folder+img_psd_folder)\n",
    "            except:\n",
    "                print('folder already exist - adding')\n",
    "            pi_save = True\n",
    "            print('Generating PSD in IMAGE format')\n",
    "        else:\n",
    "            print('PSD Arr folder already exists')            \n",
    "            \n",
    "if all([not sa_save, not si_save, not pa_save, not pi_save]):\n",
    "    print('Features Already Exist - Do Not Generate')\n",
    "else:\n",
    "    ## Generate features\n",
    "\n",
    "    # loop through all files\n",
    "    for sf in inteference_folders: # options: ['WIFI', 'BLUE', 'BOTH', 'CLEAN']\n",
    "        print('CURRENT FOLDER: ', sf)\n",
    "\n",
    "        drone_folders = os.listdir(main_folder+sf+'/')\n",
    "        for df in drone_folders:\n",
    "            print('     subfolder:', df)\n",
    "            # reset lists -  to save memory\n",
    "            DRONES = []\n",
    "            CONDS =[]\n",
    "            INTS = [] # interferences: 00 for a clean signal, 01 for Bluetooth only, 10 for Wi-Fi only and 11 for Bluetooth and Wi-Fi interference concurrently.\n",
    "\n",
    "            # features\n",
    "            F_PSD = []\n",
    "#             F_PSD_freq = []\n",
    "\n",
    "            F_SPEC = []\n",
    "#             F_SPEC_freq = []\n",
    "#             F_SPEC_time = []\n",
    "\n",
    "            files = os.listdir(main_folder+sf+'/'+df+'/')\n",
    "            \n",
    "            #labels (from folder name)\n",
    "            drone_name = df[:3]\n",
    "            cond_name = df[4:]\n",
    "\n",
    "            for fi in tqdm(files):\n",
    "                d_split, _ = load_dronedetect_raw(main_folder+sf+'/'+df+'/'+fi, t_seg)\n",
    "                \n",
    "                # labels (from file name)\n",
    "                fi_number = fi[-6:-4]\n",
    "                int_name = fi[4:6]\n",
    "                for i in range(len(d_split)): # for each split based on t_seg\n",
    "\n",
    "                    d_complex = d_split[i]\n",
    "\n",
    "                    # save labels\n",
    "                    DRONES.append(drone_name)\n",
    "                    CONDS.append(cond_name)\n",
    "                    INTS.append(int_name)\n",
    "\n",
    "                    # calculate PSD\n",
    "                    if pa_save or pi_save:\n",
    "                        fpsd, Pxx_den = signal.welch(d_complex, fs, window=psd_win_type, nperseg=n_per_seg)\n",
    "                        if pa_save:\n",
    "                            F_PSD.append(Pxx_den)\n",
    "#                             F_PSD_freq.append(fpsd)\n",
    "                        \n",
    "                        if pi_save:\n",
    "                            save_psd_image(features_folder, img_psd_folder, drone_name, \n",
    "                                           cond_name, int_name, fi_number, i, Pxx_den, dim_px, dpi)\n",
    "\n",
    "                    # calculate spectrogram\n",
    "                    if sa_save or si_save:\n",
    "#                         fspec, t, Sxx = signal.spectrogram(d_complex, fs, window=win_type, nperseg=n_per_seg, noverlap =0) ## using minimal overlap\n",
    "                        if si_save: # set up fig properties if saving images\n",
    "                            plt.clf()\n",
    "                            fig,ax = plt.subplots(1, figsize=(dim_px[0]/dpi, dim_px[1]/dpi), dpi=dpi)\n",
    "                            fig.subplots_adjust(left=0,right=1,bottom=0,top=1)\n",
    "                            ax.axis('tight')\n",
    "                            ax.axis('off')\n",
    "                        \n",
    "                        spec, _, _, _ = plt.specgram(d_complex, NFFT=n_per_seg, Fs=fs, window=spec_han_window, \n",
    "                                          noverlap=n_overlap_spec, sides='onesided')\n",
    "                        if si_save:\n",
    "                            save_spec_image_fig(features_folder, img_spec_folder, \n",
    "                                                drone_name, cond_name, int_name, fi_number, i, fig, dpi)\n",
    "                        if sa_save:\n",
    "                            F_SPEC.append(interpolate_2d(sp[0], (224,224))) # reshape to square?\n",
    "#                         F_SPEC_freq.append(fspec)\n",
    "#                         F_SPEC_time.append(t)\n",
    "\n",
    "                    # save the images \n",
    "    #                 save_spec_image(features_folder, img_spec_folder, drone_name, \n",
    "    #                                 cond_name, int_name, fi_number, i, fspec, t, Sxx)\n",
    "\n",
    "    #                 # save the images \n",
    "    #                 save_psd_image(features_folder, img_psd_folder, drone_name, \n",
    "    #                                 cond_name, int_name, fi_number, i, fpsd, Pxx_den)\n",
    "\n",
    "            # save data array\n",
    "            if sa_save:\n",
    "                save_array(features_folder+arr_spec_folder, F_SPEC, DRONES, CONDS, INTS, 'SPEC'+\"_\"+df, sf)\n",
    "            if pa_save:\n",
    "                save_array(features_folder+arr_psd_folder, F_PSD, DRONES, CONDS, INTS, 'PSD'+\"_\"+df, sf)\n",
    "\n"
   ]
  },
  {
   "cell_type": "code",
   "execution_count": 14,
   "id": "4e01dd81",
   "metadata": {},
   "outputs": [
    {
     "name": "stdout",
     "output_type": "stream",
     "text": [
      "                          bins: 24.0 KiB\n",
      "                           _i5:  6.4 KiB\n",
      "                           _i6:  6.4 KiB\n",
      "                           _ii:  6.4 KiB\n",
      "                          _i12:  6.4 KiB\n",
      "               spec_han_window:  4.1 KiB\n",
      "                        DRONES:  2.5 KiB\n",
      "                         CONDS:  2.5 KiB\n",
      "                          INTS:  2.5 KiB\n",
      "                          tqdm:  2.0 KiB\n"
     ]
    }
   ],
   "source": [
    "## For debugging what is clogging the memory\n",
    "# import sys\n",
    "# def sizeof_fmt(num, suffix='B'):\n",
    "#     ''' by Fred Cirera,  https://stackoverflow.com/a/1094933/1870254, modified'''\n",
    "#     for unit in ['','Ki','Mi','Gi','Ti','Pi','Ei','Zi']:\n",
    "#         if abs(num) < 1024.0:\n",
    "#             return \"%3.1f %s%s\" % (num, unit, suffix)\n",
    "#         num /= 1024.0\n",
    "#     return \"%.1f %s%s\" % (num, 'Yi', suffix)\n",
    "\n",
    "# for name, size in sorted(((name, sys.getsizeof(value)) for name, value in locals().items()),\n",
    "#                          key= lambda x: -x[1])[:10]:\n",
    "#     print(\"{:>30}: {:>8}\".format(name, sizeof_fmt(size)))"
   ]
  },
  {
   "cell_type": "code",
   "execution_count": 15,
   "id": "30f0c4a0",
   "metadata": {},
   "outputs": [
    {
     "name": "stdout",
     "output_type": "stream",
     "text": [
      "Variable                    Type                          Data/Info\n",
      "-------------------------------------------------------------------\n",
      "CONDS                       list                          n=283\n",
      "DRONES                      list                          n=283\n",
      "Dataset                     type                          <class 'torch.utils.data.dataset.Dataset'>\n",
      "DroneData                   type                          <class 'loading_functions.DroneData'>\n",
      "F_PSD                       list                          n=0\n",
      "F_SPEC                      list                          n=0\n",
      "INTS                        list                          n=283\n",
      "arr_psd_folder              str                           ARR_PSD_512_20\n",
      "arr_spec_folder             str                           ARR_SPEC_512_20\n",
      "aug_int                     function                      <function aug_int at 0x7f29d1e33040>\n",
      "ax                          AxesSubplot                   AxesSubplot(0,0;1x1)\n",
      "bandwidth                   float                         28000000.0\n",
      "bins                        ndarray                       3060: 3060 elems, type `float64`, 24480 bytes\n",
      "center_freq                 float                         2430000000.0\n",
      "cond_name                   str                           ON\n",
      "cv2                         module                        <module 'cv2' from '/home<...>ackages/cv2/__init__.py'>\n",
      "d_complex                   ndarray                       1200000: 1200000 elems, type `complex64`, 9600000 bytes (9.1552734375 Mb)\n",
      "d_split                     list                          n=100\n",
      "date                        type                          <class 'datetime.date'>\n",
      "date_string                 date                          2022-07-20\n",
      "df                          str                           MIN_ON\n",
      "dim_px                      tuple                         n=2\n",
      "dpi                         int                           100\n",
      "drone_folders               list                          n=20\n",
      "drone_name                  str                           MIN\n",
      "existing_folders            list                          n=12\n",
      "f1_score                    function                      <function f1_score at 0x7f2a2f1ee0d0>\n",
      "feature_to_save             list                          n=1\n",
      "features_folder             str                           ../Features/\n",
      "fft                         module                        <module 'scipy.fftpack' f<...>ipy/fftpack/__init__.py'>\n",
      "fi                          str                           MIN_0100_00.dat\n",
      "fi_number                   str                           00\n",
      "fig                         Figure                        Figure(224x224)\n",
      "files                       list                          n=5\n",
      "format_to_save              list                          n=1\n",
      "freqs                       ndarray                       257: 257 elems, type `float64`, 2056 bytes\n",
      "fs                          float                         60000000.0\n",
      "get_label                   function                      <function get_label at 0x7f29d1e36f70>\n",
      "get_n_params                function                      <function get_n_params at 0x7f2a8c3439d0>\n",
      "get_window                  function                      <function get_window at 0x7f2a2d5fe790>\n",
      "helper_functions            module                        <module 'helper_functions<...>ion/helper_functions.py'>\n",
      "i                           int                           82\n",
      "im                          AxesImage                     AxesImage(0,0;224x224)\n",
      "img_psd_folder              str                           IMG_PSD_512_20\n",
      "img_spec_folder             str                           IMG_SPEC_512_20\n",
      "importlib                   module                        <module 'importlib' from <...>8/importlib/__init__.py'>\n",
      "int_name                    str                           01\n",
      "inteference_folders         list                          n=4\n",
      "interpolate                 module                        <module 'scipy.interpolat<...>interpolate/__init__.py'>\n",
      "interpolate_2d              function                      <function interpolate_2d at 0x7f29d1e333a0>\n",
      "is_interference             function                      <function is_interference at 0x7f29d1e330d0>\n",
      "isrealobj                   function                      <function isrealobj at 0x7f2a7c13b9d0>\n",
      "lfcc                        function                      <function lfcc at 0x7f2a2ef363a0>\n",
      "load_dronedetect_data       function                      <function load_dronedetec<...>t_data at 0x7f2a317e3d30>\n",
      "load_dronedetect_features   function                      <function load_dronedetec<...>atures at 0x7f29d1e36d30>\n",
      "load_dronedetect_raw        function                      <function load_dronedetect_raw at 0x7f2a2d296c10>\n",
      "load_dronerf_features       function                      <function load_dronerf_fe<...>atures at 0x7f29d1e331f0>\n",
      "load_dronerf_raw            function                      <function load_dronerf_raw at 0x7f29d1e33160>\n",
      "load_gamut_features         function                      <function load_gamut_features at 0x7f29d1e33280>\n",
      "local_vars                  list                          n=133\n",
      "main_folder                 str                           /home/ltindall/data/DroneDetect/DroneDetect_V2/\n",
      "n_overlap_spec              int                           120\n",
      "n_per_seg                   int                           512\n",
      "name                        str                           tqdm\n",
      "normalize_rf                function                      <function normalize_rf at 0x7f29d1e33430>\n",
      "np                          module                        <module 'numpy' from '/ho<...>kages/numpy/__init__.py'>\n",
      "obj                         str                           local_vars = list(locals(<...>(var, sys.getsizeof(obj))\n",
      "os                          module                        <module 'os' from '/home/<...>8.2/lib/python3.8/os.py'>\n",
      "pa_save                     bool                          False\n",
      "pd                          module                        <module 'pandas' from '/h<...>ages/pandas/__init__.py'>\n",
      "pi_save                     bool                          False\n",
      "plot_feat                   function                      <function plot_feat at 0x7f2a8c343940>\n",
      "plt                         module                        <module 'matplotlib.pyplo<...>es/matplotlib/pyplot.py'>\n",
      "preprocessing               module                        <module 'sklearn.preproce<...>eprocessing/__init__.py'>\n",
      "psd_win_type                str                           hamming\n",
      "sa_save                     bool                          False\n",
      "save_array                  function                      <function save_array at 0x7f29d1e33ca0>\n",
      "save_psd_image              function                      <function save_psd_image at 0x7f29d1e33c10>\n",
      "save_spec_image             function                      <function save_spec_image at 0x7f29d1e33a60>\n",
      "save_spec_image_fig         function                      <function save_spec_image_fig at 0x7f29d1e33af0>\n",
      "sf                          str                           BLUE\n",
      "si_save                     bool                          True\n",
      "signal                      module                        <module 'scipy.signal' fr<...>cipy/signal/__init__.py'>\n",
      "size                        int                           2008\n",
      "sizeof_fmt                  function                      <function sizeof_fmt at 0x7f29d1dea0d0>\n",
      "spec                        ndarray                       257x3060: 786420 elems, type `float64`, 6291360 bytes (5.999908447265625 Mb)\n",
      "spec_han_window             ndarray                       512: 512 elems, type `float64`, 4096 bytes\n",
      "sqrt                        ufunc                         <ufunc 'sqrt'>\n",
      "standard_normal             builtin_function_or_method    <built-in method standard<...>object at 0x7f2a64627940>\n",
      "sub_folders                 list                          n=4\n",
      "sum                         function                      <function sum at 0x7f2a7c1889d0>\n",
      "sys                         module                        <module 'sys' (built-in)>\n",
      "t_seg                       int                           20\n",
      "torch                       module                        <module 'torch' from '/ho<...>kages/torch/__init__.py'>\n",
      "tqdm                        type                          <class 'tqdm.std.tqdm'>\n",
      "train_test_split            function                      <function train_test_split at 0x7f2a2f3500d0>\n",
      "var                         str                           _i13\n",
      "vis                         module                        <module 'spafe.utils.vis'<...>ages/spafe/utils/vis.py'>\n"
     ]
    }
   ],
   "source": [
    "%whos"
   ]
  },
  {
   "cell_type": "markdown",
   "id": "cfba54f4",
   "metadata": {},
   "source": [
    "## Load Files test"
   ]
  },
  {
   "cell_type": "code",
   "execution_count": 46,
   "id": "265c152f",
   "metadata": {},
   "outputs": [],
   "source": [
    "from loading_functions import *"
   ]
  },
  {
   "cell_type": "code",
   "execution_count": 47,
   "id": "c8a9ad5d",
   "metadata": {},
   "outputs": [
    {
     "name": "stderr",
     "output_type": "stream",
     "text": [
      "100%|██████████████████████████████████████████████████████████████████████████████████████████████████████████████████████████| 80/80 [00:00<00:00, 3199.04it/s]\n"
     ]
    }
   ],
   "source": [
    "feat_folder = '../Features/'\n",
    "feat_name = 'PSD'\n",
    "# datestr = '2022-06-29'\n",
    "n_per_seg = 512\n",
    "interferences = ['WIFI']\n",
    "seg_len = 200\n",
    "output_feat = 'drones'\n",
    "# (feat_folder, feat_name, seg_len, n_per_seg, output_feat, interferences)\n",
    "Xs_arr, y_arr = load_dronedetect_features(feat_folder, feat_name, seg_len, n_per_seg, output_feat, interferences)"
   ]
  },
  {
   "cell_type": "code",
   "execution_count": 35,
   "id": "3d9f61c9",
   "metadata": {},
   "outputs": [
    {
     "data": {
      "text/plain": [
       "(1000, 512)"
      ]
     },
     "execution_count": 35,
     "metadata": {},
     "output_type": "execute_result"
    }
   ],
   "source": [
    "Xs_arr.shape"
   ]
  },
  {
   "cell_type": "markdown",
   "id": "b87533a4",
   "metadata": {},
   "source": [
    "## Plot as images test"
   ]
  },
  {
   "cell_type": "code",
   "execution_count": 48,
   "id": "77681241",
   "metadata": {},
   "outputs": [],
   "source": [
    "import importlib\n",
    "# import loading_functions\n",
    "# importlib.reload(loading_functions)"
   ]
  },
  {
   "cell_type": "code",
   "execution_count": 49,
   "id": "29ac2ed5",
   "metadata": {},
   "outputs": [
    {
     "data": {
      "image/png": "[encoded data removed]",
      "text/plain": [
       "<Figure size 500x500 with 1 Axes>"
      ]
     },
     "metadata": {
      "needs_background": "light"
     },
     "output_type": "display_data"
    }
   ],
   "source": [
    "sample_to_plot = 0\n",
    "helper_functions.plot_image(Xs_arr[sample_to_plot], dim=(224,224), dpi=100)"
   ]
  },
  {
   "cell_type": "markdown",
   "id": "21a555b8",
   "metadata": {},
   "source": [
    "### To visualize images"
   ]
  },
  {
   "cell_type": "code",
   "execution_count": 7,
   "id": "56b658dd",
   "metadata": {},
   "outputs": [
    {
     "data": {
      "image/png": "[encoded data removed]",
      "text/plain": [
       "<Figure size 432x288 with 1 Axes>"
      ]
     },
     "metadata": {
      "needs_background": "light"
     },
     "output_type": "display_data"
    }
   ],
   "source": [
    "# # plot for each type of drone\n",
    "# X_norm = Xs\n",
    "# for n in range(len(Xs_arr)):\n",
    "#     if DRONES[n] == 'AIR':\n",
    "#         c = 'r'\n",
    "#     elif DRONES[n] == 'DIS':\n",
    "#         c = 'b'\n",
    "#     elif DRONES[n] == 'INS':\n",
    "#         c = 'g'\n",
    "#     elif DRONES[n] == 'MIN':\n",
    "#         c = 'c'\n",
    "#     elif DRONES[n] == 'MP1':\n",
    "#         c = 'm'\n",
    "#     elif DRONES[n] == 'MP2':\n",
    "#         c = 'k'\n",
    "#     elif DRONES[n] == 'PHA':\n",
    "#         c = 'y'\n",
    "    \n",
    "#     # normalize it\n",
    "# #     X_norm[n] = Xs[n]/max(Xs[n])\n",
    "#     plt.plot(Xs[n],color=c)"
   ]
  },
  {
   "cell_type": "code",
   "execution_count": null,
   "id": "e97c9511",
   "metadata": {},
   "outputs": [],
   "source": []
  }
 ],
 "metadata": {
  "kernelspec": {
   "display_name": "Python 3 (ipykernel)",
   "language": "python",
   "name": "python3"
  },
  "language_info": {
   "codemirror_mode": {
    "name": "ipython",
    "version": 3
   },
   "file_extension": ".py",
   "mimetype": "text/x-python",
   "name": "python",
   "nbconvert_exporter": "python",
   "pygments_lexer": "ipython3",
   "version": "3.8.2"
  }
 },
 "nbformat": 4,
 "nbformat_minor": 5
}
