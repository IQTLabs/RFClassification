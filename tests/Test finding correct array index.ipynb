{
 "cells": [
  {
   "cell_type": "code",
   "execution_count": 1,
   "id": "536e0a76",
   "metadata": {},
   "outputs": [],
   "source": [
    "### This is for developing the index for file and index for within file finder \n",
    "### for DroneDetectTorch class in loading_functions notebook"
   ]
  },
  {
   "cell_type": "code",
   "execution_count": 3,
   "id": "5b444988",
   "metadata": {},
   "outputs": [],
   "source": [
    "import numpy as np"
   ]
  },
  {
   "cell_type": "code",
   "execution_count": 6,
   "id": "e057d585",
   "metadata": {},
   "outputs": [],
   "source": [
    "a = [[0],[0],[0,0],[0,0],[0,0,0]]\n",
    "testlens = np.array([1, 2,4,6, 9 ])"
   ]
  },
  {
   "cell_type": "code",
   "execution_count": 13,
   "id": "a3ab8ab5",
   "metadata": {},
   "outputs": [],
   "source": [
    "i=3\n",
    "i_file = np.argwhere(testlens>=i)[0][0]\n",
    "# i_prev = np.max([0, i_file-1])\n",
    "i_infile = len(a[i_file])- (testlens[i_file]-i)"
   ]
  },
  {
   "cell_type": "code",
   "execution_count": 14,
   "id": "fdf1c727",
   "metadata": {},
   "outputs": [
    {
     "data": {
      "text/plain": [
       "2"
      ]
     },
     "execution_count": 14,
     "metadata": {},
     "output_type": "execute_result"
    }
   ],
   "source": [
    "i_file"
   ]
  },
  {
   "cell_type": "code",
   "execution_count": 15,
   "id": "bc5f0907",
   "metadata": {},
   "outputs": [
    {
     "data": {
      "text/plain": [
       "1"
      ]
     },
     "execution_count": 15,
     "metadata": {},
     "output_type": "execute_result"
    }
   ],
   "source": [
    "i_infile"
   ]
  },
  {
   "cell_type": "code",
   "execution_count": null,
   "id": "f9f4d024",
   "metadata": {},
   "outputs": [],
   "source": []
  }
 ],
 "metadata": {
  "kernelspec": {
   "display_name": "Python 3 (ipykernel)",
   "language": "python",
   "name": "python3"
  },
  "language_info": {
   "codemirror_mode": {
    "name": "ipython",
    "version": 3
   },
   "file_extension": ".py",
   "mimetype": "text/x-python",
   "name": "python",
   "nbconvert_exporter": "python",
   "pygments_lexer": "ipython3",
   "version": "3.8.2"
  }
 },
 "nbformat": 4,
 "nbformat_minor": 5
}
