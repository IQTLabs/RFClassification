{
 "cells": [
  {
   "cell_type": "markdown",
   "id": "b25706cb",
   "metadata": {},
   "source": [
    "### Test signal welch function with real vs. complex inputs\n"
   ]
  },
  {
   "cell_type": "code",
   "execution_count": 18,
   "id": "b9e119ee",
   "metadata": {},
   "outputs": [],
   "source": [
    "import os\n",
    "import numpy as np\n",
    "import sys; sys.path.insert(0, '..') # add parent folder path where lib folder is\n",
    "from loading_functions import *\n",
    "from scipy import signal"
   ]
  },
  {
   "cell_type": "code",
   "execution_count": 20,
   "id": "02e89f76",
   "metadata": {},
   "outputs": [],
   "source": [
    "# DroneDetect\n",
    "main_folder = '/home/ltindall/data/DroneDetect/DroneDetect_V2/' # data path on mp-gpu-desktop06\n",
    "sub_folders = os.listdir(main_folder)\n",
    "fs = 60e6 #60 MHz"
   ]
  },
  {
   "cell_type": "code",
   "execution_count": 6,
   "id": "eaaace24",
   "metadata": {},
   "outputs": [
    {
     "name": "stdout",
     "output_type": "stream",
     "text": [
      "current folder:  WIFI\n"
     ]
    }
   ],
   "source": [
    "# loop through all files\n",
    "for sf in ['WIFI']: #, 'BLUE', 'BOTH', 'CLEAN']: # options: ['WIFI', 'BLUE', 'BOTH', 'CLEAN']\n",
    "    print('current folder: ', sf)\n",
    "\n",
    "    drone_folders = os.listdir(main_folder+sf+'/')\n",
    "    for df in drone_folders:\n",
    "#         print('     subfolder:', df)\n",
    "        # reset lists -  to save memory\n",
    "        DRONES = []\n",
    "        CONDS =[]\n",
    "        INTS = [] # interferences: 00 for a clean signal, 01 for Bluetooth only, 10 for Wi-Fi only and 11 for Bluetooth and Wi-Fi interference concurrently.\n",
    "\n",
    "        # features\n",
    "        F_PSD = []\n",
    "        F_PSD_freq = []\n",
    "\n",
    "        F_SPEC = []\n",
    "        F_SPEC_freq = []\n",
    "        F_SPEC_time = []\n",
    "\n",
    "        files = os.listdir(main_folder+sf+'/'+df+'/')\n",
    "        "
   ]
  },
  {
   "cell_type": "code",
   "execution_count": 122,
   "id": "6f736071",
   "metadata": {},
   "outputs": [],
   "source": [
    "## Pick file to load\n",
    "sf = 'CLEAN'\n",
    "df = 'DIS_ON'\n",
    "files = os.listdir(main_folder+sf+'/'+df+'/')"
   ]
  },
  {
   "cell_type": "code",
   "execution_count": 123,
   "id": "7de8c0e8",
   "metadata": {},
   "outputs": [
    {
     "data": {
      "text/plain": [
       "['DIS_0000_00.dat',\n",
       " 'DIS_0000_04.dat',\n",
       " 'DIS_0000_03.dat',\n",
       " 'DIS_0000_01.dat',\n",
       " 'DIS_0000_02.dat']"
      ]
     },
     "execution_count": 123,
     "metadata": {},
     "output_type": "execute_result"
    }
   ],
   "source": [
    "files"
   ]
  },
  {
   "cell_type": "code",
   "execution_count": 124,
   "id": "33b54d82",
   "metadata": {},
   "outputs": [],
   "source": [
    "fi = files[0]"
   ]
  },
  {
   "cell_type": "code",
   "execution_count": 125,
   "id": "06416196",
   "metadata": {},
   "outputs": [
    {
     "name": "stdout",
     "output_type": "stream",
     "text": [
      "100\n"
     ]
    }
   ],
   "source": [
    "t_seg = 20\n",
    "d_split, _ = load_dronedetect_raw(main_folder+sf+'/'+df+'/'+fi, t_seg)\n",
    "print(len(d_split))"
   ]
  },
  {
   "cell_type": "code",
   "execution_count": 138,
   "id": "ab19ab9b",
   "metadata": {},
   "outputs": [],
   "source": [
    "Psds = []\n",
    "for i_plot in range(100):\n",
    "    fpsd, Pxx_den = signal.welch(d_split[i_plot], fs, window='hann', nperseg=1024, noverlap=120)\n",
    "#     Pxx_den, fpsd = plt.psd(d_split[i_plot],Fs=fs)\n",
    "    Psds.append(Pxx_den)"
   ]
  },
  {
   "cell_type": "code",
   "execution_count": 139,
   "id": "e0fc62ca",
   "metadata": {},
   "outputs": [],
   "source": [
    "mean_psd = np.mean(np.array(Psds), axis=0)"
   ]
  },
  {
   "cell_type": "code",
   "execution_count": 140,
   "id": "398819cd",
   "metadata": {},
   "outputs": [
    {
     "data": {
      "text/plain": [
       "Text(0.5, 1.0, 'Using Complex Inputs')"
      ]
     },
     "execution_count": 140,
     "metadata": {},
     "output_type": "execute_result"
    },
    {
     "data": {
      "image/png": "[encoded data removed]",
      "text/plain": [
       "<Figure size 432x288 with 1 Axes>"
      ]
     },
     "metadata": {
      "needs_background": "light"
     },
     "output_type": "display_data"
    }
   ],
   "source": [
    "plt.plot(fpsd, mean_psd)\n",
    "plt.title('Using Complex Inputs')"
   ]
  },
  {
   "cell_type": "code",
   "execution_count": 120,
   "id": "c37360bb",
   "metadata": {},
   "outputs": [
    {
     "name": "stderr",
     "output_type": "stream",
     "text": [
      "/tmp/ipykernel_87023/660875403.py:1: RuntimeWarning: divide by zero encountered in divide\n",
      "  np.divide(mean_psd,fpsd)\n"
     ]
    },
    {
     "data": {
      "text/plain": [
       "array([            inf,  1.09256528e-14,  5.54266914e-15, ...,\n",
       "       -3.56765939e-15, -5.23715045e-15, -1.07979702e-14])"
      ]
     },
     "execution_count": 120,
     "metadata": {},
     "output_type": "execute_result"
    }
   ],
   "source": [
    "np.divide(mean_psd,fpsd)"
   ]
  },
  {
   "cell_type": "code",
   "execution_count": 90,
   "id": "56d95132",
   "metadata": {},
   "outputs": [],
   "source": [
    "d_real = abs(d_split[i_plot])\n",
    "fpsd, Pxx_den_real = signal.welch(d_real, fs, window='hann', nperseg=4*4*1024)"
   ]
  },
  {
   "cell_type": "code",
   "execution_count": 91,
   "id": "32d1581a",
   "metadata": {},
   "outputs": [
    {
     "data": {
      "text/plain": [
       "Text(0.5, 1.0, 'Using Magnitude Inputs')"
      ]
     },
     "execution_count": 91,
     "metadata": {},
     "output_type": "execute_result"
    },
    {
     "data": {
      "image/png": "[encoded data removed]",
      "text/plain": [
       "<Figure size 432x288 with 1 Axes>"
      ]
     },
     "metadata": {
      "needs_background": "light"
     },
     "output_type": "display_data"
    }
   ],
   "source": [
    "plt.plot(Pxx_den_real)\n",
    "plt.title('Using Magnitude Inputs')"
   ]
  },
  {
   "cell_type": "code",
   "execution_count": 92,
   "id": "dbea6a9b",
   "metadata": {},
   "outputs": [
    {
     "data": {
      "text/plain": [
       "[<matplotlib.lines.Line2D at 0x7f9b3bf294f0>]"
      ]
     },
     "execution_count": 92,
     "metadata": {},
     "output_type": "execute_result"
    },
    {
     "data": {
      "image/png": "[encoded data removed]",
      "text/plain": [
       "<Figure size 432x288 with 1 Axes>"
      ]
     },
     "metadata": {
      "needs_background": "light"
     },
     "output_type": "display_data"
    }
   ],
   "source": [
    "plt.plot(d_real)"
   ]
  },
  {
   "cell_type": "code",
   "execution_count": 53,
   "id": "d3e0d37e",
   "metadata": {},
   "outputs": [
    {
     "data": {
      "text/plain": [
       "[<matplotlib.lines.Line2D at 0x7f9b528432e0>]"
      ]
     },
     "execution_count": 53,
     "metadata": {},
     "output_type": "execute_result"
    },
    {
     "data": {
      "image/png": "[encoded data removed]",
      "text/plain": [
       "<Figure size 432x288 with 1 Axes>"
      ]
     },
     "metadata": {
      "needs_background": "light"
     },
     "output_type": "display_data"
    }
   ],
   "source": [
    "plt.plot(d_split[i_plot])"
   ]
  },
  {
   "cell_type": "code",
   "execution_count": 58,
   "id": "22e75c67",
   "metadata": {},
   "outputs": [],
   "source": [
    "## Using matplotlib"
   ]
  },
  {
   "cell_type": "code",
   "execution_count": 59,
   "id": "4425b3ed",
   "metadata": {},
   "outputs": [],
   "source": [
    "import matplotlib.pyplot as plt"
   ]
  },
  {
   "cell_type": "code",
   "execution_count": 98,
   "id": "39803f9b",
   "metadata": {},
   "outputs": [
    {
     "data": {
      "text/plain": [
       "(array([6.98013750e-12, 6.98664382e-12, 6.90551437e-12, 6.93256859e-12,\n",
       "        6.94713497e-12, 7.10593636e-12, 7.04214386e-12, 7.00137196e-12,\n",
       "        7.16423064e-12, 7.15201597e-12, 7.19031487e-12, 7.29215306e-12,\n",
       "        7.41850991e-12, 7.32835387e-12, 7.43779544e-12, 7.84285820e-12,\n",
       "        8.12962749e-12, 8.24541468e-12, 8.39362543e-12, 7.90852332e-12,\n",
       "        7.47044596e-12, 7.24129909e-12, 7.22215957e-12, 7.22612911e-12,\n",
       "        7.17800307e-12, 7.19654717e-12, 7.38088024e-12, 7.69437388e-12,\n",
       "        7.65161946e-12, 7.80099098e-12, 8.30101763e-12, 9.10864826e-12,\n",
       "        1.04434123e-11, 1.24090340e-11, 1.54278443e-11, 2.00176926e-11,\n",
       "        2.60829796e-11, 3.61734788e-11, 5.19397876e-11, 7.72765766e-11,\n",
       "        2.10943936e-10, 5.52168202e-10, 9.38249327e-10, 1.42624735e-09,\n",
       "        1.87656092e-09, 1.59679175e-09, 1.06498880e-09, 1.44740893e-09,\n",
       "        2.11894595e-09, 3.04467763e-09, 4.36404685e-09, 3.83472690e-09,\n",
       "        6.95067882e-10, 4.24223803e-11, 3.73688943e-11, 4.00059817e-11,\n",
       "        4.80925931e-11, 5.90774161e-11, 6.81916881e-11, 7.16366564e-11,\n",
       "        7.13959124e-11, 6.64571145e-11, 6.17131775e-11, 5.80809884e-11,\n",
       "        5.49222898e-11, 5.29008872e-11, 5.13860672e-11, 4.89712301e-11,\n",
       "        4.80799030e-11, 4.80957019e-11, 4.79917377e-11, 4.76554520e-11,\n",
       "        4.92926097e-11, 4.79139913e-11, 4.74490621e-11, 5.04521787e-11,\n",
       "        1.07347999e-10, 5.89367465e-10, 1.89843759e-09, 2.94123974e-09,\n",
       "        2.06069610e-09, 6.08362397e-10, 9.10342613e-11, 4.12379842e-11,\n",
       "        3.80462693e-11, 3.68137891e-11, 3.86141705e-11, 3.78916024e-11,\n",
       "        3.53041751e-11, 3.43158839e-11, 3.43774169e-11, 3.41638875e-11,\n",
       "        3.27165127e-11, 3.17043152e-11, 3.15997526e-11, 3.16201197e-11,\n",
       "        3.14933135e-11, 3.06528217e-11, 2.99317980e-11, 3.01681010e-11,\n",
       "        3.02587270e-11, 3.11378196e-11, 3.08580153e-11, 2.92523805e-11,\n",
       "        2.96597956e-11, 2.99110330e-11, 2.94568787e-11, 2.90273941e-11,\n",
       "        2.89563595e-11, 2.87284374e-11, 2.81904974e-11, 2.82706096e-11,\n",
       "        2.80181321e-11, 2.76400622e-11, 2.72161816e-11, 2.73539591e-11,\n",
       "        2.70566566e-11, 2.74330082e-11, 2.73916222e-11, 2.71641771e-11,\n",
       "        2.76273760e-11, 2.82092306e-11, 2.90058037e-11, 2.89202049e-11,\n",
       "        2.90228761e-11, 2.90522459e-11, 2.90966489e-11, 7.77612003e-11,\n",
       "        2.17652034e-10, 7.73855115e-11, 2.89947641e-11, 2.85265310e-11,\n",
       "        2.81399457e-11, 2.74992736e-11, 2.72517983e-11, 2.68858390e-11,\n",
       "        2.73726670e-11, 2.70271878e-11, 2.76311104e-11, 2.83063879e-11,\n",
       "        2.80850239e-11, 2.84521632e-11, 2.84502425e-11, 2.87820192e-11,\n",
       "        2.90133820e-11, 2.97335051e-11, 2.98855173e-11, 2.96176898e-11,\n",
       "        3.03705130e-11, 3.12378950e-11, 3.10230751e-11, 3.13756285e-11,\n",
       "        3.18015686e-11, 3.18002803e-11, 3.25103620e-11, 3.25849129e-11,\n",
       "        3.28984144e-11, 3.36425051e-11, 3.41811098e-11, 3.42464381e-11,\n",
       "        3.57589525e-11, 3.79894456e-11, 4.69117695e-11, 4.06713876e-11,\n",
       "        3.53343872e-11, 3.57287559e-11, 3.73839171e-11, 4.12448543e-11,\n",
       "        4.56291277e-11, 4.75172309e-11, 4.79036040e-11, 4.69450673e-11,\n",
       "        4.69828053e-11, 5.18366131e-11, 5.60559746e-11, 5.87344107e-11,\n",
       "        6.35019367e-11, 7.19583079e-11, 6.47862621e-11, 5.35722980e-11,\n",
       "        5.21105331e-11, 5.34867570e-11, 5.47677023e-11, 5.56559634e-11,\n",
       "        5.58919948e-11, 5.35143963e-11, 5.30124025e-11, 5.29784143e-11,\n",
       "        5.41184994e-11, 5.34246023e-11, 5.40664511e-11, 5.47720180e-11,\n",
       "        5.68434329e-11, 5.89999224e-11, 6.29650380e-11, 6.75892897e-11,\n",
       "        7.08967742e-11, 6.96202296e-11, 6.33557251e-11, 5.25801413e-11,\n",
       "        4.04534915e-11, 3.08519413e-11, 2.33546885e-11, 1.86894492e-11,\n",
       "        1.56947734e-11, 1.44902108e-11, 1.29703114e-11, 1.15951544e-11,\n",
       "        1.08406757e-11, 1.16560817e-11, 1.01161611e-11, 9.18258850e-12,\n",
       "        8.86536595e-12, 8.49127918e-12, 8.10418792e-12, 7.89555509e-12,\n",
       "        7.85681172e-12, 7.65681493e-12, 7.38008226e-12, 7.17376275e-12,\n",
       "        7.19948076e-12, 7.09206488e-12, 7.10788664e-12, 7.23598182e-12,\n",
       "        7.31093499e-12, 6.98317229e-12, 6.93332362e-12, 7.06069401e-12,\n",
       "        7.14041437e-12, 6.98464950e-12, 6.94716498e-12, 6.97644634e-12,\n",
       "        6.88753535e-12, 6.72253686e-12, 6.69047716e-12, 6.61704344e-12,\n",
       "        6.62413057e-12, 7.16151962e-12, 7.52326429e-12, 7.57263564e-12,\n",
       "        7.67696661e-12, 7.20348912e-12, 6.69197653e-12, 6.62474376e-12,\n",
       "        6.71528598e-12, 6.85345108e-12, 7.15819067e-12, 7.07804841e-12,\n",
       "        7.05425903e-12, 7.00898963e-12, 6.86287422e-12, 6.75206529e-12,\n",
       "        6.77664452e-12, 6.75942544e-12, 6.86765474e-12, 7.00825271e-12]),\n",
       " array([-30000000., -29765625., -29531250., -29296875., -29062500.,\n",
       "        -28828125., -28593750., -28359375., -28125000., -27890625.,\n",
       "        -27656250., -27421875., -27187500., -26953125., -26718750.,\n",
       "        -26484375., -26250000., -26015625., -25781250., -25546875.,\n",
       "        -25312500., -25078125., -24843750., -24609375., -24375000.,\n",
       "        -24140625., -23906250., -23671875., -23437500., -23203125.,\n",
       "        -22968750., -22734375., -22500000., -22265625., -22031250.,\n",
       "        -21796875., -21562500., -21328125., -21093750., -20859375.,\n",
       "        -20625000., -20390625., -20156250., -19921875., -19687500.,\n",
       "        -19453125., -19218750., -18984375., -18750000., -18515625.,\n",
       "        -18281250., -18046875., -17812500., -17578125., -17343750.,\n",
       "        -17109375., -16875000., -16640625., -16406250., -16171875.,\n",
       "        -15937500., -15703125., -15468750., -15234375., -15000000.,\n",
       "        -14765625., -14531250., -14296875., -14062500., -13828125.,\n",
       "        -13593750., -13359375., -13125000., -12890625., -12656250.,\n",
       "        -12421875., -12187500., -11953125., -11718750., -11484375.,\n",
       "        -11250000., -11015625., -10781250., -10546875., -10312500.,\n",
       "        -10078125.,  -9843750.,  -9609375.,  -9375000.,  -9140625.,\n",
       "         -8906250.,  -8671875.,  -8437500.,  -8203125.,  -7968750.,\n",
       "         -7734375.,  -7500000.,  -7265625.,  -7031250.,  -6796875.,\n",
       "         -6562500.,  -6328125.,  -6093750.,  -5859375.,  -5625000.,\n",
       "         -5390625.,  -5156250.,  -4921875.,  -4687500.,  -4453125.,\n",
       "         -4218750.,  -3984375.,  -3750000.,  -3515625.,  -3281250.,\n",
       "         -3046875.,  -2812500.,  -2578125.,  -2343750.,  -2109375.,\n",
       "         -1875000.,  -1640625.,  -1406250.,  -1171875.,   -937500.,\n",
       "          -703125.,   -468750.,   -234375.,         0.,    234375.,\n",
       "           468750.,    703125.,    937500.,   1171875.,   1406250.,\n",
       "          1640625.,   1875000.,   2109375.,   2343750.,   2578125.,\n",
       "          2812500.,   3046875.,   3281250.,   3515625.,   3750000.,\n",
       "          3984375.,   4218750.,   4453125.,   4687500.,   4921875.,\n",
       "          5156250.,   5390625.,   5625000.,   5859375.,   6093750.,\n",
       "          6328125.,   6562500.,   6796875.,   7031250.,   7265625.,\n",
       "          7500000.,   7734375.,   7968750.,   8203125.,   8437500.,\n",
       "          8671875.,   8906250.,   9140625.,   9375000.,   9609375.,\n",
       "          9843750.,  10078125.,  10312500.,  10546875.,  10781250.,\n",
       "         11015625.,  11250000.,  11484375.,  11718750.,  11953125.,\n",
       "         12187500.,  12421875.,  12656250.,  12890625.,  13125000.,\n",
       "         13359375.,  13593750.,  13828125.,  14062500.,  14296875.,\n",
       "         14531250.,  14765625.,  15000000.,  15234375.,  15468750.,\n",
       "         15703125.,  15937500.,  16171875.,  16406250.,  16640625.,\n",
       "         16875000.,  17109375.,  17343750.,  17578125.,  17812500.,\n",
       "         18046875.,  18281250.,  18515625.,  18750000.,  18984375.,\n",
       "         19218750.,  19453125.,  19687500.,  19921875.,  20156250.,\n",
       "         20390625.,  20625000.,  20859375.,  21093750.,  21328125.,\n",
       "         21562500.,  21796875.,  22031250.,  22265625.,  22500000.,\n",
       "         22734375.,  22968750.,  23203125.,  23437500.,  23671875.,\n",
       "         23906250.,  24140625.,  24375000.,  24609375.,  24843750.,\n",
       "         25078125.,  25312500.,  25546875.,  25781250.,  26015625.,\n",
       "         26250000.,  26484375.,  26718750.,  26953125.,  27187500.,\n",
       "         27421875.,  27656250.,  27890625.,  28125000.,  28359375.,\n",
       "         28593750.,  28828125.,  29062500.,  29296875.,  29531250.,\n",
       "         29765625.]))"
      ]
     },
     "execution_count": 98,
     "metadata": {},
     "output_type": "execute_result"
    },
    {
     "data": {
      "image/png": "[encoded data removed]",
      "text/plain": [
       "<Figure size 432x288 with 1 Axes>"
      ]
     },
     "metadata": {
      "needs_background": "light"
     },
     "output_type": "display_data"
    }
   ],
   "source": [
    "plt.psd(d_split[i_plot],Fs=fs)"
   ]
  },
  {
   "cell_type": "code",
   "execution_count": 62,
   "id": "529af23a",
   "metadata": {},
   "outputs": [
    {
     "data": {
      "text/plain": [
       "(array([2.81781476e-06, 1.64528258e-06, 2.09284201e-07, 1.41004859e-07,\n",
       "        7.73394033e-08, 1.60365737e-08, 3.35319238e-09, 1.91977878e-09,\n",
       "        1.04005707e-09, 6.01857694e-10, 4.44491141e-10, 3.68967741e-10,\n",
       "        2.35438249e-10, 1.95328905e-10, 1.65332972e-10, 1.72866854e-10,\n",
       "        1.99908804e-10, 2.17126806e-10, 1.73353293e-10, 1.13533673e-10,\n",
       "        1.32622281e-10, 1.67939393e-10, 1.49566903e-10, 9.29822284e-11,\n",
       "        8.72611416e-11, 9.06527234e-11, 8.22174384e-11, 7.81043077e-11,\n",
       "        8.91364314e-11, 7.93461054e-11, 8.04991162e-11, 8.53041786e-11,\n",
       "        9.94053435e-11, 9.59050604e-11, 8.19262605e-11, 8.55646033e-11,\n",
       "        1.15669467e-10, 9.65120621e-11, 6.97408164e-11, 6.08200003e-11,\n",
       "        7.28476634e-11, 7.41841271e-11, 1.23402808e-10, 1.62230795e-10,\n",
       "        9.57006979e-11, 8.02617858e-11, 7.59167939e-11, 8.48357188e-11,\n",
       "        9.36091849e-11, 9.32547681e-11, 8.44975582e-11, 9.79519333e-11,\n",
       "        1.41129707e-10, 1.44816407e-10, 1.18325743e-10, 8.49269233e-11,\n",
       "        6.48260864e-11, 6.98608296e-11, 8.30597055e-11, 8.58700442e-11,\n",
       "        7.00136082e-11, 6.04684400e-11, 6.51247562e-11, 7.84522651e-11,\n",
       "        9.34886231e-11, 7.24352584e-11, 5.87612158e-11, 5.11634665e-11,\n",
       "        6.13647168e-11, 4.87751557e-11, 3.79135851e-11, 2.98020490e-11,\n",
       "        2.71910857e-11, 2.71038011e-11, 2.43682032e-11, 2.15591733e-11,\n",
       "        1.86092887e-11, 1.91326552e-11, 1.92604495e-11, 1.86984925e-11,\n",
       "        1.92985757e-11, 2.23530515e-11, 1.93348597e-11, 1.72984082e-11,\n",
       "        1.71633640e-11, 1.81260850e-11, 1.81951997e-11, 1.69014091e-11,\n",
       "        1.71479947e-11, 1.71730905e-11, 1.67674645e-11, 1.66359472e-11,\n",
       "        1.65864594e-11, 1.64866238e-11, 1.67842187e-11, 1.69065169e-11,\n",
       "        1.76725741e-11, 1.80719524e-11, 1.88013636e-11, 1.95410997e-11,\n",
       "        2.08732024e-11, 2.23265694e-11, 2.45052800e-11, 2.54421201e-11,\n",
       "        2.53237644e-11, 2.63053004e-11, 2.75823293e-11, 2.68002510e-11,\n",
       "        2.63856842e-11, 2.70410499e-11, 2.68663622e-11, 2.68773162e-11,\n",
       "        2.70171581e-11, 2.59908887e-11, 2.58072621e-11, 2.85203142e-11,\n",
       "        3.68095083e-11, 4.61877016e-11, 5.39433517e-11, 6.11320731e-11,\n",
       "        6.36289550e-11, 5.62689707e-11, 5.12311373e-11, 3.89155887e-11,\n",
       "        2.89899738e-11, 2.61651245e-11, 2.56786102e-11, 2.59635244e-11,\n",
       "        1.34289351e-11]),\n",
       " array([       0.,   234375.,   468750.,   703125.,   937500.,  1171875.,\n",
       "         1406250.,  1640625.,  1875000.,  2109375.,  2343750.,  2578125.,\n",
       "         2812500.,  3046875.,  3281250.,  3515625.,  3750000.,  3984375.,\n",
       "         4218750.,  4453125.,  4687500.,  4921875.,  5156250.,  5390625.,\n",
       "         5625000.,  5859375.,  6093750.,  6328125.,  6562500.,  6796875.,\n",
       "         7031250.,  7265625.,  7500000.,  7734375.,  7968750.,  8203125.,\n",
       "         8437500.,  8671875.,  8906250.,  9140625.,  9375000.,  9609375.,\n",
       "         9843750., 10078125., 10312500., 10546875., 10781250., 11015625.,\n",
       "        11250000., 11484375., 11718750., 11953125., 12187500., 12421875.,\n",
       "        12656250., 12890625., 13125000., 13359375., 13593750., 13828125.,\n",
       "        14062500., 14296875., 14531250., 14765625., 15000000., 15234375.,\n",
       "        15468750., 15703125., 15937500., 16171875., 16406250., 16640625.,\n",
       "        16875000., 17109375., 17343750., 17578125., 17812500., 18046875.,\n",
       "        18281250., 18515625., 18750000., 18984375., 19218750., 19453125.,\n",
       "        19687500., 19921875., 20156250., 20390625., 20625000., 20859375.,\n",
       "        21093750., 21328125., 21562500., 21796875., 22031250., 22265625.,\n",
       "        22500000., 22734375., 22968750., 23203125., 23437500., 23671875.,\n",
       "        23906250., 24140625., 24375000., 24609375., 24843750., 25078125.,\n",
       "        25312500., 25546875., 25781250., 26015625., 26250000., 26484375.,\n",
       "        26718750., 26953125., 27187500., 27421875., 27656250., 27890625.,\n",
       "        28125000., 28359375., 28593750., 28828125., 29062500., 29296875.,\n",
       "        29531250., 29765625., 30000000.]))"
      ]
     },
     "execution_count": 62,
     "metadata": {},
     "output_type": "execute_result"
    },
    {
     "data": {
      "image/png": "[encoded data removed]",
      "text/plain": [
       "<Figure size 432x288 with 1 Axes>"
      ]
     },
     "metadata": {
      "needs_background": "light"
     },
     "output_type": "display_data"
    }
   ],
   "source": [
    "plt.psd(d_real,Fs=fs)"
   ]
  },
  {
   "cell_type": "code",
   "execution_count": 93,
   "id": "d6e41361",
   "metadata": {},
   "outputs": [],
   "source": [
    "fspec, t, Sxx = signal.spectrogram(d_split[i_plot], fs, window='hamming', nperseg=1024, noverlap =0)"
   ]
  },
  {
   "cell_type": "code",
   "execution_count": 94,
   "id": "0d0a4e77",
   "metadata": {},
   "outputs": [
    {
     "data": {
      "text/plain": [
       "array([ 0.97015065,  1.2849653 ,  1.5139215 , ...,  0.02570649,\n",
       "       -0.04584231,  0.02570649], dtype=float32)"
      ]
     },
     "execution_count": 94,
     "metadata": {},
     "output_type": "execute_result"
    }
   ],
   "source": [
    "d_split[0].real"
   ]
  },
  {
   "cell_type": "code",
   "execution_count": 95,
   "id": "e131263b",
   "metadata": {},
   "outputs": [
    {
     "name": "stderr",
     "output_type": "stream",
     "text": [
      "/tmp/ipykernel_87023/2006008834.py:1: UserWarning: The input coordinates to pcolormesh are interpreted as cell centers, but are not monotonically increasing or decreasing. This may lead to incorrectly calculated cell edges, in which case, please supply explicit cell edges to pcolormesh.\n",
      "  plt.pcolormesh(t, fspec, Sxx)\n"
     ]
    },
    {
     "data": {
      "image/png": "[encoded data removed]",
      "text/plain": [
       "<Figure size 432x288 with 1 Axes>"
      ]
     },
     "metadata": {
      "needs_background": "light"
     },
     "output_type": "display_data"
    }
   ],
   "source": [
    "plt.pcolormesh(t, fspec, Sxx)\n",
    "plt.ylabel('Frequency [Hz]')\n",
    "plt.xlabel('Time [sec]')\n",
    "plt.show()"
   ]
  },
  {
   "cell_type": "code",
   "execution_count": null,
   "id": "478e1cdc",
   "metadata": {},
   "outputs": [],
   "source": []
  }
 ],
 "metadata": {
  "kernelspec": {
   "display_name": "Python 3 (ipykernel)",
   "language": "python",
   "name": "python3"
  },
  "language_info": {
   "codemirror_mode": {
    "name": "ipython",
    "version": 3
   },
   "file_extension": ".py",
   "mimetype": "text/x-python",
   "name": "python",
   "nbconvert_exporter": "python",
   "pygments_lexer": "ipython3",
   "version": "3.8.2"
  }
 },
 "nbformat": 4,
 "nbformat_minor": 5
}
