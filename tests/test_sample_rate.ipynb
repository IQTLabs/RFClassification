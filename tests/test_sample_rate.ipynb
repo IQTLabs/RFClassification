{
 "cells": [
  {
   "cell_type": "code",
   "execution_count": 2,
   "id": "af6dc2f4",
   "metadata": {},
   "outputs": [
    {
     "name": "stdout",
     "output_type": "stream",
     "text": [
      "error on splitting\n"
     ]
    }
   ],
   "source": [
    "import os\n",
    "import numpy as np\n",
    "from numpy import sum,isrealobj,sqrt\n",
    "from numpy.random import standard_normal\n",
    "import os\n",
    "from sklearn.model_selection import train_test_split\n",
    "from spafe.features.lfcc import lfcc\n",
    "import spafe.utils.vis as vis\n",
    "from scipy.signal import get_window\n",
    "import scipy.fftpack as fft\n",
    "from scipy import signal\n",
    "import matplotlib.pyplot as plt\n",
    "from datetime import date\n",
    "from tqdm import tqdm\n",
    "\n",
    "from loading_functions import *\n",
    "from file_paths import *\n",
    "from feat_gen_functions import *\n",
    "\n",
    "import importlib\n",
    "\n",
    "# Dataset Info\n",
    "main_folder = dronerf_raw_path\n",
    "t_seg = 500\n",
    "Xs_arr, ys_arr, y4s_arr, y10s_arr = load_dronerf_raw(main_folder, t_seg)\n",
    "fs = 40e6 #40 MHz"
   ]
  },
  {
   "cell_type": "code",
   "execution_count": 4,
   "id": "55dba2b9",
   "metadata": {},
   "outputs": [],
   "source": [
    "main_folder = dronerf_raw_path\n",
    "high_freq_files = os.listdir(main_folder+'High/')"
   ]
  },
  {
   "cell_type": "code",
   "execution_count": 11,
   "id": "84cdcd39",
   "metadata": {},
   "outputs": [],
   "source": [
    "hsf =high_freq_files[10]"
   ]
  },
  {
   "cell_type": "code",
   "execution_count": 12,
   "id": "7eae2bf6",
   "metadata": {},
   "outputs": [],
   "source": [
    "rf_data_h = pd.read_csv(main_folder+'High/'+hsf, header=None).values\n",
    "rf_data_h = rf_data_h.flatten()"
   ]
  },
  {
   "cell_type": "code",
   "execution_count": 13,
   "id": "0e8f891e",
   "metadata": {},
   "outputs": [
    {
     "data": {
      "text/plain": [
       "20000000.0"
      ]
     },
     "execution_count": 13,
     "metadata": {},
     "output_type": "execute_result"
    }
   ],
   "source": [
    "len(rf_data_h)/0.5"
   ]
  },
  {
   "cell_type": "code",
   "execution_count": null,
   "id": "450e3b79",
   "metadata": {},
   "outputs": [],
   "source": [
    "\n",
    "load_dronedetect_raw(file_path, t_seg)"
   ]
  }
 ],
 "metadata": {
  "kernelspec": {
   "display_name": "Python 3 (ipykernel)",
   "language": "python",
   "name": "python3"
  },
  "language_info": {
   "codemirror_mode": {
    "name": "ipython",
    "version": 3
   },
   "file_extension": ".py",
   "mimetype": "text/x-python",
   "name": "python",
   "nbconvert_exporter": "python",
   "pygments_lexer": "ipython3",
   "version": "3.8.2"
  }
 },
 "nbformat": 4,
 "nbformat_minor": 5
}
