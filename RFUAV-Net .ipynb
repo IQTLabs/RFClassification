{
 "cells": [
  {
   "cell_type": "markdown",
   "id": "d254ebea",
   "metadata": {},
   "source": [
    "## Implementation of RFUAV-net\n",
    "July 1, 2022 \\\n",
    "efficient CNN method \\\n",
    "status: testing with a small sample"
   ]
  },
  {
   "cell_type": "code",
   "execution_count": 303,
   "id": "3e3259ea",
   "metadata": {},
   "outputs": [],
   "source": [
    "import os\n",
    "import numpy as np\n",
    "from sklearn.model_selection import KFold\n",
    "import pandas as pd\n",
    "from sklearn import preprocessing\n",
    "import matplotlib.pyplot as plt"
   ]
  },
  {
   "cell_type": "code",
   "execution_count": 304,
   "id": "bf423e27",
   "metadata": {},
   "outputs": [],
   "source": [
    "## helper functions\n",
    "def normalize_rf(rf):\n",
    "    \"\"\"apply normalization to data in the numpy array format\"\"\"\n",
    "    rfnorm = []\n",
    "    for i in range(len(rf)):\n",
    "        rfnorm_i = np.zeros(rf[i].shape)\n",
    "        for j in range(2):\n",
    "#             print(rf[i][j])\n",
    "            r = (np.max(rf[i][j])-np.min(rf[i][j]))\n",
    "#             print('range:', r)\n",
    "            m = np.min(rf[i][j])\n",
    "#             print('m:', m)abs\n",
    "            rfnorm_i[j] = (rf[i][j]-m)/r\n",
    "#             print(rfnorm_i[j])\n",
    "        rfnorm.append(rfnorm_i)\n",
    "\n",
    "    return rfnorm"
   ]
  },
  {
   "cell_type": "code",
   "execution_count": 83,
   "id": "a39a0cf7",
   "metadata": {
    "scrolled": true
   },
   "outputs": [
    {
     "name": "stdout",
     "output_type": "stream",
     "text": [
      "diff 5 file name: 00000L_13.csv\n"
     ]
    }
   ],
   "source": [
    "## Import data -  Drone RF\n",
    "main_folder = '/home/kzhou/Data/DroneRF/'\n",
    "high_freq_files = os.listdir(main_folder+'High/')\n",
    "low_freq_files = os.listdir(main_folder+'Low/')\n",
    "\n",
    "high_freq_files.sort()\n",
    "low_freq_files.sort()\n",
    "fs = 40e6 #40 MHz\n",
    "\n",
    "# feature & results lists\n",
    "Xs = []\n",
    "ys = []\n",
    "y4s = []\n",
    "y10s = []\n",
    "\n",
    "for i in range(100):\n",
    "\n",
    "    # load RF data\n",
    "    rf_data_h = pd.read_csv(main_folder+'High/'+high_freq_files[i], header=None).values\n",
    "    rf_data_h = rf_data_h.flatten()\n",
    "    \n",
    "    rf_data_l = pd.read_csv(main_folder+'Low/'+low_freq_files[i], header=None).values\n",
    "    rf_data_l = rf_data_l.flatten()\n",
    "    \n",
    "    if len(rf_data_h)!=len(rf_data_l):\n",
    "        print('diff', i, 'file name:', low_freq_files[i]) \n",
    "        # not sure why one pair of files have different lengths (ignore this for now)\n",
    "    else:\n",
    "        # stack the features and ys\n",
    "        rf_sig = np.vstack((rf_data_h, rf_data_l))\n",
    "        rf_sig = np.split(rf_sig, 1000, axis =1) # samples of 1e4\n",
    "        Xs.append(normalize_rf(rf_sig))\n",
    "        \n",
    "        y_rep = np.repeat(int(low_freq_files[i][0]),1000)\n",
    "        y4_rep = np.repeat(int(low_freq_files[i][:3]),1000)\n",
    "        y10_rep = np.repeat(int(low_freq_files[i][:5]),1000)\n",
    "\n",
    "        ys.append(y_rep) # 2 class\n",
    "        y4s.append(y4_rep) # 4 class\n",
    "        y10s.append(y10_rep) # 10 class\n",
    "\n",
    "        if int(high_freq_files[i][:5])!= int(low_freq_files[i][:5]):\n",
    "            raise Exception(\"File labels do not match\")"
   ]
  },
  {
   "cell_type": "code",
   "execution_count": 84,
   "id": "8077daa5",
   "metadata": {},
   "outputs": [],
   "source": [
    "# shape the arrays\n",
    "Xs_arr = np.array(Xs)\n",
    "Xs_arr = Xs_arr.reshape(-1, *Xs_arr.shape[-2:])\n",
    "ys_arr = np.array(ys).flatten()\n",
    "y4s_arr = np.array(y4s).flatten()\n",
    "y10s_arr = np.array(y10s).flatten()"
   ]
  },
  {
   "cell_type": "code",
   "execution_count": 85,
   "id": "3dfc9685",
   "metadata": {},
   "outputs": [
    {
     "data": {
      "text/plain": [
       "(99000, 2, 10000)"
      ]
     },
     "execution_count": 85,
     "metadata": {},
     "output_type": "execute_result"
    }
   ],
   "source": [
    "Xs_arr.shape"
   ]
  },
  {
   "cell_type": "markdown",
   "id": "086be216",
   "metadata": {},
   "source": [
    "### Apply Model"
   ]
  },
  {
   "cell_type": "code",
   "execution_count": 18,
   "id": "45548d8d",
   "metadata": {},
   "outputs": [],
   "source": [
    "from torch.nn import Module\n",
    "from torch.nn import Conv2d\n",
    "from torch.nn import Linear\n",
    "from torch.nn import MaxPool2d\n",
    "from torch.nn import ReLU\n",
    "from torch.nn import LogSoftmax\n",
    "from torch import flatten\n",
    "import torch.nn as nn\n",
    "import torch.nn.functional as F\n",
    "from torch.utils.data import Dataset\n",
    "import torch\n",
    "import torchvision.models as models"
   ]
  },
  {
   "cell_type": "code",
   "execution_count": 343,
   "id": "49dd0e45",
   "metadata": {},
   "outputs": [],
   "source": [
    "## Define dataset\n",
    "## Create a dataset class\n",
    "## Creating a custom dataset\n",
    "class DroneRFData(Dataset): ## NUMBERICAL DATA\n",
    "    def __init__(self, Xarr, yarr):\n",
    "        self.Xarr = Xarr.astype(np.float32)\n",
    "        self.le = preprocessing.LabelEncoder()\n",
    "        self.le.fit(yarr.flatten())\n",
    "        self.yarr = self.le.transform(yarr.flatten())\n",
    "        \n",
    "    def __len__(self):\n",
    "        return len(self.yarr)\n",
    "    \n",
    "    def __getitem__(self, index):\n",
    "        # all data must be in float and tensor format\n",
    "        X = torch.tensor((self.Xarr[index]))\n",
    "#         print(X.shape)\n",
    "        X = X.unsqueeze(0)\n",
    "        y = torch.tensor(float(self.yarr[index]))\n",
    "        return (X, y)"
   ]
  },
  {
   "cell_type": "code",
   "execution_count": 344,
   "id": "45b4212e",
   "metadata": {},
   "outputs": [],
   "source": [
    "dataset = DroneRFData(Xs_arr, ys_arr)"
   ]
  },
  {
   "cell_type": "code",
   "execution_count": 345,
   "id": "f03644a5",
   "metadata": {},
   "outputs": [
    {
     "data": {
      "text/plain": [
       "[<matplotlib.lines.Line2D at 0x7fcd2fd07d60>]"
      ]
     },
     "execution_count": 345,
     "metadata": {},
     "output_type": "execute_result"
    },
    {
     "data": {
      "image/png": "[encoded data removed]",
      "text/plain": [
       "<Figure size 432x288 with 1 Axes>"
      ]
     },
     "metadata": {
      "needs_background": "light"
     },
     "output_type": "display_data"
    }
   ],
   "source": [
    "plt.plot(dataset.__getitem__(40)[0][0][1].numpy())"
   ]
  },
  {
   "cell_type": "code",
   "execution_count": 411,
   "id": "c407a66c",
   "metadata": {},
   "outputs": [],
   "source": [
    "class RFUAVNet(nn.Module):\n",
    "    #  Determine what layers and their order in CNN object \n",
    "    def __init__(self, num_classes):\n",
    "        super(RFUAVNet, self).__init__()\n",
    "        self.num_classes = num_classes\n",
    "\n",
    "        self.dense = nn.Linear(320, num_classes)\n",
    "        self.pool = nn.MaxPool1d(kernel_size=2, stride=2)\n",
    "        self.smax = nn.Softmax(dim=0)\n",
    "        \n",
    "        # for r unit\n",
    "        self.conv1 = nn.Conv1d(in_channels=2, out_channels=64, kernel_size=5, stride=5)\n",
    "        self.norm1 = nn.BatchNorm1d(num_features=64)\n",
    "        self.elu1 = nn.ELU(alpha=1.0, inplace=False)\n",
    "        \n",
    "        # setup for components of the gunit\n",
    "        self.groupconvlist = []\n",
    "        self.norm2list = []\n",
    "        self.elu2list = []\n",
    "        for i in range(4):\n",
    "            self.groupconvlist.append( nn.Conv1d( \n",
    "                  in_channels=64,\n",
    "                  out_channels=64,\n",
    "                  kernel_size=2,\n",
    "                    stride = 2,\n",
    "                  groups=8,\n",
    "    #               bias=False,\n",
    "                  dtype=torch.float32\n",
    "                ))\n",
    "            self.norm2list.append(nn.BatchNorm1d(num_features=64))\n",
    "            self.elu2list.append(nn.ELU(alpha=1.0, inplace=False))\n",
    "        self.groupconv = nn.ModuleList(self.groupconvlist)\n",
    "        self.norm2 = nn.ModuleList(self.norm2list)\n",
    "        self.elu2 = nn.ModuleList(self.elu2list)\n",
    "        \n",
    "        # multi-gap implementation\n",
    "        self.avgpool1000 = nn.AvgPool1d(kernel_size=1000)\n",
    "        self.avgpool500 = nn.AvgPool1d(kernel_size=500)\n",
    "        self.avgpool250 = nn.AvgPool1d(kernel_size=250)\n",
    "        self.avgpool125 = nn.AvgPool1d(kernel_size=125)\n",
    "    \n",
    "    # Progresses data across layers    \n",
    "    def forward(self, x):\n",
    "        # runit first\n",
    "        x1 = self.runit(x)\n",
    "# #         print('x1 shape', x1.shape)\n",
    "        xg1 = self.gunit(x1, 0) # output of this layer should be 1000, but why 999?\n",
    "        x2 = self.pool(x1)\n",
    "        x3 = xg1+x2\n",
    "        \n",
    "#         print('x3 shape', x3.shape)\n",
    "        xg2 = self.gunit(x3, 1)\n",
    "        x4 = self.pool(x3)\n",
    "        x5 = xg2+x4\n",
    "        \n",
    "#         print('x5 shape', x5.shape)\n",
    "        xg3 = self.gunit(x5, 2)\n",
    "        x6 = self.pool(x5)\n",
    "        x7 = x6+xg3\n",
    "        \n",
    "        xg4 = self.gunit(x7, 3)\n",
    "        x8 = self.pool(x7)\n",
    "        x_togap = x8+xg4\n",
    "        \n",
    "#         print('xg1 shape:', xg1.shape)\n",
    "        \n",
    "#         # CONTINUE from the gap and multi-gap implementation\n",
    "        f_gap_1 = self.avgpool1000(xg1)\n",
    "#         print('gap 1 shape', f_gap_1.shape)\n",
    "        f_gap_2 = self.avgpool500(xg2)\n",
    "#         print('gap 2 shape', f_gap_2.shape)\n",
    "        f_gap_3 = self.avgpool250(xg3)\n",
    "#         print('gap 3 shape', f_gap_3.shape)\n",
    "        f_gap_4 = self.avgpool125(xg4)\n",
    "#         print('gap 4 shape', f_gap_4.shape)\n",
    "        \n",
    "        f_multigap = torch.cat((f_gap_1,f_gap_2, f_gap_3, f_gap_4), 1)\n",
    "#         print('f_multigap shape:',f_multigap.shape)\n",
    "        \n",
    "#         print('shape of x to gap', x_togap.shape)\n",
    "        f_gap_add = self.avgpool125(x_togap)\n",
    "    \n",
    "        f_final = torch.cat((f_multigap, f_gap_add),1)\n",
    "#         print('avg pool:', self.avgpool1(xg3).shape)\n",
    "        f_flat = f_final.flatten(start_dim=1)\n",
    "    \n",
    "        f_fc = self.dense(f_flat)\n",
    "        out = self.smax(f_fc)\n",
    "        # fc_layer\n",
    "        \n",
    "        return out\n",
    "    \n",
    "    def runit(self, x):\n",
    "        x = self.conv1(x)\n",
    "        x = self.norm1(x)\n",
    "        x = self.elu1(x)\n",
    "        return x\n",
    "        \n",
    "    def gunit(self, x, n):\n",
    "        # group convolution layer 8 by 8\n",
    "        # norm\n",
    "        # elu\n",
    "        # n indicates which gunit\n",
    "        x = self.groupconv[n](x) \n",
    "        x = self.norm2[n](x)\n",
    "        x = self.elu2[n](x)\n",
    "        return x"
   ]
  },
  {
   "cell_type": "code",
   "execution_count": 413,
   "id": "39a2e9ea",
   "metadata": {},
   "outputs": [
    {
     "name": "stdout",
     "output_type": "stream",
     "text": [
      "torch.Size([128, 2, 10000])\n",
      "torch.Size([128, 2])\n"
     ]
    }
   ],
   "source": [
    "## Test network\n",
    "# input1 = dataset.__getitem__(40)[0]\n",
    "# input1= input1.type(torch.float)\n",
    "# input = input.reshape(1, 2, 10000)\n",
    "input1 = torch.rand(128, 2, 10000)\n",
    "\n",
    "print(input1.shape)\n",
    "\n",
    "# input_1d = torch.tensor([1, 2, 3, 4, 5, 6, 7, 8, 9, 10], dtype = torch.float)\n",
    "\n",
    "net = RFUAVNet(2)\n",
    "out = net(input1)\n",
    "\n",
    "print(out.shape)"
   ]
  },
  {
   "cell_type": "code",
   "execution_count": 425,
   "id": "b766e0c6",
   "metadata": {},
   "outputs": [],
   "source": [
    "# Set up data and parameters\n",
    "## Set up Data\n",
    "train_split_percentage = 0.9\n",
    "split_lengths = [int(train_split_percentage*len(dataset)), len(dataset)-int(train_split_percentage*len(dataset))]\n",
    "train_set, test_set = torch.utils.data.random_split(dataset, split_lengths)\n",
    "\n",
    "train_loader = torch.utils.data.DataLoader(dataset = train_set,\n",
    "                                           batch_size = batch_size,\n",
    "                                           shuffle = True)\n",
    "\n",
    "\n",
    "test_loader = torch.utils.data.DataLoader(dataset = test_set,\n",
    "                                           batch_size = batch_size,\n",
    "                                           shuffle = True)\n",
    "\n",
    "\n",
    "## Set up Model\n",
    "# Hyperparameters\n",
    "batch_size = 128 # the number of samples processed before the model is updated. (number of samples in the training data)\n",
    "num_classes = 2\n",
    "learning_rate = 0.01\n",
    "num_epochs = 90\n",
    "momentum = 0.95\n",
    "\n",
    "device = torch.device(\"cuda:0\" if torch.cuda.is_available() else \"cpu\")\n",
    "\n",
    "model = RFUAVNet(num_classes)\n",
    "model = model.to(device)\n",
    "\n",
    "# Set Loss function with criterion\n",
    "criterion = nn.CrossEntropyLoss()\n",
    "\n",
    "# Set optimizer with optimizer\n",
    "optimizer = torch.optim.SGD(model.parameters(), lr=learning_rate, weight_decay=1e-4, momentum = momentum)  \n",
    "\n",
    "total_step = len(train_loader)"
   ]
  },
  {
   "cell_type": "code",
   "execution_count": 426,
   "id": "8136219d",
   "metadata": {
    "scrolled": true
   },
   "outputs": [
    {
     "name": "stdout",
     "output_type": "stream",
     "text": [
      "Epoch [1/90], Loss: 0.6991\n",
      "Epoch [11/90], Loss: 0.6264\n",
      "Epoch [21/90], Loss: 0.6203\n",
      "Epoch [31/90], Loss: 0.6169\n",
      "Epoch [41/90], Loss: 0.6214\n",
      "Epoch [51/90], Loss: 0.6218\n",
      "Epoch [61/90], Loss: 0.6184\n",
      "Epoch [71/90], Loss: 0.6158\n",
      "Epoch [81/90], Loss: 0.6198\n"
     ]
    }
   ],
   "source": [
    "# Training\n",
    "# We use the pre-defined number of epochs to determine how many iterations to train the network on\n",
    "for epoch in range(num_epochs):\n",
    "    #Load in the data in batches using the train_loader object\n",
    "    for i, (images, labels) in enumerate(train_loader): \n",
    "        \n",
    "        labels = labels.type(torch.long)\n",
    "\n",
    "        # Move tensors to the configured device\n",
    "        images = images.to(device)\n",
    "        labels = labels.to(device)\n",
    "        \n",
    "        images = torch.squeeze(images, 1)\n",
    "#         images= images.type(torch.cuda.FloatTensor)\n",
    "        \n",
    "        # Forward pass\n",
    "        outputs = model(images)\n",
    "        loss = criterion(outputs, labels)\n",
    "        \n",
    "        # Backward and optimize\n",
    "        optimizer.zero_grad()\n",
    "        loss.backward()\n",
    "        optimizer.step()\n",
    "        \n",
    "    if epoch%10 == 0:\n",
    "        print('Epoch [{}/{}], Loss: {:.4f}'.format(epoch+1, num_epochs, loss.item()))\n"
   ]
  },
  {
   "cell_type": "code",
   "execution_count": 427,
   "id": "953e1204",
   "metadata": {},
   "outputs": [
    {
     "name": "stdout",
     "output_type": "stream",
     "text": [
      "Accuracy of the network on the 9900 train images: 97.96969696969697 %\n"
     ]
    }
   ],
   "source": [
    "## Check accuracy\n",
    "with torch.no_grad():\n",
    "    correct = 0\n",
    "    total = 0\n",
    "    for images, labels in test_loader:\n",
    "        images = images.to(device)\n",
    "        labels = labels.to(device)\n",
    "        images = torch.squeeze(images, 1)\n",
    "        \n",
    "        outputs = model(images)\n",
    "        _, predicted = torch.max(outputs.data, 1)\n",
    "#         print(predicted)\n",
    "        total += labels.size(0)\n",
    "        correct += (predicted == labels).sum().item()\n",
    "    \n",
    "    print('Accuracy of the network on the {} train images: {} %'.format(total, 100 * correct / total))\n"
   ]
  },
  {
   "cell_type": "code",
   "execution_count": 431,
   "id": "1ecb6851",
   "metadata": {},
   "outputs": [],
   "source": [
    "def get_n_params(model):\n",
    "    pp=0\n",
    "    for p in list(model.parameters()):\n",
    "        nn=1\n",
    "        for s in list(p.size()):\n",
    "            nn = nn*s\n",
    "        pp += nn\n",
    "    return pp"
   ]
  },
  {
   "cell_type": "code",
   "execution_count": 432,
   "id": "7694d01b",
   "metadata": {},
   "outputs": [
    {
     "data": {
      "text/plain": [
       "6338"
      ]
     },
     "execution_count": 432,
     "metadata": {},
     "output_type": "execute_result"
    }
   ],
   "source": [
    "get_n_params(model)"
   ]
  },
  {
   "cell_type": "code",
   "execution_count": null,
   "id": "bc778345",
   "metadata": {},
   "outputs": [],
   "source": [
    "# Kfold cross validation\n",
    "# Define the K-fold Cross Validator\n",
    "kfold = KFold(n_splits=k_folds, shuffle=True)\n",
    "\n",
    "# Start print\n",
    "print('--------------------------------')\n",
    "\n",
    "# K-fold Cross Validation model evaluation\n",
    "for fold, (train_ids, test_ids) in enumerate(kfold.split(dataset)):\n",
    "\n",
    "# Print\n",
    "print(f'FOLD {fold}')\n",
    "print('--------------------------------')\n",
    "\n",
    "# Sample elements randomly from a given list of ids, no replacement.\n",
    "train_subsampler = torch.utils.data.SubsetRandomSampler(train_ids)\n",
    "test_subsampler = torch.utils.data.SubsetRandomSampler(test_ids)\n",
    "\n",
    "# Define data loaders for training and testing data in this fold\n",
    "trainloader = torch.utils.data.DataLoader(\n",
    "                  dataset, \n",
    "                  batch_size=10, sampler=train_subsampler)\n",
    "testloader = torch.utils.data.DataLoader(\n",
    "                  dataset,\n",
    "                  batch_size=10, sampler=test_subsampler)\n",
    "\n",
    "# Init the neural network\n",
    "network = SimpleConvNet()\n",
    "network.apply(reset_weights)\n",
    "\n",
    "# Initialize optimizer\n",
    "optimizer = torch.optim.Adam(network.parameters(), lr=1e-4)\n",
    "\n",
    "# Run the training loop for defined number of epochs\n",
    "for epoch in range(0, num_epochs):\n",
    "\n",
    "  # Print epoch\n",
    "  print(f'Starting epoch {epoch+1}')\n",
    "\n",
    "  # Set current loss value\n",
    "  current_loss = 0.0\n",
    "\n",
    "  # Iterate over the DataLoader for training data\n",
    "  for i, data in enumerate(trainloader, 0):\n",
    "\n",
    "    # Get inputs\n",
    "    inputs, targets = data\n",
    "\n",
    "    # Zero the gradients\n",
    "    optimizer.zero_grad()\n",
    "\n",
    "    # Perform forward pass\n",
    "    outputs = network(inputs)\n",
    "\n",
    "    # Compute loss\n",
    "    loss = loss_function(outputs, targets)\n",
    "\n",
    "    # Perform backward pass\n",
    "    loss.backward()\n",
    "\n",
    "    # Perform optimization\n",
    "    optimizer.step()\n",
    "\n",
    "    # Print statistics\n",
    "    current_loss += loss.item()\n",
    "    if i % 500 == 499:\n",
    "        print('Loss after mini-batch %5d: %.3f' %\n",
    "              (i + 1, current_loss / 500))\n",
    "        current_loss = 0.0\n",
    "\n",
    "# Process is complete.\n",
    "print('Training process has finished. Saving trained model.')\n",
    "\n",
    "# Print about testing\n",
    "print('Starting testing')\n",
    "\n",
    "# Saving the model\n",
    "save_path = f'./model-fold-{fold}.pth'\n",
    "torch.save(network.state_dict(), save_path)\n",
    "\n",
    "# Evaluationfor this fold\n",
    "correct, total = 0, 0\n",
    "with torch.no_grad():\n",
    "\n",
    "  # Iterate over the test data and generate predictions\n",
    "  for i, data in enumerate(testloader, 0):\n",
    "\n",
    "    # Get inputs\n",
    "    inputs, targets = data\n",
    "\n",
    "    # Generate outputs\n",
    "    outputs = network(inputs)\n",
    "\n",
    "    # Set total and correct\n",
    "    _, predicted = torch.max(outputs.data, 1)\n",
    "    total += targets.size(0)\n",
    "    correct += (predicted == targets).sum().item()\n",
    "\n",
    "  # Print accuracy\n",
    "  print('Accuracy for fold %d: %d %%' % (fold, 100.0 * correct / total))\n",
    "  print('--------------------------------')\n",
    "  results[fold] = 100.0 * (correct / total)\n",
    "\n",
    "# Print fold results\n",
    "print(f'K-FOLD CROSS VALIDATION RESULTS FOR {k_folds} FOLDS')\n",
    "print('--------------------------------')\n",
    "sum = 0.0\n",
    "for key, value in results.items():\n",
    "print(f'Fold {key}: {value} %')\n",
    "sum += value\n",
    "print(f'Average: {sum/len(results.items())} %')"
   ]
  }
 ],
 "metadata": {
  "kernelspec": {
   "display_name": "Python 3 (ipykernel)",
   "language": "python",
   "name": "python3"
  },
  "language_info": {
   "codemirror_mode": {
    "name": "ipython",
    "version": 3
   },
   "file_extension": ".py",
   "mimetype": "text/x-python",
   "name": "python",
   "nbconvert_exporter": "python",
   "pygments_lexer": "ipython3",
   "version": "3.8.2"
  }
 },
 "nbformat": 4,
 "nbformat_minor": 5
}
