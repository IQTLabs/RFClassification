{
 "cells": [
  {
   "cell_type": "code",
   "execution_count": 7,
   "id": "0c9dacf2",
   "metadata": {},
   "outputs": [],
   "source": [
    "# from read_recording import *\n",
    "from gamutrf.sample_reader import read_recording\n",
    "from gamutrf.utils import parse_filename"
   ]
  },
  {
   "cell_type": "code",
   "execution_count": 8,
   "id": "17ed758c",
   "metadata": {},
   "outputs": [],
   "source": [
    "folder_name = \"../../Data/S3/leesburg_worker1/\"\n",
    "file_name = \"gamutrf_recording_ettus_directional-split_gain70_1655313720_5735000000Hz_20971520sps.s16.zst\"\n",
    "# full_file = 'gamutrf_recording_ettus_directional-split_gain70_1655311919_5735000000Hz_20971520sps.s16.zst'\n",
    "full_file = folder_name + file_name"
   ]
  },
  {
   "cell_type": "code",
   "execution_count": 9,
   "id": "87ee6f85",
   "metadata": {},
   "outputs": [
    {
     "data": {
      "text/plain": [
       "'../../Data/S3/leesburg_worker1/gamutrf_recording_ettus_directional-split_gain70_1655313720_5735000000Hz_20971520sps.s16.zst'"
      ]
     },
     "execution_count": 9,
     "metadata": {},
     "output_type": "execute_result"
    }
   ],
   "source": [
    "full_file"
   ]
  },
  {
   "cell_type": "code",
   "execution_count": 10,
   "id": "da421366",
   "metadata": {},
   "outputs": [],
   "source": [
    "freq_center, sample_rate, sample_dtype, sample_len, sample_type, sample_bits = parse_filename(full_file)"
   ]
  },
  {
   "cell_type": "code",
   "execution_count": 11,
   "id": "2195d46c",
   "metadata": {},
   "outputs": [
    {
     "data": {
      "text/plain": [
       "5735000000"
      ]
     },
     "execution_count": 11,
     "metadata": {},
     "output_type": "execute_result"
    }
   ],
   "source": [
    "freq_center"
   ]
  },
  {
   "cell_type": "code",
   "execution_count": 12,
   "id": "6f90d19a",
   "metadata": {},
   "outputs": [
    {
     "data": {
      "text/plain": [
       "16"
      ]
     },
     "execution_count": 12,
     "metadata": {},
     "output_type": "execute_result"
    }
   ],
   "source": [
    "sample_bits"
   ]
  },
  {
   "cell_type": "code",
   "execution_count": 13,
   "id": "0bbefac1",
   "metadata": {},
   "outputs": [],
   "source": [
    "samples = read_recording(full_file, sample_rate, sample_dtype, sample_len)"
   ]
  },
  {
   "cell_type": "code",
   "execution_count": 14,
   "id": "beaf5b05",
   "metadata": {},
   "outputs": [
    {
     "data": {
      "text/plain": [
       "<generator object read_recording at 0x7efbd24fecf0>"
      ]
     },
     "execution_count": 14,
     "metadata": {},
     "output_type": "execute_result"
    }
   ],
   "source": [
    "samples"
   ]
  },
  {
   "cell_type": "code",
   "execution_count": 15,
   "id": "d610de0a",
   "metadata": {},
   "outputs": [
    {
     "name": "stdout",
     "output_type": "stream",
     "text": [
      "[  0.  +0.j   0.  +0.j   0.  +0.j ...  51.-407.j -44. +93.j 148.+343.j]\n",
      "[272. -98.j 212.+130.j  54. +20.j ... 294.+299.j 272.+292.j 464.-251.j]\n",
      "[ 330.+228.j -194.-386.j -265.-171.j ...  265.-578.j -167.-298.j\n",
      "  -58.+800.j]\n",
      "[318.+254.j 481. -49.j 521.+147.j ... 167.+124.j  23. +76.j 193.+223.j]\n",
      "[ 209.-363.j   19. +54.j -603.+250.j ...   31.-439.j  -81. -53.j\n",
      "  329.-119.j]\n",
      "[-126.+172.j  -78. +18.j  325. +53.j ...  232.+252.j  193.+195.j\n",
      "  107.+132.j]\n",
      "[  44. +24.j -144.  -9.j  397.+231.j ...  615.-150.j -268.+593.j\n",
      " -256.-257.j]\n",
      "[-471. -100.j   88. +123.j  196. -188.j ...   55.-1087.j  306. -861.j\n",
      "  774. +182.j]\n",
      "[-832.+838.j  233.+329.j  530.-896.j ...  770.-172.j  852.  +3.j\n",
      "  238.+249.j]\n",
      "[-145. -26.j -262. +59.j  935.+269.j ... -240.+119.j -701.+483.j\n",
      " -515.+325.j]\n"
     ]
    }
   ],
   "source": [
    "for sample_chunk in samples:\n",
    "    print(sample_chunk)\n",
    "    \n",
    "#     self.assertTrue(isinstance(sample_chunk, np.ndarray))\n",
    "#     self.assertEqual((1000,), sample_chunk.shape)\n",
    "#     self.assertTrue(isinstance(sample_chunk[0], np.csingle))\n",
    "#     self.assertEqual(0, sample_chunk[0])"
   ]
  },
  {
   "cell_type": "code",
   "execution_count": 16,
   "id": "d9c8f5d6",
   "metadata": {},
   "outputs": [
    {
     "data": {
      "text/plain": [
       "19844203"
      ]
     },
     "execution_count": 16,
     "metadata": {},
     "output_type": "execute_result"
    }
   ],
   "source": [
    "len(sample_chunk)"
   ]
  },
  {
   "cell_type": "code",
   "execution_count": 17,
   "id": "ebecc39d",
   "metadata": {},
   "outputs": [
    {
     "data": {
      "text/plain": [
       "(-262+59j)"
      ]
     },
     "execution_count": 17,
     "metadata": {},
     "output_type": "execute_result"
    }
   ],
   "source": [
    "sample_chunk[1]"
   ]
  },
  {
   "cell_type": "code",
   "execution_count": null,
   "id": "3a18c42b",
   "metadata": {},
   "outputs": [],
   "source": []
  },
  {
   "cell_type": "code",
   "execution_count": null,
   "id": "957e5d6a",
   "metadata": {},
   "outputs": [],
   "source": []
  }
 ],
 "metadata": {
  "kernelspec": {
   "display_name": "Python 3 (ipykernel)",
   "language": "python",
   "name": "python3"
  },
  "language_info": {
   "codemirror_mode": {
    "name": "ipython",
    "version": 3
   },
   "file_extension": ".py",
   "mimetype": "text/x-python",
   "name": "python",
   "nbconvert_exporter": "python",
   "pygments_lexer": "ipython3",
   "version": "3.8.2"
  }
 },
 "nbformat": 4,
 "nbformat_minor": 5
}
