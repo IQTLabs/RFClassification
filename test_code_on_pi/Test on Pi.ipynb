{
 "cells": [
  {
   "cell_type": "markdown",
   "id": "1a461472",
   "metadata": {},
   "source": [
    "## Notebook to running speed on Pi"
   ]
  },
  {
   "cell_type": "markdown",
   "id": "93014a3a",
   "metadata": {},
   "source": [
    "Notebook to draft code to test running on Pi\n",
    "\n",
    "0. Load model\n",
    "1. Feature generation (measure time)\n",
    "2. Make prediction (measure time)\n"
   ]
  },
  {
   "cell_type": "code",
   "execution_count": 2,
   "id": "b6a6928f",
   "metadata": {},
   "outputs": [],
   "source": [
    "import sys; sys.path.insert(0, '..') # add parent folder path where lib folder is\n",
    "\n",
    "from gamutrf_feature_functions import *\n",
    "from gamutrf.sample_reader import read_recording\n",
    "from gamutrf.utils import parse_filename\n",
    "import pickle\n",
    "import time\n",
    "import os\n"
   ]
  },
  {
   "cell_type": "markdown",
   "id": "be6ada99",
   "metadata": {},
   "source": [
    "## PSD+SVM Model"
   ]
  },
  {
   "cell_type": "code",
   "execution_count": 2,
   "id": "364a60c7",
   "metadata": {},
   "outputs": [
    {
     "name": "stderr",
     "output_type": "stream",
     "text": [
      "/home/kzhou/.pyenv/versions/3.8.2/envs/main/lib/python3.8/site-packages/scipy/signal/_spectral_py.py:1961: UserWarning: nperseg = 256 is greater than input length  = 240, using nperseg = 240\n",
      "  warnings.warn('nperseg = {0:d} is greater than input length '\n"
     ]
    },
    {
     "name": "stdout",
     "output_type": "stream",
     "text": [
      "Feature time: 9.693206787109375\n",
      "Prediction time: 2.5399672985076904\n",
      "average time for Feature Generation: 16.2ms, Prediction: 4.23ms\n"
     ]
    }
   ],
   "source": [
    "n_per_seg = 256\n",
    "t_seg = 20\n",
    "model_folder = '../saved_models/'\n",
    "model_file = 'SVM_PSD_'+str(n_per_seg)+'_'+str(t_seg)+'_1'\n",
    "win_type = 'hamming'\n",
    "\n",
    "## Load Model\n",
    "model = pickle.load(open(model_folder+model_file, 'rb'))\n",
    "\n",
    "## Generate features\n",
    "data_folder = 'sample_data/'\n",
    "\n",
    "for fi in os.listdir(data_folder):\n",
    "    full_file = data_folder+fi\n",
    "    if fi.endswith('.zst'):    # check if it is a compressed datafile\n",
    "       \n",
    "        freq_center, sample_rate, sample_dtype, sample_len, sample_type, sample_bits = parse_filename(full_file)\n",
    "        # read sample\n",
    "        samples = read_recording(full_file, sample_rate, sample_dtype, sample_len, t_seg/1e3)\n",
    "        \n",
    "        # get features\n",
    "        start_ft = time.time()\n",
    "        freqs, psds = get_PSD_from_samples(samples, sample_rate, win_type, n_per_seg)\n",
    "        \n",
    "        end_ft = time.time()\n",
    "        print('Feature time:', end_ft-start_ft)\n",
    "        \n",
    "        start_pd = time.time()\n",
    "        pout = model.predict(psds)\n",
    "        \n",
    "        end_pd = time.time()\n",
    "        print('Prediction time:', end_pd-start_pd)\n",
    "        \n",
    "        # print average time per sample\n",
    "        n_samps = pout.shape[0]\n",
    "        avg_time_feat = (end_ft-start_ft)/n_samps\n",
    "        avg_time_pred = (end_pd-start_pd)/n_samps\n",
    "        \n",
    "        print('average time for Feature Generation: {:.3}ms, Prediction: {:.3}ms'.format(avg_time_feat*1e3, avg_time_pred*1e3))"
   ]
  },
  {
   "cell_type": "markdown",
   "id": "2c1bd926",
   "metadata": {},
   "source": [
    "# NN models"
   ]
  },
  {
   "cell_type": "code",
   "execution_count": 3,
   "id": "e43c63a9",
   "metadata": {},
   "outputs": [],
   "source": [
    "import matplotlib.pyplot as plt \n",
    "from Torch_Models import *"
   ]
  },
  {
   "cell_type": "code",
   "execution_count": 4,
   "id": "bde69add",
   "metadata": {},
   "outputs": [],
   "source": [
    "# class VGGFC(nn.Module):\n",
    "#     def __init__(self, num_classes):\n",
    "#         super(VGGFC,self).__init__()\n",
    "#         self.num_classes = num_classes\n",
    "#         self.vggfull = models.vgg16(pretrained=True)\n",
    "#         modules=list(self.vggfull.children())[:-1] # remove the fully connected layer & adaptive averaging\n",
    "#         self.vggfeats=nn.Sequential(*modules)\n",
    "        \n",
    "#         for param in self.vggfeats.parameters():\n",
    "#             param.requires_grad_(False)\n",
    "        \n",
    "#         self._fc = nn.Linear(25088, num_classes)\n",
    "#     def forward(self, x):\n",
    "#         if len(x.shape)==4:\n",
    "#             x = torch.moveaxis(x,-1, 1)\n",
    "#         else:\n",
    "#             x = torch.moveaxis(x, -1, 0)\n",
    "#         x = self.vggfeats(x)\n",
    "# #         print(x.shape)\n",
    "#         x = x.reshape(-1,25088)\n",
    "#         x = self._fc(x)\n",
    "        \n",
    "#         return x"
   ]
  },
  {
   "cell_type": "code",
   "execution_count": 5,
   "id": "62cd2689",
   "metadata": {},
   "outputs": [
    {
     "name": "stderr",
     "output_type": "stream",
     "text": [
      "../gamutrf_feature_functions.py:35: UserWarning: Only one segment is calculated since parameter NFFT (=1024) >= signal length (=240).\n",
      "  spec, _, _, _ = plt.specgram(sa, NFFT=n_per_seg, Fs=fs,\n"
     ]
    },
    {
     "name": "stdout",
     "output_type": "stream",
     "text": [
      "Feature time: 23.449873685836792\n",
      "Prediction time: 25.701370239257812\n",
      "average time for Feature Generation: 39.0ms, Prediction: 42.8ms\n"
     ]
    },
    {
     "data": {
      "image/png": "[encoded data removed]",
      "text/plain": [
       "<Figure size 224x224 with 1 Axes>"
      ]
     },
     "metadata": {
      "needs_background": "light"
     },
     "output_type": "display_data"
    }
   ],
   "source": [
    "n_per_seg = 1024\n",
    "t_seg = 20\n",
    "model_folder = '../saved_models/'\n",
    "model_file = 'VGGFC_SPEC_'+str(n_per_seg)+'_'+str(t_seg)\n",
    "# win_type = 'hamming'\n",
    "\n",
    "## Load Model\n",
    "model = torch.load(model_folder+model_file)\n",
    "\n",
    "## Generate features\n",
    "data_folder = 'sample_data/'\n",
    "\n",
    "for fi in os.listdir(data_folder):\n",
    "    full_file = data_folder+fi\n",
    "    if fi.endswith('.zst'):    # check if it is a compressed datafile\n",
    "       \n",
    "        freq_center, sample_rate, sample_dtype, sample_len, sample_type, sample_bits = parse_filename(full_file)\n",
    "        # read sample\n",
    "        \n",
    "        samples = read_recording(full_file, sample_rate, sample_dtype, sample_len, t_seg/1e3)\n",
    "        \n",
    "        # get feature\n",
    "        start_ft = time.time()\n",
    "        return_array = True\n",
    "        rgbs = get_specs_from_samples(samples, sample_rate, n_per_seg, return_array)\n",
    "        \n",
    "        end_ft = time.time()\n",
    "        print('Feature time:', end_ft-start_ft)\n",
    "        \n",
    "        start_pd = time.time()\n",
    "        feat = torch.tensor(rgbs/255).float()\n",
    "        pout = model(feat)\n",
    "        \n",
    "        end_pd = time.time()\n",
    "        print('Prediction time:', end_pd-start_pd)\n",
    "        \n",
    "        # print average time per sample\n",
    "        n_samps = rgbs.shape[0]\n",
    "        avg_time_feat = (end_ft-start_ft)/n_samps\n",
    "        avg_time_pred = (end_pd-start_pd)/n_samps\n",
    "        \n",
    "        print('average time for Feature Generation: {:.3}ms, Prediction: {:.3}ms'.format(avg_time_feat*1e3, avg_time_pred*1e3))"
   ]
  },
  {
   "cell_type": "code",
   "execution_count": null,
   "id": "2a40f208",
   "metadata": {},
   "outputs": [],
   "source": []
  }
 ],
 "metadata": {
  "kernelspec": {
   "display_name": "Python 3 (ipykernel)",
   "language": "python",
   "name": "python3"
  },
  "language_info": {
   "codemirror_mode": {
    "name": "ipython",
    "version": 3
   },
   "file_extension": ".py",
   "mimetype": "text/x-python",
   "name": "python",
   "nbconvert_exporter": "python",
   "pygments_lexer": "ipython3",
   "version": "3.8.2"
  }
 },
 "nbformat": 4,
 "nbformat_minor": 5
}
