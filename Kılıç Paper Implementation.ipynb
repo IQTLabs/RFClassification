{
 "cells": [
  {
   "cell_type": "markdown",
   "id": "73073c98",
   "metadata": {},
   "source": [
    "### Goal\n",
    "This notebook tries to recreate Drone classification using RF signal based spectral features by Kılıç\n",
    "Date: June 20, 2022"
   ]
  },
  {
   "cell_type": "code",
   "execution_count": 1,
   "id": "9965aa7f",
   "metadata": {},
   "outputs": [],
   "source": [
    "import numpy as np\n",
    "import pandas as pd\n",
    "import matplotlib.pyplot as plt\n",
    "from scipy import signal\n",
    "import os\n",
    "from sklearn.model_selection import train_test_split\n",
    "\n",
    "from spafe.features.lfcc import lfcc\n",
    "import spafe.utils.vis as vis\n",
    "\n",
    "from scipy.signal import get_window\n",
    "\n",
    "import scipy.fftpack as fft"
   ]
  },
  {
   "cell_type": "code",
   "execution_count": 2,
   "id": "bc7f4bc3",
   "metadata": {},
   "outputs": [],
   "source": [
    "# Data Location\n",
    "data_folder = '/home/kzhou/Data/DroneRF/'\n",
    "\n",
    "fs = 40e6 #40 MHz\n",
    "\n",
    "file_names_h = os.listdir(data_folder+'High/')\n",
    "file_names_l = os.listdir(data_folder+'Low/')\n",
    "\n",
    "file_names_h.sort()\n",
    "file_names_l.sort()\n",
    "\n",
    "# # Test the file names are aligned\n",
    "# for i in range(len(file_names_h)):\n",
    "#     print('High:',file_names_h[i], '\\t Low:', file_names_l[i])"
   ]
  },
  {
   "cell_type": "markdown",
   "id": "042dfb0a",
   "metadata": {},
   "source": [
    "### 1. Feature Generation"
   ]
  },
  {
   "cell_type": "code",
   "execution_count": 3,
   "id": "a88188a3",
   "metadata": {},
   "outputs": [],
   "source": [
    "# 1st implmentation using libraries\n",
    "\n",
    "def get_features(rf_data, feat_name):\n",
    "    if feat_name == 'PSD':\n",
    "        f, Pxx_den = signal.welch(rf_data, fs, window='hamming', nperseg=4096)\n",
    "        return Pxx_den\n",
    "    if feat_name == 'LFCC':\n",
    "        n_coefficients = 12\n",
    "        lfccs  = lfcc(rf_data, len(rf_data_h)/0.25, n_coefficients, win_len=0.24) # need to make M=1, but winlen = 0.25 gives error\n",
    "        return lfccs[0]\n",
    "    if feat_name == 'MFCC':\n",
    "#         n_coefficients = 12\n",
    "#         mfccs = librosa.feature.mfcc(rf_data, sr=fs, n_mfcc=n_coefficients, dct_type=2)\n",
    "        freq_min = 0\n",
    "        freq_high = fs / 2\n",
    "        mel_filter_num = 10\n",
    "\n",
    "        return mfccs"
   ]
  },
  {
   "cell_type": "markdown",
   "id": "f21ac5a7",
   "metadata": {},
   "source": [
    "#### Ceptral Coefficients Libraries\n",
    "\n",
    "LFCC: https://spafe.readthedocs.io/en/latest/features/lfcc.html <br />\n",
    "MFCC: https://librosa.org/doc/latest/generated/librosa.feature.mfcc.html?highlight=mfcc"
   ]
  },
  {
   "cell_type": "code",
   "execution_count": 4,
   "id": "783cced9",
   "metadata": {},
   "outputs": [],
   "source": [
    "# Helper functions for self implementation\n",
    "\n",
    "def frame_audio(audio, FFT_size=2048, hop_size=10, sample_rate=44100):\n",
    "    # hop_size in ms\n",
    "    audio = np.pad(audio, int(FFT_size / 2), mode='reflect') # padding an extra frame at the beginning & end\n",
    "    frame_len = np.round(sample_rate * hop_size / 1000).astype(int)\n",
    "    frame_num = int((len(audio) - FFT_size) / frame_len) + 1\n",
    "    frames = np.zeros((frame_num,FFT_size))\n",
    "    \n",
    "    for n in range(frame_num):\n",
    "        frames[n] = audio[n*frame_len:n*frame_len+FFT_size]\n",
    "    \n",
    "    return frames\n",
    "\n",
    "def freq_to_mel(freq):\n",
    "    return 2595.0 * np.log10(1.0 + freq / 700.0)\n",
    "\n",
    "def met_to_freq(mels):\n",
    "    return 700.0 * (10.0**(mels / 2595.0) - 1.0)\n",
    "\n",
    "def get_filter_points(fmin, fmax, mel_filter_num, FFT_size, sample_rate):\n",
    "    fmin_mel = freq_to_mel(fmin)\n",
    "    fmax_mel = freq_to_mel(fmax)\n",
    "    \n",
    "#     print(\"MEL min: {0}\".format(fmin_mel))\n",
    "#     print(\"MEL max: {0}\".format(fmax_mel))\n",
    "    \n",
    "    mels = np.linspace(fmin_mel, fmax_mel, num=mel_filter_num+2)\n",
    "    freqs = met_to_freq(mels)\n",
    "    \n",
    "    return np.floor((FFT_size + 1) / sample_rate * freqs).astype(int), freqs\n",
    "\n",
    "def get_filters(filter_points, FFT_size):\n",
    "    filters = np.zeros((len(filter_points)-2,int(FFT_size/2+1)))\n",
    "    \n",
    "    for n in range(len(filter_points)-2):\n",
    "        filters[n, filter_points[n]-filter_points[0]: filter_points[n + 1]-filter_points[0]] = np.linspace(0, 1, filter_points[n + 1] - filter_points[n])\n",
    "        filters[n, filter_points[n + 1]-filter_points[0]: filter_points[n + 2]-filter_points[0]] = np.linspace(1, 0, filter_points[n + 2] - filter_points[n + 1])\n",
    "    \n",
    "    return filters\n",
    "\n",
    "def dct(dct_filter_num, filter_len):\n",
    "    basis = np.empty((dct_filter_num,filter_len))\n",
    "    basis[0, :] = 1.0 / np.sqrt(filter_len)\n",
    "    \n",
    "    samples = np.arange(1, 2 * filter_len, 2) * np.pi / (2.0 * filter_len)\n",
    "\n",
    "    for i in range(1, dct_filter_num):\n",
    "        basis[i, :] = np.cos(i * samples) * np.sqrt(2.0 / filter_len)\n",
    "        \n",
    "    return basis"
   ]
  },
  {
   "cell_type": "code",
   "execution_count": 5,
   "id": "f70ae3b7",
   "metadata": {},
   "outputs": [],
   "source": [
    "# self implementation based on tutorial\n",
    "def get_features_2(rf_data, feat_name, hl):\n",
    "    FFT_size = 4096\n",
    "    fs = 40e6\n",
    "    # 1. split into frames\n",
    "    if feat_name == 'PSD':\n",
    "        rf_framed = frame_audio(rf_data, FFT_size, hop_size=220, sample_rate=fs)\n",
    "    if feat_name == 'MFCC':\n",
    "        rf_framed = frame_audio(rf_data, FFT_size, hop_size=255, sample_rate=fs) # just for one frame\n",
    "    \n",
    "    # 2. get windows\n",
    "    window = get_window(\"hamming\", FFT_size, fftbins=True)\n",
    "    rf_win = rf_framed * window\n",
    "\n",
    "    # 3. apply FFT\n",
    "    rf_winT = np.transpose(rf_win)\n",
    "    rf_fft = np.empty((int(1 + FFT_size // 2), rf_winT.shape[1]), dtype=np.complex64, order='F') #shape: (number of frames, fft/2)\n",
    "\n",
    "    for n in range(rf_fft.shape[1]): # for each of the frames\n",
    "        rf_fft[:, n] = fft.fft(rf_winT[:, n], axis=0)[:rf_fft.shape[0]] # calc fft and take the first half of freq (positive)\n",
    "\n",
    "    rf_fft = np.transpose(rf_fft)\n",
    "    \n",
    "    # Calculate PSD\n",
    "    if feat_name == 'PSD':\n",
    "#         rf_power = np.square(np.abs(rf_fft))/(FFT_size/2)\n",
    "#         ## Average across the frames\n",
    "        rf_power = np.square(np.abs(rf_fft))\n",
    "        psd = np.mean(rf_power, axis =0)\n",
    "        \n",
    "        return psd\n",
    "    \n",
    "    # MFCC & LFCC\n",
    "    if feat_name == 'MFCC':\n",
    "        if hl == 'l':\n",
    "            freq_min = 2400e6\n",
    "            freq_high = 2420e6 # half way to 2440\n",
    "            mel_filter_num = 10 # F\n",
    "        else:\n",
    "            freq_min = 2440e6\n",
    "            freq_high = 2460e6 # half way to 2480\n",
    "            mel_filter_num = 10\n",
    "        \n",
    "        # setup the filters\n",
    "        # debug to prints\n",
    "#         print(freq_min)\n",
    "#         print(freq_high)\n",
    "#         print(mel_filter_num)\n",
    "#         print(FFT_size)\n",
    "#         print(fs)\n",
    "        \n",
    "        filter_points, mel_freqs = get_filter_points(freq_min, freq_high, mel_filter_num, FFT_size, sample_rate=fs)\n",
    "#         print(filter_points)\n",
    "#         print(fs)\n",
    "#         print(freq_high)\n",
    "        filters = get_filters(filter_points, FFT_size)\n",
    "        \n",
    "        # apply the filters\n",
    "        rf_power = np.square(np.abs(rf_fft))\n",
    "        audio_filtered = np.dot(filters, np.transpose(rf_power))\n",
    "        audio_log = 10.0 * np.log10(audio_filtered)\n",
    "        \n",
    "        # apply dct\n",
    "        dct_filter_num = 12\n",
    "        dct_filters = dct(dct_filter_num, mel_filter_num)\n",
    "        cepstral_coefficents = np.dot(dct_filters, audio_log)\n",
    "        return cepstral_coefficents\n",
    "    \n",
    "    "
   ]
  },
  {
   "cell_type": "code",
   "execution_count": 6,
   "id": "e3b5eb12",
   "metadata": {},
   "outputs": [],
   "source": [
    "Xlow = [] # Low freq features\n",
    "Xhigh = [] \n",
    "\n",
    "ys = [] # labels - 2 class\n",
    "y4s = [] # labels - 4 class\n",
    "y10s = [] # labels - 10 classes\n",
    "\n",
    "\n",
    "for i in range(len(file_names_h)):\n",
    "\n",
    "    # load RF data\n",
    "    rf_data_h = pd.read_csv(data_folder+'High/'+file_names_h[i], header=None).values\n",
    "    rf_data_h = rf_data_h.flatten()\n",
    "    \n",
    "    rf_data_l = pd.read_csv(data_folder+'Low/'+file_names_l[i], header=None).values\n",
    "    rf_data_l = rf_data_l.flatten()\n",
    "    \n",
    "    # add features\n",
    "#     Xhigh.append(get_features(rf_data_h, 'PSD'))\n",
    "#     Xlow.append(get_features(rf_data_l, 'PSD'))\n",
    "    Xhigh.append(get_features_2(rf_data_h, 'MFCC', 'h'))\n",
    "    Xlow.append(get_features_2(rf_data_l, 'MFCC', 'l'))\n",
    "    \n",
    "    ## Labels\n",
    "    ys.append(int(file_names_h[i][0])) # 2 class\n",
    "    y4s.append(int(file_names_h[i][:3])) # 4 class\n",
    "    y10s.append(int(file_names_h[i][:5])) # 10 class\n",
    "    \n",
    "    if int(file_names_h[i][:5])!= int(file_names_l[i][:5]):\n",
    "        raise Exception(\"File labels do not match\")\n",
    "    "
   ]
  },
  {
   "cell_type": "code",
   "execution_count": 7,
   "id": "172291e4",
   "metadata": {},
   "outputs": [],
   "source": [
    "# change lists to arrays and make it stackable\n",
    "Xh_arr = np.array(Xhigh)\n",
    "Xh_arr.shape\n",
    "Xh_arr = Xh_arr.reshape(227,Xh_arr.shape[1])\n",
    "\n",
    "Xl_arr = np.array(Xlow)\n",
    "Xl_arr.shape\n",
    "Xl_arr = Xl_arr.reshape(227,Xl_arr.shape[1])\n",
    "\n",
    "y_arr = np.array(ys)\n",
    "\n",
    "# combine Low and High mats\n",
    "Xhl_arr = np.concatenate([Xl_arr,Xh_arr], axis=1)\n"
   ]
  },
  {
   "cell_type": "code",
   "execution_count": 8,
   "id": "50c46d81",
   "metadata": {},
   "outputs": [
    {
     "data": {
      "text/plain": [
       "(227, 12)"
      ]
     },
     "execution_count": 8,
     "metadata": {},
     "output_type": "execute_result"
    }
   ],
   "source": [
    "# check data dimension\n",
    "Xh_arr.shape"
   ]
  },
  {
   "cell_type": "markdown",
   "id": "cd9fec65",
   "metadata": {},
   "source": [
    "### 2. K-fold SVM classifier"
   ]
  },
  {
   "cell_type": "code",
   "execution_count": 9,
   "id": "b0d40391",
   "metadata": {},
   "outputs": [],
   "source": [
    "from sklearn.model_selection import KFold\n",
    "from sklearn import svm\n",
    "from sklearn.model_selection import GridSearchCV\n",
    "from sklearn.metrics import accuracy_score\n",
    "\n",
    "# split data into K-fold\n",
    "k_fold = 10\n",
    "cv = KFold(n_splits=k_fold, random_state=1, shuffle=True)\n",
    "\n",
    "# model parameters\n",
    "Cs=list(map(lambda x:pow(2,x),range(-15,16,1)))\n",
    "gammas=list(map(lambda x:pow(2,x),range(-15,16,1)))\n",
    "\n",
    "# which freq range\n",
    "Xs_arr = Xl_arr # Xl_arr, Xhl_arrb\n",
    "ys_arr = y_arr"
   ]
  },
  {
   "cell_type": "code",
   "execution_count": 10,
   "id": "6cadf7a9",
   "metadata": {},
   "outputs": [
    {
     "name": "stdout",
     "output_type": "stream",
     "text": [
      "{'C': 0.5, 'gamma': 0.125}\n",
      "0.8260869565217391\n",
      "{'C': 1, 'gamma': 0.25}\n",
      "0.7391304347826086\n",
      "{'C': 16384, 'gamma': 0.0009765625}\n",
      "0.7391304347826086\n",
      "{'C': 4096, 'gamma': 0.00048828125}\n",
      "1.0\n",
      "{'C': 0.5, 'gamma': 0.0625}\n",
      "0.8695652173913043\n",
      "{'C': 256, 'gamma': 0.001953125}\n",
      "0.8695652173913043\n",
      "{'C': 256, 'gamma': 0.001953125}\n",
      "0.782608695652174\n",
      "{'C': 16384, 'gamma': 0.000244140625}\n",
      "0.8181818181818182\n",
      "{'C': 4, 'gamma': 0.015625}\n",
      "0.7272727272727273\n",
      "{'C': 2, 'gamma': 0.015625}\n",
      "0.8181818181818182\n"
     ]
    }
   ],
   "source": [
    "best_params_ls = []\n",
    "score_ls = []\n",
    "for train_ix, test_ix in cv.split(Xs_arr):\n",
    "    \n",
    "    # find the optimal hypber parameters\n",
    "    parameters = {'C':Cs, 'gamma':gammas}\n",
    "    svc = svm.SVC(kernel='rbf')\n",
    "    clf = GridSearchCV(svc, parameters, n_jobs=1)\n",
    "    clf.fit(Xs_arr[train_ix], y_arr[train_ix])\n",
    "    \n",
    "    print(clf.best_params_)\n",
    "    best_params_ls.append(clf.best_params_)\n",
    "    \n",
    "    # predict on the test data\n",
    "    y_pred = clf.predict(Xs_arr[test_ix])\n",
    "    acc = accuracy_score(y_arr[test_ix], y_pred)\n",
    "    print(acc)\n",
    "    score_ls.append(acc)\n",
    "    \n",
    "    "
   ]
  },
  {
   "cell_type": "markdown",
   "id": "84255936",
   "metadata": {},
   "source": [
    "## Results\n",
    "Using PSD: High = 0.973517786561265, Low = 0.7800395256916997, HighLow = 0.9956521739130434\n",
    "\n",
    "Using LFCC: High = 0.86, HighLow = 0.84, Low 0.81"
   ]
  },
  {
   "cell_type": "code",
   "execution_count": 11,
   "id": "a845bf4c",
   "metadata": {},
   "outputs": [
    {
     "data": {
      "text/plain": [
       "0.8189723320158102"
      ]
     },
     "execution_count": 11,
     "metadata": {},
     "output_type": "execute_result"
    }
   ],
   "source": [
    "np.mean(score_ls) # High frequency only"
   ]
  },
  {
   "cell_type": "code",
   "execution_count": 62,
   "id": "cc7a975c",
   "metadata": {},
   "outputs": [
    {
     "data": {
      "text/plain": [
       "0.8413043478260869"
      ]
     },
     "execution_count": 62,
     "metadata": {},
     "output_type": "execute_result"
    }
   ],
   "source": [
    "np.mean(score_ls) # High & Low frequency only"
   ]
  },
  {
   "cell_type": "code",
   "execution_count": 65,
   "id": "b2a80605",
   "metadata": {},
   "outputs": [
    {
     "data": {
      "text/plain": [
       "0.8189723320158102"
      ]
     },
     "execution_count": 65,
     "metadata": {},
     "output_type": "execute_result"
    }
   ],
   "source": [
    "np.mean(score_ls) # Low frequency only"
   ]
  },
  {
   "cell_type": "markdown",
   "id": "e0180a96",
   "metadata": {},
   "source": [
    "### Debugging"
   ]
  },
  {
   "cell_type": "code",
   "execution_count": 29,
   "id": "2cd088dd",
   "metadata": {},
   "outputs": [],
   "source": [
    "### visualize the signals and compare to figure 3 of paper\n",
    "# background frequency without drones\n",
    "ix_nd = np.where(y_arr==0)"
   ]
  },
  {
   "cell_type": "code",
   "execution_count": 40,
   "id": "bd8ba822",
   "metadata": {},
   "outputs": [
    {
     "data": {
      "text/plain": [
       "[<matplotlib.lines.Line2D at 0x12e8a41f0>]"
      ]
     },
     "execution_count": 40,
     "metadata": {},
     "output_type": "execute_result"
    },
    {
     "data": {
      "image/png": "[encoded data removed]",
      "text/plain": [
       "<Figure size 432x288 with 1 Axes>"
      ]
     },
     "metadata": {
      "needs_background": "light"
     },
     "output_type": "display_data"
    }
   ],
   "source": [
    "avg_psd_nodrone = np.mean(Xl_arr[ix_nd], axis=0)\n",
    "plt.plot(np.log(avg_psd_nodrone)) # figure out how to calculate decibels"
   ]
  },
  {
   "cell_type": "code",
   "execution_count": 35,
   "id": "eb0aadac",
   "metadata": {},
   "outputs": [
    {
     "data": {
      "text/plain": [
       "(2049,)"
      ]
     },
     "execution_count": 35,
     "metadata": {},
     "output_type": "execute_result"
    }
   ],
   "source": [
    "avg_psd_nodrone.shape"
   ]
  },
  {
   "cell_type": "code",
   "execution_count": 146,
   "id": "019852c9",
   "metadata": {},
   "outputs": [
    {
     "data": {
      "text/plain": [
       "(454,)"
      ]
     },
     "execution_count": 146,
     "metadata": {},
     "output_type": "execute_result"
    }
   ],
   "source": [
    "y_arr.shape"
   ]
  },
  {
   "cell_type": "code",
   "execution_count": null,
   "id": "7cb44be9",
   "metadata": {},
   "outputs": [],
   "source": []
  }
 ],
 "metadata": {
  "kernelspec": {
   "display_name": "Python 3 (ipykernel)",
   "language": "python",
   "name": "python3"
  },
  "language_info": {
   "codemirror_mode": {
    "name": "ipython",
    "version": 3
   },
   "file_extension": ".py",
   "mimetype": "text/x-python",
   "name": "python",
   "nbconvert_exporter": "python",
   "pygments_lexer": "ipython3",
   "version": "3.8.2"
  }
 },
 "nbformat": 4,
 "nbformat_minor": 5
}
