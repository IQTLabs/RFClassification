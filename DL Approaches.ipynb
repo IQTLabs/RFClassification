{
 "cells": [
  {
   "cell_type": "markdown",
   "id": "8d4e062b",
   "metadata": {},
   "source": [
    "## Deep Learning Approaches for RF-based detection & classification"
   ]
  },
  {
   "cell_type": "code",
   "execution_count": 1,
   "id": "7df87784",
   "metadata": {},
   "outputs": [],
   "source": [
    "import os\n",
    "import numpy as np\n",
    "import matplotlib.pyplot as plt\n",
    "import matplotlib.image as mpimg\n",
    "import random\n",
    "\n",
    "# import the torch packages\n",
    "from torch.nn import Module\n",
    "from torch.nn import Conv2d\n",
    "from torch.nn import Linear\n",
    "from torch.nn import MaxPool2d\n",
    "from torch.nn import ReLU\n",
    "from torch.nn import LogSoftmax\n",
    "from torch import flatten\n",
    "import torch.nn as nn\n",
    "import torch.nn.functional as F\n",
    "from torch.utils.data import Dataset\n",
    "\n",
    "import torchvision.models as models\n",
    "\n",
    "from sklearn import preprocessing\n",
    "from sklearn.linear_model import LogisticRegression\n",
    "from sklearn.model_selection import KFold\n",
    "from sklearn.model_selection import GridSearchCV\n",
    "from sklearn.metrics import accuracy_score\n",
    "from sklearn.metrics import f1_score\n",
    "from sklearn import svm\n",
    "from sklearn.decomposition import PCA\n",
    "from sklearn.pipeline import Pipeline\n",
    "from sklearn.preprocessing import StandardScaler\n",
    "\n",
    "# import custom functions\n",
    "from helper_functions import *\n",
    "from latency_helpers import *\n",
    "from loading_functions import *\n",
    "\n",
    "from Torch_Models import *\n",
    "\n",
    "# from torchsummary import summary"
   ]
  },
  {
   "cell_type": "markdown",
   "id": "13a4835a",
   "metadata": {},
   "source": [
    "### Load Features"
   ]
  },
  {
   "cell_type": "code",
   "execution_count": 2,
   "id": "7710a0b1",
   "metadata": {},
   "outputs": [
    {
     "name": "stdout",
     "output_type": "stream",
     "text": [
      "Directory Name:  ../Features/IMG_PSD_1024_20/\n"
     ]
    }
   ],
   "source": [
    "feat_folder = '../Features/'\n",
    "feat_name = 'PSD'\n",
    "seg_len = 20\n",
    "n_per_seg = 1024\n",
    "interferences = ['WIFI','CLEAN','BLUE','BOTH']\n",
    "output_name = 'drones'\n",
    "feat_format = 'IMG'\n",
    "\n",
    "dataset = DroneDetectTorch(feat_folder, feat_name, seg_len, n_per_seg, feat_format,\n",
    "                                output_name, interferences)\n",
    "\n",
    "# dataset = load_dronedetect_data(feat_folder, feat_name, seg_len, n_per_seg, feat_format,\n",
    "#                                 output_name, interferences)"
   ]
  },
  {
   "cell_type": "code",
   "execution_count": 3,
   "id": "7b732f88",
   "metadata": {},
   "outputs": [
    {
     "name": "stdout",
     "output_type": "stream",
     "text": [
      "dataset size 38978\n",
      "shape of each item torch.Size([224, 224, 3])\n"
     ]
    }
   ],
   "source": [
    "print('dataset size', len(dataset))\n",
    "print('shape of each item', dataset.__getitem__(12)[0].shape)"
   ]
  },
  {
   "cell_type": "code",
   "execution_count": 4,
   "id": "c4bf51c6",
   "metadata": {},
   "outputs": [
    {
     "data": {
      "image/png": "[encoded data removed]",
      "text/plain": [
       "<Figure size 432x288 with 1 Axes>"
      ]
     },
     "metadata": {
      "needs_background": "light"
     },
     "output_type": "display_data"
    }
   ],
   "source": [
    "d = dataset.__getitem__(4)[0]\n",
    "plt.imshow(d)\n",
    "plt.show()"
   ]
  },
  {
   "cell_type": "markdown",
   "id": "31ad3ec6",
   "metadata": {},
   "source": [
    "## VGG16 Features"
   ]
  },
  {
   "cell_type": "code",
   "execution_count": 24,
   "id": "3fd24d89",
   "metadata": {
    "scrolled": true
   },
   "outputs": [],
   "source": [
    "vgg16 = models.vgg16(pretrained=True)\n",
    "# summary(vgg16, (3,224,224))\n",
    "\n",
    "modules=list(vgg16.children())[:-1]\n",
    "vggmodel=nn.Sequential(*modules)\n",
    "\n",
    "for p in vggmodel.parameters():\n",
    "    p.requires_grad = False"
   ]
  },
  {
   "cell_type": "code",
   "execution_count": 25,
   "id": "81a79389",
   "metadata": {},
   "outputs": [
    {
     "name": "stdout",
     "output_type": "stream",
     "text": [
      "torch.Size([1, 3, 224, 224])\n"
     ]
    },
    {
     "data": {
      "text/plain": [
       "tensor([0., 0., 0.,  ..., 0., 0., 0.])"
      ]
     },
     "execution_count": 25,
     "metadata": {},
     "output_type": "execute_result"
    }
   ],
   "source": [
    "# test one input\n",
    "d = dataset.__getitem__(11)\n",
    "inarr = d[0]\n",
    "inarr = torch.moveaxis(inarr, 2, 0)\n",
    "inarr =inarr.unsqueeze(dim=0)\n",
    "print(inarr.shape)\n",
    "# print(inarr.shape)\n",
    "# postmove = inarr[0]\n",
    "# print(premove==postmove) # confirm it is the same channel\n",
    "\n",
    "# WHEN using single channel array format\n",
    "# inputr = inarr.repeat(1,3,1,1)\n",
    "# inputr = inputr.to(device)\n",
    "out = vggmodel(inarr)\n",
    "\n",
    "# reshape the output\n",
    "out.flatten()"
   ]
  },
  {
   "cell_type": "markdown",
   "id": "3e445e2e",
   "metadata": {},
   "source": [
    "## Resnet Features"
   ]
  },
  {
   "cell_type": "code",
   "execution_count": 26,
   "id": "47b6d844",
   "metadata": {},
   "outputs": [],
   "source": [
    "## Transfer learning from Resnet50 & Apply Logistic Regression (Swinney paper)\n",
    "\n",
    "# use pretrained resnet feature and just keep up to the last layer\n",
    "resnet50 = models.resnet50(pretrained=True)\n",
    "modules=list(resnet50.children())[:-2]\n",
    "resnet50=nn.Sequential(*modules)\n",
    "for p in resnet50.parameters():\n",
    "    p.requires_grad = False"
   ]
  },
  {
   "cell_type": "code",
   "execution_count": 27,
   "id": "440b23cd",
   "metadata": {},
   "outputs": [
    {
     "name": "stdout",
     "output_type": "stream",
     "text": [
      "torch.Size([1, 3, 224, 224])\n"
     ]
    },
    {
     "data": {
      "text/plain": [
       "torch.Size([1, 2048, 7, 7])"
      ]
     },
     "execution_count": 27,
     "metadata": {},
     "output_type": "execute_result"
    }
   ],
   "source": [
    "# test resnet\n",
    "# input = torch.randn(1,1,30,300)\n",
    "d = dataset.__getitem__(0)\n",
    "inarr = d[0]\n",
    "\n",
    "inarr = torch.moveaxis(inarr, 2, 0)\n",
    "inarr = inarr.unsqueeze(dim=0)\n",
    "print(inarr.shape)\n",
    "# resnet50(inarr).shape\n",
    "\n",
    "resnet50(inarr).shape"
   ]
  },
  {
   "cell_type": "markdown",
   "id": "8bce13e9",
   "metadata": {},
   "source": [
    "### Generate Pretrained/Transfer Learning Features"
   ]
  },
  {
   "cell_type": "code",
   "execution_count": 28,
   "id": "85a4b583",
   "metadata": {},
   "outputs": [
    {
     "name": "stderr",
     "output_type": "stream",
     "text": [
      "100%|██████████████████████████████████████████████████████████████████████████████████████████| 38978/38978 [02:18<00:00, 280.92it/s]\n"
     ]
    }
   ],
   "source": [
    "ModelDict = {'vgg':vggmodel, 'resnet': resnet50}\n",
    "\n",
    "which_model = 'vgg'\n",
    "\n",
    "device = torch.device(\"cuda:0\" if torch.cuda.is_available() else \"cpu\")\n",
    "ModelDict[which_model] = ModelDict[which_model].to(device) #set model to device\n",
    "\n",
    "Feats = []\n",
    "y_num = [] # numerical values for y\n",
    "for n in tqdm(range(len(dataset))):\n",
    "    d = dataset.__getitem__(n)\n",
    "    inarr = d[0]\n",
    "#     inputr = inarr.repeat(1,3,1,1)  # repeat to have 3 channels of the same info\n",
    "    inputr = torch.moveaxis(inarr, 2, 0) # move axis to have channels come first\n",
    "    inputr =inputr.unsqueeze(dim=0)\n",
    "    inputr = inputr.to(device)\n",
    "    out = ModelDict[which_model](inputr)\n",
    "    \n",
    "    Feats.append(out.cpu().numpy().flatten())\n",
    "    y_num.append(np.array(d[1]))\n",
    "\n",
    "Feats = np.array(Feats)\n",
    "y_num = np.array(y_num)\n",
    "\n",
    "# flatten the middle dimension\n",
    "Feats = Feats.reshape(Feats.shape[0], Feats.shape[-1])\n",
    "# invert labels back to categorical\n",
    "# vgg_y_cat = dataset.le.inverse_transform(vgg_y.astype(np.int64))\n",
    "y_cat = np.array([dataset.idx_to_class[i] for i in y_num])"
   ]
  },
  {
   "cell_type": "code",
   "execution_count": 40,
   "id": "4da21074",
   "metadata": {},
   "outputs": [],
   "source": [
    "# Save VGG features\n",
    "# vgg_save = {'feats': vgg_feats, 'y_cat':vgg_y_cat, 'y':vgg_y}\n",
    "# file_name = 'transfer_learning_feats/VggFeats_'+str(seg_len)+'_'+str(n_per_seg)+'correct_psd_img'\n",
    "# np.save(file_name, vgg_save)"
   ]
  },
  {
   "cell_type": "markdown",
   "id": "c4be6ec2",
   "metadata": {},
   "source": [
    "### Run Logistic Regression"
   ]
  },
  {
   "cell_type": "code",
   "execution_count": 29,
   "id": "9b769a4d",
   "metadata": {},
   "outputs": [
    {
     "name": "stdout",
     "output_type": "stream",
     "text": [
      "Shape of Input Features: (n sample x n feats): (38978, 25088)\n"
     ]
    }
   ],
   "source": [
    "Xs_feat = Feats # which features to use for logit reg\n",
    "y_cat = y_cat\n",
    "print('Shape of Input Features: (n sample x n feats):', Xs_feat.shape)"
   ]
  },
  {
   "cell_type": "code",
   "execution_count": 30,
   "id": "f07bbecd",
   "metadata": {},
   "outputs": [],
   "source": [
    "## KFOLD split\n",
    "\n",
    "k_fold = 5\n",
    "cv = KFold(n_splits=k_fold, random_state=1, shuffle=True)\n"
   ]
  },
  {
   "cell_type": "code",
   "execution_count": null,
   "id": "d1a6d473",
   "metadata": {},
   "outputs": [],
   "source": [
    "### The dimension of data is not reasonable (more features than examples)\n",
    "# Reduce dimension with PCA\n",
    "\n",
    "# pca = PCA()\n",
    "# # Define a Standard Scaler to normalize inputs\n",
    "# scaler = StandardScaler()\n",
    "\n",
    "# # set the tolerance to a large value to make the example faster\n",
    "# logistic = LogisticRegression(max_iter=10000)\n",
    "# pipe = Pipeline(steps=[(\"scaler\", scaler), (\"pca\", pca), (\"logistic\", logistic)])\n",
    "# print(pipe)\n",
    "# # different parameters\n",
    "# param_grid = {\n",
    "#     \"pca__n_components\": [800],\n",
    "#     \"logistic__C\": [1, 10],\n",
    "# }\n",
    "\n",
    "# best_params_ls = []\n",
    "# acc_ls = []\n",
    "# f1_ls = []\n",
    "# runt_ls = []\n",
    "\n",
    "# for train_ix, test_ix in tqdm(cv.split(Xs_feat)):\n",
    "#     clf = GridSearchCV(pipe, param_grid, n_jobs=1)\n",
    "    \n",
    "#     clf.fit(Xs_feat[train_ix], y_cat[train_ix])\n",
    "    \n",
    "#     print(clf.best_params_)\n",
    "# #     best_params_ls.append(clf.best_params_)\n",
    "    \n",
    "#     # predict on the test data\n",
    "#     y_pred, runtimes = atomic_benchmark_estimator(clf, Xs_feat[test_ix], output_type= '<U3', \n",
    "#                                                   verbose=False)\n",
    "#     runt_ls.append(np.mean(runtimes))\n",
    "    \n",
    "#     acc = accuracy_score(y_cat[test_ix], y_pred)\n",
    "#     f1 = f1_score(y_cat[test_ix], y_pred, average='weighted')\n",
    "#     print('Accuracy: {:.3},\\t F1: {:.3}'.format(acc,f1))\n",
    "#     acc_ls.append(acc)\n",
    "#     f1_ls.append(f1)"
   ]
  },
  {
   "cell_type": "code",
   "execution_count": null,
   "id": "7aab9544",
   "metadata": {},
   "outputs": [
    {
     "name": "stderr",
     "output_type": "stream",
     "text": [
      "\r",
      "0it [00:00, ?it/s]"
     ]
    }
   ],
   "source": [
    "# test pca\n",
    "sc_ls = []\n",
    "f1_ls = []\n",
    "tm_ls = []\n",
    "for train_ix, test_ix in tqdm(cv.split(Xs_feat)):\n",
    "    scaler = StandardScaler()\n",
    "    Xtrainscale = scaler.fit_transform(Xs_feat[train_ix])\n",
    "    \n",
    "    pca = PCA(n_components=10000)\n",
    "    pca.fit(Xs_feat[train_ix])\n",
    "    Xtrainpca = pca.transform(Xtrainscale)\n",
    "    \n",
    "    lr = LogisticRegression(max_iter=10000)\n",
    "    \n",
    "    lr.fit(Xtrainpca, y_cat[train_ix])\n",
    "    \n",
    "    # test\n",
    "    start = time.time()\n",
    "    Xtestscale = scaler.transform(Xs_feat[test_ix])\n",
    "    Xtestpca = pca.transform(Xtestscale)\n",
    "    y_pred = lr.predict(Xtestpca)\n",
    "    end = time.time()\n",
    "    \n",
    "    t_ave = (end-start)/Xtestpca.shape[0] # batch measure time\n",
    "    tm_ls.append(t_ave)\n",
    "    \n",
    "    sc = accuracy_score(y_cat[test_ix], y_pred)\n",
    "    sc_ls.append(sc)\n",
    "    f1 = f1_score(y_cat[test_ix], y_pred, average='weighted')\n",
    "    f1_ls.append(f1)\n",
    "\n",
    "out_msg = 'Net+LR: average test acc: {:.2}, F1: {:.2}, Run-time: {:.2}ms'.format(np.mean(sc_ls), np.mean(f1_ls), np.mean(tm_ls)*1e3)\n",
    "print(out_msg)  \n"
   ]
  },
  {
   "cell_type": "code",
   "execution_count": 59,
   "id": "1426b89f",
   "metadata": {},
   "outputs": [
    {
     "data": {
      "text/plain": [
       "0.8396419565588844"
      ]
     },
     "execution_count": 59,
     "metadata": {},
     "output_type": "execute_result"
    }
   ],
   "source": [
    "f1_score(y_cat[test_ix], y_pred, average='weighted')"
   ]
  },
  {
   "cell_type": "code",
   "execution_count": 55,
   "id": "4cd16978",
   "metadata": {},
   "outputs": [
    {
     "data": {
      "text/plain": [
       "[0.0005148707321816803,\n",
       " 0.0005234912641847237,\n",
       " 0.0005121750670130158,\n",
       " 0.0005138173020750074,\n",
       " 0.0005133497936745498]"
      ]
     },
     "execution_count": 55,
     "metadata": {},
     "output_type": "execute_result"
    }
   ],
   "source": [
    "tm_ls"
   ]
  },
  {
   "cell_type": "code",
   "execution_count": null,
   "id": "d3eea904",
   "metadata": {
    "scrolled": true
   },
   "outputs": [],
   "source": [
    "# Directly apply LR - too many features too long\n",
    "\n",
    "# model parameters\n",
    "# Cs=list(map(lambda x:pow(10,x),range(-2,2,1)))\n",
    "# print('Cs:', Cs)\n",
    "\n",
    "# best_params_ls = []\n",
    "# acc_ls = []\n",
    "# f1_ls = []\n",
    "# runt_ls = []\n",
    "\n",
    "# parameters = {'C':Cs}\n",
    "\n",
    "# for train_ix, test_ix in tqdm(cv.split(Xs_feat)):\n",
    "    \n",
    "#     # find the optimal hypber parameters\n",
    "#     lr = LogisticRegression(solver='saga')\n",
    "# #     clf = GridSearchCV(lr, parameters, n_jobs=1) # gridsearch cv\n",
    "#     clf = LogisticRegression(C =1.0, max_iter=5000, class_weight = 'balanced',n_jobs=1) # fixed parameter\n",
    "    \n",
    "#     scaler = preprocessing.StandardScaler().fit(Xs_feat[train_ix])\n",
    "#     X_train_scale = scaler.transform(Xs_feat[train_ix])\n",
    "    \n",
    "#     clf.fit(X_train_scale, y_cat[train_ix])\n",
    "    \n",
    "# #     print(clf.best_params_)\n",
    "# #     best_params_ls.append(clf.best_params_)\n",
    "    \n",
    "#     # predict on the test data\n",
    "#     X_test_scale = scaler.transform(Xs_feat[test_ix])\n",
    "#     y_pred, runtimes = atomic_benchmark_estimator(clf, X_test_scale, output_type= '<U3', \n",
    "#                                                   verbose=False)\n",
    "#     runt_ls.append(np.mean(runtimes))\n",
    "    \n",
    "#     acc = accuracy_score(y_cat[test_ix], y_pred)\n",
    "#     f1 = f1_score(y_cat[test_ix], y_pred, average='weighted')\n",
    "#     print('Accuracy: {:.3},\\t F1: {:.3}'.format(acc,f1))\n",
    "#     acc_ls.append(acc)\n",
    "#     f1_ls.append(f1)\n",
    "    \n",
    "# out_msg = 'Net+LR: average test acc: {:.2}, F1: {:.2}, Run-time: {:.2}ms'.format(np.mean(acc_ls), np.mean(f1_ls), np.mean(runt_ls)*1e3)\n",
    "# print(out_msg)"
   ]
  },
  {
   "cell_type": "markdown",
   "id": "dbe2c7e6",
   "metadata": {},
   "source": [
    "## Run kNN"
   ]
  },
  {
   "cell_type": "code",
   "execution_count": 12,
   "id": "8ce4b401",
   "metadata": {},
   "outputs": [],
   "source": [
    "from sklearn.neighbors import KNeighborsClassifier\n",
    "# neigh = KNeighborsClassifier(n_neighbors=3)"
   ]
  },
  {
   "cell_type": "code",
   "execution_count": null,
   "id": "fbfedc04",
   "metadata": {},
   "outputs": [
    {
     "name": "stdout",
     "output_type": "stream",
     "text": [
      "list of neighbours: [100]\n"
     ]
    }
   ],
   "source": [
    "## Fixed parameter kNN\n",
    "k_fold = 5\n",
    "cv = KFold(n_splits=k_fold, random_state=10, shuffle=True)\n",
    "\n",
    "# Ns=list(range(2,100,20))\n",
    "# Ns = [100]\n",
    "parameters = {'n_neighbors':Ns}\n",
    "print('list of neighbours:', Ns)\n",
    "\n",
    "Xs_arr = Vgg_Feats\n",
    "y_arr = Vgg_y_cat\n",
    "\n",
    "best_params_ls = []\n",
    "score_ls = []\n",
    "f1_ls = []\n",
    "\n",
    "for train_ix, test_ix in cv.split(Xs_arr):\n",
    "    # scale data\n",
    "    scaler = preprocessing.StandardScaler().fit(Xs_arr[train_ix])\n",
    "    X_train_scale = scaler.transform(Xs_arr[train_ix])\n",
    "    \n",
    "    # find the optimal hypber parameters\n",
    "    clf = KNeighborsClassifier(n_neighbors=5)\n",
    "#     clf = GridSearchCV(neigh, parameters, n_jobs=1)\n",
    "    clf.fit(X_train_scale, y_arr[train_ix])\n",
    "#     print(clf.best_parameters)\n",
    "    \n",
    "    # predict on the test data\n",
    "    X_test_scale = scaler.transform(Xs_arr[test_ix])\n",
    "#     y_pred = clf.predict(X_test_scale)\n",
    "    y_pred, runtimes = atomic_benchmark_estimator(clf, X_test_scale, output_type= '<U3', \n",
    "                                                  verbose=False)\n",
    "    acc = accuracy_score(y_arr[test_ix], y_pred)\n",
    "    f1 = f1_score(y_arr[test_ix], y_pred, average='weighted')\n",
    "    f1_ls.append(f1)\n",
    "    print('Accuracy: {:.3},\\t F1: {:.3}'.format(acc,f1))\n",
    "    score_ls.append(acc)\n",
    "    \n",
    "print('VGG feats+kNN K-fold average test score:', np.mean(score_ls))\n",
    "print('VGG feats+kNN K-fold average test F1:', np.mean(f1_ls))"
   ]
  },
  {
   "cell_type": "markdown",
   "id": "80076188",
   "metadata": {},
   "source": [
    "## Fully Connected Layer"
   ]
  },
  {
   "cell_type": "code",
   "execution_count": 100,
   "id": "8392adac",
   "metadata": {},
   "outputs": [],
   "source": [
    "# Model in Torch_Models\n",
    "# class VGGFC(nn.Module):\n",
    "#     def __init__(self, num_classes):\n",
    "#         super(VGGFC,self).__init__()\n",
    "#         self.num_classes = num_classes\n",
    "#         self.vggfull = models.vgg16(pretrained=True)\n",
    "#         modules=list(self.vggfull.children())[:-1] # remove the fully connected layer & adaptive averaging\n",
    "#         self.vggfeats=nn.Sequential(*modules)\n",
    "        \n",
    "#         for param in self.vggfeats.parameters():\n",
    "#             param.requires_grad_(False)\n",
    "        \n",
    "#         self._fc = nn.Linear(25088, num_classes)\n",
    "#     def forward(self, x):\n",
    "#         if len(x.shape)==4:\n",
    "#             x = torch.moveaxis(x,-1, 1)\n",
    "#         else:\n",
    "#             x = torch.moveaxis(x, -1, 0)\n",
    "#         x = self.vggfeats(x)\n",
    "# #         print(x.shape)\n",
    "#         x = x.reshape(-1,25088)\n",
    "#         x = self._fc(x)\n",
    "        \n",
    "#         return x"
   ]
  },
  {
   "cell_type": "code",
   "execution_count": 5,
   "id": "1762c320",
   "metadata": {},
   "outputs": [],
   "source": [
    "# class ResNetFC(nn.Module):\n",
    "#     def __init__(self, num_classes):\n",
    "#         super(ResNetFC,self).__init__()\n",
    "#         self.num_classes = num_classes\n",
    "#         self.resnetfull = models.resnet50(pretrained=True)\n",
    "#         modules=list(self.resnetfull.children())[:-2] # remove the fully connected layer & adaptive averaging\n",
    "#         self.resnetfeats=nn.Sequential(*modules)\n",
    "        \n",
    "#         for param in self.resnetfeats.parameters():\n",
    "#             param.requires_grad_(False)\n",
    "        \n",
    "#         self._fc = nn.Linear(100352, num_classes)\n",
    "#     def forward(self, x):\n",
    "#         if len(x.shape)==4:\n",
    "#             x = torch.moveaxis(x,-1, 1)\n",
    "#         else:\n",
    "#             x = torch.moveaxis(x, -1, 0)\n",
    "#         x = self.resnetfeats(x)\n",
    "#         x = x.reshape(-1,100352)\n",
    "#         x = self._fc(x)\n",
    "        \n",
    "#         return x"
   ]
  },
  {
   "cell_type": "markdown",
   "id": "057fdafd",
   "metadata": {},
   "source": [
    "### Kfold CV"
   ]
  },
  {
   "cell_type": "code",
   "execution_count": 20,
   "id": "8c1f7ab1",
   "metadata": {},
   "outputs": [],
   "source": [
    "from nn_functions import runkfoldcv"
   ]
  },
  {
   "cell_type": "code",
   "execution_count": 24,
   "id": "f67796ee",
   "metadata": {},
   "outputs": [],
   "source": [
    "# Configuration options\n",
    "k_folds = 5\n",
    "\n",
    "batch_size = 128 # 128\n",
    "num_classes = 7\n",
    "learning_rate = 0.01\n",
    "num_epochs = 10 # 0\n",
    "momentum = 0.95\n",
    "l2reg = 1e-4\n",
    "\n",
    "Model = VGGFC(num_classes)\n",
    "device = torch.device(\"cuda:0\" if torch.cuda.is_available() else \"cpu\")"
   ]
  },
  {
   "cell_type": "code",
   "execution_count": 26,
   "id": "ece73702",
   "metadata": {
    "scrolled": false
   },
   "outputs": [
    {
     "name": "stdout",
     "output_type": "stream",
     "text": [
      "--------------------------------\n",
      "FOLD 0\n",
      "--------------------------------\n",
      "Starting epoch 1\n",
      "    Loss after mini-batch    50: 0.21611\n",
      "    Loss after mini-batch   100: 0.23081\n",
      "    Loss after mini-batch   150: 0.22870\n",
      "    Loss after mini-batch   200: 0.23318\n",
      "Starting epoch 2\n",
      "    Loss after mini-batch    50: 0.22025\n",
      "    Loss after mini-batch   100: 0.21542\n",
      "    Loss after mini-batch   150: 0.22238\n",
      "    Loss after mini-batch   200: 0.22282\n",
      "Starting epoch 3\n",
      "    Loss after mini-batch    50: 0.21271\n",
      "    Loss after mini-batch   100: 0.21916\n",
      "    Loss after mini-batch   150: 0.21282\n",
      "    Loss after mini-batch   200: 0.21872\n",
      "Starting epoch 4\n",
      "    Loss after mini-batch    50: 0.20875\n",
      "    Loss after mini-batch   100: 0.21702\n",
      "    Loss after mini-batch   150: 0.21105\n",
      "    Loss after mini-batch   200: 0.20857\n",
      "Starting epoch 5\n",
      "    Loss after mini-batch    50: 0.20477\n",
      "    Loss after mini-batch   100: 0.20615\n",
      "    Loss after mini-batch   150: 0.21356\n",
      "    Loss after mini-batch   200: 0.20486\n",
      "Starting epoch 6\n",
      "    Loss after mini-batch    50: 0.20678\n",
      "    Loss after mini-batch   100: 0.20490\n",
      "    Loss after mini-batch   150: 0.20323\n",
      "    Loss after mini-batch   200: 0.20357\n",
      "Starting epoch 7\n",
      "    Loss after mini-batch    50: 0.20139\n",
      "    Loss after mini-batch   100: 0.20259\n",
      "    Loss after mini-batch   150: 0.20221\n",
      "    Loss after mini-batch   200: 0.21059\n",
      "Starting epoch 8\n",
      "    Loss after mini-batch    50: 0.19075\n",
      "    Loss after mini-batch   100: 0.20089\n",
      "    Loss after mini-batch   150: 0.20219\n",
      "    Loss after mini-batch   200: 0.20622\n",
      "Starting epoch 9\n",
      "    Loss after mini-batch    50: 0.20032\n",
      "    Loss after mini-batch   100: 0.19470\n",
      "    Loss after mini-batch   150: 0.19704\n",
      "    Loss after mini-batch   200: 0.19810\n",
      "Starting epoch 10\n",
      "    Loss after mini-batch    50: 0.19359\n",
      "    Loss after mini-batch   100: 0.19233\n",
      "    Loss after mini-batch   150: 0.19559\n",
      "    Loss after mini-batch   200: 0.19293\n",
      "Starting testing\n",
      "----------------\n",
      "Accuracy for fold 0: 91.64 %\n",
      "F1 for fold 0: 0.92 \n",
      "Runtime for fold 0: 0.0057 s\n",
      "--------------------------------\n",
      "FOLD 1\n",
      "--------------------------------\n",
      "Starting epoch 1\n",
      "    Loss after mini-batch    50: 0.20640\n",
      "    Loss after mini-batch   100: 0.20344\n",
      "    Loss after mini-batch   150: 0.20764\n",
      "    Loss after mini-batch   200: 0.20371\n",
      "Starting epoch 2\n",
      "    Loss after mini-batch    50: 0.19874\n",
      "    Loss after mini-batch   100: 0.19279\n",
      "    Loss after mini-batch   150: 0.20458\n",
      "    Loss after mini-batch   200: 0.19378\n",
      "Starting epoch 3\n",
      "    Loss after mini-batch    50: 0.19644\n",
      "    Loss after mini-batch   100: 0.20087\n",
      "    Loss after mini-batch   150: 0.19580\n",
      "    Loss after mini-batch   200: 0.19586\n",
      "Starting epoch 4\n",
      "    Loss after mini-batch    50: 0.18543\n",
      "    Loss after mini-batch   100: 0.19630\n",
      "    Loss after mini-batch   150: 0.19607\n",
      "    Loss after mini-batch   200: 0.19530\n",
      "Starting epoch 5\n",
      "    Loss after mini-batch    50: 0.18489\n",
      "    Loss after mini-batch   100: 0.19480\n",
      "    Loss after mini-batch   150: 0.19048\n",
      "    Loss after mini-batch   200: 0.18585\n",
      "Starting epoch 6\n",
      "    Loss after mini-batch    50: 0.18172\n",
      "    Loss after mini-batch   100: 0.18546\n",
      "    Loss after mini-batch   150: 0.19167\n",
      "    Loss after mini-batch   200: 0.18302\n",
      "Starting epoch 7\n",
      "    Loss after mini-batch    50: 0.18040\n",
      "    Loss after mini-batch   100: 0.18397\n",
      "    Loss after mini-batch   150: 0.17943\n",
      "    Loss after mini-batch   200: 0.19092\n",
      "Starting epoch 8\n",
      "    Loss after mini-batch    50: 0.18657\n",
      "    Loss after mini-batch   100: 0.18231\n",
      "    Loss after mini-batch   150: 0.17525\n",
      "    Loss after mini-batch   200: 0.18513\n",
      "Starting epoch 9\n",
      "    Loss after mini-batch    50: 0.18527\n",
      "    Loss after mini-batch   100: 0.17363\n",
      "    Loss after mini-batch   150: 0.17686\n",
      "    Loss after mini-batch   200: 0.18654\n",
      "Starting epoch 10\n",
      "    Loss after mini-batch    50: 0.17766\n",
      "    Loss after mini-batch   100: 0.17687\n",
      "    Loss after mini-batch   150: 0.18324\n",
      "    Loss after mini-batch   200: 0.17613\n",
      "Starting testing\n",
      "----------------\n",
      "Accuracy for fold 1: 92.87 %\n",
      "F1 for fold 1: 0.93 \n",
      "Runtime for fold 1: 0.0057 s\n",
      "--------------------------------\n",
      "FOLD 2\n",
      "--------------------------------\n",
      "Starting epoch 1\n",
      "    Loss after mini-batch    50: 0.18953\n",
      "    Loss after mini-batch   100: 0.18278\n",
      "    Loss after mini-batch   150: 0.19074\n",
      "    Loss after mini-batch   200: 0.18323\n",
      "Starting epoch 2\n",
      "    Loss after mini-batch    50: 0.18251\n",
      "    Loss after mini-batch   100: 0.17989\n",
      "    Loss after mini-batch   150: 0.18577\n",
      "    Loss after mini-batch   200: 0.18109\n",
      "Starting epoch 3\n",
      "    Loss after mini-batch    50: 0.17309\n",
      "    Loss after mini-batch   100: 0.18050\n",
      "    Loss after mini-batch   150: 0.18379\n",
      "    Loss after mini-batch   200: 0.17434\n",
      "Starting epoch 4\n",
      "    Loss after mini-batch    50: 0.17085\n",
      "    Loss after mini-batch   100: 0.17058\n",
      "    Loss after mini-batch   150: 0.18564\n",
      "    Loss after mini-batch   200: 0.17604\n",
      "Starting epoch 5\n",
      "    Loss after mini-batch    50: 0.16926\n",
      "    Loss after mini-batch   100: 0.17229\n",
      "    Loss after mini-batch   150: 0.17867\n",
      "    Loss after mini-batch   200: 0.16974\n",
      "Starting epoch 6\n",
      "    Loss after mini-batch    50: 0.16943\n",
      "    Loss after mini-batch   100: 0.17833\n",
      "    Loss after mini-batch   150: 0.17062\n",
      "    Loss after mini-batch   200: 0.17068\n",
      "Starting epoch 7\n",
      "    Loss after mini-batch    50: 0.16834\n",
      "    Loss after mini-batch   100: 0.16996\n",
      "    Loss after mini-batch   150: 0.16754\n",
      "    Loss after mini-batch   200: 0.17007\n",
      "Starting epoch 8\n",
      "    Loss after mini-batch    50: 0.16992\n",
      "    Loss after mini-batch   100: 0.15968\n",
      "    Loss after mini-batch   150: 0.16076\n",
      "    Loss after mini-batch   200: 0.16875\n",
      "Starting epoch 9\n",
      "    Loss after mini-batch    50: 0.15917\n",
      "    Loss after mini-batch   100: 0.16284\n",
      "    Loss after mini-batch   150: 0.16923\n",
      "    Loss after mini-batch   200: 0.16468\n",
      "Starting epoch 10\n",
      "    Loss after mini-batch    50: 0.16372\n",
      "    Loss after mini-batch   100: 0.16020\n",
      "    Loss after mini-batch   150: 0.15630\n",
      "    Loss after mini-batch   200: 0.16888\n",
      "Starting testing\n",
      "----------------\n",
      "Accuracy for fold 2: 94.09 %\n",
      "F1 for fold 2: 0.94 \n",
      "Runtime for fold 2: 0.0057 s\n",
      "--------------------------------\n",
      "FOLD 3\n",
      "--------------------------------\n",
      "Starting epoch 1\n",
      "    Loss after mini-batch    50: 0.17259\n",
      "    Loss after mini-batch   100: 0.16599\n",
      "    Loss after mini-batch   150: 0.17562\n",
      "    Loss after mini-batch   200: 0.16449\n",
      "Starting epoch 2\n",
      "    Loss after mini-batch    50: 0.16340\n",
      "    Loss after mini-batch   100: 0.16551\n",
      "    Loss after mini-batch   150: 0.16449\n",
      "    Loss after mini-batch   200: 0.16293\n",
      "Starting epoch 3\n",
      "    Loss after mini-batch    50: 0.15863\n",
      "    Loss after mini-batch   100: 0.16278\n",
      "    Loss after mini-batch   150: 0.16199\n",
      "    Loss after mini-batch   200: 0.16354\n",
      "Starting epoch 4\n",
      "    Loss after mini-batch    50: 0.14981\n",
      "    Loss after mini-batch   100: 0.16087\n",
      "    Loss after mini-batch   150: 0.16499\n",
      "    Loss after mini-batch   200: 0.16111\n",
      "Starting epoch 5\n",
      "    Loss after mini-batch    50: 0.15910\n",
      "    Loss after mini-batch   100: 0.15280\n",
      "    Loss after mini-batch   150: 0.15817\n",
      "    Loss after mini-batch   200: 0.15396\n",
      "Starting epoch 6\n",
      "    Loss after mini-batch    50: 0.15089\n",
      "    Loss after mini-batch   100: 0.15658\n",
      "    Loss after mini-batch   150: 0.14915\n",
      "    Loss after mini-batch   200: 0.16400\n",
      "Starting epoch 7\n",
      "    Loss after mini-batch    50: 0.14532\n",
      "    Loss after mini-batch   100: 0.15889\n",
      "    Loss after mini-batch   150: 0.15310\n",
      "    Loss after mini-batch   200: 0.15493\n",
      "Starting epoch 8\n",
      "    Loss after mini-batch    50: 0.15123\n",
      "    Loss after mini-batch   100: 0.15333\n",
      "    Loss after mini-batch   150: 0.15368\n",
      "    Loss after mini-batch   200: 0.15296\n",
      "Starting epoch 9\n",
      "    Loss after mini-batch    50: 0.15109\n",
      "    Loss after mini-batch   100: 0.14296\n",
      "    Loss after mini-batch   150: 0.15182\n",
      "    Loss after mini-batch   200: 0.14831\n",
      "Starting epoch 10\n",
      "    Loss after mini-batch    50: 0.14473\n",
      "    Loss after mini-batch   100: 0.14675\n",
      "    Loss after mini-batch   150: 0.14471\n",
      "    Loss after mini-batch   200: 0.15003\n",
      "Starting testing\n",
      "----------------\n",
      "Accuracy for fold 3: 94.61 %\n",
      "F1 for fold 3: 0.95 \n",
      "Runtime for fold 3: 0.0057 s\n",
      "--------------------------------\n",
      "FOLD 4\n",
      "--------------------------------\n",
      "Starting epoch 1\n",
      "    Loss after mini-batch    50: 0.15476\n",
      "    Loss after mini-batch   100: 0.15585\n",
      "    Loss after mini-batch   150: 0.15589\n"
     ]
    },
    {
     "name": "stdout",
     "output_type": "stream",
     "text": [
      "    Loss after mini-batch   200: 0.15825\n",
      "Starting epoch 2\n",
      "    Loss after mini-batch    50: 0.14772\n",
      "    Loss after mini-batch   100: 0.15783\n",
      "    Loss after mini-batch   150: 0.15562\n",
      "    Loss after mini-batch   200: 0.15370\n",
      "Starting epoch 3\n",
      "    Loss after mini-batch    50: 0.15013\n",
      "    Loss after mini-batch   100: 0.15044\n",
      "    Loss after mini-batch   150: 0.14894\n",
      "    Loss after mini-batch   200: 0.15829\n",
      "Starting epoch 4\n",
      "    Loss after mini-batch    50: 0.14647\n",
      "    Loss after mini-batch   100: 0.14365\n",
      "    Loss after mini-batch   150: 0.15970\n",
      "    Loss after mini-batch   200: 0.15232\n",
      "Starting epoch 5\n",
      "    Loss after mini-batch    50: 0.15028\n",
      "    Loss after mini-batch   100: 0.14706\n",
      "    Loss after mini-batch   150: 0.14865\n",
      "    Loss after mini-batch   200: 0.14988\n",
      "Starting epoch 6\n",
      "    Loss after mini-batch    50: 0.14911\n",
      "    Loss after mini-batch   100: 0.14035\n",
      "    Loss after mini-batch   150: 0.14213\n",
      "    Loss after mini-batch   200: 0.14785\n",
      "Starting epoch 7\n",
      "    Loss after mini-batch    50: 0.14468\n",
      "    Loss after mini-batch   100: 0.14567\n",
      "    Loss after mini-batch   150: 0.14202\n",
      "    Loss after mini-batch   200: 0.14324\n",
      "Starting epoch 8\n",
      "    Loss after mini-batch    50: 0.13728\n",
      "    Loss after mini-batch   100: 0.14822\n",
      "    Loss after mini-batch   150: 0.14315\n",
      "    Loss after mini-batch   200: 0.14471\n",
      "Starting epoch 9\n",
      "    Loss after mini-batch    50: 0.12977\n",
      "    Loss after mini-batch   100: 0.14382\n",
      "    Loss after mini-batch   150: 0.14104\n",
      "    Loss after mini-batch   200: 0.14321\n",
      "Starting epoch 10\n",
      "    Loss after mini-batch    50: 0.13555\n",
      "    Loss after mini-batch   100: 0.14104\n",
      "    Loss after mini-batch   150: 0.14148\n",
      "    Loss after mini-batch   200: 0.14219\n",
      "Starting testing\n",
      "----------------\n",
      "Accuracy for fold 4: 95.66 %\n",
      "F1 for fold 4: 0.96 \n",
      "Runtime for fold 4: 0.0057 s\n",
      "--------------------------------\n",
      "K-FOLD CROSS VALIDATION RESULTS FOR 5 FOLDS\n",
      "--------------------------------\n",
      "Fold 0: 91.63673678809646 %\n",
      "Fold 1: 92.86813750641355 %\n",
      "Fold 2: 94.08671113391482 %\n",
      "Fold 3: 94.6119307248236 %\n",
      "Fold 4: 95.66388710711995 %\n",
      "Average Accuracy: 93.77348065207367 %\n",
      "Average F1: 0.9379559245843282\n",
      "Average Runtime: 0.005712414296929129 s\n"
     ]
    }
   ],
   "source": [
    "trainedModel, res_acc, res_f1, res_runtime = runkfoldcv(Model, dataset, device, k_folds, batch_size, learning_rate, num_epochs, momentum, l2reg)"
   ]
  },
  {
   "cell_type": "code",
   "execution_count": 27,
   "id": "3f3dcfd0",
   "metadata": {
    "scrolled": true
   },
   "outputs": [
    {
     "data": {
      "text/plain": [
       "VGGFC(\n",
       "  (vggfull): VGG(\n",
       "    (features): Sequential(\n",
       "      (0): Conv2d(3, 64, kernel_size=(3, 3), stride=(1, 1), padding=(1, 1))\n",
       "      (1): ReLU(inplace=True)\n",
       "      (2): Conv2d(64, 64, kernel_size=(3, 3), stride=(1, 1), padding=(1, 1))\n",
       "      (3): ReLU(inplace=True)\n",
       "      (4): MaxPool2d(kernel_size=2, stride=2, padding=0, dilation=1, ceil_mode=False)\n",
       "      (5): Conv2d(64, 128, kernel_size=(3, 3), stride=(1, 1), padding=(1, 1))\n",
       "      (6): ReLU(inplace=True)\n",
       "      (7): Conv2d(128, 128, kernel_size=(3, 3), stride=(1, 1), padding=(1, 1))\n",
       "      (8): ReLU(inplace=True)\n",
       "      (9): MaxPool2d(kernel_size=2, stride=2, padding=0, dilation=1, ceil_mode=False)\n",
       "      (10): Conv2d(128, 256, kernel_size=(3, 3), stride=(1, 1), padding=(1, 1))\n",
       "      (11): ReLU(inplace=True)\n",
       "      (12): Conv2d(256, 256, kernel_size=(3, 3), stride=(1, 1), padding=(1, 1))\n",
       "      (13): ReLU(inplace=True)\n",
       "      (14): Conv2d(256, 256, kernel_size=(3, 3), stride=(1, 1), padding=(1, 1))\n",
       "      (15): ReLU(inplace=True)\n",
       "      (16): MaxPool2d(kernel_size=2, stride=2, padding=0, dilation=1, ceil_mode=False)\n",
       "      (17): Conv2d(256, 512, kernel_size=(3, 3), stride=(1, 1), padding=(1, 1))\n",
       "      (18): ReLU(inplace=True)\n",
       "      (19): Conv2d(512, 512, kernel_size=(3, 3), stride=(1, 1), padding=(1, 1))\n",
       "      (20): ReLU(inplace=True)\n",
       "      (21): Conv2d(512, 512, kernel_size=(3, 3), stride=(1, 1), padding=(1, 1))\n",
       "      (22): ReLU(inplace=True)\n",
       "      (23): MaxPool2d(kernel_size=2, stride=2, padding=0, dilation=1, ceil_mode=False)\n",
       "      (24): Conv2d(512, 512, kernel_size=(3, 3), stride=(1, 1), padding=(1, 1))\n",
       "      (25): ReLU(inplace=True)\n",
       "      (26): Conv2d(512, 512, kernel_size=(3, 3), stride=(1, 1), padding=(1, 1))\n",
       "      (27): ReLU(inplace=True)\n",
       "      (28): Conv2d(512, 512, kernel_size=(3, 3), stride=(1, 1), padding=(1, 1))\n",
       "      (29): ReLU(inplace=True)\n",
       "      (30): MaxPool2d(kernel_size=2, stride=2, padding=0, dilation=1, ceil_mode=False)\n",
       "    )\n",
       "    (avgpool): AdaptiveAvgPool2d(output_size=(7, 7))\n",
       "    (classifier): Sequential(\n",
       "      (0): Linear(in_features=25088, out_features=4096, bias=True)\n",
       "      (1): ReLU(inplace=True)\n",
       "      (2): Dropout(p=0.5, inplace=False)\n",
       "      (3): Linear(in_features=4096, out_features=4096, bias=True)\n",
       "      (4): ReLU(inplace=True)\n",
       "      (5): Dropout(p=0.5, inplace=False)\n",
       "      (6): Linear(in_features=4096, out_features=1000, bias=True)\n",
       "    )\n",
       "  )\n",
       "  (vggfeats): Sequential(\n",
       "    (0): Sequential(\n",
       "      (0): Conv2d(3, 64, kernel_size=(3, 3), stride=(1, 1), padding=(1, 1))\n",
       "      (1): ReLU(inplace=True)\n",
       "      (2): Conv2d(64, 64, kernel_size=(3, 3), stride=(1, 1), padding=(1, 1))\n",
       "      (3): ReLU(inplace=True)\n",
       "      (4): MaxPool2d(kernel_size=2, stride=2, padding=0, dilation=1, ceil_mode=False)\n",
       "      (5): Conv2d(64, 128, kernel_size=(3, 3), stride=(1, 1), padding=(1, 1))\n",
       "      (6): ReLU(inplace=True)\n",
       "      (7): Conv2d(128, 128, kernel_size=(3, 3), stride=(1, 1), padding=(1, 1))\n",
       "      (8): ReLU(inplace=True)\n",
       "      (9): MaxPool2d(kernel_size=2, stride=2, padding=0, dilation=1, ceil_mode=False)\n",
       "      (10): Conv2d(128, 256, kernel_size=(3, 3), stride=(1, 1), padding=(1, 1))\n",
       "      (11): ReLU(inplace=True)\n",
       "      (12): Conv2d(256, 256, kernel_size=(3, 3), stride=(1, 1), padding=(1, 1))\n",
       "      (13): ReLU(inplace=True)\n",
       "      (14): Conv2d(256, 256, kernel_size=(3, 3), stride=(1, 1), padding=(1, 1))\n",
       "      (15): ReLU(inplace=True)\n",
       "      (16): MaxPool2d(kernel_size=2, stride=2, padding=0, dilation=1, ceil_mode=False)\n",
       "      (17): Conv2d(256, 512, kernel_size=(3, 3), stride=(1, 1), padding=(1, 1))\n",
       "      (18): ReLU(inplace=True)\n",
       "      (19): Conv2d(512, 512, kernel_size=(3, 3), stride=(1, 1), padding=(1, 1))\n",
       "      (20): ReLU(inplace=True)\n",
       "      (21): Conv2d(512, 512, kernel_size=(3, 3), stride=(1, 1), padding=(1, 1))\n",
       "      (22): ReLU(inplace=True)\n",
       "      (23): MaxPool2d(kernel_size=2, stride=2, padding=0, dilation=1, ceil_mode=False)\n",
       "      (24): Conv2d(512, 512, kernel_size=(3, 3), stride=(1, 1), padding=(1, 1))\n",
       "      (25): ReLU(inplace=True)\n",
       "      (26): Conv2d(512, 512, kernel_size=(3, 3), stride=(1, 1), padding=(1, 1))\n",
       "      (27): ReLU(inplace=True)\n",
       "      (28): Conv2d(512, 512, kernel_size=(3, 3), stride=(1, 1), padding=(1, 1))\n",
       "      (29): ReLU(inplace=True)\n",
       "      (30): MaxPool2d(kernel_size=2, stride=2, padding=0, dilation=1, ceil_mode=False)\n",
       "    )\n",
       "    (1): AdaptiveAvgPool2d(output_size=(7, 7))\n",
       "  )\n",
       "  (_fc): Linear(in_features=25088, out_features=7, bias=True)\n",
       ")"
      ]
     },
     "execution_count": 27,
     "metadata": {},
     "output_type": "execute_result"
    }
   ],
   "source": [
    "trainedModel"
   ]
  },
  {
   "cell_type": "code",
   "execution_count": 28,
   "id": "26916480",
   "metadata": {},
   "outputs": [
    {
     "data": {
      "text/plain": [
       "(93.77348065207367, 0.9379559245843282, 0.005712414296929129)"
      ]
     },
     "execution_count": 28,
     "metadata": {},
     "output_type": "execute_result"
    }
   ],
   "source": [
    "res_acc, res_f1, res_runtime"
   ]
  },
  {
   "cell_type": "markdown",
   "id": "39cec40d",
   "metadata": {},
   "source": [
    "## Save model"
   ]
  },
  {
   "cell_type": "code",
   "execution_count": 29,
   "id": "a8ef036d",
   "metadata": {},
   "outputs": [
    {
     "name": "stdout",
     "output_type": "stream",
     "text": [
      "Model saved as: VGGFC_PSD_1024_20\n"
     ]
    }
   ],
   "source": [
    "# Save model\n",
    "model_type = 'VGGFC'\n",
    "model_name = model_type+'_'+str(feat_name)+'_'+str(n_per_seg)+'_'+str(seg_len)\n",
    "model_path = '../saved_models/'\n",
    "trainedModel = trainedModel.cpu()\n",
    "torch.save(trainedModel, model_path+model_name)\n",
    "print('Model saved as:', model_name)"
   ]
  },
  {
   "cell_type": "code",
   "execution_count": 16,
   "id": "195f509d",
   "metadata": {},
   "outputs": [],
   "source": [
    "### Test reload\n",
    "# m2 = torch.load(model_path+model_name)\n",
    "# in2 = dataset.__getitem__(0)[0]\n",
    "# out = m2(in2)\n",
    "# _,pred = torch.max(out,1)"
   ]
  },
  {
   "cell_type": "code",
   "execution_count": null,
   "id": "a62a2438",
   "metadata": {},
   "outputs": [],
   "source": []
  }
 ],
 "metadata": {
  "kernelspec": {
   "display_name": "Python 3 (ipykernel)",
   "language": "python",
   "name": "python3"
  },
  "language_info": {
   "codemirror_mode": {
    "name": "ipython",
    "version": 3
   },
   "file_extension": ".py",
   "mimetype": "text/x-python",
   "name": "python",
   "nbconvert_exporter": "python",
   "pygments_lexer": "ipython3",
   "version": "3.8.2"
  }
 },
 "nbformat": 4,
 "nbformat_minor": 5
}
