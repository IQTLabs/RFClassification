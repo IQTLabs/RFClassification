{
 "cells": [
  {
   "cell_type": "markdown",
   "id": "8d4e062b",
   "metadata": {},
   "source": [
    "## Deep Learning Approaches for RF-based detection & classification"
   ]
  },
  {
   "cell_type": "code",
   "execution_count": 1,
   "id": "7df87784",
   "metadata": {},
   "outputs": [],
   "source": [
    "import os\n",
    "import numpy as np\n",
    "\n",
    "# import the torch packages\n",
    "from torch.nn import Module\n",
    "from torch.nn import Conv2d\n",
    "from torch.nn import Linear\n",
    "from torch.nn import MaxPool2d\n",
    "from torch.nn import ReLU\n",
    "from torch.nn import LogSoftmax\n",
    "from torch import flatten\n",
    "import torch.nn as nn\n",
    "import torch.nn.functional as F"
   ]
  },
  {
   "cell_type": "markdown",
   "id": "19b2c2e7",
   "metadata": {},
   "source": [
    "### Load Features"
   ]
  },
  {
   "cell_type": "code",
   "execution_count": null,
   "id": "f71ad98c",
   "metadata": {},
   "outputs": [],
   "source": [
    "# Load Data & Features\n",
    "feat_folder = '../Features/'\n",
    "feat_file_name = 'PSD_4096_2022-06-27.npy'\n",
    "DATA = np.load(feat_folder+feat_file_name, allow_pickle=True).item()\n",
    "# PSD_1024_2022-06-27.npy\n",
    "Xs_arr = DATA['feat']\n",
    "y_arr = DATA['drones']"
   ]
  },
  {
   "cell_type": "markdown",
   "id": "34d85b6a",
   "metadata": {},
   "source": [
    "### 1. Custom NN"
   ]
  },
  {
   "cell_type": "code",
   "execution_count": null,
   "id": "6f02e381",
   "metadata": {},
   "outputs": [],
   "source": []
  },
  {
   "cell_type": "markdown",
   "id": "e7ceef8f",
   "metadata": {},
   "source": [
    "### 2. Transfer learning from Resnet50"
   ]
  },
  {
   "cell_type": "code",
   "execution_count": null,
   "id": "47b6d844",
   "metadata": {},
   "outputs": [],
   "source": []
  }
 ],
 "metadata": {
  "kernelspec": {
   "display_name": "Python 3 (ipykernel)",
   "language": "python",
   "name": "python3"
  },
  "language_info": {
   "codemirror_mode": {
    "name": "ipython",
    "version": 3
   },
   "file_extension": ".py",
   "mimetype": "text/x-python",
   "name": "python",
   "nbconvert_exporter": "python",
   "pygments_lexer": "ipython3",
   "version": "3.8.2"
  }
 },
 "nbformat": 4,
 "nbformat_minor": 5
}
