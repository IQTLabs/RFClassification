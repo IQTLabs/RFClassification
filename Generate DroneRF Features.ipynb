{
 "cells": [
  {
   "cell_type": "markdown",
   "id": "d41304d1",
   "metadata": {},
   "source": [
    "### Notebook to generate DroneRF Features"
   ]
  },
  {
   "cell_type": "code",
   "execution_count": 2,
   "id": "da586fda",
   "metadata": {},
   "outputs": [],
   "source": [
    "import os\n",
    "import numpy as np\n",
    "from numpy import sum,isrealobj,sqrt\n",
    "from numpy.random import standard_normal\n",
    "import os\n",
    "from sklearn.model_selection import train_test_split\n",
    "from spafe.features.lfcc import lfcc\n",
    "import spafe.utils.vis as vis\n",
    "from scipy.signal import get_window\n",
    "import scipy.fftpack as fft\n",
    "from scipy import signal\n",
    "import matplotlib.pyplot as plt\n",
    "from datetime import date\n",
    "from tqdm import tqdm\n",
    "\n",
    "from loading_functions import *"
   ]
  },
  {
   "cell_type": "code",
   "execution_count": 3,
   "id": "fb30a4c0",
   "metadata": {},
   "outputs": [],
   "source": [
    "def save_array(folder_path, feat, BI, DRONES, MODES, feat_name, seg_i):\n",
    "    Xs_arr = np.array(feat)\n",
    "    \n",
    "    # labels\n",
    "    y_bi_arr = np.array(BI)\n",
    "    y_drones_arr = np.array(DRONES)\n",
    "    y_modes_arr = np.array(MODES)\n",
    "\n",
    "    data_save = {'feat': Xs_arr, 'bi': y_bi_arr, 'drones': y_drones_arr, 'modes': y_modes_arr}\n",
    "#     return data_save\n",
    "\n",
    "#     #Save data\n",
    "    date_string = date.today()\n",
    "    fp = folder_path+feat_name+\"_\"+str(n_per_seg)+\"_\"+str(seg_i)\n",
    "    print(fp)\n",
    "    np.save(fp, data_save)"
   ]
  },
  {
   "cell_type": "code",
   "execution_count": 4,
   "id": "cc5db5bf",
   "metadata": {},
   "outputs": [
    {
     "name": "stdout",
     "output_type": "stream",
     "text": [
      "diff 5 file name: 00000L_13.csv\n"
     ]
    }
   ],
   "source": [
    "# Dataset Info\n",
    "main_folder = '/home/kzhou/Data/DroneRF/'\n",
    "t_seg = 50\n",
    "Xs_arr, ys_arr, y4s_arr, y10s_arr = load_dronerf_raw(main_folder, t_seg)\n",
    "fs = 40e6 #40 MHz"
   ]
  },
  {
   "cell_type": "code",
   "execution_count": 5,
   "id": "b4cde691",
   "metadata": {},
   "outputs": [],
   "source": [
    "n_per_seg = 1024 # length of each segment (powers of 2)\n",
    "win_type = 'hamming' # make ends of each segment match\n",
    "high_low = 'H' #'L' # high or low range of frequency\n",
    "\n",
    "# data saving folders\n",
    "features_folder = '/home/kzhou/main/Features_DroneRF/'\n",
    "date_string = date.today()\n",
    "# folder naming: ARR_FEAT_NFFT_SAMPLELENGTH\n",
    "arr_spec_folder = \"ARR_SPEC_\"+high_low+'_'+str(n_per_seg)+\"_\"+str(t_seg)+\"/\"\n",
    "arr_psd_folder = \"ARR_PSD_\"+high_low+'_'+str(n_per_seg)+\"_\"+str(t_seg)+\"/\"\n",
    "\n",
    "if high_low == 'H':\n",
    "    i_hl = 0\n",
    "elif high_low == 'L':\n",
    "    i_hl = 1"
   ]
  },
  {
   "cell_type": "code",
   "execution_count": 6,
   "id": "c5abd7a5",
   "metadata": {},
   "outputs": [
    {
     "name": "stdout",
     "output_type": "stream",
     "text": [
      "Features Already Exist - Do Not Generate\n"
     ]
    }
   ],
   "source": [
    "# check if this set of parameters already exists\n",
    "existing_folders = os.listdir(features_folder)\n",
    "n_t_combo = high_low+'_'+str(n_per_seg)+\"_\"+str(t_seg)\n",
    "if any([n_t_combo in s for s in existing_folders]):\n",
    "    print('Features Already Exist - Do Not Generate')\n",
    "else:\n",
    "    os.mkdir(features_folder+arr_spec_folder)\n",
    "    os.mkdir(features_folder+arr_psd_folder)"
   ]
  },
  {
   "cell_type": "code",
   "execution_count": 12,
   "id": "dd991c34",
   "metadata": {},
   "outputs": [
    {
     "name": "stderr",
     "output_type": "stream",
     "text": [
      "100%|████████████████████████████████████████████████████████████████████████████████| 113/113 [00:09<00:00, 11.87it/s]\n"
     ]
    },
    {
     "name": "stdout",
     "output_type": "stream",
     "text": [
      "/home/kzhou/main/Features_DroneRF/ARR_SPEC_H_1024_50/SPEC_1024_0\n",
      "/home/kzhou/main/Features_DroneRF/ARR_PSD_H_1024_50/PSD_1024_0\n"
     ]
    },
    {
     "name": "stderr",
     "output_type": "stream",
     "text": [
      "100%|████████████████████████████████████████████████████████████████████████████████| 113/113 [00:09<00:00, 12.01it/s]\n"
     ]
    },
    {
     "name": "stdout",
     "output_type": "stream",
     "text": [
      "/home/kzhou/main/Features_DroneRF/ARR_SPEC_H_1024_50/SPEC_1024_1\n",
      "/home/kzhou/main/Features_DroneRF/ARR_PSD_H_1024_50/PSD_1024_1\n"
     ]
    },
    {
     "name": "stderr",
     "output_type": "stream",
     "text": [
      "100%|████████████████████████████████████████████████████████████████████████████████| 113/113 [00:09<00:00, 11.85it/s]\n"
     ]
    },
    {
     "name": "stdout",
     "output_type": "stream",
     "text": [
      "/home/kzhou/main/Features_DroneRF/ARR_SPEC_H_1024_50/SPEC_1024_2\n",
      "/home/kzhou/main/Features_DroneRF/ARR_PSD_H_1024_50/PSD_1024_2\n"
     ]
    },
    {
     "name": "stderr",
     "output_type": "stream",
     "text": [
      "100%|████████████████████████████████████████████████████████████████████████████████| 113/113 [00:09<00:00, 12.00it/s]\n"
     ]
    },
    {
     "name": "stdout",
     "output_type": "stream",
     "text": [
      "/home/kzhou/main/Features_DroneRF/ARR_SPEC_H_1024_50/SPEC_1024_3\n",
      "/home/kzhou/main/Features_DroneRF/ARR_PSD_H_1024_50/PSD_1024_3\n"
     ]
    },
    {
     "name": "stderr",
     "output_type": "stream",
     "text": [
      "100%|████████████████████████████████████████████████████████████████████████████████| 113/113 [00:09<00:00, 12.16it/s]\n"
     ]
    },
    {
     "name": "stdout",
     "output_type": "stream",
     "text": [
      "/home/kzhou/main/Features_DroneRF/ARR_SPEC_H_1024_50/SPEC_1024_4\n",
      "/home/kzhou/main/Features_DroneRF/ARR_PSD_H_1024_50/PSD_1024_4\n"
     ]
    },
    {
     "name": "stderr",
     "output_type": "stream",
     "text": [
      "100%|████████████████████████████████████████████████████████████████████████████████| 113/113 [00:09<00:00, 12.18it/s]\n"
     ]
    },
    {
     "name": "stdout",
     "output_type": "stream",
     "text": [
      "/home/kzhou/main/Features_DroneRF/ARR_SPEC_H_1024_50/SPEC_1024_5\n",
      "/home/kzhou/main/Features_DroneRF/ARR_PSD_H_1024_50/PSD_1024_5\n"
     ]
    },
    {
     "name": "stderr",
     "output_type": "stream",
     "text": [
      "100%|████████████████████████████████████████████████████████████████████████████████| 113/113 [00:09<00:00, 12.30it/s]\n"
     ]
    },
    {
     "name": "stdout",
     "output_type": "stream",
     "text": [
      "/home/kzhou/main/Features_DroneRF/ARR_SPEC_H_1024_50/SPEC_1024_6\n",
      "/home/kzhou/main/Features_DroneRF/ARR_PSD_H_1024_50/PSD_1024_6\n"
     ]
    },
    {
     "name": "stderr",
     "output_type": "stream",
     "text": [
      "100%|████████████████████████████████████████████████████████████████████████████████| 113/113 [00:09<00:00, 11.99it/s]\n"
     ]
    },
    {
     "name": "stdout",
     "output_type": "stream",
     "text": [
      "/home/kzhou/main/Features_DroneRF/ARR_SPEC_H_1024_50/SPEC_1024_7\n",
      "/home/kzhou/main/Features_DroneRF/ARR_PSD_H_1024_50/PSD_1024_7\n"
     ]
    },
    {
     "name": "stderr",
     "output_type": "stream",
     "text": [
      "100%|████████████████████████████████████████████████████████████████████████████████| 113/113 [00:09<00:00, 12.20it/s]\n"
     ]
    },
    {
     "name": "stdout",
     "output_type": "stream",
     "text": [
      "/home/kzhou/main/Features_DroneRF/ARR_SPEC_H_1024_50/SPEC_1024_8\n",
      "/home/kzhou/main/Features_DroneRF/ARR_PSD_H_1024_50/PSD_1024_8\n"
     ]
    },
    {
     "name": "stderr",
     "output_type": "stream",
     "text": [
      "100%|████████████████████████████████████████████████████████████████████████████████| 113/113 [00:09<00:00, 11.97it/s]\n"
     ]
    },
    {
     "name": "stdout",
     "output_type": "stream",
     "text": [
      "/home/kzhou/main/Features_DroneRF/ARR_SPEC_H_1024_50/SPEC_1024_9\n",
      "/home/kzhou/main/Features_DroneRF/ARR_PSD_H_1024_50/PSD_1024_9\n"
     ]
    }
   ],
   "source": [
    "n_parts = 10 # process the data in 10 parts\n",
    "\n",
    "indices_ranges = np.split(np.array(range(len(Xs_arr))), n_parts) \n",
    "for i in range(n_parts):\n",
    "    BILABEL = []\n",
    "    DRONELABEL = []\n",
    "    MODELALBEL = []\n",
    "    F_PSD = []\n",
    "    F_SPEC = []\n",
    "    ir = indices_ranges[i]\n",
    "    for j in tqdm(range(len(ir))):\n",
    "        d_real = Xs_arr[ir[j]][i_hl]\n",
    "        # calculate PSD\n",
    "        fpsd, Pxx_den = signal.welch(d_real, fs, window=win_type, nperseg=n_per_seg)\n",
    "        F_PSD.append(Pxx_den)\n",
    "\n",
    "        # calculate spectrogram\n",
    "        fspec, t, Sxx = signal.spectrogram(d_real, fs, window=win_type, nperseg=n_per_seg)\n",
    "        F_SPEC.append(Sxx)\n",
    "        \n",
    "        # Labels\n",
    "        BILABEL.append(ys_arr[ir[j]])\n",
    "        DRONELABEL.append(y4s_arr[ir[j]])\n",
    "        MODELALBEL.append(y10s_arr[ir[j]])\n",
    "\n",
    "    save_array(features_folder+arr_spec_folder, F_SPEC, BILABEL, DRONELABEL, MODELALBEL, 'SPEC', i)\n",
    "    save_array(features_folder+arr_psd_folder, F_PSD, BILABEL, DRONELABEL, MODELALBEL, 'PSD', i)"
   ]
  },
  {
   "cell_type": "code",
   "execution_count": 1,
   "id": "4c14b784",
   "metadata": {},
   "outputs": [
    {
     "ename": "NameError",
     "evalue": "name 'Pxx_den' is not defined",
     "output_type": "error",
     "traceback": [
      "\u001b[0;31m---------------------------------------------------------------------------\u001b[0m",
      "\u001b[0;31mNameError\u001b[0m                                 Traceback (most recent call last)",
      "Input \u001b[0;32mIn [1]\u001b[0m, in \u001b[0;36m<cell line: 1>\u001b[0;34m()\u001b[0m\n\u001b[0;32m----> 1\u001b[0m \u001b[43mPxx_den\u001b[49m\n",
      "\u001b[0;31mNameError\u001b[0m: name 'Pxx_den' is not defined"
     ]
    }
   ],
   "source": [
    "Pxx_den"
   ]
  },
  {
   "cell_type": "code",
   "execution_count": null,
   "id": "54650363",
   "metadata": {},
   "outputs": [],
   "source": []
  }
 ],
 "metadata": {
  "kernelspec": {
   "display_name": "Python 3 (ipykernel)",
   "language": "python",
   "name": "python3"
  },
  "language_info": {
   "codemirror_mode": {
    "name": "ipython",
    "version": 3
   },
   "file_extension": ".py",
   "mimetype": "text/x-python",
   "name": "python",
   "nbconvert_exporter": "python",
   "pygments_lexer": "ipython3",
   "version": "3.8.2"
  }
 },
 "nbformat": 4,
 "nbformat_minor": 5
}
