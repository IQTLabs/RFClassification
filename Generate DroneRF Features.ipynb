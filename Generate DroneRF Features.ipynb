{
 "cells": [
  {
   "cell_type": "markdown",
   "id": "d41304d1",
   "metadata": {},
   "source": [
    "### Notebook to generate DroneRF Features"
   ]
  },
  {
   "cell_type": "code",
   "execution_count": 1,
   "id": "da586fda",
   "metadata": {},
   "outputs": [],
   "source": [
    "import os\n",
    "import numpy as np\n",
    "from numpy import sum,isrealobj,sqrt\n",
    "from numpy.random import standard_normal\n",
    "import os\n",
    "from sklearn.model_selection import train_test_split\n",
    "from spafe.features.lfcc import lfcc\n",
    "import spafe.utils.vis as vis\n",
    "from scipy.signal import get_window\n",
    "import scipy.fftpack as fft\n",
    "from scipy import signal\n",
    "import matplotlib.pyplot as plt\n",
    "from datetime import date\n",
    "from tqdm import tqdm\n",
    "\n",
    "from loading_functions import *\n",
    "from file_paths import *"
   ]
  },
  {
   "cell_type": "code",
   "execution_count": 2,
   "id": "fb30a4c0",
   "metadata": {},
   "outputs": [],
   "source": [
    "def save_array(folder_path, feat, BI, DRONES, MODES, feat_name, seg_i):\n",
    "    Xs_arr = np.array(feat)\n",
    "    \n",
    "    # labels\n",
    "    y_bi_arr = np.array(BI)\n",
    "    y_drones_arr = np.array(DRONES)\n",
    "    y_modes_arr = np.array(MODES)\n",
    "\n",
    "    data_save = {'feat': Xs_arr, 'bi': y_bi_arr, 'drones': y_drones_arr, 'modes': y_modes_arr}\n",
    "#     return data_save\n",
    "\n",
    "#     #Save data\n",
    "    date_string = date.today()\n",
    "    fp = folder_path+feat_name+\"_\"+str(n_per_seg)+\"_\"+str(seg_i)\n",
    "    print(fp)\n",
    "    np.save(fp, data_save)"
   ]
  },
  {
   "cell_type": "code",
   "execution_count": 3,
   "id": "a573bd8a",
   "metadata": {},
   "outputs": [
    {
     "name": "stdout",
     "output_type": "stream",
     "text": [
      "diff 5 file name: 00000L_13.csv\n",
      "length of X: 2712 length of y: 2712\n"
     ]
    }
   ],
   "source": [
    "# Dataset Info\n",
    "main_folder = droenrf_raw_path\n",
    "t_seg = 20\n",
    "Xs_arr, ys_arr, y4s_arr, y10s_arr = load_dronerf_raw(main_folder, t_seg)\n",
    "fs = 40e6 #40 MHz\n",
    "\n",
    "print('length of X:', len(Xs_arr), 'length of y:', len(ys_arr))"
   ]
  },
  {
   "cell_type": "code",
   "execution_count": 4,
   "id": "27a04492",
   "metadata": {},
   "outputs": [
    {
     "data": {
      "text/plain": [
       "2712"
      ]
     },
     "execution_count": 4,
     "metadata": {},
     "output_type": "execute_result"
    }
   ],
   "source": [
    "Xs_arr.shape[0]"
   ]
  },
  {
   "cell_type": "code",
   "execution_count": 5,
   "id": "b4cde691",
   "metadata": {},
   "outputs": [],
   "source": [
    "n_per_seg = 256 # length of each segment (powers of 2)\n",
    "win_type = 'hamming' # make ends of each segment match\n",
    "high_low = 'H' #'L', 'H' # high or low range of frequency\n",
    "\n",
    "# data saving folders\n",
    "features_folder = dronerf_feat_path\n",
    "date_string = date.today()\n",
    "# folder naming: ARR_FEAT_NFFT_SAMPLELENGTH\n",
    "arr_spec_folder = \"ARR_SPEC_\"+high_low+'_'+str(n_per_seg)+\"_\"+str(t_seg)+\"/\"\n",
    "arr_psd_folder = \"ARR_PSD_\"+high_low+'_'+str(n_per_seg)+\"_\"+str(t_seg)+\"/\"\n",
    "\n",
    "if high_low == 'H':\n",
    "    i_hl = 0\n",
    "elif high_low == 'L':\n",
    "    i_hl = 1"
   ]
  },
  {
   "cell_type": "code",
   "execution_count": 6,
   "id": "c5abd7a5",
   "metadata": {},
   "outputs": [],
   "source": [
    "# check if this set of parameters already exists\n",
    "existing_folders = os.listdir(features_folder)\n",
    "n_t_combo = high_low+'_'+str(n_per_seg)+\"_\"+str(t_seg)\n",
    "if any([n_t_combo in s for s in existing_folders]):\n",
    "    print('Features Already Exist - Do Not Generate')\n",
    "else:\n",
    "    os.mkdir(features_folder+arr_spec_folder)\n",
    "    os.mkdir(features_folder+arr_psd_folder)"
   ]
  },
  {
   "cell_type": "code",
   "execution_count": 7,
   "id": "dd991c34",
   "metadata": {
    "scrolled": true
   },
   "outputs": [
    {
     "ename": "ValueError",
     "evalue": "array split does not result in an equal division",
     "output_type": "error",
     "traceback": [
      "\u001b[0;31m---------------------------------------------------------------------------\u001b[0m",
      "\u001b[0;31mValueError\u001b[0m                                Traceback (most recent call last)",
      "Input \u001b[0;32mIn [7]\u001b[0m, in \u001b[0;36m<cell line: 3>\u001b[0;34m()\u001b[0m\n\u001b[1;32m      1\u001b[0m n_parts \u001b[38;5;241m=\u001b[39m \u001b[38;5;241m25\u001b[39m \u001b[38;5;66;03m# process the data in 10 parts so memory doesn't overwhelm\u001b[39;00m\n\u001b[0;32m----> 3\u001b[0m indices_ranges \u001b[38;5;241m=\u001b[39m \u001b[43mnp\u001b[49m\u001b[38;5;241;43m.\u001b[39;49m\u001b[43msplit\u001b[49m\u001b[43m(\u001b[49m\u001b[43mnp\u001b[49m\u001b[38;5;241;43m.\u001b[39;49m\u001b[43marray\u001b[49m\u001b[43m(\u001b[49m\u001b[38;5;28;43mrange\u001b[39;49m\u001b[43m(\u001b[49m\u001b[38;5;28;43mlen\u001b[39;49m\u001b[43m(\u001b[49m\u001b[43mXs_arr\u001b[49m\u001b[43m)\u001b[49m\u001b[43m)\u001b[49m\u001b[43m)\u001b[49m\u001b[43m,\u001b[49m\u001b[43m \u001b[49m\u001b[43mn_parts\u001b[49m\u001b[43m)\u001b[49m \n\u001b[1;32m      4\u001b[0m \u001b[38;5;28;01mfor\u001b[39;00m i \u001b[38;5;129;01min\u001b[39;00m \u001b[38;5;28mrange\u001b[39m(n_parts):\n\u001b[1;32m      5\u001b[0m     BILABEL \u001b[38;5;241m=\u001b[39m []\n",
      "File \u001b[0;32m<__array_function__ internals>:180\u001b[0m, in \u001b[0;36msplit\u001b[0;34m(*args, **kwargs)\u001b[0m\n",
      "File \u001b[0;32m~/.pyenv/versions/3.8.2/envs/main/lib/python3.8/site-packages/numpy/lib/shape_base.py:872\u001b[0m, in \u001b[0;36msplit\u001b[0;34m(ary, indices_or_sections, axis)\u001b[0m\n\u001b[1;32m    870\u001b[0m     N \u001b[38;5;241m=\u001b[39m ary\u001b[38;5;241m.\u001b[39mshape[axis]\n\u001b[1;32m    871\u001b[0m     \u001b[38;5;28;01mif\u001b[39;00m N \u001b[38;5;241m%\u001b[39m sections:\n\u001b[0;32m--> 872\u001b[0m         \u001b[38;5;28;01mraise\u001b[39;00m \u001b[38;5;167;01mValueError\u001b[39;00m(\n\u001b[1;32m    873\u001b[0m             \u001b[38;5;124m'\u001b[39m\u001b[38;5;124marray split does not result in an equal division\u001b[39m\u001b[38;5;124m'\u001b[39m) \u001b[38;5;28;01mfrom\u001b[39;00m \u001b[38;5;28mNone\u001b[39m\n\u001b[1;32m    874\u001b[0m \u001b[38;5;28;01mreturn\u001b[39;00m array_split(ary, indices_or_sections, axis)\n",
      "\u001b[0;31mValueError\u001b[0m: array split does not result in an equal division"
     ]
    }
   ],
   "source": [
    "n_parts = 25 # process the data in 10 parts so memory doesn't overwhelm\n",
    "\n",
    "indices_ranges = np.split(np.array(range(len(Xs_arr))), n_parts) \n",
    "for i in range(n_parts):\n",
    "    BILABEL = []\n",
    "    DRONELABEL = []\n",
    "    MODELALBEL = []\n",
    "    F_PSD = []\n",
    "    F_SPEC = []\n",
    "    ir = indices_ranges[i]\n",
    "    for j in tqdm(range(len(ir))):\n",
    "        d_real = Xs_arr[ir[j]][i_hl]\n",
    "        # calculate PSD\n",
    "        fpsd, Pxx_den = signal.welch(d_real, fs, window=win_type, nperseg=n_per_seg)\n",
    "        F_PSD.append(Pxx_den)\n",
    "\n",
    "        # calculate spectrogram\n",
    "        fspec, t, Sxx = signal.spectrogram(d_real, fs, window=win_type, nperseg=n_per_seg)\n",
    "        F_SPEC.append(Sxx)\n",
    "        \n",
    "        # Labels\n",
    "        BILABEL.append(ys_arr[ir[j]])\n",
    "        DRONELABEL.append(y4s_arr[ir[j]])\n",
    "        MODELALBEL.append(y10s_arr[ir[j]])\n",
    "\n",
    "    save_array(features_folder+arr_spec_folder, F_SPEC, BILABEL, DRONELABEL, MODELALBEL, 'SPEC', i)\n",
    "    save_array(features_folder+arr_psd_folder, F_PSD, BILABEL, DRONELABEL, MODELALBEL, 'PSD', i)"
   ]
  },
  {
   "cell_type": "code",
   "execution_count": null,
   "id": "54650363",
   "metadata": {},
   "outputs": [],
   "source": [
    "t_seg"
   ]
  },
  {
   "cell_type": "code",
   "execution_count": null,
   "id": "5b1bf4c8",
   "metadata": {},
   "outputs": [],
   "source": []
  }
 ],
 "metadata": {
  "kernelspec": {
   "display_name": "Python 3 (ipykernel)",
   "language": "python",
   "name": "python3"
  },
  "language_info": {
   "codemirror_mode": {
    "name": "ipython",
    "version": 3
   },
   "file_extension": ".py",
   "mimetype": "text/x-python",
   "name": "python",
   "nbconvert_exporter": "python",
   "pygments_lexer": "ipython3",
   "version": "3.8.2"
  }
 },
 "nbformat": 4,
 "nbformat_minor": 5
}
