{
 "cells": [
  {
   "cell_type": "markdown",
   "id": "d41304d1",
   "metadata": {},
   "source": [
    "### Notebook to generate DroneRF Features"
   ]
  },
  {
   "cell_type": "code",
   "execution_count": 1,
   "id": "da586fda",
   "metadata": {},
   "outputs": [],
   "source": [
    "import os\n",
    "import numpy as np\n",
    "from numpy import sum,isrealobj,sqrt\n",
    "from numpy.random import standard_normal\n",
    "import os\n",
    "from sklearn.model_selection import train_test_split\n",
    "from spafe.features.lfcc import lfcc\n",
    "import spafe.utils.vis as vis\n",
    "from scipy.signal import get_window\n",
    "import scipy.fftpack as fft\n",
    "from scipy import signal\n",
    "import matplotlib.pyplot as plt\n",
    "from datetime import date\n",
    "from tqdm import tqdm\n",
    "\n",
    "from loading_functions import *"
   ]
  },
  {
   "cell_type": "code",
   "execution_count": 2,
   "id": "fb30a4c0",
   "metadata": {},
   "outputs": [],
   "source": [
    "def save_array(folder_path, feat, BI, DRONES, MODES, feat_name, seg_i):\n",
    "    Xs_arr = np.array(feat)\n",
    "    \n",
    "    # labels\n",
    "    y_bi_arr = np.array(BI)\n",
    "    y_drones_arr = np.array(DRONES)\n",
    "    y_modes_arr = np.array(MODES)\n",
    "\n",
    "    data_save = {'feat': Xs_arr, 'bi': y_bi_arr, 'drones': y_drones_arr, 'modes': y_modes_arr}\n",
    "#     return data_save\n",
    "\n",
    "#     #Save data\n",
    "    date_string = date.today()\n",
    "    fp = folder_path+feat_name+\"_\"+str(n_per_seg)+\"_\"+str(seg_i)\n",
    "    print(fp)\n",
    "    np.save(fp, data_save)"
   ]
  },
  {
   "cell_type": "code",
   "execution_count": 3,
   "id": "a573bd8a",
   "metadata": {},
   "outputs": [
    {
     "name": "stdout",
     "output_type": "stream",
     "text": [
      "diff 5 file name: 00000L_13.csv\n",
      "length of X: 5650 length of y: 5650\n"
     ]
    }
   ],
   "source": [
    "# Dataset Info\n",
    "main_folder = '/home/kzhou/Data/DroneRF/'\n",
    "t_seg = 10\n",
    "Xs_arr, ys_arr, y4s_arr, y10s_arr = load_dronerf_raw(main_folder, t_seg)\n",
    "fs = 40e6 #40 MHz\n",
    "\n",
    "print('length of X:', len(Xs_arr), 'length of y:', len(ys_arr))"
   ]
  },
  {
   "cell_type": "code",
   "execution_count": 4,
   "id": "27a04492",
   "metadata": {},
   "outputs": [
    {
     "data": {
      "text/plain": [
       "5650"
      ]
     },
     "execution_count": 4,
     "metadata": {},
     "output_type": "execute_result"
    }
   ],
   "source": [
    "Xs_arr.shape[0]"
   ]
  },
  {
   "cell_type": "code",
   "execution_count": 5,
   "id": "b4cde691",
   "metadata": {},
   "outputs": [],
   "source": [
    "n_per_seg = 256 # length of each segment (powers of 2)\n",
    "win_type = 'hamming' # make ends of each segment match\n",
    "high_low = 'L' #'L', 'H' # high or low range of frequency\n",
    "\n",
    "# data saving folders\n",
    "features_folder = '/home/kzhou/main/Features_DroneRF/'\n",
    "date_string = date.today()\n",
    "# folder naming: ARR_FEAT_NFFT_SAMPLELENGTH\n",
    "arr_spec_folder = \"ARR_SPEC_\"+high_low+'_'+str(n_per_seg)+\"_\"+str(t_seg)+\"/\"\n",
    "arr_psd_folder = \"ARR_PSD_\"+high_low+'_'+str(n_per_seg)+\"_\"+str(t_seg)+\"/\"\n",
    "\n",
    "if high_low == 'H':\n",
    "    i_hl = 0\n",
    "elif high_low == 'L':\n",
    "    i_hl = 1"
   ]
  },
  {
   "cell_type": "code",
   "execution_count": 6,
   "id": "c5abd7a5",
   "metadata": {},
   "outputs": [],
   "source": [
    "# check if this set of parameters already exists\n",
    "existing_folders = os.listdir(features_folder)\n",
    "n_t_combo = high_low+'_'+str(n_per_seg)+\"_\"+str(t_seg)\n",
    "if any([n_t_combo in s for s in existing_folders]):\n",
    "    print('Features Already Exist - Do Not Generate')\n",
    "else:\n",
    "    os.mkdir(features_folder+arr_spec_folder)\n",
    "    os.mkdir(features_folder+arr_psd_folder)"
   ]
  },
  {
   "cell_type": "code",
   "execution_count": 8,
   "id": "dd991c34",
   "metadata": {
    "scrolled": true
   },
   "outputs": [
    {
     "name": "stderr",
     "output_type": "stream",
     "text": [
      "100%|███████████████████████████████████████████████████████████████████████████████████████████████| 226/226 [00:05<00:00, 41.54it/s]\n"
     ]
    },
    {
     "name": "stdout",
     "output_type": "stream",
     "text": [
      "/home/kzhou/main/Features_DroneRF/ARR_SPEC_L_256_10/SPEC_256_0\n",
      "/home/kzhou/main/Features_DroneRF/ARR_PSD_L_256_10/PSD_256_0\n"
     ]
    },
    {
     "name": "stderr",
     "output_type": "stream",
     "text": [
      "100%|███████████████████████████████████████████████████████████████████████████████████████████████| 226/226 [00:06<00:00, 37.47it/s]\n"
     ]
    },
    {
     "name": "stdout",
     "output_type": "stream",
     "text": [
      "/home/kzhou/main/Features_DroneRF/ARR_SPEC_L_256_10/SPEC_256_1\n",
      "/home/kzhou/main/Features_DroneRF/ARR_PSD_L_256_10/PSD_256_1\n"
     ]
    },
    {
     "name": "stderr",
     "output_type": "stream",
     "text": [
      "100%|███████████████████████████████████████████████████████████████████████████████████████████████| 226/226 [00:06<00:00, 34.61it/s]\n"
     ]
    },
    {
     "name": "stdout",
     "output_type": "stream",
     "text": [
      "/home/kzhou/main/Features_DroneRF/ARR_SPEC_L_256_10/SPEC_256_2\n",
      "/home/kzhou/main/Features_DroneRF/ARR_PSD_L_256_10/PSD_256_2\n"
     ]
    },
    {
     "name": "stderr",
     "output_type": "stream",
     "text": [
      "100%|███████████████████████████████████████████████████████████████████████████████████████████████| 226/226 [00:04<00:00, 47.10it/s]\n"
     ]
    },
    {
     "name": "stdout",
     "output_type": "stream",
     "text": [
      "/home/kzhou/main/Features_DroneRF/ARR_SPEC_L_256_10/SPEC_256_3\n",
      "/home/kzhou/main/Features_DroneRF/ARR_PSD_L_256_10/PSD_256_3\n"
     ]
    },
    {
     "name": "stderr",
     "output_type": "stream",
     "text": [
      "100%|███████████████████████████████████████████████████████████████████████████████████████████████| 226/226 [00:05<00:00, 39.82it/s]\n"
     ]
    },
    {
     "name": "stdout",
     "output_type": "stream",
     "text": [
      "/home/kzhou/main/Features_DroneRF/ARR_SPEC_L_256_10/SPEC_256_4\n",
      "/home/kzhou/main/Features_DroneRF/ARR_PSD_L_256_10/PSD_256_4\n"
     ]
    },
    {
     "name": "stderr",
     "output_type": "stream",
     "text": [
      "100%|███████████████████████████████████████████████████████████████████████████████████████████████| 226/226 [00:03<00:00, 64.38it/s]\n"
     ]
    },
    {
     "name": "stdout",
     "output_type": "stream",
     "text": [
      "/home/kzhou/main/Features_DroneRF/ARR_SPEC_L_256_10/SPEC_256_5\n",
      "/home/kzhou/main/Features_DroneRF/ARR_PSD_L_256_10/PSD_256_5\n"
     ]
    },
    {
     "name": "stderr",
     "output_type": "stream",
     "text": [
      "100%|███████████████████████████████████████████████████████████████████████████████████████████████| 226/226 [00:03<00:00, 69.44it/s]\n"
     ]
    },
    {
     "name": "stdout",
     "output_type": "stream",
     "text": [
      "/home/kzhou/main/Features_DroneRF/ARR_SPEC_L_256_10/SPEC_256_6\n",
      "/home/kzhou/main/Features_DroneRF/ARR_PSD_L_256_10/PSD_256_6\n"
     ]
    },
    {
     "name": "stderr",
     "output_type": "stream",
     "text": [
      "100%|███████████████████████████████████████████████████████████████████████████████████████████████| 226/226 [00:03<00:00, 65.63it/s]\n"
     ]
    },
    {
     "name": "stdout",
     "output_type": "stream",
     "text": [
      "/home/kzhou/main/Features_DroneRF/ARR_SPEC_L_256_10/SPEC_256_7\n",
      "/home/kzhou/main/Features_DroneRF/ARR_PSD_L_256_10/PSD_256_7\n"
     ]
    },
    {
     "name": "stderr",
     "output_type": "stream",
     "text": [
      "100%|███████████████████████████████████████████████████████████████████████████████████████████████| 226/226 [00:03<00:00, 70.28it/s]\n"
     ]
    },
    {
     "name": "stdout",
     "output_type": "stream",
     "text": [
      "/home/kzhou/main/Features_DroneRF/ARR_SPEC_L_256_10/SPEC_256_8\n",
      "/home/kzhou/main/Features_DroneRF/ARR_PSD_L_256_10/PSD_256_8\n"
     ]
    },
    {
     "name": "stderr",
     "output_type": "stream",
     "text": [
      "100%|███████████████████████████████████████████████████████████████████████████████████████████████| 226/226 [00:07<00:00, 31.91it/s]\n"
     ]
    },
    {
     "name": "stdout",
     "output_type": "stream",
     "text": [
      "/home/kzhou/main/Features_DroneRF/ARR_SPEC_L_256_10/SPEC_256_9\n",
      "/home/kzhou/main/Features_DroneRF/ARR_PSD_L_256_10/PSD_256_9\n"
     ]
    },
    {
     "name": "stderr",
     "output_type": "stream",
     "text": [
      "100%|███████████████████████████████████████████████████████████████████████████████████████████████| 226/226 [00:06<00:00, 32.59it/s]\n"
     ]
    },
    {
     "name": "stdout",
     "output_type": "stream",
     "text": [
      "/home/kzhou/main/Features_DroneRF/ARR_SPEC_L_256_10/SPEC_256_10\n",
      "/home/kzhou/main/Features_DroneRF/ARR_PSD_L_256_10/PSD_256_10\n"
     ]
    },
    {
     "name": "stderr",
     "output_type": "stream",
     "text": [
      "100%|███████████████████████████████████████████████████████████████████████████████████████████████| 226/226 [00:06<00:00, 35.34it/s]\n"
     ]
    },
    {
     "name": "stdout",
     "output_type": "stream",
     "text": [
      "/home/kzhou/main/Features_DroneRF/ARR_SPEC_L_256_10/SPEC_256_11\n",
      "/home/kzhou/main/Features_DroneRF/ARR_PSD_L_256_10/PSD_256_11\n"
     ]
    },
    {
     "name": "stderr",
     "output_type": "stream",
     "text": [
      "100%|███████████████████████████████████████████████████████████████████████████████████████████████| 226/226 [00:07<00:00, 31.91it/s]\n"
     ]
    },
    {
     "name": "stdout",
     "output_type": "stream",
     "text": [
      "/home/kzhou/main/Features_DroneRF/ARR_SPEC_L_256_10/SPEC_256_12\n",
      "/home/kzhou/main/Features_DroneRF/ARR_PSD_L_256_10/PSD_256_12\n"
     ]
    },
    {
     "name": "stderr",
     "output_type": "stream",
     "text": [
      "100%|███████████████████████████████████████████████████████████████████████████████████████████████| 226/226 [00:05<00:00, 38.72it/s]\n"
     ]
    },
    {
     "name": "stdout",
     "output_type": "stream",
     "text": [
      "/home/kzhou/main/Features_DroneRF/ARR_SPEC_L_256_10/SPEC_256_13\n",
      "/home/kzhou/main/Features_DroneRF/ARR_PSD_L_256_10/PSD_256_13\n"
     ]
    },
    {
     "name": "stderr",
     "output_type": "stream",
     "text": [
      "100%|███████████████████████████████████████████████████████████████████████████████████████████████| 226/226 [00:07<00:00, 29.74it/s]\n"
     ]
    },
    {
     "name": "stdout",
     "output_type": "stream",
     "text": [
      "/home/kzhou/main/Features_DroneRF/ARR_SPEC_L_256_10/SPEC_256_14\n",
      "/home/kzhou/main/Features_DroneRF/ARR_PSD_L_256_10/PSD_256_14\n"
     ]
    },
    {
     "name": "stderr",
     "output_type": "stream",
     "text": [
      "100%|███████████████████████████████████████████████████████████████████████████████████████████████| 226/226 [00:07<00:00, 29.67it/s]\n"
     ]
    },
    {
     "name": "stdout",
     "output_type": "stream",
     "text": [
      "/home/kzhou/main/Features_DroneRF/ARR_SPEC_L_256_10/SPEC_256_15\n",
      "/home/kzhou/main/Features_DroneRF/ARR_PSD_L_256_10/PSD_256_15\n"
     ]
    },
    {
     "name": "stderr",
     "output_type": "stream",
     "text": [
      "100%|███████████████████████████████████████████████████████████████████████████████████████████████| 226/226 [00:06<00:00, 35.79it/s]\n"
     ]
    },
    {
     "name": "stdout",
     "output_type": "stream",
     "text": [
      "/home/kzhou/main/Features_DroneRF/ARR_SPEC_L_256_10/SPEC_256_16\n",
      "/home/kzhou/main/Features_DroneRF/ARR_PSD_L_256_10/PSD_256_16\n"
     ]
    },
    {
     "name": "stderr",
     "output_type": "stream",
     "text": [
      "100%|███████████████████████████████████████████████████████████████████████████████████████████████| 226/226 [00:07<00:00, 29.59it/s]\n"
     ]
    },
    {
     "name": "stdout",
     "output_type": "stream",
     "text": [
      "/home/kzhou/main/Features_DroneRF/ARR_SPEC_L_256_10/SPEC_256_17\n",
      "/home/kzhou/main/Features_DroneRF/ARR_PSD_L_256_10/PSD_256_17\n"
     ]
    },
    {
     "name": "stderr",
     "output_type": "stream",
     "text": [
      "100%|███████████████████████████████████████████████████████████████████████████████████████████████| 226/226 [00:05<00:00, 39.46it/s]\n"
     ]
    },
    {
     "name": "stdout",
     "output_type": "stream",
     "text": [
      "/home/kzhou/main/Features_DroneRF/ARR_SPEC_L_256_10/SPEC_256_18\n",
      "/home/kzhou/main/Features_DroneRF/ARR_PSD_L_256_10/PSD_256_18\n"
     ]
    },
    {
     "name": "stderr",
     "output_type": "stream",
     "text": [
      "100%|███████████████████████████████████████████████████████████████████████████████████████████████| 226/226 [00:06<00:00, 32.47it/s]\n"
     ]
    },
    {
     "name": "stdout",
     "output_type": "stream",
     "text": [
      "/home/kzhou/main/Features_DroneRF/ARR_SPEC_L_256_10/SPEC_256_19\n",
      "/home/kzhou/main/Features_DroneRF/ARR_PSD_L_256_10/PSD_256_19\n"
     ]
    },
    {
     "name": "stderr",
     "output_type": "stream",
     "text": [
      "100%|███████████████████████████████████████████████████████████████████████████████████████████████| 226/226 [00:06<00:00, 33.89it/s]\n"
     ]
    },
    {
     "name": "stdout",
     "output_type": "stream",
     "text": [
      "/home/kzhou/main/Features_DroneRF/ARR_SPEC_L_256_10/SPEC_256_20\n",
      "/home/kzhou/main/Features_DroneRF/ARR_PSD_L_256_10/PSD_256_20\n"
     ]
    },
    {
     "name": "stderr",
     "output_type": "stream",
     "text": [
      "100%|███████████████████████████████████████████████████████████████████████████████████████████████| 226/226 [00:05<00:00, 39.14it/s]\n"
     ]
    },
    {
     "name": "stdout",
     "output_type": "stream",
     "text": [
      "/home/kzhou/main/Features_DroneRF/ARR_SPEC_L_256_10/SPEC_256_21\n",
      "/home/kzhou/main/Features_DroneRF/ARR_PSD_L_256_10/PSD_256_21\n"
     ]
    },
    {
     "name": "stderr",
     "output_type": "stream",
     "text": [
      "100%|███████████████████████████████████████████████████████████████████████████████████████████████| 226/226 [00:07<00:00, 31.45it/s]\n"
     ]
    },
    {
     "name": "stdout",
     "output_type": "stream",
     "text": [
      "/home/kzhou/main/Features_DroneRF/ARR_SPEC_L_256_10/SPEC_256_22\n",
      "/home/kzhou/main/Features_DroneRF/ARR_PSD_L_256_10/PSD_256_22\n"
     ]
    },
    {
     "name": "stderr",
     "output_type": "stream",
     "text": [
      "100%|███████████████████████████████████████████████████████████████████████████████████████████████| 226/226 [00:06<00:00, 32.91it/s]\n"
     ]
    },
    {
     "name": "stdout",
     "output_type": "stream",
     "text": [
      "/home/kzhou/main/Features_DroneRF/ARR_SPEC_L_256_10/SPEC_256_23\n",
      "/home/kzhou/main/Features_DroneRF/ARR_PSD_L_256_10/PSD_256_23\n"
     ]
    },
    {
     "name": "stderr",
     "output_type": "stream",
     "text": [
      "100%|███████████████████████████████████████████████████████████████████████████████████████████████| 226/226 [00:05<00:00, 38.27it/s]\n"
     ]
    },
    {
     "name": "stdout",
     "output_type": "stream",
     "text": [
      "/home/kzhou/main/Features_DroneRF/ARR_SPEC_L_256_10/SPEC_256_24\n",
      "/home/kzhou/main/Features_DroneRF/ARR_PSD_L_256_10/PSD_256_24\n"
     ]
    }
   ],
   "source": [
    "n_parts = 25 # process the data in 10 parts so memory doesn't overwhelm\n",
    "\n",
    "indices_ranges = np.split(np.array(range(len(Xs_arr))), n_parts) \n",
    "for i in range(n_parts):\n",
    "    BILABEL = []\n",
    "    DRONELABEL = []\n",
    "    MODELALBEL = []\n",
    "    F_PSD = []\n",
    "    F_SPEC = []\n",
    "    ir = indices_ranges[i]\n",
    "    for j in tqdm(range(len(ir))):\n",
    "        d_real = Xs_arr[ir[j]][i_hl]\n",
    "        # calculate PSD\n",
    "        fpsd, Pxx_den = signal.welch(d_real, fs, window=win_type, nperseg=n_per_seg)\n",
    "        F_PSD.append(Pxx_den)\n",
    "\n",
    "        # calculate spectrogram\n",
    "        fspec, t, Sxx = signal.spectrogram(d_real, fs, window=win_type, nperseg=n_per_seg)\n",
    "        F_SPEC.append(Sxx)\n",
    "        \n",
    "        # Labels\n",
    "        BILABEL.append(ys_arr[ir[j]])\n",
    "        DRONELABEL.append(y4s_arr[ir[j]])\n",
    "        MODELALBEL.append(y10s_arr[ir[j]])\n",
    "\n",
    "    save_array(features_folder+arr_spec_folder, F_SPEC, BILABEL, DRONELABEL, MODELALBEL, 'SPEC', i)\n",
    "    save_array(features_folder+arr_psd_folder, F_PSD, BILABEL, DRONELABEL, MODELALBEL, 'PSD', i)"
   ]
  },
  {
   "cell_type": "code",
   "execution_count": 1,
   "id": "4c14b784",
   "metadata": {},
   "outputs": [
    {
     "ename": "NameError",
     "evalue": "name 'Pxx_den' is not defined",
     "output_type": "error",
     "traceback": [
      "\u001b[0;31m---------------------------------------------------------------------------\u001b[0m",
      "\u001b[0;31mNameError\u001b[0m                                 Traceback (most recent call last)",
      "Input \u001b[0;32mIn [1]\u001b[0m, in \u001b[0;36m<cell line: 1>\u001b[0;34m()\u001b[0m\n\u001b[0;32m----> 1\u001b[0m \u001b[43mPxx_den\u001b[49m\n",
      "\u001b[0;31mNameError\u001b[0m: name 'Pxx_den' is not defined"
     ]
    }
   ],
   "source": [
    "Pxx_den"
   ]
  },
  {
   "cell_type": "code",
   "execution_count": null,
   "id": "54650363",
   "metadata": {},
   "outputs": [],
   "source": []
  }
 ],
 "metadata": {
  "kernelspec": {
   "display_name": "Python 3 (ipykernel)",
   "language": "python",
   "name": "python3"
  },
  "language_info": {
   "codemirror_mode": {
    "name": "ipython",
    "version": 3
   },
   "file_extension": ".py",
   "mimetype": "text/x-python",
   "name": "python",
   "nbconvert_exporter": "python",
   "pygments_lexer": "ipython3",
   "version": "3.8.2"
  }
 },
 "nbformat": 4,
 "nbformat_minor": 5
}
