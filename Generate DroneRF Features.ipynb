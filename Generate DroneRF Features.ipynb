{
 "cells": [
  {
   "cell_type": "markdown",
   "id": "d41304d1",
   "metadata": {},
   "source": [
    "### Notebook to generate DroneRF Features"
   ]
  },
  {
   "cell_type": "code",
   "execution_count": 39,
   "id": "da586fda",
   "metadata": {},
   "outputs": [],
   "source": [
    "import os\n",
    "import numpy as np\n",
    "from numpy import sum,isrealobj,sqrt\n",
    "from numpy.random import standard_normal\n",
    "import os\n",
    "from sklearn.model_selection import train_test_split\n",
    "from spafe.features.lfcc import lfcc\n",
    "import spafe.utils.vis as vis\n",
    "from scipy.signal import get_window\n",
    "import scipy.fftpack as fft\n",
    "from scipy import signal\n",
    "import matplotlib.pyplot as plt\n",
    "from datetime import date\n",
    "from tqdm import tqdm\n",
    "\n",
    "from loading_functions import *\n",
    "from file_paths import *\n",
    "\n",
    "import importlib"
   ]
  },
  {
   "cell_type": "code",
   "execution_count": 41,
   "id": "9d33b662",
   "metadata": {},
   "outputs": [],
   "source": [
    "import feat_gen_functions\n",
    "importlib.reload(feat_gen_functions)\n",
    "from feat_gen_functions import *"
   ]
  },
  {
   "cell_type": "code",
   "execution_count": 2,
   "id": "a573bd8a",
   "metadata": {},
   "outputs": [
    {
     "name": "stdout",
     "output_type": "stream",
     "text": [
      "diff 5 file name: 00000L_13.csv\n",
      "length of X: 2712 length of y: 2712\n"
     ]
    }
   ],
   "source": [
    "# Dataset Info\n",
    "main_folder = dronerf_raw_path\n",
    "t_seg = 20\n",
    "Xs_arr, ys_arr, y4s_arr, y10s_arr = load_dronerf_raw(main_folder, t_seg)\n",
    "fs = 40e6 #40 MHz\n",
    "\n",
    "print('length of X:', len(Xs_arr), 'length of y:', len(ys_arr))"
   ]
  },
  {
   "cell_type": "code",
   "execution_count": 17,
   "id": "b4cde691",
   "metadata": {},
   "outputs": [],
   "source": [
    "n_per_seg = 256 # length of each segment (powers of 2)\n",
    "n_overlap_spec = 120\n",
    "win_type = 'hamming' # make ends of each segment match\n",
    "high_low = 'H' #'L', 'H' # high or low range of frequency\n",
    "feature_to_save = ['SPEC'] # what features to generate and save: SPEC or PSD\n",
    "format_to_save = ['IMG'] # IMG or ARR\n",
    "to_add = True\n",
    "spec_han_window = np.hanning(n_per_seg)\n",
    "\n",
    "# Image properties\n",
    "dim_px = (224, 224) # dimension of image pixels\n",
    "dpi = 100\n",
    "\n",
    "# data saving folders\n",
    "features_folder = dronerf_feat_path\n",
    "date_string = date.today()\n",
    "# folder naming: ARR_FEAT_NFFT_SAMPLELENGTH\n",
    "arr_spec_folder = \"ARR_SPEC_\"+high_low+'_'+str(n_per_seg)+\"_\"+str(t_seg)+\"/\"\n",
    "arr_psd_folder = \"ARR_PSD_\"+high_low+'_'+str(n_per_seg)+\"_\"+str(t_seg)+\"/\"\n",
    "img_spec_folder = \"IMG_SPEC_\"+high_low+'_'+str(n_per_seg)+\"_\"+str(t_seg)\n",
    "img_psd_folder = \"IMG_PSD_\"+high_low+'_'+str(n_per_seg)+\"_\"+str(t_seg)\n",
    "\n",
    "existing_folders = os.listdir(features_folder)\n",
    "\n",
    "if high_low == 'H':\n",
    "    i_hl = 0\n",
    "elif high_low == 'L':\n",
    "    i_hl = 1"
   ]
  },
  {
   "cell_type": "code",
   "execution_count": 26,
   "id": "c5abd7a5",
   "metadata": {},
   "outputs": [
    {
     "name": "stdout",
     "output_type": "stream",
     "text": [
      "folder already exist - adding\n",
      "Generating SPEC in IMAGE format\n"
     ]
    }
   ],
   "source": [
    "# check if this set of parameters already exists\n",
    "# check if each of the 4 folders exist\n",
    "sa_save = False   #spec array\n",
    "si_save = False   #spec imag\n",
    "pa_save = False   #psd array\n",
    "pi_save = False   #psd imag\n",
    "if 'SPEC' in feature_to_save:\n",
    "    if 'ARR' in format_to_save:\n",
    "        if arr_spec_folder not in existing_folders or to_add:\n",
    "            try:\n",
    "                os.mkdir(features_folder+arr_spec_folder)\n",
    "            except:\n",
    "                print('folder already exist - adding')\n",
    "            sa_save = True\n",
    "            print('Generating SPEC in ARRAY format')\n",
    "        else:\n",
    "            print('Spec Arr folder already exists')\n",
    "    if 'IMG' in format_to_save:\n",
    "        if img_spec_folder not in existing_folders or to_add:\n",
    "            try:\n",
    "                os.mkdir(features_folder+img_spec_folder)\n",
    "            except:\n",
    "                print('folder already exist - adding')\n",
    "            si_save = True\n",
    "            print('Generating SPEC in IMAGE format')\n",
    "        else:\n",
    "            print('Spec Arr folder already exists')\n",
    "if 'PSD' in feature_to_save:\n",
    "    if 'ARR' in format_to_save:\n",
    "        if arr_psd_folder not in existing_folders or to_add:\n",
    "            try:\n",
    "                os.mkdir(features_folder+arr_psd_folder)\n",
    "            except:\n",
    "                print('folder already exist - adding')\n",
    "            pa_save = True\n",
    "            print('Generating PSD in ARRAY format')\n",
    "        else:\n",
    "            print('PSD Arr folder already exists')\n",
    "    if 'IMG' in format_to_save:\n",
    "        if img_psd_folder not in existing_folders or to_add:\n",
    "            try:\n",
    "                os.mkdir(features_folder+img_psd_folder)\n",
    "            except:\n",
    "                print('folder already exist - adding')\n",
    "            pi_save = True\n",
    "            print('Generating PSD in IMAGE format')\n",
    "        else:\n",
    "            print('PSD Arr folder already exists')      \n",
    "\n"
   ]
  },
  {
   "cell_type": "code",
   "execution_count": null,
   "id": "dd991c34",
   "metadata": {
    "scrolled": true
   },
   "outputs": [
    {
     "name": "stderr",
     "output_type": "stream",
     "text": [
      "100%|████████████████████████████████████████████████████████████████████████████████████████| 113/113 [00:09<00:00, 12.30it/s]\n",
      "100%|████████████████████████████████████████████████████████████████████████████████████████| 113/113 [00:09<00:00, 12.24it/s]\n",
      "100%|████████████████████████████████████████████████████████████████████████████████████████| 113/113 [00:09<00:00, 12.13it/s]\n",
      "100%|████████████████████████████████████████████████████████████████████████████████████████| 113/113 [00:10<00:00, 10.44it/s]\n",
      "100%|████████████████████████████████████████████████████████████████████████████████████████| 113/113 [00:10<00:00, 10.59it/s]\n",
      "100%|████████████████████████████████████████████████████████████████████████████████████████| 113/113 [00:09<00:00, 11.43it/s]\n",
      "100%|████████████████████████████████████████████████████████████████████████████████████████| 113/113 [00:10<00:00, 10.47it/s]\n",
      "100%|████████████████████████████████████████████████████████████████████████████████████████| 113/113 [00:10<00:00, 10.34it/s]\n",
      "100%|████████████████████████████████████████████████████████████████████████████████████████| 113/113 [00:11<00:00, 10.12it/s]\n",
      "100%|████████████████████████████████████████████████████████████████████████████████████████| 113/113 [00:11<00:00, 10.17it/s]\n",
      " 64%|████████████████████████████████████████████████████████▋                                | 72/113 [00:08<00:03, 10.31it/s]"
     ]
    }
   ],
   "source": [
    "if all([not sa_save, not si_save, not pa_save, not pi_save]):\n",
    "    print('Features Already Exist - Do Not Generate')\n",
    "else:\n",
    "    n_parts = 24 # process the data in 10 parts so memory doesn't overwhelm\n",
    "\n",
    "    indices_ranges = np.split(np.array(range(len(Xs_arr))), n_parts) \n",
    "    for i in range(n_parts):\n",
    "        BILABEL = []\n",
    "        DRONELABEL = []\n",
    "        MODELALBEL = []\n",
    "        F_PSD = []\n",
    "        F_SPEC = []\n",
    "        ir = indices_ranges[i]\n",
    "        for j in tqdm(range(len(ir))):\n",
    "            d_real = Xs_arr[ir[j]][i_hl]\n",
    "            \n",
    "            if pa_save or pi_save:\n",
    "            # calculate PSD\n",
    "                fpsd, Pxx_den = signal.welch(d_real, fs, window=win_type, nperseg=n_per_seg)\n",
    "                if pa_save:\n",
    "                    F_PSD.append(Pxx_den)\n",
    "                if pi_save:\n",
    "                    save_psd_image_rf(features_folder, img_psd_folder,\n",
    "                                      y10s_arr[ir[j]], i, j, Pxx_den, dim_px, dpi)\n",
    "            \n",
    "            if sa_save or si_save:\n",
    "            # calculate spectrogram\n",
    "            # welch's method older\n",
    "#           fspec, t, Sxx = signal.spectrogram(d_real, fs, window=win_type, nperseg=n_per_seg)\n",
    "            \n",
    "                if si_save: # set up fig properties if saving images\n",
    "                    plt.clf()\n",
    "                    fig,ax = plt.subplots(1, figsize=(dim_px[0]/dpi, dim_px[1]/dpi), dpi=dpi)\n",
    "                    fig.subplots_adjust(left=0,right=1,bottom=0,top=1)\n",
    "                    ax.axis('tight')\n",
    "                    ax.axis('off')\n",
    "\n",
    "                spec, _, _, _ = plt.specgram(d_real, NFFT=n_per_seg, Fs=fs, window=spec_han_window, \n",
    "                                  noverlap=n_overlap_spec, sides='onesided')\n",
    "                if si_save:\n",
    "                    save_spec_image_fig_rf(features_folder, img_spec_folder, \n",
    "                                           y10s_arr[ir[j]], i, j, fig, dpi)\n",
    "                if sa_save:\n",
    "                    F_SPEC.append(interpolate_2d(Sxx, (224,224)))\n",
    "\n",
    "            # Labels\n",
    "            BILABEL.append(ys_arr[ir[j]])\n",
    "            DRONELABEL.append(y4s_arr[ir[j]])\n",
    "            MODELALBEL.append(y10s_arr[ir[j]])\n",
    "        \n",
    "        if sa_save:\n",
    "            save_array(features_folder+arr_spec_folder, F_SPEC, BILABEL, DRONELABEL, MODELALBEL, 'SPEC', i)\n",
    "        if pa_save:\n",
    "            save_array(features_folder+arr_psd_folder, F_PSD, BILABEL, DRONELABEL, MODELALBEL, 'PSD', i)"
   ]
  }
 ],
 "metadata": {
  "kernelspec": {
   "display_name": "Python 3 (ipykernel)",
   "language": "python",
   "name": "python3"
  },
  "language_info": {
   "codemirror_mode": {
    "name": "ipython",
    "version": 3
   },
   "file_extension": ".py",
   "mimetype": "text/x-python",
   "name": "python",
   "nbconvert_exporter": "python",
   "pygments_lexer": "ipython3",
   "version": "3.8.2"
  }
 },
 "nbformat": 4,
 "nbformat_minor": 5
}
