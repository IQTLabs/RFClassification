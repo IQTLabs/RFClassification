{
 "cells": [
  {
   "cell_type": "markdown",
   "id": "3398927f",
   "metadata": {},
   "source": [
    "## Notebook for machine learning methods for rf-based detection & classification\n",
    "- Date: June 27, 2022\n",
    "- currently explored, SVM, Logistic regression with PSD\n",
    "- To dos:\n",
    "    - using spectrogram features"
   ]
  },
  {
   "cell_type": "code",
   "execution_count": 5,
   "id": "4bb5637b",
   "metadata": {},
   "outputs": [],
   "source": [
    "import os\n",
    "import numpy as np\n",
    "from sklearn.model_selection import KFold\n",
    "from sklearn import svm\n",
    "from sklearn.model_selection import GridSearchCV\n",
    "from sklearn.metrics import accuracy_score\n",
    "from sklearn.linear_model import LogisticRegression"
   ]
  },
  {
   "cell_type": "markdown",
   "id": "ae296122",
   "metadata": {},
   "source": [
    "### Load Features"
   ]
  },
  {
   "cell_type": "code",
   "execution_count": 6,
   "id": "b42b0032",
   "metadata": {},
   "outputs": [],
   "source": [
    "# Load Data & Features\n",
    "feat_folder = '../Features/'\n",
    "feat_file_name = 'PSD_4096_2022-06-27.npy'\n",
    "DATA = np.load(feat_folder+feat_file_name, allow_pickle=True).item()\n",
    "# PSD_1024_2022-06-27.npy\n",
    "Xs_arr = DATA['feat']\n",
    "y_arr = DATA['drones']"
   ]
  },
  {
   "cell_type": "code",
   "execution_count": 7,
   "id": "2989e4a9",
   "metadata": {},
   "outputs": [
    {
     "data": {
      "text/plain": [
       "(390, 2049)"
      ]
     },
     "execution_count": 7,
     "metadata": {},
     "output_type": "execute_result"
    }
   ],
   "source": [
    "## Apply normalization\n",
    "X_norm = Xs_arr\n",
    "for n in range(len(Xs_arr)):\n",
    "    X_norm[n] = Xs_arr[n]/max(Xs_arr[n])\n",
    "X_norm.shape"
   ]
  },
  {
   "cell_type": "code",
   "execution_count": 8,
   "id": "fa5dc7a2",
   "metadata": {},
   "outputs": [],
   "source": [
    "Xs_use = X_norm # Normalized features"
   ]
  },
  {
   "cell_type": "markdown",
   "id": "97640c49",
   "metadata": {},
   "source": [
    "## Train Test split"
   ]
  },
  {
   "cell_type": "code",
   "execution_count": 9,
   "id": "4b3aa731",
   "metadata": {},
   "outputs": [],
   "source": [
    "# split data into K-fold\n",
    "k_fold = 10\n",
    "cv = KFold(n_splits=k_fold, random_state=1, shuffle=True)\n",
    "\n",
    "# model parameters\n",
    "Cs=list(map(lambda x:pow(2,x),range(-15,16,1)))\n",
    "gammas=list(map(lambda x:pow(2,x),range(-15,16,1)))"
   ]
  },
  {
   "cell_type": "markdown",
   "id": "e4c7c3f7",
   "metadata": {},
   "source": [
    "## SVM"
   ]
  },
  {
   "cell_type": "code",
   "execution_count": 10,
   "id": "d794a5b0",
   "metadata": {},
   "outputs": [
    {
     "name": "stdout",
     "output_type": "stream",
     "text": [
      "{'C': 256, 'gamma': 0.125}\n",
      "0.9487179487179487\n",
      "{'C': 1024, 'gamma': 0.0078125}\n",
      "0.9487179487179487\n",
      "{'C': 512, 'gamma': 0.0625}\n",
      "0.9743589743589743\n",
      "{'C': 256, 'gamma': 0.125}\n",
      "1.0\n",
      "{'C': 64, 'gamma': 1}\n",
      "0.9743589743589743\n",
      "{'C': 4096, 'gamma': 0.0078125}\n",
      "0.9487179487179487\n",
      "{'C': 1024, 'gamma': 0.015625}\n",
      "0.9743589743589743\n",
      "{'C': 2048, 'gamma': 0.015625}\n",
      "1.0\n",
      "{'C': 128, 'gamma': 0.25}\n",
      "0.9743589743589743\n",
      "{'C': 256, 'gamma': 0.125}\n",
      "1.0\n",
      "PSD_4096_2022-06-27.npy: SVM K-fold average test score: 0.9743589743589742\n"
     ]
    }
   ],
   "source": [
    "best_params_ls = []\n",
    "score_ls = []\n",
    "parameters = {'C':Cs, 'gamma':gammas}\n",
    "for train_ix, test_ix in cv.split(Xs_arr):\n",
    "    \n",
    "    # find the optimal hypber parameters\n",
    "    svc = svm.SVC(kernel='rbf')\n",
    "    clf = GridSearchCV(svc, parameters, n_jobs=1)\n",
    "    clf.fit(Xs_use[train_ix], y_arr[train_ix])\n",
    "    \n",
    "    print(clf.best_params_)\n",
    "    best_params_ls.append(clf.best_params_)\n",
    "    \n",
    "    # predict on the test data\n",
    "    y_pred = clf.predict(Xs_use[test_ix])\n",
    "    acc = accuracy_score(y_arr[test_ix], y_pred)\n",
    "    print(acc)\n",
    "    score_ls.append(acc)\n",
    "\n",
    "print(feat_file_name+': SVM K-fold average test score:', np.mean(score_ls))"
   ]
  },
  {
   "cell_type": "markdown",
   "id": "76e7d671",
   "metadata": {},
   "source": [
    "## Logistic Regression"
   ]
  },
  {
   "cell_type": "code",
   "execution_count": 11,
   "id": "29956006",
   "metadata": {},
   "outputs": [
    {
     "name": "stdout",
     "output_type": "stream",
     "text": [
      "{'C': 10000}\n",
      "0.9487179487179487\n",
      "{'C': 10000}\n",
      "0.9743589743589743\n",
      "{'C': 10000}\n",
      "0.9743589743589743\n",
      "{'C': 10000}\n",
      "1.0\n",
      "{'C': 10000}\n",
      "1.0\n",
      "{'C': 1000}\n",
      "1.0\n",
      "{'C': 1000}\n",
      "0.9743589743589743\n",
      "{'C': 10000}\n",
      "0.9743589743589743\n",
      "{'C': 10000}\n",
      "0.9743589743589743\n",
      "{'C': 1000}\n",
      "1.0\n",
      "PSD_4096_2022-06-27.npy: LR K-fold average test score: 0.9820512820512821\n"
     ]
    }
   ],
   "source": [
    "best_params_ls = []\n",
    "score_ls = []\n",
    "\n",
    "parameters = {'C':[0.01,0.1,1,10,100,1000,10000]}\n",
    "\n",
    "for train_ix, test_ix in cv.split(Xs_arr):\n",
    "    \n",
    "    # find the optimal hypber parameters\n",
    "    lr = LogisticRegression(max_iter=1000000)\n",
    "    clf = GridSearchCV(lr, parameters, n_jobs=1)\n",
    "    clf.fit(Xs_arr[train_ix], y_arr[train_ix])\n",
    "    \n",
    "    print(clf.best_params_)\n",
    "    best_params_ls.append(clf.best_params_)\n",
    "    \n",
    "    # predict on the test data\n",
    "    y_pred = clf.predict(Xs_arr[test_ix])\n",
    "    acc = accuracy_score(y_arr[test_ix], y_pred)\n",
    "    print(acc)\n",
    "    score_ls.append(acc)\n",
    "    \n",
    "print(feat_file_name+': LR K-fold average test score:', np.mean(score_ls))"
   ]
  },
  {
   "cell_type": "code",
   "execution_count": null,
   "id": "55be4339",
   "metadata": {},
   "outputs": [],
   "source": []
  }
 ],
 "metadata": {
  "kernelspec": {
   "display_name": "Python 3 (ipykernel)",
   "language": "python",
   "name": "python3"
  },
  "language_info": {
   "codemirror_mode": {
    "name": "ipython",
    "version": 3
   },
   "file_extension": ".py",
   "mimetype": "text/x-python",
   "name": "python",
   "nbconvert_exporter": "python",
   "pygments_lexer": "ipython3",
   "version": "3.8.2"
  }
 },
 "nbformat": 4,
 "nbformat_minor": 5
}
