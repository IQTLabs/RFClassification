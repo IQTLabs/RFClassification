{
 "cells": [
  {
   "cell_type": "markdown",
   "id": "3398927f",
   "metadata": {},
   "source": [
    "## Notebook for machine learning methods for rf-based detection & classification\n",
    "-  exploring, SVM, Logistic regression with PSD"
   ]
  },
  {
   "cell_type": "code",
   "execution_count": 1,
   "id": "4bb5637b",
   "metadata": {},
   "outputs": [],
   "source": [
    "import os\n",
    "import numpy as np\n",
    "from sklearn.model_selection import KFold\n",
    "from sklearn import svm\n",
    "from sklearn.model_selection import GridSearchCV\n",
    "from sklearn.metrics import accuracy_score\n",
    "from sklearn.metrics import f1_score\n",
    "from sklearn.linear_model import LogisticRegression\n",
    "\n",
    "from helper_functions import *\n",
    "from latency_helpers import *"
   ]
  },
  {
   "cell_type": "markdown",
   "id": "ae296122",
   "metadata": {},
   "source": [
    "### Load Features"
   ]
  },
  {
   "cell_type": "code",
   "execution_count": 23,
   "id": "964320ef",
   "metadata": {},
   "outputs": [
    {
     "name": "stderr",
     "output_type": "stream",
     "text": [
      "100%|█████████████████████████████████████████████████████████████████████████████████| 80/80 [00:00<00:00, 924.07it/s]\n"
     ]
    }
   ],
   "source": [
    "feat_folder = '../Features/'\n",
    "feat_name = 'PSD'\n",
    "seg_len = 100\n",
    "# datestr = '2022-07-05'\n",
    "n_per_seg = 256\n",
    "interferences = ['WIFI', 'BLUE', 'BOTH', 'CLEAN']\n",
    "Xs_arr, y_arr = load_features_arr(feat_folder, feat_name, seg_len, n_per_seg, interferences)"
   ]
  },
  {
   "cell_type": "code",
   "execution_count": 29,
   "id": "2989e4a9",
   "metadata": {},
   "outputs": [],
   "source": [
    "## Apply normalization\n",
    "X_norm = Xs_arr\n",
    "for n in range(len(Xs_arr)):\n",
    "    X_norm[n] = Xs_arr[n]/max(Xs_arr[n])\n",
    "X_norm.shape\n",
    "y_arr = y_arr.reshape(len(y_arr),)"
   ]
  },
  {
   "cell_type": "code",
   "execution_count": 30,
   "id": "fa5dc7a2",
   "metadata": {},
   "outputs": [
    {
     "data": {
      "text/plain": [
       "(7795, 129)"
      ]
     },
     "execution_count": 30,
     "metadata": {},
     "output_type": "execute_result"
    }
   ],
   "source": [
    "Xs_use = X_norm # Use normalized features\n",
    "Xs_use.shape"
   ]
  },
  {
   "cell_type": "markdown",
   "id": "97640c49",
   "metadata": {},
   "source": [
    "## Train Test split"
   ]
  },
  {
   "cell_type": "code",
   "execution_count": 27,
   "id": "4b3aa731",
   "metadata": {},
   "outputs": [],
   "source": [
    "# split data into K-fold\n",
    "k_fold = 10\n",
    "cv = KFold(n_splits=k_fold, random_state=1, shuffle=True)\n",
    "\n",
    "# model parameters\n",
    "Cs=list(map(lambda x:pow(2,x),range(-5,5,1)))\n",
    "gammas=list(map(lambda x:pow(2,x),range(-5,5,1)))"
   ]
  },
  {
   "cell_type": "markdown",
   "id": "e4c7c3f7",
   "metadata": {},
   "source": [
    "## SVM"
   ]
  },
  {
   "cell_type": "code",
   "execution_count": 28,
   "id": "d794a5b0",
   "metadata": {},
   "outputs": [
    {
     "name": "stdout",
     "output_type": "stream",
     "text": [
      "{'C': 16, 'gamma': 0.5}\n",
      "Accuracy: 0.964,\t F1: 0.964\n",
      "{'C': 16, 'gamma': 0.5}\n",
      "Accuracy: 0.965,\t F1: 0.965\n",
      "{'C': 16, 'gamma': 0.5}\n",
      "Accuracy: 0.977,\t F1: 0.977\n",
      "{'C': 16, 'gamma': 0.5}\n",
      "Accuracy: 0.971,\t F1: 0.97\n",
      "{'C': 16, 'gamma': 0.5}\n",
      "Accuracy: 0.979,\t F1: 0.98\n",
      "{'C': 16, 'gamma': 0.5}\n",
      "Accuracy: 0.968,\t F1: 0.968\n",
      "{'C': 16, 'gamma': 0.5}\n",
      "Accuracy: 0.968,\t F1: 0.968\n",
      "{'C': 16, 'gamma': 0.5}\n",
      "Accuracy: 0.969,\t F1: 0.969\n",
      "{'C': 16, 'gamma': 0.5}\n",
      "Accuracy: 0.981,\t F1: 0.981\n",
      "{'C': 16, 'gamma': 1}\n",
      "Accuracy: 0.968,\t F1: 0.968\n",
      "PSD: SVM K-fold average test acc: 0.97, F1: 0.97, Run-time: 0.4ms\n"
     ]
    }
   ],
   "source": [
    "best_params_ls = []\n",
    "acc_ls = []\n",
    "f1_ls = []\n",
    "runt_ls = []\n",
    "parameters = {'C':Cs, 'gamma':gammas}\n",
    "for train_ix, test_ix in cv.split(Xs_use):\n",
    "    \n",
    "    # find the optimal hypber parameters\n",
    "    svc = svm.SVC(kernel='rbf')\n",
    "    clf = GridSearchCV(svc, parameters, n_jobs=1)\n",
    "    clf.fit(Xs_use[train_ix], y_arr[train_ix])\n",
    "    \n",
    "    print(clf.best_params_)\n",
    "    best_params_ls.append(clf.best_params_)\n",
    "    \n",
    "    # predict on the test data\n",
    "#     y_pred = clf.predict(Xs_use[test_ix])\n",
    "    y_pred, runtimes = atomic_benchmark_estimator(clf, Xs_use[test_ix], verbose=False) # predict & measure time\n",
    "    runt_ls.append(np.mean(runtimes))\n",
    "    \n",
    "    acc = accuracy_score(y_arr[test_ix], y_pred)\n",
    "    f1 = f1_score(y_arr[test_ix], y_pred, average='weighted')\n",
    "    print('Accuracy: {:.3},\\t F1: {:.3}'.format(acc,f1))\n",
    "    acc_ls.append(acc)\n",
    "    f1_ls.append(f1)\n",
    "\n",
    "# print(feat_name+': SVM K-fold average test acc:', np.mean(acc_ls), 'F1:', np.mean(f1_ls), 'Run-time:', np.mean(runt_ls)*1e3,'ms')\n",
    "out_msg = feat_name+': SVM K-fold average test acc: {:.2}, F1: {:.2}, Run-time: {:.2}ms'.format(np.mean(acc_ls), np.mean(f1_ls), np.mean(runt_ls)*1e3)\n",
    "print(out_msg)"
   ]
  },
  {
   "cell_type": "code",
   "execution_count": null,
   "id": "a27e0769",
   "metadata": {},
   "outputs": [],
   "source": [
    "# print out the size of the support vectors\n",
    "# clf.best_estimator_.support_vectors_"
   ]
  },
  {
   "cell_type": "markdown",
   "id": "55668fe3",
   "metadata": {},
   "source": [
    "## SVM with fixed hyperparameters"
   ]
  },
  {
   "cell_type": "code",
   "execution_count": 7,
   "id": "411eb39e",
   "metadata": {},
   "outputs": [
    {
     "name": "stdout",
     "output_type": "stream",
     "text": [
      "Accuracy: 0.958,\t F1: 0.958\n",
      "Accuracy: 0.96,\t F1: 0.96\n",
      "Accuracy: 0.954,\t F1: 0.954\n",
      "Accuracy: 0.953,\t F1: 0.953\n",
      "Accuracy: 0.953,\t F1: 0.953\n",
      "Accuracy: 0.951,\t F1: 0.951\n",
      "Accuracy: 0.95,\t F1: 0.95\n",
      "Accuracy: 0.946,\t F1: 0.946\n",
      "Accuracy: 0.952,\t F1: 0.952\n",
      "Accuracy: 0.956,\t F1: 0.956\n",
      "PSD: SVM K-fold average test acc: 0.95, F1: 0.95, Run-time: 1.5ms\n"
     ]
    }
   ],
   "source": [
    "acc_ls = []\n",
    "f1_ls = []\n",
    "runt_ls = []\n",
    "\n",
    "for train_ix, test_ix in cv.split(Xs_use):\n",
    "    svc = svm.SVC(kernel='rbf', C=512, gamma = 0.0078125)\n",
    "    svc.fit(Xs_use[train_ix], y_arr[train_ix])\n",
    "    # predict on the test data\n",
    "    y_pred, runtimes = atomic_benchmark_estimator(svc, Xs_use[test_ix], verbose=False)\n",
    "    runt_ls.append(np.mean(runtimes))\n",
    "    \n",
    "    acc = accuracy_score(y_arr[test_ix], y_pred)\n",
    "    f1 = f1_score(y_arr[test_ix], y_pred, average='weighted')\n",
    "    print('Accuracy: {:.3},\\t F1: {:.3}'.format(acc,f1))\n",
    "    acc_ls.append(acc)\n",
    "    f1_ls.append(f1)\n",
    "\n",
    "out_msg = feat_name+': SVM K-fold average test acc: {:.2}, F1: {:.2}, Run-time: {:.2}ms'.format(np.mean(acc_ls), np.mean(f1_ls), np.mean(runt_ls)*1e3)\n",
    "print(out_msg)"
   ]
  },
  {
   "cell_type": "code",
   "execution_count": 8,
   "id": "fb4d79ee",
   "metadata": {},
   "outputs": [
    {
     "name": "stdout",
     "output_type": "stream",
     "text": [
      "(6254, 257)\n"
     ]
    }
   ],
   "source": [
    "print(svc.support_vectors_.shape)"
   ]
  },
  {
   "cell_type": "markdown",
   "id": "76e7d671",
   "metadata": {},
   "source": [
    "## Logistic Regression"
   ]
  },
  {
   "cell_type": "code",
   "execution_count": null,
   "id": "29956006",
   "metadata": {},
   "outputs": [],
   "source": [
    "best_params_ls = []\n",
    "score_ls = []\n",
    "\n",
    "parameters = {'C':[0.01,0.1,1,10,100,1000,10000]}\n",
    "\n",
    "for train_ix, test_ix in cv.split(Xs_arr):\n",
    "    \n",
    "    # find the optimal hypber parameters\n",
    "    lr = LogisticRegression(max_iter=1000000)\n",
    "    clf = GridSearchCV(lr, parameters, n_jobs=1)\n",
    "    clf.fit(Xs_arr[train_ix], y_arr[train_ix])\n",
    "    \n",
    "    print(clf.best_params_)\n",
    "    best_params_ls.append(clf.best_params_)\n",
    "    \n",
    "    # predict on the test data\n",
    "    y_pred = clf.predict(Xs_arr[test_ix])\n",
    "    acc = accuracy_score(y_arr[test_ix], y_pred)\n",
    "    print(acc)\n",
    "    score_ls.append(acc)\n",
    "    \n",
    "print(feat_file_name+': LR K-fold average test score:', np.mean(score_ls))"
   ]
  },
  {
   "cell_type": "code",
   "execution_count": null,
   "id": "55be4339",
   "metadata": {},
   "outputs": [],
   "source": []
  },
  {
   "cell_type": "code",
   "execution_count": null,
   "id": "b37906e8",
   "metadata": {},
   "outputs": [],
   "source": []
  }
 ],
 "metadata": {
  "kernelspec": {
   "display_name": "Python 3 (ipykernel)",
   "language": "python",
   "name": "python3"
  },
  "language_info": {
   "codemirror_mode": {
    "name": "ipython",
    "version": 3
   },
   "file_extension": ".py",
   "mimetype": "text/x-python",
   "name": "python",
   "nbconvert_exporter": "python",
   "pygments_lexer": "ipython3",
   "version": "3.8.2"
  }
 },
 "nbformat": 4,
 "nbformat_minor": 5
}
