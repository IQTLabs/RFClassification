{
 "cells": [
  {
   "cell_type": "markdown",
   "id": "3398927f",
   "metadata": {},
   "source": [
    "## PSD+SVM Method"
   ]
  },
  {
   "cell_type": "code",
   "execution_count": 1,
   "id": "4bb5637b",
   "metadata": {},
   "outputs": [],
   "source": [
    "import os\n",
    "import numpy as np\n",
    "from sklearn.model_selection import KFold\n",
    "from sklearn import svm\n",
    "from sklearn.model_selection import GridSearchCV\n",
    "from sklearn.metrics import accuracy_score\n",
    "from sklearn.metrics import f1_score\n",
    "from sklearn.linear_model import LogisticRegression\n",
    "\n",
    "from helper_functions import *\n",
    "from latency_helpers import *\n",
    "from loading_functions import *\n",
    "from file_paths import *\n",
    "from models import *\n",
    "import importlib"
   ]
  },
  {
   "cell_type": "markdown",
   "id": "ae296122",
   "metadata": {},
   "source": [
    "### Load Features"
   ]
  },
  {
   "cell_type": "code",
   "execution_count": 11,
   "id": "964320ef",
   "metadata": {},
   "outputs": [
    {
     "name": "stdout",
     "output_type": "stream",
     "text": [
      "Loading DroneRF Dataset\n",
      "/home/kzhou/main/Features_DroneRF/ARR_PSD_H_1024_20/\n",
      "dataset size 2712\n",
      "shape of each item (513,)\n"
     ]
    }
   ],
   "source": [
    "feat_name = 'PSD'\n",
    "t_seg = 20 #ms\n",
    "n_per_seg = 1024\n",
    "interferences = ['WIFI', 'BLUE', 'BOTH', 'CLEAN']\n",
    "output_name = 'drones'\n",
    "feat_format = 'ARR'\n",
    "which_dataset = 'dronerf'\n",
    "\n",
    "if which_dataset == 'dronerf':\n",
    "    print('Loading DroneRF Dataset')\n",
    "    highlow = 'H'\n",
    "    dataset = DroneRFTorch(dronerf_feat_path, feat_name, t_seg, n_per_seg,\n",
    "                       feat_format, output_name, highlow)\n",
    "elif which_dataset == 'dronedetect':\n",
    "    print('Loading DroneDetect Dataset')\n",
    "    dataset = DroneDetectTorch(dronedetect_feat_path, feat_name, t_seg, n_per_seg, feat_format,\n",
    "                                    output_name, interferences)\n",
    "X_use, y_use = dataset.get_arrays()\n",
    "\n",
    "# Set fixed number of samples\n",
    "# n_samps = 1000\n",
    "# i_test= random.sample(range(len(dataset)), n_samps)\n",
    "# # i_test= list(range(0,2712,10))\n",
    "# X_use, y_use = dataset.__getitem__(i_test)\n"
   ]
  },
  {
   "cell_type": "markdown",
   "id": "e4d9c426",
   "metadata": {},
   "source": [
    "### Run Model"
   ]
  },
  {
   "cell_type": "code",
   "execution_count": 12,
   "id": "64491b95",
   "metadata": {},
   "outputs": [],
   "source": [
    "model = PsdSVM(t_seg, n_per_seg)"
   ]
  },
  {
   "cell_type": "code",
   "execution_count": 13,
   "id": "434649f9",
   "metadata": {},
   "outputs": [
    {
     "name": "stderr",
     "output_type": "stream",
     "text": [
      "1it [00:00,  1.05it/s]"
     ]
    },
    {
     "name": "stdout",
     "output_type": "stream",
     "text": [
      "Fold 1: Accuracy: 0.779,\t F1: 0.775, \t Runtime: 0.000595\n"
     ]
    },
    {
     "name": "stderr",
     "output_type": "stream",
     "text": [
      "\r",
      "2it [00:01,  1.04it/s]"
     ]
    },
    {
     "name": "stdout",
     "output_type": "stream",
     "text": [
      "Fold 2: Accuracy: 0.748,\t F1: 0.75, \t Runtime: 0.000639\n"
     ]
    },
    {
     "name": "stderr",
     "output_type": "stream",
     "text": [
      "\r",
      "3it [00:02,  1.04it/s]"
     ]
    },
    {
     "name": "stdout",
     "output_type": "stream",
     "text": [
      "Fold 3: Accuracy: 0.744,\t F1: 0.737, \t Runtime: 0.000616\n"
     ]
    },
    {
     "name": "stderr",
     "output_type": "stream",
     "text": [
      "\r",
      "4it [00:03,  1.04it/s]"
     ]
    },
    {
     "name": "stdout",
     "output_type": "stream",
     "text": [
      "Fold 4: Accuracy: 0.738,\t F1: 0.73, \t Runtime: 0.000643\n"
     ]
    },
    {
     "name": "stderr",
     "output_type": "stream",
     "text": [
      "5it [00:04,  1.04it/s]"
     ]
    },
    {
     "name": "stdout",
     "output_type": "stream",
     "text": [
      "Fold 5: Accuracy: 0.766,\t F1: 0.765, \t Runtime: 0.000632\n",
      "PSD+SVM 5 Fold CV acc: 0.755, F1: 0.751, Run-time: 0.625ms\n"
     ]
    },
    {
     "name": "stderr",
     "output_type": "stream",
     "text": [
      "\n"
     ]
    }
   ],
   "source": [
    "accs, f1s, runts = model.run_cv(X_use, y_use, k_fold=5)"
   ]
  },
  {
   "cell_type": "code",
   "execution_count": 61,
   "id": "6f42a28e",
   "metadata": {
    "scrolled": true
   },
   "outputs": [
    {
     "name": "stdout",
     "output_type": "stream",
     "text": [
      "Fold 1 Best Parameters: {'C': 128, 'gamma': 0.125}\n",
      "Fold 1: Accuracy: 1.0,\t F1: 1.0, \t Runtime: 0.000127\n",
      "Fold 2 Best Parameters: {'C': 128, 'gamma': 0.5}\n",
      "Fold 2: Accuracy: 0.994,\t F1: 0.994, \t Runtime: 0.000182\n",
      "Fold 3 Best Parameters: {'C': 512, 'gamma': 0.125}\n",
      "Fold 3: Accuracy: 0.998,\t F1: 0.998, \t Runtime: 0.000119\n",
      "Fold 4 Best Parameters: {'C': 512, 'gamma': 0.125}\n",
      "Fold 4: Accuracy: 0.998,\t F1: 0.998, \t Runtime: 0.000116\n",
      "Fold 5 Best Parameters: {'C': 8, 'gamma': 0.5}\n",
      "Fold 5: Accuracy: 0.996,\t F1: 0.996, \t Runtime: 0.000204\n",
      "PSD+SVM 5 Fold GridSearch CV acc: 0.997, F1: 0.997, Run-time: 0.149ms\n"
     ]
    }
   ],
   "source": [
    "# search through parameters\n",
    "Cs=list(map(lambda x:pow(2,x),range(-3,10,2)))\n",
    "gammas=list(map(lambda x:pow(2,x),range(-3,10,2)))\n",
    "parameters = {'C':Cs, 'gamma':gammas}\n",
    "\n",
    "k_fold=5\n",
    "\n",
    "accs, f1s, runts, best_params = model.run_gridsearch(X_use, y_use, parameters, k_fold)"
   ]
  },
  {
   "cell_type": "markdown",
   "id": "f2ef0bbf",
   "metadata": {},
   "source": [
    "### Visualize Results"
   ]
  },
  {
   "cell_type": "code",
   "execution_count": 14,
   "id": "7c4f795b",
   "metadata": {},
   "outputs": [
    {
     "data": {
      "image/png": "[encoded data removed]",
      "text/plain": [
       "<Figure size 432x288 with 2 Axes>"
      ]
     },
     "metadata": {
      "needs_background": "light"
     },
     "output_type": "display_data"
    }
   ],
   "source": [
    "# Set-up train test split\n",
    "from sklearn.model_selection import train_test_split\n",
    "X_train, X_test, y_train, y_test = train_test_split(X_use, \n",
    "                                                    y_use, \n",
    "                                                    test_size=0.33, \n",
    "                                                    random_state=None)\n",
    "\n",
    "# Train & Test\n",
    "model.train(X_train, y_train)\n",
    "preds = model.predict(X_test)\n",
    "show_confusion_matrix(dataset, y_test, preds)"
   ]
  },
  {
   "cell_type": "markdown",
   "id": "108d348e",
   "metadata": {},
   "source": [
    "### Save Model"
   ]
  },
  {
   "cell_type": "code",
   "execution_count": 10,
   "id": "a4421ae3",
   "metadata": {},
   "outputs": [
    {
     "name": "stdout",
     "output_type": "stream",
     "text": [
      "Model saved as: ../temp_figs/SVM_PSD_1024_20_1\n"
     ]
    }
   ],
   "source": [
    "to_train_all = True # whether to retrain using all the data\n",
    "model_name = which_dataset+'_'+'SVM'+'_'+str(feat_name)+'_'+str(n_per_seg)+'_'+str(t_seg)+'_'+str(int(to_train_all))\n",
    "model_path = '../temp_figs/'\n",
    "\n",
    "if to_train_all:\n",
    "    model.train(X_use, y_use)\n",
    "\n",
    "model.save(model_path, model_name)\n",
    "\n",
    "# pickle.dump(svc, open(model_path+model_name, 'wb'))"
   ]
  },
  {
   "cell_type": "markdown",
   "id": "dc35c1e0",
   "metadata": {},
   "source": [
    "-----------------"
   ]
  },
  {
   "cell_type": "code",
   "execution_count": 3,
   "id": "4487e845",
   "metadata": {},
   "outputs": [],
   "source": [
    "# import loading_functions\n",
    "# importlib.reload(loading_functions)\n",
    "# from loading_functions import *"
   ]
  },
  {
   "cell_type": "markdown",
   "id": "205f95af",
   "metadata": {},
   "source": [
    "## Pilot Test- Try Model on GamutRF data"
   ]
  },
  {
   "cell_type": "code",
   "execution_count": 2,
   "id": "e1224a05",
   "metadata": {},
   "outputs": [
    {
     "name": "stderr",
     "output_type": "stream",
     "text": [
      "100%|███████████████████████████████████████| 115/115 [00:00<00:00, 2255.41it/s]\n"
     ]
    }
   ],
   "source": [
    "data_path = '/home/kzhou/Data/S3/leesburg_worker1/Features/'\n",
    "Xgamut = load_gamut_features(data_path, 'psd')"
   ]
  },
  {
   "cell_type": "code",
   "execution_count": 7,
   "id": "1580c037",
   "metadata": {},
   "outputs": [
    {
     "data": {
      "text/plain": [
       "1.0"
      ]
     },
     "execution_count": 7,
     "metadata": {},
     "output_type": "execute_result"
    }
   ],
   "source": [
    "# normalize data\n",
    "## Apply normalization\n",
    "X_gamut_norm = Xgamut\n",
    "for n in range(len(Xgamut)):\n",
    "    X_gamut_norm[n] = Xgamut[n]/max(Xgamut[n])\n",
    "\n",
    "X_gamut_norm.max()"
   ]
  },
  {
   "cell_type": "code",
   "execution_count": 8,
   "id": "700b4e13",
   "metadata": {},
   "outputs": [],
   "source": [
    "# Feed data through trained SVM model\n",
    "y_gamut_pred = model.predict(X_gamut_norm)"
   ]
  },
  {
   "cell_type": "code",
   "execution_count": 9,
   "id": "5447b5e4",
   "metadata": {},
   "outputs": [
    {
     "data": {
      "text/plain": [
       "array([0, 0, 0, 0, 0, 0, 0, 0, 0, 0, 0, 0, 0, 1, 1, 1, 1, 1, 1, 1, 0, 1,\n",
       "       1, 1, 1, 1, 1, 1, 1, 1, 1, 1, 1, 1, 1, 1, 1, 0, 1, 1, 1, 1, 1, 1,\n",
       "       1, 0, 1, 1, 0, 0, 1, 1, 1, 1, 0, 1, 1, 0, 1, 1, 0, 1, 1, 0, 0, 0,\n",
       "       0, 0, 1, 1, 0, 0, 0, 0, 0, 0, 0, 0, 0, 0, 0, 0, 0, 0, 1, 0, 0, 0,\n",
       "       1, 0, 1, 1, 1, 0, 1, 0, 0, 0, 0, 0, 0, 0, 1, 1, 1, 0, 0, 0, 0, 0,\n",
       "       0, 0, 0, 0, 0, 0, 0, 0, 0, 0, 0, 0, 1, 1, 1, 1, 1, 1, 0, 1, 1, 1,\n",
       "       0, 0, 0, 0, 0, 0, 0, 0, 0, 0, 0, 0, 1, 1, 0, 0, 0, 0, 1, 1, 1, 0,\n",
       "       0, 1, 1, 1, 1, 0, 1, 1, 0, 0, 0, 0, 1, 0, 0, 0, 0, 0, 0, 1, 0, 0,\n",
       "       0, 1, 1, 0, 1, 1, 0, 1, 1, 0, 1, 1, 1, 1, 0, 1, 1, 1, 1, 0, 1, 1,\n",
       "       1, 1, 1, 0, 1, 0, 1, 1, 1, 1, 0, 0, 0, 1, 1, 0, 1, 1, 0, 0, 0, 1,\n",
       "       0, 0, 1, 0, 0, 0, 0, 1, 1, 0, 1, 0, 1, 1, 1, 0, 1, 0, 0, 1, 1, 0,\n",
       "       0, 0, 1, 0, 0, 0, 1, 0, 1, 0, 0, 1, 1, 1, 1, 1, 1, 1, 0, 1, 1, 1,\n",
       "       1, 1, 1, 1, 1, 1, 0, 1, 0, 1, 1, 1, 0, 0, 0, 0, 0, 0, 0, 0, 0, 0,\n",
       "       0, 0, 1, 0, 1, 0, 0, 1, 1, 0, 0, 0, 1, 0, 1, 0, 0, 0, 1, 1, 1, 1,\n",
       "       1, 1, 1, 0, 0, 0, 0, 0, 1, 0, 0, 1, 1, 0, 1, 0, 1, 1, 1, 0, 1, 0,\n",
       "       1, 1, 1, 1, 0, 1, 0, 1, 1, 1, 1, 0, 0, 0, 0, 0, 0, 0, 0, 0, 1, 0,\n",
       "       1, 0, 1, 0, 0, 0, 0, 1, 1, 0, 0, 0, 0, 1, 0, 0, 0, 0, 0, 0, 0, 1,\n",
       "       1, 0, 1, 1, 1, 1, 0, 1, 1, 1, 0, 0, 1, 1, 0, 1, 0, 0, 1, 1, 0, 0,\n",
       "       0, 0, 1, 1, 1, 1, 1, 0, 1, 0, 1, 1, 0, 0, 1, 1, 1, 1, 1, 1, 0, 1,\n",
       "       1, 1, 1, 0, 0, 0, 0, 1, 0, 1, 1, 0, 1, 0, 1, 0, 1, 1, 1, 0, 0, 1,\n",
       "       0, 1, 1, 1, 1, 1, 1, 1, 1, 1, 1, 1, 1, 1, 1, 0, 0, 0, 0, 0, 0, 0,\n",
       "       0, 0, 0, 0, 0, 0, 0, 0, 0, 0, 1, 1, 1, 1, 1, 0, 1, 0, 0, 0, 0, 0,\n",
       "       0, 0, 0, 0, 0, 0, 0, 0, 0, 0, 0, 0, 1, 0, 0, 0, 1, 1, 0, 0, 0, 0,\n",
       "       0, 0, 0, 0, 0, 0, 0, 0, 0, 0, 1, 0, 1, 1, 0, 1, 1, 1, 1, 0, 1, 0,\n",
       "       0, 1, 1, 1, 1, 1, 0, 0, 0, 0, 1, 1, 1, 0, 1, 1, 0, 1, 0, 0, 1, 0,\n",
       "       0, 0, 0, 0, 0, 0, 0, 0, 0, 0, 0, 0, 0, 0, 0, 1, 0, 1, 0, 0, 1, 0,\n",
       "       0, 0, 1, 1, 1, 1, 0, 1, 1, 1, 1, 1, 1, 0, 0, 0, 0, 0, 0, 0, 0, 0,\n",
       "       0, 1, 1, 0, 1, 0, 0, 0, 1, 1, 0, 1, 0, 1, 1, 0, 0, 0, 1, 0, 1, 0,\n",
       "       1, 1, 1, 0, 0, 0, 0, 0, 0, 0, 0, 0, 0, 0, 0, 0, 1, 0, 0, 0, 0, 0,\n",
       "       0, 0, 0, 1, 0, 1, 0, 0, 1, 1, 0, 0, 0, 0, 1, 0, 0, 1, 0, 1, 0, 0,\n",
       "       0, 0, 0, 0, 1, 1, 1, 0, 0, 0, 0, 0, 1, 0, 0, 1, 1, 1, 1, 0, 0, 0,\n",
       "       0, 0, 0, 0, 0, 0, 0, 0, 0, 0, 0, 0])"
      ]
     },
     "execution_count": 9,
     "metadata": {},
     "output_type": "execute_result"
    }
   ],
   "source": [
    "y_gamut_pred"
   ]
  }
 ],
 "metadata": {
  "kernelspec": {
   "display_name": "Python 3 (ipykernel)",
   "language": "python",
   "name": "python3"
  },
  "language_info": {
   "codemirror_mode": {
    "name": "ipython",
    "version": 3
   },
   "file_extension": ".py",
   "mimetype": "text/x-python",
   "name": "python",
   "nbconvert_exporter": "python",
   "pygments_lexer": "ipython3",
   "version": "3.8.2"
  }
 },
 "nbformat": 4,
 "nbformat_minor": 5
}
